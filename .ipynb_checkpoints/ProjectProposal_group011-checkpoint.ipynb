{
 "cells": [
  {
   "cell_type": "markdown",
   "metadata": {},
   "source": [
    "# COGS 108 - Final Project Proposal"
   ]
  },
  {
   "cell_type": "markdown",
   "metadata": {},
   "source": [
    "# Names\n",
    "\n",
    "- Victoria Thai\n",
    "- Hannah Yick\n",
    "- Jane Dinh\n",
    "- Natasha Supangkat\n",
    "- Gabriel Ramiro"
   ]
  },
  {
   "cell_type": "markdown",
   "metadata": {},
   "source": [
    "# Research Question"
   ]
  },
  {
   "cell_type": "markdown",
   "metadata": {},
   "source": [
    "What trends can be found between a county’s designation of a superfund site and its socioeconomic/demographic trends? Does the designation of a superfund site influence a county’s socioeconomic/demographic status, and/or vice versa? Does the demographic makeup of a county influence the amount of time between Superfund designation and the completion of the remediation process?"
   ]
  },
  {
   "cell_type": "markdown",
   "metadata": {},
   "source": [
    "## Background and Prior Work"
   ]
  },
  {
   "cell_type": "markdown",
   "metadata": {},
   "source": [
    "In response to nationwide outrage towards the improper management and disposal of toxic waste in local communities in the 1970s, Congress enacted CERCLA, or the Comprehensive Environmental Response, Compensation, and Liability Act. CERCLA, more commonly known as Superfund, gives the EPA authority to respond to hazardous waste threats in what are designated as Superfund sites. Love Canal was the first Superfund site on CERCLA's National Priorities List. It was a neighborhood in Niagara Falls, New York that was vulnerable to decades of dumping municipal solid waste, industrial waste, and hazardous waste which ultimately harmed hundreds of residents that lived near the site. To counteract this issue, CERCLA created a tax on chemical and petroleum industries and implemented a Federal authority that investigates and responds to the release of hazardous material onto the environment that may endanger public health. To this day, the problems that spurred the creation of Superfund continue to plague the country—under CERCLA's guidelines regarding the release of toxic substances into the environment from a facility, the recent situation in Flint, Michigan falls under their jurisdiction. Hundreds of residents of Flint, Michigan were susceptible to lead poisoning from lead seepage into their drinking water. The response to this situation is a long-term cleanup by the EPA under the RCRA Corrective Action Program. \n",
    "   \n",
    "The nature of Superfund and its application is virtually inextricable from environmental justice and environmental racism—marginalized communities have historically bore the brunt of pollution and other consequences of environmental degradation. In June 2020, the Shriver Center on Poverty Law found that 70% of Superfund sites are located within 1 mile of public housing. The Superfund Trust Fund receives money mainly from petroleum excise taxes, chemical feedstock excise taxes, and environmental income taxes. However, the EPA taxes the potentially responsible parties (PRPs) and compels them to clean up the contaminated site. Nonetheless, a bill in the 90s made a huge impact on funding and cleanup by mainly taxing American citizens. This could be seen as an attempt to sully the public opinion of Superfund and affect how corporations are held accountable.\n",
    "\n",
    "\n",
    "References (include links):\n",
    "- 1)https://www.epa.gov/superfund/superfund-cercla-overview\n",
    "- 2)https://www.povertylaw.org/wp-content/uploads/2020/06/environmental_justice_report_final-rev2.pdf\n",
    "- 3)https://www.washingtonpost.com/national/taxpayer-dollars-fund-most-oversight-and-cleanup-costs-at-superfund-sites/2017/09/20/aedcd426-8209-11e7-902a-2a9f2d808496_story.html"
   ]
  },
  {
   "cell_type": "markdown",
   "metadata": {},
   "source": [
    "# Hypothesis\n"
   ]
  },
  {
   "cell_type": "markdown",
   "metadata": {},
   "source": [
    "We hypothesize that there will be more Superfund sites in lower-income areas and areas with large populations of marginalized communities, likely because these groups have less political and financial power to retaliate or hold the perpetrators accountable. The inequity and prejudice that disproportionately affects these groups is directly linked to environmental justice. We also predict that Superfund sites in areas associated with lower socioeconomic status will see longer periods of time between designation date and the completion of the remediation process for similar reasons."
   ]
  },
  {
   "cell_type": "markdown",
   "metadata": {},
   "source": [
    "# Data"
   ]
  },
  {
   "cell_type": "markdown",
   "metadata": {},
   "source": [
    "*Explain what the ideal dataset you would want to answer this question. (This should include: What variables? How many observations? Who/what/how would these data be collected? How would these data be stored/organized?)*"
   ]
  },
  {
   "cell_type": "markdown",
   "metadata": {},
   "source": [
    "# Ethics & Privacy"
   ]
  },
  {
   "cell_type": "markdown",
   "metadata": {},
   "source": [
    "*Fill in your ethics & privacy discussion here*"
   ]
  },
  {
   "cell_type": "markdown",
   "metadata": {},
   "source": [
    "# Team Expectations "
   ]
  },
  {
   "cell_type": "markdown",
   "metadata": {},
   "source": [
    "* Asynchronous discussions or inquiries will happen on the Discord channel, for which each member should check daily.\n",
    "    * 12 hour window for replying on Discord, or any other communication channel\n",
    "* If members are unreachable by discord, then they will be contacted via ucsd.edu email. If not reachable by email, then phone number.\n",
    "* Weekly meetings over zoom on Wednesday at 4pm\n",
    "    * If a person can't make it, we will hold it on Thursday at 5:30pm\n",
    "* Conflict resolution: will try to fix any problems that may arise within the group and between members, and contact teachings staff as a last resort"
   ]
  },
  {
   "cell_type": "markdown",
   "metadata": {},
   "source": [
    "# Project Timeline Proposal"
   ]
  },
  {
   "cell_type": "markdown",
   "metadata": {},
   "source": [
    "| Meeting Date  | Meeting Time| Completed Before Meeting  | Discuss at Meeting |\n",
    "|---|---|---|---|\n",
    "| 4/22  |  5:30 PM         | Individual notes & contributions for project proposal  | Feedback on project proposal notes, figure out rest of project timeline | \n",
    "| 4/23  |  Before 11:59 PM | Edit, finalize proposal | Submit proposal | \n",
    "| 4/28  | 10 AM            | Search for datasets  | Discuss datasets and proposal feedback; discuss and divvy up roles   |\n",
    "| 5/5   | 6 PM             | Data cleaning. Edit, finalize checkpoint #1 sections designated per member | Final edits. Submit Checkpoint #1 (Due 5/7)   |\n",
    "| 5/12  | 12 PM            | Wrangling/EDA; Begin Analysis | Discuss/edit Analysis; Complete project check-in |\n",
    "| 5/19  | 12 PM            | Complete analysis; Draft results/conclusion/discussion| Go over analysis and overview of results, give feedback |\n",
    "| 5/26  | 12 PM            | Work on & finalize Checkpoint #2| Submit Checkpoint #2 (Due 5/28) |\n",
    "| 6/2   | 12 PM            | Work on Final project| Discuss Final Project |\n",
    "| 6/9   | Before 11:59 PM  | Finalize and review whole project | Turn in Final Project & Group Project Surveys |"
   ]
  }
 ],
 "metadata": {
  "kernelspec": {
   "display_name": "Python 3",
   "language": "python",
   "name": "python3"
  },
  "language_info": {
   "codemirror_mode": {
    "name": "ipython",
    "version": 3
   },
   "file_extension": ".py",
   "mimetype": "text/x-python",
   "name": "python",
   "nbconvert_exporter": "python",
   "pygments_lexer": "ipython3",
   "version": "3.8.6"
  }
 },
 "nbformat": 4,
 "nbformat_minor": 2
}
