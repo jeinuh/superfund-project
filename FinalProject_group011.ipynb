{
 "cells": [
  {
   "cell_type": "markdown",
   "metadata": {},
   "source": [
    "# COGS 108 - Final Project (change this to your project's title)"
   ]
  },
  {
   "cell_type": "markdown",
   "metadata": {},
   "source": [
    "## Permissions\n",
    "\n",
    "Place an `X` in the appropriate bracket below to specify if you would like your group's project to be made available to the public. (Note that student names will be included (but PIDs will be scraped from any groups who include their PIDs).\n",
    "\n",
    "* [X] YES - make available\n",
    "* [  ] NO - keep private"
   ]
  },
  {
   "cell_type": "markdown",
   "metadata": {},
   "source": [
    "# Overview"
   ]
  },
  {
   "cell_type": "markdown",
   "metadata": {},
   "source": [
    "*Fill in your overview here*"
   ]
  },
  {
   "cell_type": "markdown",
   "metadata": {},
   "source": [
    "# Names\n",
    "\n",
    "- Victoria Thai\n",
    "- Hannah Yick\n",
    "- Jane Dinh\n",
    "- Natasha Supangkat\n",
    "- Gabriel Ramiro"
   ]
  },
  {
   "cell_type": "markdown",
   "metadata": {},
   "source": [
    "<a id='research_question'></a>\n",
    "# Research Question"
   ]
  },
  {
   "cell_type": "markdown",
   "metadata": {},
   "source": [
    "What trends can be found between a county’s designation of a superfund site and its socioeconomic/demographic trends? Does the demographic makeup of a county influence the amount of time between Superfund designation and the completion of the remediation process?"
   ]
  },
  {
   "cell_type": "markdown",
   "metadata": {},
   "source": [
    "<a id='background'></a>\n",
    "\n",
    "## Background & Prior Work"
   ]
  },
  {
   "cell_type": "markdown",
   "metadata": {},
   "source": [
    "In response to nationwide outrage towards the improper management and disposal of toxic waste in local communities in the 1970s, Congress enacted CERCLA, or the Comprehensive Environmental Response, Compensation, and Liability Act. CERCLA, more commonly known as Superfund, gives the EPA authority to respond to hazardous waste threats in what are designated as Superfund sites. Love Canal was the first Superfund site on CERCLA's National Priorities List. It was a neighborhood in Niagara Falls, New York that was vulnerable to decades of dumping municipal solid waste, industrial waste, and hazardous waste which ultimately harmed hundreds of residents that lived near the site. To counteract this issue, CERCLA created a tax on chemical and petroleum industries and implemented a Federal authority that investigates and responds to the release of hazardous material onto the environment that may endanger public health. To this day, the problems that spurred the creation of Superfund continue to plague the country—under CERCLA's guidelines regarding the release of toxic substances into the environment from a facility, the recent situation in Flint, Michigan falls under their jurisdiction. Hundreds of residents of Flint, Michigan were susceptible to lead poisoning from lead seepage into their drinking water. The response to this situation is a long-term cleanup by the EPA under the RCRA Corrective Action Program. \n",
    "\n",
    "The nature of Superfund and its application is virtually inextricable from environmental justice and environmental racism—marginalized communities have historically bore the brunt of pollution and other consequences of environmental degradation. In June 2020, the Shriver Center on Poverty Law found that 70% of Superfund sites are located within 1 mile of public housing. The Superfund Trust Fund receives money mainly from petroleum excise taxes, chemical feedstock excise taxes, and environmental income taxes. However, the EPA taxes the potentially responsible parties (PRPs) and compels them to clean up the contaminated site. Nonetheless, a bill in the 90s made a huge impact on funding and cleanup by mainly taxing American citizens. This could be seen as an attempt to sully the public opinion of Superfund and affect how corporations are held accountable.\n",
    "\n",
    "\n",
    "References (include links):\n",
    "- 1) https://www.epa.gov/superfund/superfund-cercla-overview\n",
    "- 2) https://www.povertylaw.org/wp-content/uploads/2020/06/environmental_justice_report_final-rev2.pdf\n",
    "- 3) https://www.washingtonpost.com/national/taxpayer-dollars-fund-most-oversight-and-cleanup-costs-at-superfund-sites/2017/09/20/aedcd426-8209-11e7-902a-2a9f2d808496_story.html"
   ]
  },
  {
   "cell_type": "markdown",
   "metadata": {},
   "source": [
    "# Hypothesis\n"
   ]
  },
  {
   "cell_type": "markdown",
   "metadata": {},
   "source": [
    "We hypothesize that there will be more Superfund sites in lower-income areas and areas with large populations of marginalized communities, likely because these groups have less political and financial power to retaliate or hold the perpetrators accountable. The inequity and prejudice that disproportionately affects these groups is directly linked to environmental justice. We also predict that Superfund sites in areas associated with lower socioeconomic status will see longer periods of time between designation date and the completion of the remediation process for similar reasons."
   ]
  },
  {
   "cell_type": "markdown",
   "metadata": {},
   "source": [
    "# Dataset(s)"
   ]
  },
  {
   "cell_type": "markdown",
   "metadata": {},
   "source": [
    "We will combine our datasets using the common variable of geographic location (county). By analyzing both aspects - Superfund activity and demographic breakdown - holistically, we will be able to better visualize and understand trends and potentially a relationship between the two.\n",
    "\n",
    "1) **Superfund/National Priorities List (NPL) Sites**\n",
    "- Number of observations: 1327 (as of April 26, 2021)\n",
    "- Features: Region, state, site name, site ID, EPA ID, address, city, zip, county, federal facility indicator (whether or not the site is a federal site), latitude, longitude, listing date.\n",
    " - We will be focusing on the site name, county, and listing date.\n",
    "- Summary: This dataset provides a comprehensive overview of the main characteristics of current Superfund sites on the National Priorities List. Geographical information (county) can help us better understand the spread of the data by location, and will allow us to combine with demographic data to explore trends. Additionally, we will use the listing date to determine the source of funding (based on the date of policy changes) as well as to measure how long the site has been active.\n",
    "- Source: https://semspub.epa.gov/work/HQ/201371.pdf \n",
    "\n",
    "2) **2019 American Community Survey 5 Year Estimate by County**\n",
    "- Number of observations: 3220 \n",
    "- Features: Total population, race, per capita income median household income, poverty status by race. \n",
    "- Summary: This dataset provides demographic and socioeconomic data on each city’s population. This will help us understand population trends based on the NPL sites. \n",
    "- Source: https://www.socialexplorer.com/explore-maps\n",
    "    - We started with looking at demographic data over a very large period of time, which we sourced from \n",
    "    the decennial U.S. census. After further exploring our NPL dataset, however, we realized that the NPL \n",
    "    set was constantly being updated and thus included only sites that are currently active (as of April \n",
    "    2021), so trends over a 50-year period would not be as salient. We then constrained the scope of our \n",
    "    question, and thus our data, to focus on current demographic trends. Because the decennial census has \n",
    "    shifted away from some of the socioeconomic variables that we needed, we sourced our demographic data \n",
    "    from the 2019 American Community Survey (also conducted by the U.S. Census Bureau). We’d like to \n",
    "    highlight that this data captures mean values over a 5 year period, from 2015 to 2019.\n",
    "\n"
   ]
  },
  {
   "cell_type": "markdown",
   "metadata": {},
   "source": [
    "# Setup"
   ]
  },
  {
   "cell_type": "code",
   "execution_count": 1,
   "metadata": {},
   "outputs": [],
   "source": [
    "#Imports \n",
    "import pandas as pd\n",
    "import numpy as np\n",
    "\n",
    "#Graphing\n",
    "import seaborn as sns\n",
    "import matplotlib as mpl\n",
    "import matplotlib.pyplot as plt\n",
    "%matplotlib inline\n",
    "\n",
    "#Statistics\n",
    "import patsy\n",
    "import statsmodels.api as sm\n",
    "import scipy.stats as stats\n",
    "from scipy.stats import ttest_ind, chisquare, normaltest\n",
    "\n",
    "#Webscraping\n",
    "import requests \n",
    "import bs4\n",
    "from bs4 import BeautifulSoup\n",
    "\n",
    "import warnings\n",
    "warnings.filterwarnings('ignore')\n",
    "\n",
    "# Read in the data and store it within a data frame\n",
    "#npl_df = npl_df = pd.read_csv('https://raw.githubusercontent.com/COGS108/group011_sp21/main/All%20current%20Final%20NPL%20Sites%20(FOIA%204).csv?token=AI2VKGQIIMQPBWGAZGPKD5DASR4CO') \n",
    "gdrive_npl_id = '1oDIJ_v9s5i5THULln_C-N4o3Aiz0e7mu'\n",
    "npl_df = pd.read_csv(f'https://docs.google.com/uc?id={gdrive_npl_id}&export=download', encoding='ISO-8859-1')\n",
    "gdrive_acs_id = '1kNWY1Kc4RhQ9ttK7dTYtj0fhHE3BXOGh'\n",
    "acs_df = pd.read_csv(f'https://docs.google.com/uc?id={gdrive_acs_id}&export=download', encoding='ISO-8859-1')\n",
    "\n",
    "pd.options.display.max_rows = 5\n",
    "pd.options.display.max_columns = 8"
   ]
  },
  {
   "cell_type": "markdown",
   "metadata": {},
   "source": [
    "# Data Cleaning"
   ]
  },
  {
   "cell_type": "code",
   "execution_count": 2,
   "metadata": {},
   "outputs": [],
   "source": [
    "npl_df = npl_df.drop([\"Region\", \"Site ID\", \"EPA ID\", \"Address\", \"Zip\", \"FF Ind\", \"Latitude\", \"Longitude\"], axis=1)"
   ]
  },
  {
   "cell_type": "code",
   "execution_count": 4,
   "metadata": {},
   "outputs": [],
   "source": [
    "acs_df = acs_df.drop([0], axis=0)\n",
    "acs_df.reset_index(drop=True, inplace=True)\n",
    "\n",
    "acs_df.dropna(axis = 0, how = 'all', inplace = True)\n",
    "acs_df.dropna(axis = 1, how = 'all', inplace = True)\n",
    "\n",
    "acs_df.drop(labels=['FIPS', 'Geographic Identifier', 'Summary Level', 'Geographic Component', \n",
    "                    'File identification', 'Logical Record Number', 'State (FIPS Code)', \n",
    "                    'County of current residence', 'Total Population.1', \n",
    "                    'Area (Land)', 'Total Population:', 'Total Population: White Alone', \n",
    "                    'Total Population: Black or African American Alone', \n",
    "                    'Total Population: American Indian and Alaska Native Alone', 'Total Population: Asian Alone', \n",
    "                    'Total Population: Native Hawaiian and Other Pacific Islander Alone', \n",
    "                    'Total Population: Some Other Race Alone', 'Total Population: Two or More Races'], axis=1, inplace = True)\n",
    "acs_df.drop(index=acs_df[acs_df['State Postal Abbreviation'] == 'pr'].index, inplace=True)\n",
    "acs_df.drop(list(acs_df.filter(regex = 'At or Above Poverty Level')), axis = 1, inplace = True)\n",
    "\n",
    "acs_df = acs_df.iloc[:, np.r_[0:12, 12:23, 34, 37, 40, 43, 46, 49, 52, 55, 58, 61, 64, 67]]"
   ]
  },
  {
   "cell_type": "markdown",
   "metadata": {},
   "source": [
    "We'll need to adjust our dataset now that we have a better understanding of our data and how we want to work with it. Here, we'll work towards merging our two datasets by county. Let's start by standardizing the county variable of both datasets with a format of 'COUNTY, PC' where PC is the postal code (i.e. CA for California). This will handle instances where there are counties of the same name in different states.\n",
    "\n",
    "First, let's take a look at our NPL dataset."
   ]
  },
  {
   "cell_type": "code",
   "execution_count": 6,
   "metadata": {},
   "outputs": [
    {
     "data": {
      "text/html": [
       "<div>\n",
       "<style scoped>\n",
       "    .dataframe tbody tr th:only-of-type {\n",
       "        vertical-align: middle;\n",
       "    }\n",
       "\n",
       "    .dataframe tbody tr th {\n",
       "        vertical-align: top;\n",
       "    }\n",
       "\n",
       "    .dataframe thead th {\n",
       "        text-align: right;\n",
       "    }\n",
       "</style>\n",
       "<table border=\"1\" class=\"dataframe\">\n",
       "  <thead>\n",
       "    <tr style=\"text-align: right;\">\n",
       "      <th></th>\n",
       "      <th>State</th>\n",
       "      <th>Site Name</th>\n",
       "      <th>City</th>\n",
       "      <th>County</th>\n",
       "      <th>NPL Status Date</th>\n",
       "    </tr>\n",
       "  </thead>\n",
       "  <tbody>\n",
       "    <tr>\n",
       "      <th>862</th>\n",
       "      <td>OH</td>\n",
       "      <td>NEASE CHEMICAL</td>\n",
       "      <td>SALEM</td>\n",
       "      <td>MAHONING</td>\n",
       "      <td>9/8/1983</td>\n",
       "    </tr>\n",
       "    <tr>\n",
       "      <th>189</th>\n",
       "      <td>NJ</td>\n",
       "      <td>ROEBLING STEEL CO.</td>\n",
       "      <td>FLORENCE</td>\n",
       "      <td>BURLINGTON</td>\n",
       "      <td>9/8/1983</td>\n",
       "    </tr>\n",
       "    <tr>\n",
       "      <th>...</th>\n",
       "      <td>...</td>\n",
       "      <td>...</td>\n",
       "      <td>...</td>\n",
       "      <td>...</td>\n",
       "      <td>...</td>\n",
       "    </tr>\n",
       "    <tr>\n",
       "      <th>1180</th>\n",
       "      <td>CA</td>\n",
       "      <td>FORT ORD</td>\n",
       "      <td>MARINA</td>\n",
       "      <td>MONTEREY</td>\n",
       "      <td>2/21/1990</td>\n",
       "    </tr>\n",
       "    <tr>\n",
       "      <th>245</th>\n",
       "      <td>NY</td>\n",
       "      <td>HOOKER (S AREA)</td>\n",
       "      <td>NIAGARA FALLS</td>\n",
       "      <td>NIAGARA</td>\n",
       "      <td>9/8/1983</td>\n",
       "    </tr>\n",
       "  </tbody>\n",
       "</table>\n",
       "<p>10 rows × 5 columns</p>\n",
       "</div>"
      ],
      "text/plain": [
       "     State           Site Name           City      County NPL Status Date\n",
       "862     OH      NEASE CHEMICAL          SALEM    MAHONING        9/8/1983\n",
       "189     NJ  ROEBLING STEEL CO.       FLORENCE  BURLINGTON        9/8/1983\n",
       "...    ...                 ...            ...         ...             ...\n",
       "1180    CA            FORT ORD         MARINA    MONTEREY       2/21/1990\n",
       "245     NY     HOOKER (S AREA)  NIAGARA FALLS     NIAGARA        9/8/1983\n",
       "\n",
       "[10 rows x 5 columns]"
      ]
     },
     "execution_count": 6,
     "metadata": {},
     "output_type": "execute_result"
    }
   ],
   "source": [
    "npl_df.sample(n=10)"
   ]
  },
  {
   "cell_type": "markdown",
   "metadata": {},
   "source": [
    "Let's examine the dataset and check for missingness."
   ]
  },
  {
   "cell_type": "code",
   "execution_count": 7,
   "metadata": {},
   "outputs": [
    {
     "data": {
      "text/plain": [
       "20"
      ]
     },
     "execution_count": 7,
     "metadata": {},
     "output_type": "execute_result"
    }
   ],
   "source": [
    "npl_df.isna().sum().sum()"
   ]
  },
  {
   "cell_type": "code",
   "execution_count": 8,
   "metadata": {},
   "outputs": [
    {
     "data": {
      "text/plain": [
       "State              False\n",
       "Site Name          False\n",
       "City               False\n",
       "County              True\n",
       "NPL Status Date    False\n",
       "dtype: bool"
      ]
     },
     "execution_count": 8,
     "metadata": {},
     "output_type": "execute_result"
    }
   ],
   "source": [
    "npl_df.isna().any()"
   ]
  },
  {
   "cell_type": "markdown",
   "metadata": {},
   "source": [
    "From this, we can see that all the missing data is in the County variable."
   ]
  },
  {
   "cell_type": "code",
   "execution_count": 9,
   "metadata": {},
   "outputs": [
    {
     "data": {
      "text/html": [
       "<div>\n",
       "<style scoped>\n",
       "    .dataframe tbody tr th:only-of-type {\n",
       "        vertical-align: middle;\n",
       "    }\n",
       "\n",
       "    .dataframe tbody tr th {\n",
       "        vertical-align: top;\n",
       "    }\n",
       "\n",
       "    .dataframe thead th {\n",
       "        text-align: right;\n",
       "    }\n",
       "</style>\n",
       "<table border=\"1\" class=\"dataframe\">\n",
       "  <thead>\n",
       "    <tr style=\"text-align: right;\">\n",
       "      <th></th>\n",
       "      <th>State</th>\n",
       "      <th>Site Name</th>\n",
       "      <th>City</th>\n",
       "      <th>County</th>\n",
       "      <th>NPL Status Date</th>\n",
       "    </tr>\n",
       "  </thead>\n",
       "  <tbody>\n",
       "    <tr>\n",
       "      <th>266</th>\n",
       "      <td>NY</td>\n",
       "      <td>NEWTOWN CREEK</td>\n",
       "      <td>BROOKLYN, QUEENS</td>\n",
       "      <td>NaN</td>\n",
       "      <td>9/29/2010</td>\n",
       "    </tr>\n",
       "    <tr>\n",
       "      <th>303</th>\n",
       "      <td>PR</td>\n",
       "      <td>FIBERS PUBLIC SUPPLY WELLS</td>\n",
       "      <td>JOBOS</td>\n",
       "      <td>NaN</td>\n",
       "      <td>9/21/1984</td>\n",
       "    </tr>\n",
       "    <tr>\n",
       "      <th>...</th>\n",
       "      <td>...</td>\n",
       "      <td>...</td>\n",
       "      <td>...</td>\n",
       "      <td>...</td>\n",
       "      <td>...</td>\n",
       "    </tr>\n",
       "    <tr>\n",
       "      <th>1263</th>\n",
       "      <td>ID</td>\n",
       "      <td>EASTERN MICHAUD FLATS CONTAMINATION</td>\n",
       "      <td>POCATELLO</td>\n",
       "      <td>NaN</td>\n",
       "      <td>8/30/1990</td>\n",
       "    </tr>\n",
       "    <tr>\n",
       "      <th>1264</th>\n",
       "      <td>ID</td>\n",
       "      <td>IDAHO NATIONAL ENGINEERING LABORATORY (USDOE)</td>\n",
       "      <td>IDAHO FALLS</td>\n",
       "      <td>NaN</td>\n",
       "      <td>11/21/1989</td>\n",
       "    </tr>\n",
       "  </tbody>\n",
       "</table>\n",
       "<p>20 rows × 5 columns</p>\n",
       "</div>"
      ],
      "text/plain": [
       "     State                                      Site Name              City  \\\n",
       "266     NY                                  NEWTOWN CREEK  BROOKLYN, QUEENS   \n",
       "303     PR                     FIBERS PUBLIC SUPPLY WELLS             JOBOS   \n",
       "...    ...                                            ...               ...   \n",
       "1263    ID            EASTERN MICHAUD FLATS CONTAMINATION         POCATELLO   \n",
       "1264    ID  IDAHO NATIONAL ENGINEERING LABORATORY (USDOE)       IDAHO FALLS   \n",
       "\n",
       "     County NPL Status Date  \n",
       "266     NaN       9/29/2010  \n",
       "303     NaN       9/21/1984  \n",
       "...     ...             ...  \n",
       "1263    NaN       8/30/1990  \n",
       "1264    NaN      11/21/1989  \n",
       "\n",
       "[20 rows x 5 columns]"
      ]
     },
     "execution_count": 9,
     "metadata": {},
     "output_type": "execute_result"
    }
   ],
   "source": [
    "#subset to just rows with missing data\n",
    "npl_df[npl_df.isnull().any(axis=1)]"
   ]
  },
  {
   "cell_type": "markdown",
   "metadata": {},
   "source": [
    "We can see from the subset of missing data that these NPL sites are in valid cities in the United States, so there's no reason to drop them; however, they do not have data for the county. We will have to manually input these county values so that we can merge successfully before we go any further."
   ]
  },
  {
   "cell_type": "code",
   "execution_count": 10,
   "metadata": {},
   "outputs": [],
   "source": [
    "# manually input county names here\n",
    "npl_df['County'][266] = 'KINGS-QUEENS'\n",
    "npl_df['County'][303] = 'GUYAMA'\n",
    "npl_df['County'][306] = 'UTUADO'\n",
    "npl_df['County'][311] = 'TOA BAJA'\n",
    "npl_df['County'][314] = 'VEGA ALTA'\n",
    "npl_df['County'][495] = 'MORGAN-MADISON-LIMESTONE'\n",
    "npl_df['County'][644] = 'AIKEN-ALLENDALE-BARNWELL'\n",
    "npl_df['County'][661] = 'ANDERSON'\n",
    "npl_df['County'][853] = 'HAMILTON'\n",
    "npl_df['County'][881] = 'GREENE '\n",
    "npl_df['County'][1127] = 'BUTTE-SILVER BOW'\n",
    "npl_df['County'][1129] = 'MEADE'\n",
    "npl_df['County'][1134] = 'DAVIS'\n",
    "npl_df['County'][1256] = 'ALEUTIANS WEST CENSUS AREA'\n",
    "npl_df['County'][1258] = 'ANCHORAGE'\n",
    "npl_df['County'][1259] = 'ANCHORAGE'\n",
    "npl_df['County'][1260] = 'FAIRBANKS NORTH STAR'\n",
    "npl_df['County'][1261] = 'PRINCE OF WALES-HYDER CENSUS AREA'\n",
    "npl_df['County'][1263] = 'BANNOCK'\n",
    "npl_df['County'][1264] = 'BUTTE'"
   ]
  },
  {
   "cell_type": "code",
   "execution_count": 11,
   "metadata": {},
   "outputs": [
    {
     "data": {
      "text/plain": [
       "0"
      ]
     },
     "execution_count": 11,
     "metadata": {},
     "output_type": "execute_result"
    }
   ],
   "source": [
    "# clarify that all missing data has been addressed\n",
    "npl_df.isna().sum().sum()"
   ]
  },
  {
   "cell_type": "markdown",
   "metadata": {},
   "source": [
    "Now that all the county information is included, we'll convert the column names into lowercase, and continue this use of lowercase column names as we progress with both datasets as a standardization measure."
   ]
  },
  {
   "cell_type": "code",
   "execution_count": 12,
   "metadata": {},
   "outputs": [
    {
     "data": {
      "text/html": [
       "<div>\n",
       "<style scoped>\n",
       "    .dataframe tbody tr th:only-of-type {\n",
       "        vertical-align: middle;\n",
       "    }\n",
       "\n",
       "    .dataframe tbody tr th {\n",
       "        vertical-align: top;\n",
       "    }\n",
       "\n",
       "    .dataframe thead th {\n",
       "        text-align: right;\n",
       "    }\n",
       "</style>\n",
       "<table border=\"1\" class=\"dataframe\">\n",
       "  <thead>\n",
       "    <tr style=\"text-align: right;\">\n",
       "      <th></th>\n",
       "      <th>state</th>\n",
       "      <th>site name</th>\n",
       "      <th>city</th>\n",
       "      <th>county</th>\n",
       "      <th>npl status date</th>\n",
       "    </tr>\n",
       "  </thead>\n",
       "  <tbody>\n",
       "    <tr>\n",
       "      <th>0</th>\n",
       "      <td>CT</td>\n",
       "      <td>BARKHAMSTED-NEW HARTFORD LANDFILL</td>\n",
       "      <td>BARKHAMSTED</td>\n",
       "      <td>LITCHFIELD</td>\n",
       "      <td>10/4/1989</td>\n",
       "    </tr>\n",
       "    <tr>\n",
       "      <th>1</th>\n",
       "      <td>CT</td>\n",
       "      <td>BEACON HEIGHTS LANDFILL</td>\n",
       "      <td>BEACON FALLS</td>\n",
       "      <td>NEW HAVEN</td>\n",
       "      <td>9/8/1983</td>\n",
       "    </tr>\n",
       "    <tr>\n",
       "      <th>2</th>\n",
       "      <td>CT</td>\n",
       "      <td>DURHAM MEADOWS</td>\n",
       "      <td>DURHAM</td>\n",
       "      <td>MIDDLESEX</td>\n",
       "      <td>10/4/1989</td>\n",
       "    </tr>\n",
       "    <tr>\n",
       "      <th>3</th>\n",
       "      <td>CT</td>\n",
       "      <td>GALLUP'S QUARRY</td>\n",
       "      <td>PLAINFIELD</td>\n",
       "      <td>WINDHAM</td>\n",
       "      <td>10/4/1989</td>\n",
       "    </tr>\n",
       "    <tr>\n",
       "      <th>4</th>\n",
       "      <td>CT</td>\n",
       "      <td>KELLOGG-DEERING WELL FIELD</td>\n",
       "      <td>NORWALK</td>\n",
       "      <td>FAIRFIELD</td>\n",
       "      <td>9/21/1984</td>\n",
       "    </tr>\n",
       "  </tbody>\n",
       "</table>\n",
       "</div>"
      ],
      "text/plain": [
       "  state                          site name          city      county  \\\n",
       "0    CT  BARKHAMSTED-NEW HARTFORD LANDFILL   BARKHAMSTED  LITCHFIELD   \n",
       "1    CT            BEACON HEIGHTS LANDFILL  BEACON FALLS   NEW HAVEN   \n",
       "2    CT                     DURHAM MEADOWS        DURHAM   MIDDLESEX   \n",
       "3    CT                    GALLUP'S QUARRY    PLAINFIELD     WINDHAM   \n",
       "4    CT         KELLOGG-DEERING WELL FIELD       NORWALK   FAIRFIELD   \n",
       "\n",
       "  npl status date  \n",
       "0       10/4/1989  \n",
       "1        9/8/1983  \n",
       "2       10/4/1989  \n",
       "3       10/4/1989  \n",
       "4       9/21/1984  "
      ]
     },
     "execution_count": 12,
     "metadata": {},
     "output_type": "execute_result"
    }
   ],
   "source": [
    "npl_df.columns = ['state', 'site name', 'city', 'county', 'npl status date']\n",
    "npl_df.head()"
   ]
  },
  {
   "cell_type": "markdown",
   "metadata": {},
   "source": [
    "Next we'll get our county variable information into the correct format by concatenating the state postal code."
   ]
  },
  {
   "cell_type": "code",
   "execution_count": 13,
   "metadata": {},
   "outputs": [
    {
     "data": {
      "text/html": [
       "<div>\n",
       "<style scoped>\n",
       "    .dataframe tbody tr th:only-of-type {\n",
       "        vertical-align: middle;\n",
       "    }\n",
       "\n",
       "    .dataframe tbody tr th {\n",
       "        vertical-align: top;\n",
       "    }\n",
       "\n",
       "    .dataframe thead th {\n",
       "        text-align: right;\n",
       "    }\n",
       "</style>\n",
       "<table border=\"1\" class=\"dataframe\">\n",
       "  <thead>\n",
       "    <tr style=\"text-align: right;\">\n",
       "      <th></th>\n",
       "      <th>state</th>\n",
       "      <th>site name</th>\n",
       "      <th>city</th>\n",
       "      <th>county</th>\n",
       "      <th>npl status date</th>\n",
       "    </tr>\n",
       "  </thead>\n",
       "  <tbody>\n",
       "    <tr>\n",
       "      <th>0</th>\n",
       "      <td>CT</td>\n",
       "      <td>BARKHAMSTED-NEW HARTFORD LANDFILL</td>\n",
       "      <td>BARKHAMSTED</td>\n",
       "      <td>LITCHFIELD, CT</td>\n",
       "      <td>10/4/1989</td>\n",
       "    </tr>\n",
       "    <tr>\n",
       "      <th>1</th>\n",
       "      <td>CT</td>\n",
       "      <td>BEACON HEIGHTS LANDFILL</td>\n",
       "      <td>BEACON FALLS</td>\n",
       "      <td>NEW HAVEN, CT</td>\n",
       "      <td>9/8/1983</td>\n",
       "    </tr>\n",
       "    <tr>\n",
       "      <th>2</th>\n",
       "      <td>CT</td>\n",
       "      <td>DURHAM MEADOWS</td>\n",
       "      <td>DURHAM</td>\n",
       "      <td>MIDDLESEX, CT</td>\n",
       "      <td>10/4/1989</td>\n",
       "    </tr>\n",
       "    <tr>\n",
       "      <th>3</th>\n",
       "      <td>CT</td>\n",
       "      <td>GALLUP'S QUARRY</td>\n",
       "      <td>PLAINFIELD</td>\n",
       "      <td>WINDHAM, CT</td>\n",
       "      <td>10/4/1989</td>\n",
       "    </tr>\n",
       "    <tr>\n",
       "      <th>4</th>\n",
       "      <td>CT</td>\n",
       "      <td>KELLOGG-DEERING WELL FIELD</td>\n",
       "      <td>NORWALK</td>\n",
       "      <td>FAIRFIELD, CT</td>\n",
       "      <td>9/21/1984</td>\n",
       "    </tr>\n",
       "  </tbody>\n",
       "</table>\n",
       "</div>"
      ],
      "text/plain": [
       "  state                          site name          city          county  \\\n",
       "0    CT  BARKHAMSTED-NEW HARTFORD LANDFILL   BARKHAMSTED  LITCHFIELD, CT   \n",
       "1    CT            BEACON HEIGHTS LANDFILL  BEACON FALLS   NEW HAVEN, CT   \n",
       "2    CT                     DURHAM MEADOWS        DURHAM   MIDDLESEX, CT   \n",
       "3    CT                    GALLUP'S QUARRY    PLAINFIELD     WINDHAM, CT   \n",
       "4    CT         KELLOGG-DEERING WELL FIELD       NORWALK   FAIRFIELD, CT   \n",
       "\n",
       "  npl status date  \n",
       "0       10/4/1989  \n",
       "1        9/8/1983  \n",
       "2       10/4/1989  \n",
       "3       10/4/1989  \n",
       "4       9/21/1984  "
      ]
     },
     "execution_count": 13,
     "metadata": {},
     "output_type": "execute_result"
    }
   ],
   "source": [
    "npl_df['county'] = npl_df['county'].map(str) + ', ' + npl_df['state'].map(str)\n",
    "npl_df.head()"
   ]
  },
  {
   "cell_type": "markdown",
   "metadata": {},
   "source": [
    "In addition, we added a Duration column that will come into play as we plot our data. The values in this variable are the number of years since NPL status for the site was established (up to 2021)."
   ]
  },
  {
   "cell_type": "code",
   "execution_count": 14,
   "metadata": {},
   "outputs": [
    {
     "data": {
      "text/html": [
       "<div>\n",
       "<style scoped>\n",
       "    .dataframe tbody tr th:only-of-type {\n",
       "        vertical-align: middle;\n",
       "    }\n",
       "\n",
       "    .dataframe tbody tr th {\n",
       "        vertical-align: top;\n",
       "    }\n",
       "\n",
       "    .dataframe thead th {\n",
       "        text-align: right;\n",
       "    }\n",
       "</style>\n",
       "<table border=\"1\" class=\"dataframe\">\n",
       "  <thead>\n",
       "    <tr style=\"text-align: right;\">\n",
       "      <th></th>\n",
       "      <th>state</th>\n",
       "      <th>site name</th>\n",
       "      <th>city</th>\n",
       "      <th>county</th>\n",
       "      <th>npl status date</th>\n",
       "      <th>duration</th>\n",
       "    </tr>\n",
       "  </thead>\n",
       "  <tbody>\n",
       "    <tr>\n",
       "      <th>0</th>\n",
       "      <td>CT</td>\n",
       "      <td>BARKHAMSTED-NEW HARTFORD LANDFILL</td>\n",
       "      <td>BARKHAMSTED</td>\n",
       "      <td>LITCHFIELD, CT</td>\n",
       "      <td>10/4/1989</td>\n",
       "      <td>32</td>\n",
       "    </tr>\n",
       "    <tr>\n",
       "      <th>1</th>\n",
       "      <td>CT</td>\n",
       "      <td>BEACON HEIGHTS LANDFILL</td>\n",
       "      <td>BEACON FALLS</td>\n",
       "      <td>NEW HAVEN, CT</td>\n",
       "      <td>9/8/1983</td>\n",
       "      <td>38</td>\n",
       "    </tr>\n",
       "    <tr>\n",
       "      <th>...</th>\n",
       "      <td>...</td>\n",
       "      <td>...</td>\n",
       "      <td>...</td>\n",
       "      <td>...</td>\n",
       "      <td>...</td>\n",
       "      <td>...</td>\n",
       "    </tr>\n",
       "    <tr>\n",
       "      <th>1325</th>\n",
       "      <td>WA</td>\n",
       "      <td>WESTERN PROCESSING CO., INC.</td>\n",
       "      <td>KENT</td>\n",
       "      <td>KING, WA</td>\n",
       "      <td>9/8/1983</td>\n",
       "      <td>38</td>\n",
       "    </tr>\n",
       "    <tr>\n",
       "      <th>1326</th>\n",
       "      <td>WA</td>\n",
       "      <td>WYCKOFF CO./EAGLE HARBOR</td>\n",
       "      <td>BAINBRIDGE ISLAND</td>\n",
       "      <td>KITSAP, WA</td>\n",
       "      <td>7/22/1987</td>\n",
       "      <td>34</td>\n",
       "    </tr>\n",
       "  </tbody>\n",
       "</table>\n",
       "<p>1327 rows × 6 columns</p>\n",
       "</div>"
      ],
      "text/plain": [
       "     state                          site name               city  \\\n",
       "0       CT  BARKHAMSTED-NEW HARTFORD LANDFILL        BARKHAMSTED   \n",
       "1       CT            BEACON HEIGHTS LANDFILL       BEACON FALLS   \n",
       "...    ...                                ...                ...   \n",
       "1325    WA       WESTERN PROCESSING CO., INC.               KENT   \n",
       "1326    WA           WYCKOFF CO./EAGLE HARBOR  BAINBRIDGE ISLAND   \n",
       "\n",
       "              county npl status date  duration  \n",
       "0     LITCHFIELD, CT       10/4/1989        32  \n",
       "1      NEW HAVEN, CT        9/8/1983        38  \n",
       "...              ...             ...       ...  \n",
       "1325        KING, WA        9/8/1983        38  \n",
       "1326      KITSAP, WA       7/22/1987        34  \n",
       "\n",
       "[1327 rows x 6 columns]"
      ]
     },
     "execution_count": 14,
     "metadata": {},
     "output_type": "execute_result"
    }
   ],
   "source": [
    "npl_df['duration'] = npl_df['npl status date'].str[-4:]\n",
    "npl_df = npl_df.astype({\"duration\": int})\n",
    "npl_df['duration'] = 2021 - npl_df['duration']\n",
    "npl_df"
   ]
  },
  {
   "cell_type": "markdown",
   "metadata": {},
   "source": [
    "Now we can take a look at our ACS dataset."
   ]
  },
  {
   "cell_type": "code",
   "execution_count": 15,
   "metadata": {},
   "outputs": [
    {
     "data": {
      "text/html": [
       "<div>\n",
       "<style scoped>\n",
       "    .dataframe tbody tr th:only-of-type {\n",
       "        vertical-align: middle;\n",
       "    }\n",
       "\n",
       "    .dataframe tbody tr th {\n",
       "        vertical-align: top;\n",
       "    }\n",
       "\n",
       "    .dataframe thead th {\n",
       "        text-align: right;\n",
       "    }\n",
       "</style>\n",
       "<table border=\"1\" class=\"dataframe\">\n",
       "  <thead>\n",
       "    <tr style=\"text-align: right;\">\n",
       "      <th></th>\n",
       "      <th>Area Name</th>\n",
       "      <th>Qualifying Name</th>\n",
       "      <th>State Postal Abbreviation</th>\n",
       "      <th>Total Population</th>\n",
       "      <th>...</th>\n",
       "      <th>Some Other Race Alone Population for Whom Poverty  Status Is Determined: Income Below Poverty Level</th>\n",
       "      <th>Two or More Races Population for Whom Poverty  Status Is Determined: Income Below Poverty Level</th>\n",
       "      <th>Hispanic or Latino Population for Whom Poverty  Status Is Determined: Income Below Poverty Level</th>\n",
       "      <th>White Alone, Not Hispanic or Latino Population  for Whom&amp;nbsp; Poverty Status Is Determined: Income Below Poverty Level</th>\n",
       "    </tr>\n",
       "  </thead>\n",
       "  <tbody>\n",
       "    <tr>\n",
       "      <th>0</th>\n",
       "      <td>Autauga County</td>\n",
       "      <td>Autauga County, Alabama</td>\n",
       "      <td>al</td>\n",
       "      <td>55380</td>\n",
       "      <td>...</td>\n",
       "      <td>99</td>\n",
       "      <td>199</td>\n",
       "      <td>68</td>\n",
       "      <td>4558</td>\n",
       "    </tr>\n",
       "    <tr>\n",
       "      <th>1</th>\n",
       "      <td>Baldwin County</td>\n",
       "      <td>Baldwin County, Alabama</td>\n",
       "      <td>al</td>\n",
       "      <td>212830</td>\n",
       "      <td>...</td>\n",
       "      <td>623</td>\n",
       "      <td>379</td>\n",
       "      <td>1756</td>\n",
       "      <td>14680</td>\n",
       "    </tr>\n",
       "    <tr>\n",
       "      <th>2</th>\n",
       "      <td>Barbour County</td>\n",
       "      <td>Barbour County, Alabama</td>\n",
       "      <td>al</td>\n",
       "      <td>25361</td>\n",
       "      <td>...</td>\n",
       "      <td>447</td>\n",
       "      <td>148</td>\n",
       "      <td>607</td>\n",
       "      <td>1551</td>\n",
       "    </tr>\n",
       "    <tr>\n",
       "      <th>3</th>\n",
       "      <td>Bibb County</td>\n",
       "      <td>Bibb County, Alabama</td>\n",
       "      <td>al</td>\n",
       "      <td>22493</td>\n",
       "      <td>...</td>\n",
       "      <td>0</td>\n",
       "      <td>0</td>\n",
       "      <td>0</td>\n",
       "      <td>2613</td>\n",
       "    </tr>\n",
       "    <tr>\n",
       "      <th>4</th>\n",
       "      <td>Blount County</td>\n",
       "      <td>Blount County, Alabama</td>\n",
       "      <td>al</td>\n",
       "      <td>57681</td>\n",
       "      <td>...</td>\n",
       "      <td>13</td>\n",
       "      <td>175</td>\n",
       "      <td>1359</td>\n",
       "      <td>6126</td>\n",
       "    </tr>\n",
       "  </tbody>\n",
       "</table>\n",
       "<p>5 rows × 35 columns</p>\n",
       "</div>"
      ],
      "text/plain": [
       "        Area Name          Qualifying Name State Postal Abbreviation  \\\n",
       "0  Autauga County  Autauga County, Alabama                        al   \n",
       "1  Baldwin County  Baldwin County, Alabama                        al   \n",
       "2  Barbour County  Barbour County, Alabama                        al   \n",
       "3     Bibb County     Bibb County, Alabama                        al   \n",
       "4   Blount County   Blount County, Alabama                        al   \n",
       "\n",
       "  Total Population  ...  \\\n",
       "0            55380  ...   \n",
       "1           212830  ...   \n",
       "2            25361  ...   \n",
       "3            22493  ...   \n",
       "4            57681  ...   \n",
       "\n",
       "  Some Other Race Alone Population for Whom Poverty  Status Is Determined: Income Below Poverty Level  \\\n",
       "0                                                 99                                                    \n",
       "1                                                623                                                    \n",
       "2                                                447                                                    \n",
       "3                                                  0                                                    \n",
       "4                                                 13                                                    \n",
       "\n",
       "  Two or More Races Population for Whom Poverty  Status Is Determined: Income Below Poverty Level  \\\n",
       "0                                                199                                                \n",
       "1                                                379                                                \n",
       "2                                                148                                                \n",
       "3                                                  0                                                \n",
       "4                                                175                                                \n",
       "\n",
       "  Hispanic or Latino Population for Whom Poverty  Status Is Determined: Income Below Poverty Level  \\\n",
       "0                                                 68                                                 \n",
       "1                                               1756                                                 \n",
       "2                                                607                                                 \n",
       "3                                                  0                                                 \n",
       "4                                               1359                                                 \n",
       "\n",
       "  White Alone, Not Hispanic or Latino Population  for Whom&nbsp; Poverty Status Is Determined: Income Below Poverty Level  \n",
       "0                                               4558                                                                       \n",
       "1                                              14680                                                                       \n",
       "2                                               1551                                                                       \n",
       "3                                               2613                                                                       \n",
       "4                                               6126                                                                       \n",
       "\n",
       "[5 rows x 35 columns]"
      ]
     },
     "execution_count": 15,
     "metadata": {},
     "output_type": "execute_result"
    }
   ],
   "source": [
    "acs_df.head()"
   ]
  },
  {
   "cell_type": "markdown",
   "metadata": {},
   "source": [
    "We'll need to standardize the formatting for the column describing the county of each observation to match that of our NPL datset, which is of the format 'COUNTY, PC' with PC being the postal code abbreviation. We can achieve this using the .upper(), .replace(), and .strip() methods."
   ]
  },
  {
   "cell_type": "code",
   "execution_count": 16,
   "metadata": {},
   "outputs": [
    {
     "data": {
      "text/html": [
       "<div>\n",
       "<style scoped>\n",
       "    .dataframe tbody tr th:only-of-type {\n",
       "        vertical-align: middle;\n",
       "    }\n",
       "\n",
       "    .dataframe tbody tr th {\n",
       "        vertical-align: top;\n",
       "    }\n",
       "\n",
       "    .dataframe thead th {\n",
       "        text-align: right;\n",
       "    }\n",
       "</style>\n",
       "<table border=\"1\" class=\"dataframe\">\n",
       "  <thead>\n",
       "    <tr style=\"text-align: right;\">\n",
       "      <th></th>\n",
       "      <th>county</th>\n",
       "      <th>Qualifying Name</th>\n",
       "      <th>State Postal Abbreviation</th>\n",
       "      <th>Total Population</th>\n",
       "      <th>...</th>\n",
       "      <th>Some Other Race Alone Population for Whom Poverty  Status Is Determined: Income Below Poverty Level</th>\n",
       "      <th>Two or More Races Population for Whom Poverty  Status Is Determined: Income Below Poverty Level</th>\n",
       "      <th>Hispanic or Latino Population for Whom Poverty  Status Is Determined: Income Below Poverty Level</th>\n",
       "      <th>White Alone, Not Hispanic or Latino Population  for Whom&amp;nbsp; Poverty Status Is Determined: Income Below Poverty Level</th>\n",
       "    </tr>\n",
       "  </thead>\n",
       "  <tbody>\n",
       "    <tr>\n",
       "      <th>0</th>\n",
       "      <td>AUTAUGA, AL</td>\n",
       "      <td>Autauga County, Alabama</td>\n",
       "      <td>AL</td>\n",
       "      <td>55380</td>\n",
       "      <td>...</td>\n",
       "      <td>99</td>\n",
       "      <td>199</td>\n",
       "      <td>68</td>\n",
       "      <td>4558</td>\n",
       "    </tr>\n",
       "    <tr>\n",
       "      <th>1</th>\n",
       "      <td>BALDWIN, AL</td>\n",
       "      <td>Baldwin County, Alabama</td>\n",
       "      <td>AL</td>\n",
       "      <td>212830</td>\n",
       "      <td>...</td>\n",
       "      <td>623</td>\n",
       "      <td>379</td>\n",
       "      <td>1756</td>\n",
       "      <td>14680</td>\n",
       "    </tr>\n",
       "    <tr>\n",
       "      <th>2</th>\n",
       "      <td>BARBOUR, AL</td>\n",
       "      <td>Barbour County, Alabama</td>\n",
       "      <td>AL</td>\n",
       "      <td>25361</td>\n",
       "      <td>...</td>\n",
       "      <td>447</td>\n",
       "      <td>148</td>\n",
       "      <td>607</td>\n",
       "      <td>1551</td>\n",
       "    </tr>\n",
       "    <tr>\n",
       "      <th>3</th>\n",
       "      <td>BIBB, AL</td>\n",
       "      <td>Bibb County, Alabama</td>\n",
       "      <td>AL</td>\n",
       "      <td>22493</td>\n",
       "      <td>...</td>\n",
       "      <td>0</td>\n",
       "      <td>0</td>\n",
       "      <td>0</td>\n",
       "      <td>2613</td>\n",
       "    </tr>\n",
       "    <tr>\n",
       "      <th>4</th>\n",
       "      <td>BLOUNT, AL</td>\n",
       "      <td>Blount County, Alabama</td>\n",
       "      <td>AL</td>\n",
       "      <td>57681</td>\n",
       "      <td>...</td>\n",
       "      <td>13</td>\n",
       "      <td>175</td>\n",
       "      <td>1359</td>\n",
       "      <td>6126</td>\n",
       "    </tr>\n",
       "  </tbody>\n",
       "</table>\n",
       "<p>5 rows × 35 columns</p>\n",
       "</div>"
      ],
      "text/plain": [
       "        county          Qualifying Name State Postal Abbreviation  \\\n",
       "0  AUTAUGA, AL  Autauga County, Alabama                        AL   \n",
       "1  BALDWIN, AL  Baldwin County, Alabama                        AL   \n",
       "2  BARBOUR, AL  Barbour County, Alabama                        AL   \n",
       "3     BIBB, AL     Bibb County, Alabama                        AL   \n",
       "4   BLOUNT, AL   Blount County, Alabama                        AL   \n",
       "\n",
       "  Total Population  ...  \\\n",
       "0            55380  ...   \n",
       "1           212830  ...   \n",
       "2            25361  ...   \n",
       "3            22493  ...   \n",
       "4            57681  ...   \n",
       "\n",
       "  Some Other Race Alone Population for Whom Poverty  Status Is Determined: Income Below Poverty Level  \\\n",
       "0                                                 99                                                    \n",
       "1                                                623                                                    \n",
       "2                                                447                                                    \n",
       "3                                                  0                                                    \n",
       "4                                                 13                                                    \n",
       "\n",
       "  Two or More Races Population for Whom Poverty  Status Is Determined: Income Below Poverty Level  \\\n",
       "0                                                199                                                \n",
       "1                                                379                                                \n",
       "2                                                148                                                \n",
       "3                                                  0                                                \n",
       "4                                                175                                                \n",
       "\n",
       "  Hispanic or Latino Population for Whom Poverty  Status Is Determined: Income Below Poverty Level  \\\n",
       "0                                                 68                                                 \n",
       "1                                               1756                                                 \n",
       "2                                                607                                                 \n",
       "3                                                  0                                                 \n",
       "4                                               1359                                                 \n",
       "\n",
       "  White Alone, Not Hispanic or Latino Population  for Whom&nbsp; Poverty Status Is Determined: Income Below Poverty Level  \n",
       "0                                               4558                                                                       \n",
       "1                                              14680                                                                       \n",
       "2                                               1551                                                                       \n",
       "3                                               2613                                                                       \n",
       "4                                               6126                                                                       \n",
       "\n",
       "[5 rows x 35 columns]"
      ]
     },
     "execution_count": 16,
     "metadata": {},
     "output_type": "execute_result"
    }
   ],
   "source": [
    "acs_df.rename({'Area Name': 'county'}, axis=1, inplace=True)\n",
    "acs_df['State Postal Abbreviation'] = acs_df['State Postal Abbreviation'].str.upper()\n",
    "acs_df['county'] = acs_df['county'].str.upper()\n",
    "acs_df['county'] = acs_df['county'].str.replace('COUNTY', '')\n",
    "acs_df['county'] = acs_df['county'].str.strip()\n",
    "acs_df['county'] = acs_df['county'].map(str) + ', ' + acs_df['State Postal Abbreviation'].map(str)\n",
    "acs_df.head()"
   ]
  },
  {
   "cell_type": "markdown",
   "metadata": {},
   "source": [
    "Now that we have a common column, we can merge our datasets. We'll use a left merge with our NPL dataset as our left-dataset, since we only need the demographic data for the county of the NPL sites."
   ]
  },
  {
   "cell_type": "code",
   "execution_count": 17,
   "metadata": {},
   "outputs": [
    {
     "data": {
      "text/html": [
       "<div>\n",
       "<style scoped>\n",
       "    .dataframe tbody tr th:only-of-type {\n",
       "        vertical-align: middle;\n",
       "    }\n",
       "\n",
       "    .dataframe tbody tr th {\n",
       "        vertical-align: top;\n",
       "    }\n",
       "\n",
       "    .dataframe thead th {\n",
       "        text-align: right;\n",
       "    }\n",
       "</style>\n",
       "<table border=\"1\" class=\"dataframe\">\n",
       "  <thead>\n",
       "    <tr style=\"text-align: right;\">\n",
       "      <th></th>\n",
       "      <th>state</th>\n",
       "      <th>site name</th>\n",
       "      <th>city</th>\n",
       "      <th>county</th>\n",
       "      <th>...</th>\n",
       "      <th>Some Other Race Alone Population for Whom Poverty  Status Is Determined: Income Below Poverty Level</th>\n",
       "      <th>Two or More Races Population for Whom Poverty  Status Is Determined: Income Below Poverty Level</th>\n",
       "      <th>Hispanic or Latino Population for Whom Poverty  Status Is Determined: Income Below Poverty Level</th>\n",
       "      <th>White Alone, Not Hispanic or Latino Population  for Whom&amp;nbsp; Poverty Status Is Determined: Income Below Poverty Level</th>\n",
       "    </tr>\n",
       "  </thead>\n",
       "  <tbody>\n",
       "    <tr>\n",
       "      <th>609</th>\n",
       "      <td>NC</td>\n",
       "      <td>HOLCOMB CREOSOTE CO</td>\n",
       "      <td>YADKINVILLE</td>\n",
       "      <td>YADKIN, NC</td>\n",
       "      <td>...</td>\n",
       "      <td>191</td>\n",
       "      <td>195</td>\n",
       "      <td>1144</td>\n",
       "      <td>4343</td>\n",
       "    </tr>\n",
       "    <tr>\n",
       "      <th>724</th>\n",
       "      <td>IN</td>\n",
       "      <td>ENVIROCHEM CORP.</td>\n",
       "      <td>ZIONSVILLE</td>\n",
       "      <td>BOONE, IN</td>\n",
       "      <td>...</td>\n",
       "      <td>34</td>\n",
       "      <td>130</td>\n",
       "      <td>45</td>\n",
       "      <td>3258</td>\n",
       "    </tr>\n",
       "    <tr>\n",
       "      <th>1284</th>\n",
       "      <td>WA</td>\n",
       "      <td>BOOMSNUB/AIRCO</td>\n",
       "      <td>VANCOUVER</td>\n",
       "      <td>CLARK, WA</td>\n",
       "      <td>...</td>\n",
       "      <td>1835</td>\n",
       "      <td>2959</td>\n",
       "      <td>7215</td>\n",
       "      <td>29186</td>\n",
       "    </tr>\n",
       "    <tr>\n",
       "      <th>1238</th>\n",
       "      <td>CA</td>\n",
       "      <td>STRINGFELLOW</td>\n",
       "      <td>MIRA LOMA</td>\n",
       "      <td>RIVERSIDE, CA</td>\n",
       "      <td>...</td>\n",
       "      <td>93213</td>\n",
       "      <td>11882</td>\n",
       "      <td>194554</td>\n",
       "      <td>78516</td>\n",
       "    </tr>\n",
       "    <tr>\n",
       "      <th>123</th>\n",
       "      <td>NJ</td>\n",
       "      <td>DE REWAL CHEMICAL CO.</td>\n",
       "      <td>KINGWOOD TOWNSHIP</td>\n",
       "      <td>HUNTERDON, NJ</td>\n",
       "      <td>...</td>\n",
       "      <td>212</td>\n",
       "      <td>24</td>\n",
       "      <td>907</td>\n",
       "      <td>4052</td>\n",
       "    </tr>\n",
       "  </tbody>\n",
       "</table>\n",
       "<p>5 rows × 40 columns</p>\n",
       "</div>"
      ],
      "text/plain": [
       "     state              site name               city         county  ...  \\\n",
       "609     NC    HOLCOMB CREOSOTE CO        YADKINVILLE     YADKIN, NC  ...   \n",
       "724     IN       ENVIROCHEM CORP.         ZIONSVILLE      BOONE, IN  ...   \n",
       "1284    WA         BOOMSNUB/AIRCO          VANCOUVER      CLARK, WA  ...   \n",
       "1238    CA           STRINGFELLOW          MIRA LOMA  RIVERSIDE, CA  ...   \n",
       "123     NJ  DE REWAL CHEMICAL CO.  KINGWOOD TOWNSHIP  HUNTERDON, NJ  ...   \n",
       "\n",
       "     Some Other Race Alone Population for Whom Poverty  Status Is Determined: Income Below Poverty Level  \\\n",
       "609                                                 191                                                    \n",
       "724                                                  34                                                    \n",
       "1284                                               1835                                                    \n",
       "1238                                              93213                                                    \n",
       "123                                                 212                                                    \n",
       "\n",
       "      Two or More Races Population for Whom Poverty  Status Is Determined: Income Below Poverty Level  \\\n",
       "609                                                 195                                                 \n",
       "724                                                 130                                                 \n",
       "1284                                               2959                                                 \n",
       "1238                                              11882                                                 \n",
       "123                                                  24                                                 \n",
       "\n",
       "     Hispanic or Latino Population for Whom Poverty  Status Is Determined: Income Below Poverty Level  \\\n",
       "609                                                1144                                                 \n",
       "724                                                  45                                                 \n",
       "1284                                               7215                                                 \n",
       "1238                                             194554                                                 \n",
       "123                                                 907                                                 \n",
       "\n",
       "     White Alone, Not Hispanic or Latino Population  for Whom&nbsp; Poverty Status Is Determined: Income Below Poverty Level  \n",
       "609                                                4343                                                                       \n",
       "724                                                3258                                                                       \n",
       "1284                                              29186                                                                       \n",
       "1238                                              78516                                                                       \n",
       "123                                                4052                                                                       \n",
       "\n",
       "[5 rows x 40 columns]"
      ]
     },
     "execution_count": 17,
     "metadata": {},
     "output_type": "execute_result"
    }
   ],
   "source": [
    "county_df = pd.merge(npl_df, acs_df, on='county', how='left')\n",
    "county_df = county_df.sort_values(by=['county'])\n",
    "county_df.sample(n=5)"
   ]
  },
  {
   "cell_type": "markdown",
   "metadata": {},
   "source": [
    "# Data Analysis & Results"
   ]
  },
  {
   "cell_type": "markdown",
   "metadata": {},
   "source": [
    "### Median Household Income"
   ]
  },
  {
   "cell_type": "markdown",
   "metadata": {},
   "source": [
    "Let's narrow down the scope of our dataset for this portion - we'll create a subset using just the relevant variables, including county, site name, and median household income. We'll also drop any rows in the subset with missing data for median household income, as this is essential to our current exploration."
   ]
  },
  {
   "cell_type": "code",
   "execution_count": 18,
   "metadata": {},
   "outputs": [
    {
     "data": {
      "text/html": [
       "<div>\n",
       "<style scoped>\n",
       "    .dataframe tbody tr th:only-of-type {\n",
       "        vertical-align: middle;\n",
       "    }\n",
       "\n",
       "    .dataframe tbody tr th {\n",
       "        vertical-align: top;\n",
       "    }\n",
       "\n",
       "    .dataframe thead th {\n",
       "        text-align: right;\n",
       "    }\n",
       "</style>\n",
       "<table border=\"1\" class=\"dataframe\">\n",
       "  <thead>\n",
       "    <tr style=\"text-align: right;\">\n",
       "      <th></th>\n",
       "      <th>site name</th>\n",
       "      <th>county</th>\n",
       "      <th>median household income</th>\n",
       "    </tr>\n",
       "  </thead>\n",
       "  <tbody>\n",
       "    <tr>\n",
       "      <th>1094</th>\n",
       "      <td>BRODERICK WOOD PRODUCTS</td>\n",
       "      <td>ADAMS, CO</td>\n",
       "      <td>71202</td>\n",
       "    </tr>\n",
       "    <tr>\n",
       "      <th>1107</th>\n",
       "      <td>ROCKY MOUNTAIN ARSENAL (USARMY)</td>\n",
       "      <td>ADAMS, CO</td>\n",
       "      <td>71202</td>\n",
       "    </tr>\n",
       "    <tr>\n",
       "      <th>...</th>\n",
       "      <td>...</td>\n",
       "      <td>...</td>\n",
       "      <td>...</td>\n",
       "    </tr>\n",
       "    <tr>\n",
       "      <th>461</th>\n",
       "      <td>LANGLEY AIR FORCE BASE/NASA LANGLEY RESEARCH C...</td>\n",
       "      <td>YORK, VA</td>\n",
       "      <td>92069</td>\n",
       "    </tr>\n",
       "    <tr>\n",
       "      <th>1152</th>\n",
       "      <td>YUMA MARINE CORPS AIR STATION</td>\n",
       "      <td>YUMA, AZ</td>\n",
       "      <td>45243</td>\n",
       "    </tr>\n",
       "  </tbody>\n",
       "</table>\n",
       "<p>1278 rows × 3 columns</p>\n",
       "</div>"
      ],
      "text/plain": [
       "                                              site name     county  \\\n",
       "1094                            BRODERICK WOOD PRODUCTS  ADAMS, CO   \n",
       "1107                    ROCKY MOUNTAIN ARSENAL (USARMY)  ADAMS, CO   \n",
       "...                                                 ...        ...   \n",
       "461   LANGLEY AIR FORCE BASE/NASA LANGLEY RESEARCH C...   YORK, VA   \n",
       "1152                      YUMA MARINE CORPS AIR STATION   YUMA, AZ   \n",
       "\n",
       "      median household income  \n",
       "1094                    71202  \n",
       "1107                    71202  \n",
       "...                       ...  \n",
       "461                     92069  \n",
       "1152                    45243  \n",
       "\n",
       "[1278 rows x 3 columns]"
      ]
     },
     "execution_count": 18,
     "metadata": {},
     "output_type": "execute_result"
    }
   ],
   "source": [
    "mhi_df = county_df[['site name', 'county', 'Median Household Income (In 2019 Inflation Adjusted Dollars):']]\n",
    "mhi_df.rename({'Median Household Income (In 2019 Inflation Adjusted Dollars):': 'median household income'}, axis=1, inplace=True)\n",
    "mhi_df = mhi_df.dropna(subset=['median household income'])\n",
    "mhi_df['median household income'] = mhi_df['median household income'].astype(int)\n",
    "mhi_df"
   ]
  },
  {
   "cell_type": "markdown",
   "metadata": {},
   "source": [
    "Visualizing the distribution of median household income for all of the relevant counties might be difficult - we have thousands of observations. We'll create two more subsets and compare their distributions:\n",
    "1. 10 counties with the most NPL sites\n",
    "2. 10 counties with the least NPL sites\n",
    "\n",
    "We can start by getting a list of counties in order of their frequency in the dataset; we'll use the .value_counts() and .index.tolist() methods."
   ]
  },
  {
   "cell_type": "code",
   "execution_count": 19,
   "metadata": {},
   "outputs": [
    {
     "data": {
      "text/plain": [
       "county         \n",
       "SANTA CLARA, CA    21\n",
       "LOS ANGELES, CA    17\n",
       "                   ..\n",
       "MILWAUKEE, WI       1\n",
       "LARAMIE, WY         1\n",
       "Length: 621, dtype: int64"
      ]
     },
     "execution_count": 19,
     "metadata": {},
     "output_type": "execute_result"
    }
   ],
   "source": [
    "mhi_df.value_counts(['county'])"
   ]
  },
  {
   "cell_type": "code",
   "execution_count": 20,
   "metadata": {},
   "outputs": [],
   "source": [
    "counties = mhi_df['county'].value_counts().index.tolist()"
   ]
  },
  {
   "cell_type": "markdown",
   "metadata": {},
   "source": [
    "Now let's create the subsets by slicing the list into two lists of 10 counties."
   ]
  },
  {
   "cell_type": "code",
   "execution_count": 21,
   "metadata": {},
   "outputs": [],
   "source": [
    "top_10 = counties[0:10]\n",
    "bottom_10 = counties[506:516]"
   ]
  },
  {
   "cell_type": "code",
   "execution_count": 22,
   "metadata": {},
   "outputs": [
    {
     "data": {
      "text/plain": [
       "['SANTA CLARA, CA',\n",
       " 'MONTGOMERY, PA',\n",
       " 'LOS ANGELES, CA',\n",
       " 'NASSAU, NY',\n",
       " 'MIDDLESEX, NJ',\n",
       " 'MIDDLESEX, MA',\n",
       " 'HARRIS, TX',\n",
       " 'HILLSBOROUGH, FL',\n",
       " 'BURLINGTON, NJ',\n",
       " 'NEW CASTLE, DE']"
      ]
     },
     "execution_count": 22,
     "metadata": {},
     "output_type": "execute_result"
    }
   ],
   "source": [
    "top_10"
   ]
  },
  {
   "cell_type": "code",
   "execution_count": 23,
   "metadata": {},
   "outputs": [
    {
     "data": {
      "text/html": [
       "<div>\n",
       "<style scoped>\n",
       "    .dataframe tbody tr th:only-of-type {\n",
       "        vertical-align: middle;\n",
       "    }\n",
       "\n",
       "    .dataframe tbody tr th {\n",
       "        vertical-align: top;\n",
       "    }\n",
       "\n",
       "    .dataframe thead th {\n",
       "        text-align: right;\n",
       "    }\n",
       "</style>\n",
       "<table border=\"1\" class=\"dataframe\">\n",
       "  <thead>\n",
       "    <tr style=\"text-align: right;\">\n",
       "      <th></th>\n",
       "      <th>site name</th>\n",
       "      <th>county</th>\n",
       "      <th>median household income</th>\n",
       "    </tr>\n",
       "  </thead>\n",
       "  <tbody>\n",
       "    <tr>\n",
       "      <th>153</th>\n",
       "      <td>LANG PROPERTY</td>\n",
       "      <td>BURLINGTON, NJ</td>\n",
       "      <td>87416</td>\n",
       "    </tr>\n",
       "    <tr>\n",
       "      <th>152</th>\n",
       "      <td>LANDFILL &amp; DEVELOPMENT CO.</td>\n",
       "      <td>BURLINGTON, NJ</td>\n",
       "      <td>87416</td>\n",
       "    </tr>\n",
       "    <tr>\n",
       "      <th>189</th>\n",
       "      <td>ROEBLING STEEL CO.</td>\n",
       "      <td>BURLINGTON, NJ</td>\n",
       "      <td>87416</td>\n",
       "    </tr>\n",
       "    <tr>\n",
       "      <th>149</th>\n",
       "      <td>KAUFFMAN &amp; MINTEER, INC.</td>\n",
       "      <td>BURLINGTON, NJ</td>\n",
       "      <td>87416</td>\n",
       "    </tr>\n",
       "    <tr>\n",
       "      <th>163</th>\n",
       "      <td>MCGUIRE AIR FORCE BASE #1</td>\n",
       "      <td>BURLINGTON, NJ</td>\n",
       "      <td>87416</td>\n",
       "    </tr>\n",
       "  </tbody>\n",
       "</table>\n",
       "</div>"
      ],
      "text/plain": [
       "                      site name          county  median household income\n",
       "153               LANG PROPERTY  BURLINGTON, NJ                    87416\n",
       "152  LANDFILL & DEVELOPMENT CO.  BURLINGTON, NJ                    87416\n",
       "189          ROEBLING STEEL CO.  BURLINGTON, NJ                    87416\n",
       "149    KAUFFMAN & MINTEER, INC.  BURLINGTON, NJ                    87416\n",
       "163   MCGUIRE AIR FORCE BASE #1  BURLINGTON, NJ                    87416"
      ]
     },
     "execution_count": 23,
     "metadata": {},
     "output_type": "execute_result"
    }
   ],
   "source": [
    "mhi_top_df = mhi_df[mhi_df['county'].isin(top_10)]\n",
    "mhi_top_df.head()"
   ]
  },
  {
   "cell_type": "code",
   "execution_count": 24,
   "metadata": {},
   "outputs": [
    {
     "data": {
      "text/plain": [
       "['ALLEGANY, MD',\n",
       " 'SHELBY, AL',\n",
       " 'COWLEY, KS',\n",
       " 'BELL, TX',\n",
       " 'JEFFERSON, PA',\n",
       " 'CALUMET, WI',\n",
       " 'JACKSON, WV',\n",
       " 'RIO ARRIBA, NM',\n",
       " 'PINELLAS, FL',\n",
       " 'ALEUTIANS WEST CENSUS AREA, AK']"
      ]
     },
     "execution_count": 24,
     "metadata": {},
     "output_type": "execute_result"
    }
   ],
   "source": [
    "bottom_10"
   ]
  },
  {
   "cell_type": "code",
   "execution_count": 25,
   "metadata": {},
   "outputs": [
    {
     "data": {
      "text/html": [
       "<div>\n",
       "<style scoped>\n",
       "    .dataframe tbody tr th:only-of-type {\n",
       "        vertical-align: middle;\n",
       "    }\n",
       "\n",
       "    .dataframe tbody tr th {\n",
       "        vertical-align: top;\n",
       "    }\n",
       "\n",
       "    .dataframe thead th {\n",
       "        text-align: right;\n",
       "    }\n",
       "</style>\n",
       "<table border=\"1\" class=\"dataframe\">\n",
       "  <thead>\n",
       "    <tr style=\"text-align: right;\">\n",
       "      <th></th>\n",
       "      <th>site name</th>\n",
       "      <th>county</th>\n",
       "      <th>median household income</th>\n",
       "    </tr>\n",
       "  </thead>\n",
       "  <tbody>\n",
       "    <tr>\n",
       "      <th>1256</th>\n",
       "      <td>ADAK NAVAL AIR STATION</td>\n",
       "      <td>ALEUTIANS WEST CENSUS AREA, AK</td>\n",
       "      <td>87466</td>\n",
       "    </tr>\n",
       "    <tr>\n",
       "      <th>347</th>\n",
       "      <td>LIMESTONE ROAD</td>\n",
       "      <td>ALLEGANY, MD</td>\n",
       "      <td>45893</td>\n",
       "    </tr>\n",
       "    <tr>\n",
       "      <th>1001</th>\n",
       "      <td>ROCKWOOL INDUSTRIES INC.</td>\n",
       "      <td>BELL, TX</td>\n",
       "      <td>54884</td>\n",
       "    </tr>\n",
       "    <tr>\n",
       "      <th>911</th>\n",
       "      <td>SCHMALZ DUMP</td>\n",
       "      <td>CALUMET, WI</td>\n",
       "      <td>75814</td>\n",
       "    </tr>\n",
       "    <tr>\n",
       "      <th>1040</th>\n",
       "      <td>STROTHER FIELD INDUSTRIAL PARK</td>\n",
       "      <td>COWLEY, KS</td>\n",
       "      <td>50102</td>\n",
       "    </tr>\n",
       "  </tbody>\n",
       "</table>\n",
       "</div>"
      ],
      "text/plain": [
       "                           site name                          county  \\\n",
       "1256          ADAK NAVAL AIR STATION  ALEUTIANS WEST CENSUS AREA, AK   \n",
       "347                   LIMESTONE ROAD                    ALLEGANY, MD   \n",
       "1001        ROCKWOOL INDUSTRIES INC.                        BELL, TX   \n",
       "911                     SCHMALZ DUMP                     CALUMET, WI   \n",
       "1040  STROTHER FIELD INDUSTRIAL PARK                      COWLEY, KS   \n",
       "\n",
       "      median household income  \n",
       "1256                    87466  \n",
       "347                     45893  \n",
       "1001                    54884  \n",
       "911                     75814  \n",
       "1040                    50102  "
      ]
     },
     "execution_count": 25,
     "metadata": {},
     "output_type": "execute_result"
    }
   ],
   "source": [
    "mhi_bottom_df = mhi_df[mhi_df['county'].isin(bottom_10)]\n",
    "mhi_bottom_df.head()"
   ]
  },
  {
   "cell_type": "code",
   "execution_count": 26,
   "metadata": {},
   "outputs": [
    {
     "data": {
      "text/plain": [
       "Text(0, 0.5, 'County')"
      ]
     },
     "execution_count": 26,
     "metadata": {},
     "output_type": "execute_result"
    },
    {
     "data": {
      "image/png": "[encoded data removed]",
      "text/plain": [
       "<Figure size 432x288 with 2 Axes>"
      ]
     },
     "metadata": {
      "needs_background": "light"
     },
     "output_type": "display_data"
    }
   ],
   "source": [
    "fig, ax =plt.subplots(1,2)\n",
    "plt.subplots_adjust(left=None, bottom=None, right=2, top=None, wspace=0.5, hspace=None)\n",
    "\n",
    "ax1 = sns.barplot(x=\"median household income\", y=\"county\", data=mhi_top_df, ax=ax[0])\n",
    "\n",
    "ax1.set_title('Median Household Income in Counties with Most NPL Sites')\n",
    "ax1.set_xlabel('Median Household Income (in USD)')\n",
    "ax1.set_ylabel('County')\n",
    "\n",
    "ax2 = sns.barplot(x=\"median household income\", y=\"county\", data=mhi_bottom_df, ax=ax[1])\n",
    "\n",
    "ax2.set_title('Median Household Income in Counties with Fewest NPL Sites')\n",
    "ax2.set_xlabel('Median Household Income (in USD)')\n",
    "ax2.set_ylabel('County')"
   ]
  },
  {
   "cell_type": "markdown",
   "metadata": {},
   "source": [
    "The results are interesting - it seems as if the subset of counties with just 1 NPL site has higher median household income measures than the subset of counties with the most. This is revealing the limitation of the mhi_bottom_df subset in that there are many counties with just 1 NPL site, so the 10 in our sample might not be generalizable to the rest. As we move forward, we have several options: we can randomize the 10 counties in our sample (not just those at the bottom of the list), increase our sample size, or look at different ways of representing the data.\n",
    "\n",
    "These bar plots also might hint that there could be a confounding variable here - if we look at the figure for counties with the most NPL sites, Santa Clara is a notable county in that it has a relatively high median household income of $120,000. Santa Clara is also in Silicon Valley, and upon further examination, most of these Superfund sites are located in past or current high-tech manufacturing sites (see https://qz.com/1017181/).\n",
    "\n",
    "The Geospatial Analysis lecture from today (5/19) and continuing into Friday gave our group the idea to look into choropleth maps as an better method of data visualization, especially given the geographic nature of our data. For median household income in particular, it could be more insightful to plot one choropleth map of NPL sites by county amd another map of median household income by county, and compare the two maps. We will look into this once we learn more about geospatial analysis from lecture and other assignments!"
   ]
  },
  {
   "cell_type": "markdown",
   "metadata": {},
   "source": [
    "### Duration of NPL Sites"
   ]
  },
  {
   "cell_type": "markdown",
   "metadata": {},
   "source": [
    "In the same manner as how we analyzed the two subsets of the median household income, we will follow similar procedures to evaluate the significance of Superfund designation and coinciding factors. "
   ]
  },
  {
   "cell_type": "code",
   "execution_count": 27,
   "metadata": {},
   "outputs": [
    {
     "data": {
      "text/html": [
       "<div>\n",
       "<style scoped>\n",
       "    .dataframe tbody tr th:only-of-type {\n",
       "        vertical-align: middle;\n",
       "    }\n",
       "\n",
       "    .dataframe tbody tr th {\n",
       "        vertical-align: top;\n",
       "    }\n",
       "\n",
       "    .dataframe thead th {\n",
       "        text-align: right;\n",
       "    }\n",
       "</style>\n",
       "<table border=\"1\" class=\"dataframe\">\n",
       "  <thead>\n",
       "    <tr style=\"text-align: right;\">\n",
       "      <th></th>\n",
       "      <th>site name</th>\n",
       "      <th>county</th>\n",
       "      <th>duration</th>\n",
       "      <th>year</th>\n",
       "    </tr>\n",
       "  </thead>\n",
       "  <tbody>\n",
       "    <tr>\n",
       "      <th>934</th>\n",
       "      <td>EVR-WOOD TREATING/EVANGELINE REFINING COMPANY</td>\n",
       "      <td>ACADIA, LA</td>\n",
       "      <td>9</td>\n",
       "      <td>2012</td>\n",
       "    </tr>\n",
       "    <tr>\n",
       "      <th>1094</th>\n",
       "      <td>BRODERICK WOOD PRODUCTS</td>\n",
       "      <td>ADAMS, CO</td>\n",
       "      <td>37</td>\n",
       "      <td>1984</td>\n",
       "    </tr>\n",
       "    <tr>\n",
       "      <th>...</th>\n",
       "      <td>...</td>\n",
       "      <td>...</td>\n",
       "      <td>...</td>\n",
       "      <td>...</td>\n",
       "    </tr>\n",
       "    <tr>\n",
       "      <th>461</th>\n",
       "      <td>LANGLEY AIR FORCE BASE/NASA LANGLEY RESEARCH C...</td>\n",
       "      <td>YORK, VA</td>\n",
       "      <td>27</td>\n",
       "      <td>1994</td>\n",
       "    </tr>\n",
       "    <tr>\n",
       "      <th>1152</th>\n",
       "      <td>YUMA MARINE CORPS AIR STATION</td>\n",
       "      <td>YUMA, AZ</td>\n",
       "      <td>31</td>\n",
       "      <td>1990</td>\n",
       "    </tr>\n",
       "  </tbody>\n",
       "</table>\n",
       "<p>1327 rows × 4 columns</p>\n",
       "</div>"
      ],
      "text/plain": [
       "                                              site name      county  duration  \\\n",
       "934       EVR-WOOD TREATING/EVANGELINE REFINING COMPANY  ACADIA, LA         9   \n",
       "1094                            BRODERICK WOOD PRODUCTS   ADAMS, CO        37   \n",
       "...                                                 ...         ...       ...   \n",
       "461   LANGLEY AIR FORCE BASE/NASA LANGLEY RESEARCH C...    YORK, VA        27   \n",
       "1152                      YUMA MARINE CORPS AIR STATION    YUMA, AZ        31   \n",
       "\n",
       "      year  \n",
       "934   2012  \n",
       "1094  1984  \n",
       "...    ...  \n",
       "461   1994  \n",
       "1152  1990  \n",
       "\n",
       "[1327 rows x 4 columns]"
      ]
     },
     "execution_count": 27,
     "metadata": {},
     "output_type": "execute_result"
    }
   ],
   "source": [
    "site_duration = county_df[['site name','county','duration','npl status date']]\n",
    "site_duration.rename({'npl status date': 'year'}, axis=1, inplace=True)\n",
    "site_duration['year'] = site_duration['year'].str[-4:]\n",
    "site_duration = site_duration.astype({\"year\": int})\n",
    "site_duration"
   ]
  },
  {
   "cell_type": "code",
   "execution_count": 28,
   "metadata": {},
   "outputs": [],
   "source": [
    "site_duration_top_df = site_duration[site_duration['county'].isin(top_10)]\n",
    "site_duration_bottom_df = site_duration[site_duration['county'].isin(bottom_10)]"
   ]
  },
  {
   "cell_type": "code",
   "execution_count": 29,
   "metadata": {},
   "outputs": [
    {
     "data": {
      "text/plain": [
       "Text(0, 0.5, 'County')"
      ]
     },
     "execution_count": 29,
     "metadata": {},
     "output_type": "execute_result"
    },
    {
     "data": {
      "image/png": "[encoded data removed]",
      "text/plain": [
       "<Figure size 432x288 with 2 Axes>"
      ]
     },
     "metadata": {
      "needs_background": "light"
     },
     "output_type": "display_data"
    }
   ],
   "source": [
    "fig, ax =plt.subplots(1,2)\n",
    "plt.subplots_adjust(left=None, bottom=None, right=2, top=None, wspace=0.5, hspace=None)\n",
    "\n",
    "ax1 = sns.barplot(x=\"duration\", y=\"county\", data=site_duration_top_df, ax=ax[0], ci=None)\n",
    "ax1.set_title('Duration of NPL Sites in Counties with Most NPL Sites')\n",
    "ax1.set_xlabel('Duration (years)')\n",
    "ax1.set_ylabel('County')\n",
    "\n",
    "ax2 = sns.barplot(x=\"duration\", y=\"county\", data=site_duration_bottom_df, ax=ax[1], ci=None)\n",
    "ax2.set_title('Duration of NPL Sites in Counties with Fewest NPL Sites')\n",
    "ax2.set_xlabel('Duration (years)')\n",
    "ax2.set_ylabel('County')"
   ]
  },
  {
   "cell_type": "code",
   "execution_count": 30,
   "metadata": {},
   "outputs": [
    {
     "data": {
      "text/html": [
       "<div>\n",
       "<style scoped>\n",
       "    .dataframe tbody tr th:only-of-type {\n",
       "        vertical-align: middle;\n",
       "    }\n",
       "\n",
       "    .dataframe tbody tr th {\n",
       "        vertical-align: top;\n",
       "    }\n",
       "\n",
       "    .dataframe thead th {\n",
       "        text-align: right;\n",
       "    }\n",
       "</style>\n",
       "<table border=\"1\" class=\"dataframe\">\n",
       "  <thead>\n",
       "    <tr style=\"text-align: right;\">\n",
       "      <th></th>\n",
       "      <th>duration</th>\n",
       "      <th>year</th>\n",
       "      <th>duration2</th>\n",
       "      <th>year2</th>\n",
       "    </tr>\n",
       "  </thead>\n",
       "  <tbody>\n",
       "    <tr>\n",
       "      <th>count</th>\n",
       "      <td>144.000000</td>\n",
       "      <td>144.000000</td>\n",
       "      <td>10.0</td>\n",
       "      <td>10.00</td>\n",
       "    </tr>\n",
       "    <tr>\n",
       "      <th>mean</th>\n",
       "      <td>29.777778</td>\n",
       "      <td>1991.222222</td>\n",
       "      <td>25.1</td>\n",
       "      <td>1995.90</td>\n",
       "    </tr>\n",
       "    <tr>\n",
       "      <th>...</th>\n",
       "      <td>...</td>\n",
       "      <td>...</td>\n",
       "      <td>...</td>\n",
       "      <td>...</td>\n",
       "    </tr>\n",
       "    <tr>\n",
       "      <th>75%</th>\n",
       "      <td>37.000000</td>\n",
       "      <td>1996.000000</td>\n",
       "      <td>33.0</td>\n",
       "      <td>2002.75</td>\n",
       "    </tr>\n",
       "    <tr>\n",
       "      <th>max</th>\n",
       "      <td>38.000000</td>\n",
       "      <td>2018.000000</td>\n",
       "      <td>38.0</td>\n",
       "      <td>2012.00</td>\n",
       "    </tr>\n",
       "  </tbody>\n",
       "</table>\n",
       "<p>8 rows × 4 columns</p>\n",
       "</div>"
      ],
      "text/plain": [
       "         duration         year  duration2    year2\n",
       "count  144.000000   144.000000       10.0    10.00\n",
       "mean    29.777778  1991.222222       25.1  1995.90\n",
       "...           ...          ...        ...      ...\n",
       "75%     37.000000  1996.000000       33.0  2002.75\n",
       "max     38.000000  2018.000000       38.0  2012.00\n",
       "\n",
       "[8 rows x 4 columns]"
      ]
     },
     "execution_count": 30,
     "metadata": {},
     "output_type": "execute_result"
    }
   ],
   "source": [
    "pd.merge(site_duration_top_df.describe(), site_duration_bottom_df.describe(), \n",
    "         left_index=True, right_index=True, suffixes=('', '2'))"
   ]
  },
  {
   "cell_type": "markdown",
   "metadata": {},
   "source": [
    "As seen in the models above, the results show that on average, the designation of NPL sites in counties with the most NPL sites tends to be longer compared to NPL sites in counties with the fewest NPL sites. However, again, since the bottom 10 counties might not be generalizable to the rest, this may be giving us misrepresented results. \n",
    "\n",
    "The results further insinuate that regions with high NPL sites with long-duration lengths may be affecting the surrounding regions' median household income. The top 10 NPL Sites have progressing remediation processes continuing just over 25 years. As we advance our research, we can expectantly seek to find other factors that may be involved. "
   ]
  },
  {
   "cell_type": "markdown",
   "metadata": {},
   "source": [
    "### Population"
   ]
  },
  {
   "cell_type": "markdown",
   "metadata": {},
   "source": [
    "Let's create a subset using just the relevant variables, including county, site name, and Total Population. We'll also drop any rows in the subset with missing data for Total Population."
   ]
  },
  {
   "cell_type": "code",
   "execution_count": 31,
   "metadata": {},
   "outputs": [
    {
     "data": {
      "text/html": [
       "<div>\n",
       "<style scoped>\n",
       "    .dataframe tbody tr th:only-of-type {\n",
       "        vertical-align: middle;\n",
       "    }\n",
       "\n",
       "    .dataframe tbody tr th {\n",
       "        vertical-align: top;\n",
       "    }\n",
       "\n",
       "    .dataframe thead th {\n",
       "        text-align: right;\n",
       "    }\n",
       "</style>\n",
       "<table border=\"1\" class=\"dataframe\">\n",
       "  <thead>\n",
       "    <tr style=\"text-align: right;\">\n",
       "      <th></th>\n",
       "      <th>site name</th>\n",
       "      <th>county</th>\n",
       "      <th>Total Population</th>\n",
       "      <th>Population Density (Per Sq. Mile)</th>\n",
       "    </tr>\n",
       "  </thead>\n",
       "  <tbody>\n",
       "    <tr>\n",
       "      <th>1094</th>\n",
       "      <td>BRODERICK WOOD PRODUCTS</td>\n",
       "      <td>ADAMS, CO</td>\n",
       "      <td>504108.0</td>\n",
       "      <td>432.2265</td>\n",
       "    </tr>\n",
       "    <tr>\n",
       "      <th>1107</th>\n",
       "      <td>ROCKY MOUNTAIN ARSENAL (USARMY)</td>\n",
       "      <td>ADAMS, CO</td>\n",
       "      <td>504108.0</td>\n",
       "      <td>432.2265</td>\n",
       "    </tr>\n",
       "    <tr>\n",
       "      <th>...</th>\n",
       "      <td>...</td>\n",
       "      <td>...</td>\n",
       "      <td>...</td>\n",
       "      <td>...</td>\n",
       "    </tr>\n",
       "    <tr>\n",
       "      <th>461</th>\n",
       "      <td>LANGLEY AIR FORCE BASE/NASA LANGLEY RESEARCH C...</td>\n",
       "      <td>YORK, VA</td>\n",
       "      <td>67982.0</td>\n",
       "      <td>649.8693</td>\n",
       "    </tr>\n",
       "    <tr>\n",
       "      <th>1152</th>\n",
       "      <td>YUMA MARINE CORPS AIR STATION</td>\n",
       "      <td>YUMA, AZ</td>\n",
       "      <td>209468.0</td>\n",
       "      <td>37.9895</td>\n",
       "    </tr>\n",
       "  </tbody>\n",
       "</table>\n",
       "<p>1278 rows × 4 columns</p>\n",
       "</div>"
      ],
      "text/plain": [
       "                                              site name     county  \\\n",
       "1094                            BRODERICK WOOD PRODUCTS  ADAMS, CO   \n",
       "1107                    ROCKY MOUNTAIN ARSENAL (USARMY)  ADAMS, CO   \n",
       "...                                                 ...        ...   \n",
       "461   LANGLEY AIR FORCE BASE/NASA LANGLEY RESEARCH C...   YORK, VA   \n",
       "1152                      YUMA MARINE CORPS AIR STATION   YUMA, AZ   \n",
       "\n",
       "      Total Population  Population Density (Per Sq. Mile)  \n",
       "1094          504108.0                           432.2265  \n",
       "1107          504108.0                           432.2265  \n",
       "...                ...                                ...  \n",
       "461            67982.0                           649.8693  \n",
       "1152          209468.0                            37.9895  \n",
       "\n",
       "[1278 rows x 4 columns]"
      ]
     },
     "execution_count": 31,
     "metadata": {},
     "output_type": "execute_result"
    }
   ],
   "source": [
    "pop_df = county_df[['site name', 'county', 'Total Population', 'Population Density (Per Sq. Mile)']]\n",
    "pop_df = pop_df.dropna(subset=['Total Population'])\n",
    "pop_df[['Total Population', 'Population Density (Per Sq. Mile)']] = pop_df[['Total Population', 'Population Density (Per Sq. Mile)']].astype(float)\n",
    "pop_df"
   ]
  },
  {
   "cell_type": "markdown",
   "metadata": {},
   "source": [
    "We'll create two more subsets and compare their distributions:\n",
    "1. 10 counties with the most NPL sites\n",
    "2. 10 counties with the least NPL sites\n",
    "\n",
    "We can start by getting a list of counties in order of their frequency in the dataset; we'll use the .value_counts() and .index.tolist() methods. These dataframes will be different from the other top 10 and bottom 10 dataframes because it will be extracted from the population dataframe. "
   ]
  },
  {
   "cell_type": "code",
   "execution_count": 32,
   "metadata": {},
   "outputs": [],
   "source": [
    "pop_counties = pop_df['county'].value_counts().index.tolist()"
   ]
  },
  {
   "cell_type": "code",
   "execution_count": 33,
   "metadata": {},
   "outputs": [
    {
     "data": {
      "text/html": [
       "<div>\n",
       "<style scoped>\n",
       "    .dataframe tbody tr th:only-of-type {\n",
       "        vertical-align: middle;\n",
       "    }\n",
       "\n",
       "    .dataframe tbody tr th {\n",
       "        vertical-align: top;\n",
       "    }\n",
       "\n",
       "    .dataframe thead th {\n",
       "        text-align: right;\n",
       "    }\n",
       "</style>\n",
       "<table border=\"1\" class=\"dataframe\">\n",
       "  <thead>\n",
       "    <tr style=\"text-align: right;\">\n",
       "      <th></th>\n",
       "      <th>site name</th>\n",
       "      <th>county</th>\n",
       "      <th>Total Population</th>\n",
       "      <th>Population Density (Per Sq. Mile)</th>\n",
       "    </tr>\n",
       "  </thead>\n",
       "  <tbody>\n",
       "    <tr>\n",
       "      <th>153</th>\n",
       "      <td>LANG PROPERTY</td>\n",
       "      <td>BURLINGTON, NJ</td>\n",
       "      <td>445702.0</td>\n",
       "      <td>557.6207</td>\n",
       "    </tr>\n",
       "    <tr>\n",
       "      <th>152</th>\n",
       "      <td>LANDFILL &amp; DEVELOPMENT CO.</td>\n",
       "      <td>BURLINGTON, NJ</td>\n",
       "      <td>445702.0</td>\n",
       "      <td>557.6207</td>\n",
       "    </tr>\n",
       "    <tr>\n",
       "      <th>...</th>\n",
       "      <td>...</td>\n",
       "      <td>...</td>\n",
       "      <td>...</td>\n",
       "      <td>...</td>\n",
       "    </tr>\n",
       "    <tr>\n",
       "      <th>1178</th>\n",
       "      <td>FAIRCHILD SEMICONDUCTOR CORP. (MOUNTAIN VIEW P...</td>\n",
       "      <td>SANTA CLARA, CA</td>\n",
       "      <td>1927470.0</td>\n",
       "      <td>1492.9090</td>\n",
       "    </tr>\n",
       "    <tr>\n",
       "      <th>1241</th>\n",
       "      <td>TELEDYNE SEMICONDUCTOR</td>\n",
       "      <td>SANTA CLARA, CA</td>\n",
       "      <td>1927470.0</td>\n",
       "      <td>1492.9090</td>\n",
       "    </tr>\n",
       "  </tbody>\n",
       "</table>\n",
       "<p>144 rows × 4 columns</p>\n",
       "</div>"
      ],
      "text/plain": [
       "                                              site name           county  \\\n",
       "153                                       LANG PROPERTY   BURLINGTON, NJ   \n",
       "152                          LANDFILL & DEVELOPMENT CO.   BURLINGTON, NJ   \n",
       "...                                                 ...              ...   \n",
       "1178  FAIRCHILD SEMICONDUCTOR CORP. (MOUNTAIN VIEW P...  SANTA CLARA, CA   \n",
       "1241                             TELEDYNE SEMICONDUCTOR  SANTA CLARA, CA   \n",
       "\n",
       "      Total Population  Population Density (Per Sq. Mile)  \n",
       "153           445702.0                           557.6207  \n",
       "152           445702.0                           557.6207  \n",
       "...                ...                                ...  \n",
       "1178         1927470.0                          1492.9090  \n",
       "1241         1927470.0                          1492.9090  \n",
       "\n",
       "[144 rows x 4 columns]"
      ]
     },
     "execution_count": 33,
     "metadata": {},
     "output_type": "execute_result"
    }
   ],
   "source": [
    "pop_top_10 = pop_counties[0:10]\n",
    "pop_top_df = pop_df[pop_df['county'].isin(pop_top_10)]\n",
    "pop_top_df"
   ]
  },
  {
   "cell_type": "code",
   "execution_count": 34,
   "metadata": {},
   "outputs": [
    {
     "data": {
      "text/html": [
       "<div>\n",
       "<style scoped>\n",
       "    .dataframe tbody tr th:only-of-type {\n",
       "        vertical-align: middle;\n",
       "    }\n",
       "\n",
       "    .dataframe tbody tr th {\n",
       "        vertical-align: top;\n",
       "    }\n",
       "\n",
       "    .dataframe thead th {\n",
       "        text-align: right;\n",
       "    }\n",
       "</style>\n",
       "<table border=\"1\" class=\"dataframe\">\n",
       "  <thead>\n",
       "    <tr style=\"text-align: right;\">\n",
       "      <th></th>\n",
       "      <th>site name</th>\n",
       "      <th>county</th>\n",
       "      <th>Total Population</th>\n",
       "      <th>Population Density (Per Sq. Mile)</th>\n",
       "    </tr>\n",
       "  </thead>\n",
       "  <tbody>\n",
       "    <tr>\n",
       "      <th>262</th>\n",
       "      <td>MERCURY REFINING, INC.</td>\n",
       "      <td>ALBANY, NY</td>\n",
       "      <td>306968.0</td>\n",
       "      <td>587.12880</td>\n",
       "    </tr>\n",
       "    <tr>\n",
       "      <th>679</th>\n",
       "      <td>DEPUE/NEW JERSEY ZINC/MOBIL CHEMICAL CORP.</td>\n",
       "      <td>BUREAU, IL</td>\n",
       "      <td>33122.0</td>\n",
       "      <td>38.11108</td>\n",
       "    </tr>\n",
       "    <tr>\n",
       "      <th>...</th>\n",
       "      <td>...</td>\n",
       "      <td>...</td>\n",
       "      <td>...</td>\n",
       "      <td>...</td>\n",
       "    </tr>\n",
       "    <tr>\n",
       "      <th>227</th>\n",
       "      <td>CORTESE LANDFILL</td>\n",
       "      <td>SULLIVAN, NY</td>\n",
       "      <td>75116.0</td>\n",
       "      <td>77.58818</td>\n",
       "    </tr>\n",
       "    <tr>\n",
       "      <th>871</th>\n",
       "      <td>REILLY TAR &amp; CHEMICAL CORP. (DOVER PLANT)</td>\n",
       "      <td>TUSCARAWAS, OH</td>\n",
       "      <td>92335.0</td>\n",
       "      <td>162.72440</td>\n",
       "    </tr>\n",
       "  </tbody>\n",
       "</table>\n",
       "<p>16 rows × 4 columns</p>\n",
       "</div>"
      ],
      "text/plain": [
       "                                      site name          county  \\\n",
       "262                      MERCURY REFINING, INC.      ALBANY, NY   \n",
       "679  DEPUE/NEW JERSEY ZINC/MOBIL CHEMICAL CORP.      BUREAU, IL   \n",
       "..                                          ...             ...   \n",
       "227                            CORTESE LANDFILL    SULLIVAN, NY   \n",
       "871   REILLY TAR & CHEMICAL CORP. (DOVER PLANT)  TUSCARAWAS, OH   \n",
       "\n",
       "     Total Population  Population Density (Per Sq. Mile)  \n",
       "262          306968.0                          587.12880  \n",
       "679           33122.0                           38.11108  \n",
       "..                ...                                ...  \n",
       "227           75116.0                           77.58818  \n",
       "871           92335.0                          162.72440  \n",
       "\n",
       "[16 rows x 4 columns]"
      ]
     },
     "execution_count": 34,
     "metadata": {},
     "output_type": "execute_result"
    }
   ],
   "source": [
    "pop_bottom_10 = pop_counties[615-10:]\n",
    "pop_bottom_df = pop_df[pop_df['county'].isin(pop_bottom_10)]\n",
    "pop_bottom_df"
   ]
  },
  {
   "cell_type": "code",
   "execution_count": 35,
   "metadata": {},
   "outputs": [
    {
     "data": {
      "text/plain": [
       "[(0.0, 10500000.0)]"
      ]
     },
     "execution_count": 35,
     "metadata": {},
     "output_type": "execute_result"
    },
    {
     "data": {
      "image/png": "[encoded data removed]",
      "text/plain": [
       "<Figure size 432x288 with 2 Axes>"
      ]
     },
     "metadata": {
      "needs_background": "light"
     },
     "output_type": "display_data"
    }
   ],
   "source": [
    "fig, ax =plt.subplots(1,2)\n",
    "plt.subplots_adjust(left=None, bottom=None, right=2, top=None, wspace=0.5, hspace=None)\n",
    "\n",
    "pop_top_plot = sns.barplot(x=\"Total Population\", y=\"county\", data=pop_top_df, ax=ax[0])\n",
    "\n",
    "pop_top_plot.set_title('Total Population in Counties with Most NPL Sites')\n",
    "pop_top_plot.set_xlabel('Total Population')\n",
    "pop_top_plot.set_ylabel('County')\n",
    "pop_top_plot.set(xlim=(0, 10500000))\n",
    "\n",
    "pop_bottom_plot = sns.barplot(x=\"Total Population\", y=\"county\", data=pop_bottom_df, ax=ax[1])\n",
    "\n",
    "pop_bottom_plot.set_title('Total Population in Counties with Fewest NPL Sites')\n",
    "pop_bottom_plot.set_xlabel('Total Population')\n",
    "pop_bottom_plot.set_ylabel('County')\n",
    "pop_bottom_plot.set(xlim=(0, 10500000))"
   ]
  },
  {
   "cell_type": "code",
   "execution_count": 36,
   "metadata": {},
   "outputs": [
    {
     "data": {
      "text/plain": [
       "[(0.0, 5000.0)]"
      ]
     },
     "execution_count": 36,
     "metadata": {},
     "output_type": "execute_result"
    },
    {
     "data": {
      "image/png": "[encoded data removed]",
      "text/plain": [
       "<Figure size 432x288 with 2 Axes>"
      ]
     },
     "metadata": {
      "needs_background": "light"
     },
     "output_type": "display_data"
    }
   ],
   "source": [
    "\n",
    "fig, ax =plt.subplots(1,2)\n",
    "plt.subplots_adjust(left=None, bottom=None, right=2, top=None, wspace=0.5, hspace=None)\n",
    "\n",
    "pop_density_top_plot = sns.barplot(x=\"Population Density (Per Sq. Mile)\", y=\"county\", data=pop_top_df, ax=ax[0])\n",
    "\n",
    "pop_density_top_plot.set_title('Population Density in Counties with Most NPL Sites')\n",
    "pop_density_top_plot.set_xlabel('Population Density (Per Sq. Mile)')\n",
    "pop_density_top_plot.set_ylabel('County')\n",
    "\n",
    "\n",
    "pop_density_bottom_plot = sns.barplot(x=\"Population Density (Per Sq. Mile)\", y=\"county\", data=pop_bottom_df, ax=ax[1])\n",
    "\n",
    "pop_density_bottom_plot.set_title('Population Density in Counties with Fewest NPL Sites')\n",
    "pop_density_bottom_plot.set_xlabel('Population Density (Per Sq. Mile)')\n",
    "pop_density_bottom_plot.set_ylabel('County')\n",
    "pop_density_bottom_plot.set(xlim=(0, 5000))"
   ]
  },
  {
   "cell_type": "markdown",
   "metadata": {},
   "source": [
    "From the plots above have the same axis limits in order to see the difference in scale for population. We can see that the counties with the most NPL sites tend to have more people living in them and higher population densities than the counties with the fewest NPL sites. "
   ]
  },
  {
   "cell_type": "markdown",
   "metadata": {},
   "source": [
    "Now, we'll look into the population percentage by race. Let's create dataframes for this and drop the NaN values. "
   ]
  },
  {
   "cell_type": "code",
   "execution_count": 37,
   "metadata": {},
   "outputs": [
    {
     "data": {
      "text/html": [
       "<div>\n",
       "<style scoped>\n",
       "    .dataframe tbody tr th:only-of-type {\n",
       "        vertical-align: middle;\n",
       "    }\n",
       "\n",
       "    .dataframe tbody tr th {\n",
       "        vertical-align: top;\n",
       "    }\n",
       "\n",
       "    .dataframe thead th {\n",
       "        text-align: right;\n",
       "    }\n",
       "</style>\n",
       "<table border=\"1\" class=\"dataframe\">\n",
       "  <thead>\n",
       "    <tr style=\"text-align: right;\">\n",
       "      <th></th>\n",
       "      <th>site name</th>\n",
       "      <th>county</th>\n",
       "      <th>% Total Population: White Alone</th>\n",
       "      <th>% Total Population: Black or African American Alone</th>\n",
       "      <th>...</th>\n",
       "      <th>% Total Population: Asian Alone</th>\n",
       "      <th>% Total Population: Native Hawaiian and Other Pacific Islander Alone</th>\n",
       "      <th>% Total Population: Some Other Race Alone</th>\n",
       "      <th>% Total Population: Two or More Races</th>\n",
       "    </tr>\n",
       "  </thead>\n",
       "  <tbody>\n",
       "    <tr>\n",
       "      <th>1094</th>\n",
       "      <td>BRODERICK WOOD PRODUCTS</td>\n",
       "      <td>ADAMS, CO</td>\n",
       "      <td>81.56</td>\n",
       "      <td>3.38</td>\n",
       "      <td>...</td>\n",
       "      <td>3.95</td>\n",
       "      <td>0.12</td>\n",
       "      <td>5.56</td>\n",
       "      <td>4.34</td>\n",
       "    </tr>\n",
       "    <tr>\n",
       "      <th>1107</th>\n",
       "      <td>ROCKY MOUNTAIN ARSENAL (USARMY)</td>\n",
       "      <td>ADAMS, CO</td>\n",
       "      <td>81.56</td>\n",
       "      <td>3.38</td>\n",
       "      <td>...</td>\n",
       "      <td>3.95</td>\n",
       "      <td>0.12</td>\n",
       "      <td>5.56</td>\n",
       "      <td>4.34</td>\n",
       "    </tr>\n",
       "    <tr>\n",
       "      <th>...</th>\n",
       "      <td>...</td>\n",
       "      <td>...</td>\n",
       "      <td>...</td>\n",
       "      <td>...</td>\n",
       "      <td>...</td>\n",
       "      <td>...</td>\n",
       "      <td>...</td>\n",
       "      <td>...</td>\n",
       "      <td>...</td>\n",
       "    </tr>\n",
       "    <tr>\n",
       "      <th>461</th>\n",
       "      <td>LANGLEY AIR FORCE BASE/NASA LANGLEY RESEARCH C...</td>\n",
       "      <td>YORK, VA</td>\n",
       "      <td>74.44</td>\n",
       "      <td>13.29</td>\n",
       "      <td>...</td>\n",
       "      <td>5.64</td>\n",
       "      <td>0.33</td>\n",
       "      <td>1.43</td>\n",
       "      <td>4.61</td>\n",
       "    </tr>\n",
       "    <tr>\n",
       "      <th>1152</th>\n",
       "      <td>YUMA MARINE CORPS AIR STATION</td>\n",
       "      <td>YUMA, AZ</td>\n",
       "      <td>76.32</td>\n",
       "      <td>2.16</td>\n",
       "      <td>...</td>\n",
       "      <td>1.33</td>\n",
       "      <td>0.08</td>\n",
       "      <td>15.84</td>\n",
       "      <td>2.72</td>\n",
       "    </tr>\n",
       "  </tbody>\n",
       "</table>\n",
       "<p>1278 rows × 9 columns</p>\n",
       "</div>"
      ],
      "text/plain": [
       "                                              site name     county  \\\n",
       "1094                            BRODERICK WOOD PRODUCTS  ADAMS, CO   \n",
       "1107                    ROCKY MOUNTAIN ARSENAL (USARMY)  ADAMS, CO   \n",
       "...                                                 ...        ...   \n",
       "461   LANGLEY AIR FORCE BASE/NASA LANGLEY RESEARCH C...   YORK, VA   \n",
       "1152                      YUMA MARINE CORPS AIR STATION   YUMA, AZ   \n",
       "\n",
       "      % Total Population: White Alone  \\\n",
       "1094                            81.56   \n",
       "1107                            81.56   \n",
       "...                               ...   \n",
       "461                             74.44   \n",
       "1152                            76.32   \n",
       "\n",
       "      % Total Population: Black or African American Alone  ...  \\\n",
       "1094                                               3.38    ...   \n",
       "1107                                               3.38    ...   \n",
       "...                                                 ...    ...   \n",
       "461                                               13.29    ...   \n",
       "1152                                               2.16    ...   \n",
       "\n",
       "      % Total Population: Asian Alone  \\\n",
       "1094                             3.95   \n",
       "1107                             3.95   \n",
       "...                               ...   \n",
       "461                              5.64   \n",
       "1152                             1.33   \n",
       "\n",
       "      % Total Population: Native Hawaiian and Other Pacific Islander Alone  \\\n",
       "1094                                               0.12                      \n",
       "1107                                               0.12                      \n",
       "...                                                 ...                      \n",
       "461                                                0.33                      \n",
       "1152                                               0.08                      \n",
       "\n",
       "      % Total Population: Some Other Race Alone  \\\n",
       "1094                                       5.56   \n",
       "1107                                       5.56   \n",
       "...                                         ...   \n",
       "461                                        1.43   \n",
       "1152                                      15.84   \n",
       "\n",
       "      % Total Population: Two or More Races  \n",
       "1094                                   4.34  \n",
       "1107                                   4.34  \n",
       "...                                     ...  \n",
       "461                                    4.61  \n",
       "1152                                   2.72  \n",
       "\n",
       "[1278 rows x 9 columns]"
      ]
     },
     "execution_count": 37,
     "metadata": {},
     "output_type": "execute_result"
    }
   ],
   "source": [
    "popper_df = county_df[['site name', 'county', '% Total Population: White Alone', \n",
    "           '% Total Population: Black or African American Alone', \n",
    "           '% Total Population: American Indian and Alaska Native Alone',\n",
    "           '% Total Population: Asian Alone', \n",
    "           '% Total Population: Native Hawaiian and Other Pacific Islander Alone', \n",
    "           '% Total Population: Some Other Race Alone', \n",
    "           '% Total Population: Two or More Races']]\n",
    "\n",
    "popper_df = popper_df.dropna()\n",
    "\n",
    "col = ['% Total Population: White Alone', \n",
    "           '% Total Population: Black or African American Alone', \n",
    "           '% Total Population: American Indian and Alaska Native Alone',\n",
    "           '% Total Population: Asian Alone', \n",
    "           '% Total Population: Native Hawaiian and Other Pacific Islander Alone', \n",
    "           '% Total Population: Some Other Race Alone', \n",
    "           '% Total Population: Two or More Races']\n",
    "\n",
    "popper_df[col] = popper_df[col].apply(pd.to_numeric)\n",
    "\n",
    "popper_df"
   ]
  },
  {
   "cell_type": "markdown",
   "metadata": {},
   "source": [
    "We will want to eventually have a subplot of White, Black, Asian, and Other Race. So let's add together American Indian and Alaska Native alone, Native Hawaiian and Other Pacific Islander Alone, Some Other Race Alone, and Two or More Races. Then we'll add this into a new column in our population percentage dataframe. "
   ]
  },
  {
   "cell_type": "code",
   "execution_count": 38,
   "metadata": {},
   "outputs": [
    {
     "data": {
      "text/html": [
       "<div>\n",
       "<style scoped>\n",
       "    .dataframe tbody tr th:only-of-type {\n",
       "        vertical-align: middle;\n",
       "    }\n",
       "\n",
       "    .dataframe tbody tr th {\n",
       "        vertical-align: top;\n",
       "    }\n",
       "\n",
       "    .dataframe thead th {\n",
       "        text-align: right;\n",
       "    }\n",
       "</style>\n",
       "<table border=\"1\" class=\"dataframe\">\n",
       "  <thead>\n",
       "    <tr style=\"text-align: right;\">\n",
       "      <th></th>\n",
       "      <th>site name</th>\n",
       "      <th>county</th>\n",
       "      <th>% Total Population: White Alone</th>\n",
       "      <th>% Total Population: Black or African American Alone</th>\n",
       "      <th>...</th>\n",
       "      <th>% Total Population: Native Hawaiian and Other Pacific Islander Alone</th>\n",
       "      <th>% Total Population: Some Other Race Alone</th>\n",
       "      <th>% Total Population: Two or More Races</th>\n",
       "      <th>% Total Population: Native American + Other Races</th>\n",
       "    </tr>\n",
       "  </thead>\n",
       "  <tbody>\n",
       "    <tr>\n",
       "      <th>1094</th>\n",
       "      <td>BRODERICK WOOD PRODUCTS</td>\n",
       "      <td>ADAMS, CO</td>\n",
       "      <td>81.56</td>\n",
       "      <td>3.38</td>\n",
       "      <td>...</td>\n",
       "      <td>0.12</td>\n",
       "      <td>5.56</td>\n",
       "      <td>4.34</td>\n",
       "      <td>15.07</td>\n",
       "    </tr>\n",
       "    <tr>\n",
       "      <th>1107</th>\n",
       "      <td>ROCKY MOUNTAIN ARSENAL (USARMY)</td>\n",
       "      <td>ADAMS, CO</td>\n",
       "      <td>81.56</td>\n",
       "      <td>3.38</td>\n",
       "      <td>...</td>\n",
       "      <td>0.12</td>\n",
       "      <td>5.56</td>\n",
       "      <td>4.34</td>\n",
       "      <td>15.07</td>\n",
       "    </tr>\n",
       "    <tr>\n",
       "      <th>...</th>\n",
       "      <td>...</td>\n",
       "      <td>...</td>\n",
       "      <td>...</td>\n",
       "      <td>...</td>\n",
       "      <td>...</td>\n",
       "      <td>...</td>\n",
       "      <td>...</td>\n",
       "      <td>...</td>\n",
       "      <td>...</td>\n",
       "    </tr>\n",
       "    <tr>\n",
       "      <th>461</th>\n",
       "      <td>LANGLEY AIR FORCE BASE/NASA LANGLEY RESEARCH C...</td>\n",
       "      <td>YORK, VA</td>\n",
       "      <td>74.44</td>\n",
       "      <td>13.29</td>\n",
       "      <td>...</td>\n",
       "      <td>0.33</td>\n",
       "      <td>1.43</td>\n",
       "      <td>4.61</td>\n",
       "      <td>12.27</td>\n",
       "    </tr>\n",
       "    <tr>\n",
       "      <th>1152</th>\n",
       "      <td>YUMA MARINE CORPS AIR STATION</td>\n",
       "      <td>YUMA, AZ</td>\n",
       "      <td>76.32</td>\n",
       "      <td>2.16</td>\n",
       "      <td>...</td>\n",
       "      <td>0.08</td>\n",
       "      <td>15.84</td>\n",
       "      <td>2.72</td>\n",
       "      <td>21.51</td>\n",
       "    </tr>\n",
       "  </tbody>\n",
       "</table>\n",
       "<p>1278 rows × 10 columns</p>\n",
       "</div>"
      ],
      "text/plain": [
       "                                              site name     county  \\\n",
       "1094                            BRODERICK WOOD PRODUCTS  ADAMS, CO   \n",
       "1107                    ROCKY MOUNTAIN ARSENAL (USARMY)  ADAMS, CO   \n",
       "...                                                 ...        ...   \n",
       "461   LANGLEY AIR FORCE BASE/NASA LANGLEY RESEARCH C...   YORK, VA   \n",
       "1152                      YUMA MARINE CORPS AIR STATION   YUMA, AZ   \n",
       "\n",
       "      % Total Population: White Alone  \\\n",
       "1094                            81.56   \n",
       "1107                            81.56   \n",
       "...                               ...   \n",
       "461                             74.44   \n",
       "1152                            76.32   \n",
       "\n",
       "      % Total Population: Black or African American Alone  ...  \\\n",
       "1094                                               3.38    ...   \n",
       "1107                                               3.38    ...   \n",
       "...                                                 ...    ...   \n",
       "461                                               13.29    ...   \n",
       "1152                                               2.16    ...   \n",
       "\n",
       "      % Total Population: Native Hawaiian and Other Pacific Islander Alone  \\\n",
       "1094                                               0.12                      \n",
       "1107                                               0.12                      \n",
       "...                                                 ...                      \n",
       "461                                                0.33                      \n",
       "1152                                               0.08                      \n",
       "\n",
       "      % Total Population: Some Other Race Alone  \\\n",
       "1094                                       5.56   \n",
       "1107                                       5.56   \n",
       "...                                         ...   \n",
       "461                                        1.43   \n",
       "1152                                      15.84   \n",
       "\n",
       "      % Total Population: Two or More Races  \\\n",
       "1094                                   4.34   \n",
       "1107                                   4.34   \n",
       "...                                     ...   \n",
       "461                                    4.61   \n",
       "1152                                   2.72   \n",
       "\n",
       "      % Total Population: Native American + Other Races  \n",
       "1094                                              15.07  \n",
       "1107                                              15.07  \n",
       "...                                                 ...  \n",
       "461                                               12.27  \n",
       "1152                                              21.51  \n",
       "\n",
       "[1278 rows x 10 columns]"
      ]
     },
     "execution_count": 38,
     "metadata": {},
     "output_type": "execute_result"
    }
   ],
   "source": [
    "other_race = popper_df['% Total Population: Asian Alone']+popper_df['% Total Population: American Indian and Alaska Native Alone'] + popper_df['% Total Population: Native Hawaiian and Other Pacific Islander Alone'] + popper_df['% Total Population: Some Other Race Alone'] + popper_df['% Total Population: Two or More Races']\n",
    "popper_df[\"% Total Population: Native American + Other Races\"] = other_race\n",
    "\n",
    "popper_df"
   ]
  },
  {
   "cell_type": "markdown",
   "metadata": {},
   "source": [
    "Now, we'll get the population percentages in counties with the most NPL sites and the least NPL sites. "
   ]
  },
  {
   "cell_type": "code",
   "execution_count": 39,
   "metadata": {},
   "outputs": [],
   "source": [
    "popper_counties = popper_df['county'].value_counts().index.tolist()"
   ]
  },
  {
   "cell_type": "code",
   "execution_count": 40,
   "metadata": {},
   "outputs": [
    {
     "data": {
      "text/html": [
       "<div>\n",
       "<style scoped>\n",
       "    .dataframe tbody tr th:only-of-type {\n",
       "        vertical-align: middle;\n",
       "    }\n",
       "\n",
       "    .dataframe tbody tr th {\n",
       "        vertical-align: top;\n",
       "    }\n",
       "\n",
       "    .dataframe thead th {\n",
       "        text-align: right;\n",
       "    }\n",
       "</style>\n",
       "<table border=\"1\" class=\"dataframe\">\n",
       "  <thead>\n",
       "    <tr style=\"text-align: right;\">\n",
       "      <th></th>\n",
       "      <th>site name</th>\n",
       "      <th>county</th>\n",
       "      <th>% Total Population: White Alone</th>\n",
       "      <th>% Total Population: Black or African American Alone</th>\n",
       "      <th>...</th>\n",
       "      <th>% Total Population: Native Hawaiian and Other Pacific Islander Alone</th>\n",
       "      <th>% Total Population: Some Other Race Alone</th>\n",
       "      <th>% Total Population: Two or More Races</th>\n",
       "      <th>% Total Population: Native American + Other Races</th>\n",
       "    </tr>\n",
       "  </thead>\n",
       "  <tbody>\n",
       "    <tr>\n",
       "      <th>153</th>\n",
       "      <td>LANG PROPERTY</td>\n",
       "      <td>BURLINGTON, NJ</td>\n",
       "      <td>72.02</td>\n",
       "      <td>16.89</td>\n",
       "      <td>...</td>\n",
       "      <td>0.06</td>\n",
       "      <td>1.98</td>\n",
       "      <td>3.85</td>\n",
       "      <td>11.10</td>\n",
       "    </tr>\n",
       "    <tr>\n",
       "      <th>152</th>\n",
       "      <td>LANDFILL &amp; DEVELOPMENT CO.</td>\n",
       "      <td>BURLINGTON, NJ</td>\n",
       "      <td>72.02</td>\n",
       "      <td>16.89</td>\n",
       "      <td>...</td>\n",
       "      <td>0.06</td>\n",
       "      <td>1.98</td>\n",
       "      <td>3.85</td>\n",
       "      <td>11.10</td>\n",
       "    </tr>\n",
       "    <tr>\n",
       "      <th>...</th>\n",
       "      <td>...</td>\n",
       "      <td>...</td>\n",
       "      <td>...</td>\n",
       "      <td>...</td>\n",
       "      <td>...</td>\n",
       "      <td>...</td>\n",
       "      <td>...</td>\n",
       "      <td>...</td>\n",
       "      <td>...</td>\n",
       "    </tr>\n",
       "    <tr>\n",
       "      <th>1178</th>\n",
       "      <td>FAIRCHILD SEMICONDUCTOR CORP. (MOUNTAIN VIEW P...</td>\n",
       "      <td>SANTA CLARA, CA</td>\n",
       "      <td>44.47</td>\n",
       "      <td>2.49</td>\n",
       "      <td>...</td>\n",
       "      <td>0.38</td>\n",
       "      <td>10.50</td>\n",
       "      <td>5.20</td>\n",
       "      <td>53.05</td>\n",
       "    </tr>\n",
       "    <tr>\n",
       "      <th>1241</th>\n",
       "      <td>TELEDYNE SEMICONDUCTOR</td>\n",
       "      <td>SANTA CLARA, CA</td>\n",
       "      <td>44.47</td>\n",
       "      <td>2.49</td>\n",
       "      <td>...</td>\n",
       "      <td>0.38</td>\n",
       "      <td>10.50</td>\n",
       "      <td>5.20</td>\n",
       "      <td>53.05</td>\n",
       "    </tr>\n",
       "  </tbody>\n",
       "</table>\n",
       "<p>144 rows × 10 columns</p>\n",
       "</div>"
      ],
      "text/plain": [
       "                                              site name           county  \\\n",
       "153                                       LANG PROPERTY   BURLINGTON, NJ   \n",
       "152                          LANDFILL & DEVELOPMENT CO.   BURLINGTON, NJ   \n",
       "...                                                 ...              ...   \n",
       "1178  FAIRCHILD SEMICONDUCTOR CORP. (MOUNTAIN VIEW P...  SANTA CLARA, CA   \n",
       "1241                             TELEDYNE SEMICONDUCTOR  SANTA CLARA, CA   \n",
       "\n",
       "      % Total Population: White Alone  \\\n",
       "153                             72.02   \n",
       "152                             72.02   \n",
       "...                               ...   \n",
       "1178                            44.47   \n",
       "1241                            44.47   \n",
       "\n",
       "      % Total Population: Black or African American Alone  ...  \\\n",
       "153                                               16.89    ...   \n",
       "152                                               16.89    ...   \n",
       "...                                                 ...    ...   \n",
       "1178                                               2.49    ...   \n",
       "1241                                               2.49    ...   \n",
       "\n",
       "      % Total Population: Native Hawaiian and Other Pacific Islander Alone  \\\n",
       "153                                                0.06                      \n",
       "152                                                0.06                      \n",
       "...                                                 ...                      \n",
       "1178                                               0.38                      \n",
       "1241                                               0.38                      \n",
       "\n",
       "      % Total Population: Some Other Race Alone  \\\n",
       "153                                        1.98   \n",
       "152                                        1.98   \n",
       "...                                         ...   \n",
       "1178                                      10.50   \n",
       "1241                                      10.50   \n",
       "\n",
       "      % Total Population: Two or More Races  \\\n",
       "153                                    3.85   \n",
       "152                                    3.85   \n",
       "...                                     ...   \n",
       "1178                                   5.20   \n",
       "1241                                   5.20   \n",
       "\n",
       "      % Total Population: Native American + Other Races  \n",
       "153                                               11.10  \n",
       "152                                               11.10  \n",
       "...                                                 ...  \n",
       "1178                                              53.05  \n",
       "1241                                              53.05  \n",
       "\n",
       "[144 rows x 10 columns]"
      ]
     },
     "execution_count": 40,
     "metadata": {},
     "output_type": "execute_result"
    }
   ],
   "source": [
    "popper_top_10 = popper_counties[0:10]\n",
    "popper_top_df = popper_df[popper_df['county'].isin(popper_top_10)]\n",
    "popper_top_df"
   ]
  },
  {
   "cell_type": "code",
   "execution_count": 41,
   "metadata": {},
   "outputs": [
    {
     "data": {
      "text/html": [
       "<div>\n",
       "<style scoped>\n",
       "    .dataframe tbody tr th:only-of-type {\n",
       "        vertical-align: middle;\n",
       "    }\n",
       "\n",
       "    .dataframe tbody tr th {\n",
       "        vertical-align: top;\n",
       "    }\n",
       "\n",
       "    .dataframe thead th {\n",
       "        text-align: right;\n",
       "    }\n",
       "</style>\n",
       "<table border=\"1\" class=\"dataframe\">\n",
       "  <thead>\n",
       "    <tr style=\"text-align: right;\">\n",
       "      <th></th>\n",
       "      <th>site name</th>\n",
       "      <th>county</th>\n",
       "      <th>% Total Population: White Alone</th>\n",
       "      <th>% Total Population: Black or African American Alone</th>\n",
       "      <th>...</th>\n",
       "      <th>% Total Population: Native Hawaiian and Other Pacific Islander Alone</th>\n",
       "      <th>% Total Population: Some Other Race Alone</th>\n",
       "      <th>% Total Population: Two or More Races</th>\n",
       "      <th>% Total Population: Native American + Other Races</th>\n",
       "    </tr>\n",
       "  </thead>\n",
       "  <tbody>\n",
       "    <tr>\n",
       "      <th>262</th>\n",
       "      <td>MERCURY REFINING, INC.</td>\n",
       "      <td>ALBANY, NY</td>\n",
       "      <td>75.33</td>\n",
       "      <td>12.39</td>\n",
       "      <td>...</td>\n",
       "      <td>0.04</td>\n",
       "      <td>1.33</td>\n",
       "      <td>4.17</td>\n",
       "      <td>12.28</td>\n",
       "    </tr>\n",
       "    <tr>\n",
       "      <th>679</th>\n",
       "      <td>DEPUE/NEW JERSEY ZINC/MOBIL CHEMICAL CORP.</td>\n",
       "      <td>BUREAU, IL</td>\n",
       "      <td>93.40</td>\n",
       "      <td>1.06</td>\n",
       "      <td>...</td>\n",
       "      <td>0.01</td>\n",
       "      <td>3.09</td>\n",
       "      <td>1.37</td>\n",
       "      <td>5.55</td>\n",
       "    </tr>\n",
       "    <tr>\n",
       "      <th>...</th>\n",
       "      <td>...</td>\n",
       "      <td>...</td>\n",
       "      <td>...</td>\n",
       "      <td>...</td>\n",
       "      <td>...</td>\n",
       "      <td>...</td>\n",
       "      <td>...</td>\n",
       "      <td>...</td>\n",
       "      <td>...</td>\n",
       "    </tr>\n",
       "    <tr>\n",
       "      <th>227</th>\n",
       "      <td>CORTESE LANDFILL</td>\n",
       "      <td>SULLIVAN, NY</td>\n",
       "      <td>79.81</td>\n",
       "      <td>7.97</td>\n",
       "      <td>...</td>\n",
       "      <td>0.00</td>\n",
       "      <td>5.70</td>\n",
       "      <td>4.57</td>\n",
       "      <td>12.21</td>\n",
       "    </tr>\n",
       "    <tr>\n",
       "      <th>871</th>\n",
       "      <td>REILLY TAR &amp; CHEMICAL CORP. (DOVER PLANT)</td>\n",
       "      <td>TUSCARAWAS, OH</td>\n",
       "      <td>96.60</td>\n",
       "      <td>0.72</td>\n",
       "      <td>...</td>\n",
       "      <td>0.00</td>\n",
       "      <td>0.12</td>\n",
       "      <td>1.98</td>\n",
       "      <td>2.68</td>\n",
       "    </tr>\n",
       "  </tbody>\n",
       "</table>\n",
       "<p>16 rows × 10 columns</p>\n",
       "</div>"
      ],
      "text/plain": [
       "                                      site name          county  \\\n",
       "262                      MERCURY REFINING, INC.      ALBANY, NY   \n",
       "679  DEPUE/NEW JERSEY ZINC/MOBIL CHEMICAL CORP.      BUREAU, IL   \n",
       "..                                          ...             ...   \n",
       "227                            CORTESE LANDFILL    SULLIVAN, NY   \n",
       "871   REILLY TAR & CHEMICAL CORP. (DOVER PLANT)  TUSCARAWAS, OH   \n",
       "\n",
       "     % Total Population: White Alone  \\\n",
       "262                            75.33   \n",
       "679                            93.40   \n",
       "..                               ...   \n",
       "227                            79.81   \n",
       "871                            96.60   \n",
       "\n",
       "     % Total Population: Black or African American Alone  ...  \\\n",
       "262                                              12.39    ...   \n",
       "679                                               1.06    ...   \n",
       "..                                                 ...    ...   \n",
       "227                                               7.97    ...   \n",
       "871                                               0.72    ...   \n",
       "\n",
       "     % Total Population: Native Hawaiian and Other Pacific Islander Alone  \\\n",
       "262                                               0.04                      \n",
       "679                                               0.01                      \n",
       "..                                                 ...                      \n",
       "227                                               0.00                      \n",
       "871                                               0.00                      \n",
       "\n",
       "     % Total Population: Some Other Race Alone  \\\n",
       "262                                       1.33   \n",
       "679                                       3.09   \n",
       "..                                         ...   \n",
       "227                                       5.70   \n",
       "871                                       0.12   \n",
       "\n",
       "     % Total Population: Two or More Races  \\\n",
       "262                                   4.17   \n",
       "679                                   1.37   \n",
       "..                                     ...   \n",
       "227                                   4.57   \n",
       "871                                   1.98   \n",
       "\n",
       "     % Total Population: Native American + Other Races  \n",
       "262                                              12.28  \n",
       "679                                               5.55  \n",
       "..                                                 ...  \n",
       "227                                              12.21  \n",
       "871                                               2.68  \n",
       "\n",
       "[16 rows x 10 columns]"
      ]
     },
     "execution_count": 41,
     "metadata": {},
     "output_type": "execute_result"
    }
   ],
   "source": [
    "popper_bottom_10 = popper_counties[615-10:]\n",
    "popper_bottom_df = popper_df[popper_df['county'].isin(popper_bottom_10)]\n",
    "popper_bottom_df"
   ]
  },
  {
   "cell_type": "code",
   "execution_count": 42,
   "metadata": {},
   "outputs": [
    {
     "data": {
      "text/plain": [
       "[(0.0, 100.0)]"
      ]
     },
     "execution_count": 42,
     "metadata": {},
     "output_type": "execute_result"
    },
    {
     "data": {
      "image/png": "[encoded data removed]",
      "text/plain": [
       "<Figure size 1440x1080 with 4 Axes>"
      ]
     },
     "metadata": {
      "needs_background": "light"
     },
     "output_type": "display_data"
    }
   ],
   "source": [
    "fig, axes = plt.subplots(2, 2, figsize=(20, 15), sharey=True)\n",
    "fig.suptitle('White, Black, Asian, and Other Race Populations in Counties with Most NPL Sites', fontsize=30)\n",
    "\n",
    "\n",
    "white = sns.barplot(ax=axes[0,0], x='% Total Population: White Alone', y='county',data=popper_top_df)\n",
    "axes[0,0].set_title('White Population',fontsize=20)\n",
    "white.set(xlim=(0, 100))\n",
    "\n",
    "black = sns.barplot(ax=axes[0,1], x='% Total Population: Black or African American Alone', y='county', data=popper_top_df)\n",
    "axes[0,1].set_title('Black Population',fontsize=20)\n",
    "black.set(xlim=(0, 100))\n",
    "\n",
    "asian = sns.barplot(ax=axes[1,0], x='% Total Population: Asian Alone', y='county', data=popper_top_df)\n",
    "axes[1,0].set_title('Asian Population',fontsize=20)\n",
    "asian.set(xlim=(0, 100))\n",
    "\n",
    "\n",
    "other = sns.barplot(ax=axes[1,1], x='% Total Population: Native American + Other Races', y='county', data=popper_top_df)\n",
    "axes[1,1].set_title('Other Race Population',fontsize=20)\n",
    "other.set(xlim=(0,100))"
   ]
  },
  {
   "cell_type": "code",
   "execution_count": 43,
   "metadata": {},
   "outputs": [
    {
     "data": {
      "text/plain": [
       "[(0.0, 100.0)]"
      ]
     },
     "execution_count": 43,
     "metadata": {},
     "output_type": "execute_result"
    },
    {
     "data": {
      "image/png": "[encoded data removed]",
      "text/plain": [
       "<Figure size 1440x1080 with 4 Axes>"
      ]
     },
     "metadata": {
      "needs_background": "light"
     },
     "output_type": "display_data"
    }
   ],
   "source": [
    "fig, axes = plt.subplots(2, 2, figsize=(20, 15), sharey=True)\n",
    "fig.suptitle('White, Black, Asian, and Other Race Populations in Counties with Fewest NPL Sites', fontsize=30)\n",
    "\n",
    "white = sns.barplot(ax=axes[0,0], x='% Total Population: White Alone', y='county',data=popper_bottom_df)\n",
    "axes[0,0].set_title('White Population',fontsize=20)\n",
    "white.set(xlim=(0, 100))\n",
    "\n",
    "black = sns.barplot(ax=axes[0,1], x='% Total Population: Black or African American Alone', y='county', data=popper_bottom_df)\n",
    "axes[0,1].set_title('Black Population',fontsize=20)\n",
    "black.set(xlim=(0, 100))\n",
    "\n",
    "asian = sns.barplot(ax=axes[1,0], x='% Total Population: Asian Alone', y='county', data=popper_bottom_df)\n",
    "axes[1,0].set_title('Asian Population',fontsize=20)\n",
    "asian.set(xlim=(0, 100))\n",
    "\n",
    "\n",
    "other = sns.barplot(ax=axes[1,1], x='% Total Population: Native American + Other Races', y='county', data=popper_bottom_df)\n",
    "axes[1,1].set_title('Other Race Population',fontsize=20)\n",
    "other.set(xlim=(0,100))"
   ]
  },
  {
   "cell_type": "markdown",
   "metadata": {},
   "source": [
    "From the graphs above, we can see that there is a large white population in both counties with the most NPL sites and counties with the least NPL sites. However, there is a larger Black, Asian, and other race population in the counties with the most NPL sites than in the counties with the least NPL sites. "
   ]
  },
  {
   "cell_type": "markdown",
   "metadata": {},
   "source": [
    "### Per Capita Income and Poverty Percentages by Age"
   ]
  },
  {
   "cell_type": "markdown",
   "metadata": {},
   "source": [
    "Next, we want to look at each county's Per Capita Income and Poverty Percentages by Age Bracket through these variables:"
   ]
  },
  {
   "cell_type": "markdown",
   "metadata": {},
   "source": [
    "`site name`, `county`, `duration`, `Per Capita Income (In 2019 Inflation Adjusted Dollars)`* , `% Population Under 18 Years of Age for Whom Poverty Status Is Determined: Living in Poverty`, `% Population Age 18 to 64 for Whom Poverty Status Is Determined: Living in Poverty`, `% Population Age 65 and Over for Whom Poverty  Status Is Determined: Living in Poverty`\n",
    "\n",
    "\\*According to [census.gov](https://www.census.gov/quickfacts/fact/note/US/INC910219), Per Capita Income is determined using the mean: \"Per capita income is the mean income computed for every man, woman, and child in a particular group including those living in group quarters. It is derived by dividing the aggregate income of a particular group by the total population in that group. This measure is rounded to the nearest whole dollar.\"\n",
    "\n",
    "We'll assign this subset of `county_df` to a new dataframe `age_df` to make it easier to work with:"
   ]
  },
  {
   "cell_type": "code",
   "execution_count": 44,
   "metadata": {},
   "outputs": [
    {
     "ename": "KeyError",
     "evalue": "\"['Per Capita Income (In 2019 Inflation Adjusted Dollars)', '% Population Under 18 Years of Age for Whom Poverty Status Is Determined: Living in Poverty', '% Population Age 65 and Over for Whom Poverty  Status Is Determined: Living in Poverty', '% Population Age 18 to 64 for Whom Poverty Status  Is Determined: Living in Poverty'] not in index\"",
     "output_type": "error",
     "traceback": [
      "\u001b[1;31m---------------------------------------------------------------------------\u001b[0m",
      "\u001b[1;31mKeyError\u001b[0m                                  Traceback (most recent call last)",
      "\u001b[1;32m<ipython-input-44-f33dfcdc0156>\u001b[0m in \u001b[0;36m<module>\u001b[1;34m\u001b[0m\n\u001b[1;32m----> 1\u001b[1;33m age_df = county_df[['site name',\n\u001b[0m\u001b[0;32m      2\u001b[0m                     \u001b[1;34m'county'\u001b[0m\u001b[1;33m,\u001b[0m \u001b[1;34m'state'\u001b[0m\u001b[1;33m,\u001b[0m\u001b[1;33m\u001b[0m\u001b[1;33m\u001b[0m\u001b[0m\n\u001b[0;32m      3\u001b[0m                     \u001b[1;34m'Per Capita Income (In 2019 Inflation Adjusted Dollars)'\u001b[0m\u001b[1;33m,\u001b[0m\u001b[1;33m\u001b[0m\u001b[1;33m\u001b[0m\u001b[0m\n\u001b[0;32m      4\u001b[0m                     \u001b[1;34m'% Population Under 18 Years of Age for Whom Poverty Status Is Determined: Living in Poverty'\u001b[0m\u001b[1;33m,\u001b[0m\u001b[1;33m\u001b[0m\u001b[1;33m\u001b[0m\u001b[0m\n\u001b[0;32m      5\u001b[0m                     \u001b[1;34m'% Population Age 18 to 64 for Whom Poverty Status  Is Determined: Living in Poverty'\u001b[0m\u001b[1;33m,\u001b[0m\u001b[1;33m\u001b[0m\u001b[1;33m\u001b[0m\u001b[0m\n",
      "\u001b[1;32m~\\anaconda3\\lib\\site-packages\\pandas\\core\\frame.py\u001b[0m in \u001b[0;36m__getitem__\u001b[1;34m(self, key)\u001b[0m\n\u001b[0;32m   2906\u001b[0m             \u001b[1;32mif\u001b[0m \u001b[0mis_iterator\u001b[0m\u001b[1;33m(\u001b[0m\u001b[0mkey\u001b[0m\u001b[1;33m)\u001b[0m\u001b[1;33m:\u001b[0m\u001b[1;33m\u001b[0m\u001b[1;33m\u001b[0m\u001b[0m\n\u001b[0;32m   2907\u001b[0m                 \u001b[0mkey\u001b[0m \u001b[1;33m=\u001b[0m \u001b[0mlist\u001b[0m\u001b[1;33m(\u001b[0m\u001b[0mkey\u001b[0m\u001b[1;33m)\u001b[0m\u001b[1;33m\u001b[0m\u001b[1;33m\u001b[0m\u001b[0m\n\u001b[1;32m-> 2908\u001b[1;33m             \u001b[0mindexer\u001b[0m \u001b[1;33m=\u001b[0m \u001b[0mself\u001b[0m\u001b[1;33m.\u001b[0m\u001b[0mloc\u001b[0m\u001b[1;33m.\u001b[0m\u001b[0m_get_listlike_indexer\u001b[0m\u001b[1;33m(\u001b[0m\u001b[0mkey\u001b[0m\u001b[1;33m,\u001b[0m \u001b[0maxis\u001b[0m\u001b[1;33m=\u001b[0m\u001b[1;36m1\u001b[0m\u001b[1;33m,\u001b[0m \u001b[0mraise_missing\u001b[0m\u001b[1;33m=\u001b[0m\u001b[1;32mTrue\u001b[0m\u001b[1;33m)\u001b[0m\u001b[1;33m[\u001b[0m\u001b[1;36m1\u001b[0m\u001b[1;33m]\u001b[0m\u001b[1;33m\u001b[0m\u001b[1;33m\u001b[0m\u001b[0m\n\u001b[0m\u001b[0;32m   2909\u001b[0m \u001b[1;33m\u001b[0m\u001b[0m\n\u001b[0;32m   2910\u001b[0m         \u001b[1;31m# take() does not accept boolean indexers\u001b[0m\u001b[1;33m\u001b[0m\u001b[1;33m\u001b[0m\u001b[1;33m\u001b[0m\u001b[0m\n",
      "\u001b[1;32m~\\anaconda3\\lib\\site-packages\\pandas\\core\\indexing.py\u001b[0m in \u001b[0;36m_get_listlike_indexer\u001b[1;34m(self, key, axis, raise_missing)\u001b[0m\n\u001b[0;32m   1252\u001b[0m             \u001b[0mkeyarr\u001b[0m\u001b[1;33m,\u001b[0m \u001b[0mindexer\u001b[0m\u001b[1;33m,\u001b[0m \u001b[0mnew_indexer\u001b[0m \u001b[1;33m=\u001b[0m \u001b[0max\u001b[0m\u001b[1;33m.\u001b[0m\u001b[0m_reindex_non_unique\u001b[0m\u001b[1;33m(\u001b[0m\u001b[0mkeyarr\u001b[0m\u001b[1;33m)\u001b[0m\u001b[1;33m\u001b[0m\u001b[1;33m\u001b[0m\u001b[0m\n\u001b[0;32m   1253\u001b[0m \u001b[1;33m\u001b[0m\u001b[0m\n\u001b[1;32m-> 1254\u001b[1;33m         \u001b[0mself\u001b[0m\u001b[1;33m.\u001b[0m\u001b[0m_validate_read_indexer\u001b[0m\u001b[1;33m(\u001b[0m\u001b[0mkeyarr\u001b[0m\u001b[1;33m,\u001b[0m \u001b[0mindexer\u001b[0m\u001b[1;33m,\u001b[0m \u001b[0maxis\u001b[0m\u001b[1;33m,\u001b[0m \u001b[0mraise_missing\u001b[0m\u001b[1;33m=\u001b[0m\u001b[0mraise_missing\u001b[0m\u001b[1;33m)\u001b[0m\u001b[1;33m\u001b[0m\u001b[1;33m\u001b[0m\u001b[0m\n\u001b[0m\u001b[0;32m   1255\u001b[0m         \u001b[1;32mreturn\u001b[0m \u001b[0mkeyarr\u001b[0m\u001b[1;33m,\u001b[0m \u001b[0mindexer\u001b[0m\u001b[1;33m\u001b[0m\u001b[1;33m\u001b[0m\u001b[0m\n\u001b[0;32m   1256\u001b[0m \u001b[1;33m\u001b[0m\u001b[0m\n",
      "\u001b[1;32m~\\anaconda3\\lib\\site-packages\\pandas\\core\\indexing.py\u001b[0m in \u001b[0;36m_validate_read_indexer\u001b[1;34m(self, key, indexer, axis, raise_missing)\u001b[0m\n\u001b[0;32m   1302\u001b[0m             \u001b[1;32mif\u001b[0m \u001b[0mraise_missing\u001b[0m\u001b[1;33m:\u001b[0m\u001b[1;33m\u001b[0m\u001b[1;33m\u001b[0m\u001b[0m\n\u001b[0;32m   1303\u001b[0m                 \u001b[0mnot_found\u001b[0m \u001b[1;33m=\u001b[0m \u001b[0mlist\u001b[0m\u001b[1;33m(\u001b[0m\u001b[0mset\u001b[0m\u001b[1;33m(\u001b[0m\u001b[0mkey\u001b[0m\u001b[1;33m)\u001b[0m \u001b[1;33m-\u001b[0m \u001b[0mset\u001b[0m\u001b[1;33m(\u001b[0m\u001b[0max\u001b[0m\u001b[1;33m)\u001b[0m\u001b[1;33m)\u001b[0m\u001b[1;33m\u001b[0m\u001b[1;33m\u001b[0m\u001b[0m\n\u001b[1;32m-> 1304\u001b[1;33m                 \u001b[1;32mraise\u001b[0m \u001b[0mKeyError\u001b[0m\u001b[1;33m(\u001b[0m\u001b[1;34mf\"{not_found} not in index\"\u001b[0m\u001b[1;33m)\u001b[0m\u001b[1;33m\u001b[0m\u001b[1;33m\u001b[0m\u001b[0m\n\u001b[0m\u001b[0;32m   1305\u001b[0m \u001b[1;33m\u001b[0m\u001b[0m\n\u001b[0;32m   1306\u001b[0m             \u001b[1;31m# we skip the warning on Categorical\u001b[0m\u001b[1;33m\u001b[0m\u001b[1;33m\u001b[0m\u001b[1;33m\u001b[0m\u001b[0m\n",
      "\u001b[1;31mKeyError\u001b[0m: \"['Per Capita Income (In 2019 Inflation Adjusted Dollars)', '% Population Under 18 Years of Age for Whom Poverty Status Is Determined: Living in Poverty', '% Population Age 65 and Over for Whom Poverty  Status Is Determined: Living in Poverty', '% Population Age 18 to 64 for Whom Poverty Status  Is Determined: Living in Poverty'] not in index\""
     ]
    }
   ],
   "source": [
    "age_df = county_df[['site name',\n",
    "                    'county', 'state', \n",
    "                    'Per Capita Income (In 2019 Inflation Adjusted Dollars)', \n",
    "                    '% Population Under 18 Years of Age for Whom Poverty Status Is Determined: Living in Poverty', \n",
    "                    '% Population Age 18 to 64 for Whom Poverty Status  Is Determined: Living in Poverty', \n",
    "                    '% Population Age 65 and Over for Whom Poverty  Status Is Determined: Living in Poverty']]\n",
    "age_df['duration'] = site_duration['duration']\n",
    "age_df.columns = ['site name', 'county', 'state', 'per_cap_income', 'pov_perc_under18', 'pov_perc_18to64', 'pov_perc_65up', 'duration']\n",
    "#age_df"
   ]
  },
  {
   "cell_type": "markdown",
   "metadata": {},
   "source": [
    "We'll then convert the numerical columns into floats to do calculations/manipulations on:"
   ]
  },
  {
   "cell_type": "code",
   "execution_count": null,
   "metadata": {},
   "outputs": [],
   "source": [
    "age_df[['per_cap_income', 'pov_perc_under18', 'pov_perc_18to64', 'pov_perc_65up', 'duration']] = age_df[['per_cap_income', 'pov_perc_under18', 'pov_perc_18to64', 'pov_perc_65up', 'duration']].astype(float)\n",
    "\n",
    "age_df"
   ]
  },
  {
   "cell_type": "code",
   "execution_count": null,
   "metadata": {},
   "outputs": [],
   "source": [
    "print(\"Total NaN values in age_df: \",\n",
    "       age_df.isnull().sum().sum())\n",
    "print(\"Total NaN values in age_df per column:\\n\",\n",
    "      age_df.isnull().sum())"
   ]
  },
  {
   "cell_type": "code",
   "execution_count": null,
   "metadata": {},
   "outputs": [],
   "source": [
    "#pd.options.display.max_rows = 48\n",
    "null_data = age_df[age_df.isnull().any(axis=1)]\n",
    "null_data"
   ]
  },
  {
   "cell_type": "markdown",
   "metadata": {},
   "source": [
    "It appears that a good portion of the NaN values exist due to NPL sites located in U.S. territories, for which we do not have ACS data for. We can drop those rows from the dataframe: "
   ]
  },
  {
   "cell_type": "code",
   "execution_count": null,
   "metadata": {},
   "outputs": [],
   "source": [
    "age_df.drop(index=age_df[age_df['county'].str.contains('PR|GUAM')].index, inplace=True)\n",
    "county_df.drop(index=county_df[county_df['county'].str.contains('PR|GUAM')].index, inplace=True)\n",
    "null_data = age_df[age_df.isnull().any(axis=1)]\n",
    "null_data"
   ]
  },
  {
   "cell_type": "markdown",
   "metadata": {},
   "source": [
    "It seems the remaining 29 observations do not have corresponding data from the ACS dataset."
   ]
  },
  {
   "cell_type": "markdown",
   "metadata": {},
   "source": [
    "Let's take a look at the dataframe's descriptive data:"
   ]
  },
  {
   "cell_type": "code",
   "execution_count": null,
   "metadata": {},
   "outputs": [],
   "source": [
    "pd.options.display.max_rows = 10\n",
    "age_df.describe().round(2)"
   ]
  },
  {
   "cell_type": "markdown",
   "metadata": {},
   "source": [
    "Looking at the information above, the data fall in line with what we expected to find re: aggregate census income data of the US population. But we can get a better picture by charting it:"
   ]
  },
  {
   "cell_type": "code",
   "execution_count": null,
   "metadata": {},
   "outputs": [],
   "source": [
    "sns.set(style=\"darkgrid\")\n",
    "fig, axs = plt.subplots(2, 2, figsize=(15, 15))\n",
    "\n",
    "ax1=sns.histplot(data=age_df, x=\"per_cap_income\", kde=True, color=\"blue\", ax=axs[0, 0], bins=100)\n",
    "ax1.axvline(age_df['per_cap_income'].mean(), color='darkred', linestyle='--', label='mean');\n",
    "ax1.axvline(age_df['per_cap_income'].median(), color = '#2e2e2e', linestyle='--', label='median')\n",
    "ax1.legend()\n",
    "\n",
    "ax2=sns.histplot(data=age_df, x=\"pov_perc_under18\", kde=True, color=\"green\", ax=axs[0, 1], bins=70)\n",
    "ax2.axvline(age_df['pov_perc_under18'].mean(), color='darkred', linestyle='--', label='mean');\n",
    "ax2.axvline(age_df['pov_perc_under18'].median(), color = '#2e2e2e', linestyle='--', label='median')\n",
    "ax2.legend()\n",
    "\n",
    "ax3=sns.histplot(data=age_df, x=\"pov_perc_18to64\", kde=True, color=\"red\", ax=axs[1, 0], bins=60)\n",
    "ax3.axvline(age_df['pov_perc_18to64'].mean(), color='darkred', linestyle='--', label='mean');\n",
    "ax3.axvline(age_df['pov_perc_18to64'].median(), color = '#2e2e2e', linestyle='--', label='median')\n",
    "ax3.legend()\n",
    "\n",
    "ax4=sns.histplot(data=age_df, x=\"pov_perc_65up\", kde=True, color=\"purple\", ax=axs[1, 1], bins=30)\n",
    "ax4.axvline(age_df['pov_perc_65up'].mean(), color='darkred', linestyle='--', label='mean');\n",
    "ax4.axvline(age_df['pov_perc_65up'].median(), color = '#2e2e2e', linestyle='--', label='median')\n",
    "ax4.legend()\n",
    "\n",
    "plt.show()"
   ]
  },
  {
   "cell_type": "markdown",
   "metadata": {},
   "source": [
    "All four of these plot distributions appear right-skewed, driving the respective means slightly higher than the medians, especially for Per Capita Income. Let's take a look at the observations corresponding to the maximum and minimum `per_cap_income` values:"
   ]
  },
  {
   "cell_type": "code",
   "execution_count": null,
   "metadata": {},
   "outputs": [],
   "source": [
    "print('Observation w/ max per capita income: \\n\\n', age_df[age_df.per_cap_income == age_df.per_cap_income.max()], '\\n\\n')\n",
    "print('Observation w/ min per capita income: \\n\\n', age_df[age_df.per_cap_income == age_df.per_cap_income.min()])"
   ]
  },
  {
   "cell_type": "markdown",
   "metadata": {},
   "source": [
    "Looking up demographic income information about San Francisco County, CA (the county with highest average per capita income) and McKinley County, NM (the lowest average per capita income), the large disparity checks out: San Francisco County has one of the nation's highest per capita income levels, while McKinley County, one of the lowest. \n",
    "\n",
    "While the range is large, they are not degrees apart from each other, so we will not be performing a log transformation on the data. "
   ]
  },
  {
   "cell_type": "markdown",
   "metadata": {},
   "source": [
    "Now let's figure out the frequency of NPL sites in each county. As each observation corresponds to a different NPL site accompanied by the county it resides in, we'll do this by adding up the number of times a county occurs in the dataframe:"
   ]
  },
  {
   "cell_type": "code",
   "execution_count": null,
   "metadata": {},
   "outputs": [],
   "source": [
    "age_df.value_counts(['county'])"
   ]
  },
  {
   "cell_type": "code",
   "execution_count": null,
   "metadata": {},
   "outputs": [],
   "source": [
    "age_df.value_counts(['county']).describe()"
   ]
  },
  {
   "cell_type": "markdown",
   "metadata": {},
   "source": [
    "Looking at the descriptive info above, the vast amount of observations have 1-2 NPL sites on the county level."
   ]
  },
  {
   "cell_type": "markdown",
   "metadata": {},
   "source": [
    "We'll add a column for `npl_count` that lists the NPL total for the observation's respective county:"
   ]
  },
  {
   "cell_type": "code",
   "execution_count": null,
   "metadata": {},
   "outputs": [],
   "source": [
    "pd.options.display.max_rows = 5\n",
    "age_df['npl_count'] = age_df['county'].map(age_df['county'].value_counts())\n",
    "age_df"
   ]
  },
  {
   "cell_type": "markdown",
   "metadata": {},
   "source": [
    "Now that we've tabulated the `npl_count` of each respective `county`, we can chart per capita income and poverty rate information against it, starting with county level:"
   ]
  },
  {
   "cell_type": "code",
   "execution_count": null,
   "metadata": {},
   "outputs": [],
   "source": [
    "sns.set(style=\"darkgrid\")\n",
    "fig, axs = plt.subplots(2, 2, figsize=(15, 8))\n",
    "ax1=sns.lineplot(data=age_df, x=\"npl_count\", y=\"per_cap_income\", color=\"blue\", estimator=np.median, ax=axs[0, 0])\n",
    "ax2=sns.lineplot(data=age_df, x=\"npl_count\", y=\"pov_perc_under18\", color=\"green\", estimator=np.median, ax=axs[0, 1])\n",
    "ax3=sns.lineplot(data=age_df, x=\"npl_count\", y=\"pov_perc_18to64\", color=\"red\", estimator=np.median, ax=axs[1, 0])\n",
    "ax4=sns.lineplot(data=age_df, x=\"npl_count\", y=\"pov_perc_65up\", color=\"purple\", estimator=np.median, ax=axs[1, 1])\n",
    "plt.show()"
   ]
  },
  {
   "cell_type": "markdown",
   "metadata": {},
   "source": [
    "The data seem fairly consistent between age brackets. It appears that the findings for these variables go in a different direction from hypothesis: counties with high NPL sites have higher incomes and lower poverty percentages. This finding checks out as the top two counties for NPL count (Santa Clara CA, Montgomery PA) have some of the higest income levels in the nation.\n",
    "\n",
    "However, this finding may be constrained by the large staggering in data, the large range in npl_count values between ~13-21, and the fact that the majority of counties have 1-2 NPL sites."
   ]
  },
  {
   "cell_type": "markdown",
   "metadata": {},
   "source": [
    "Let's look at the comparison at a less granular state level:"
   ]
  },
  {
   "cell_type": "code",
   "execution_count": null,
   "metadata": {},
   "outputs": [],
   "source": [
    "age_df['npl_count_state'] = age_df['state'].map(age_df['state'].value_counts())"
   ]
  },
  {
   "cell_type": "code",
   "execution_count": null,
   "metadata": {},
   "outputs": [],
   "source": [
    "sns.set(style=\"darkgrid\")\n",
    "fig, axs = plt.subplots(2, 2, figsize=(15, 8))\n",
    "ax1=sns.lineplot(data=age_df, x=\"npl_count_state\", y=\"per_cap_income\", color=\"blue\", estimator=np.median, ax=axs[0, 0])\n",
    "ax2=sns.lineplot(data=age_df, x=\"npl_count_state\", y=\"pov_perc_under18\", color=\"green\", estimator=np.median, ax=axs[0, 1])\n",
    "ax3=sns.lineplot(data=age_df, x=\"npl_count_state\", y=\"pov_perc_18to64\", color=\"red\",estimator=np.median, ax=axs[1, 0])\n",
    "ax4=sns.lineplot(data=age_df, x=\"npl_count_state\", y=\"pov_perc_65up\", color=\"purple\", estimator=np.median, ax=axs[1, 1])\n",
    "plt.show()"
   ]
  },
  {
   "cell_type": "markdown",
   "metadata": {},
   "source": [
    "The results of the state-level comparison shares some similar overall patterns as the county-level comparison, but even more staggered in the first half where most of the observations lie. As the NPL count increases, so does the range, which then tapers off toward the last quintile. "
   ]
  },
  {
   "cell_type": "markdown",
   "metadata": {},
   "source": [
    "To observe relationships between NPL sites and income and poverty, we can also take a look at how long it takes for an NPL site to be remedied, i.e. `duration`. We'll chart duration against income and poverty information: "
   ]
  },
  {
   "cell_type": "code",
   "execution_count": null,
   "metadata": {},
   "outputs": [],
   "source": [
    "sns.set(style=\"darkgrid\")\n",
    "fig, axs = plt.subplots(2, 2, figsize=(15, 8))\n",
    "ax1=sns.lineplot(data=age_df, x=\"duration\", y=\"per_cap_income\", color=\"blue\", estimator=np.median, ax=axs[0, 0])\n",
    "ax2=sns.lineplot(data=age_df, x=\"duration\", y=\"pov_perc_under18\", color=\"green\", estimator=np.median, ax=axs[0, 1])\n",
    "ax3=sns.lineplot(data=age_df, x=\"duration\", y=\"pov_perc_18to64\", color=\"red\", estimator=np.median, ax=axs[1, 0])\n",
    "ax4=sns.lineplot(data=age_df, x=\"duration\", y=\"pov_perc_65up\", color=\"purple\", estimator=np.median, ax=axs[1, 1])\n",
    "plt.show()"
   ]
  },
  {
   "cell_type": "markdown",
   "metadata": {},
   "source": [
    "From the relative lack of gradient from the above charts, there's not much of a case for the relationship between aforementioned income variables and the duration of an NPL site being under NPL status. \n",
    "However, we can also use a scatter matrix to see if there are any viable relationships within the dataframe:"
   ]
  },
  {
   "cell_type": "code",
   "execution_count": null,
   "metadata": {},
   "outputs": [],
   "source": [
    "pd.plotting.scatter_matrix(age_df,\n",
    "                           figsize  = [15, 15]);"
   ]
  },
  {
   "cell_type": "markdown",
   "metadata": {},
   "source": [
    "The scatter matrix does not convey strong relationships between the npl variables (`npl_count`, `duration`) and the economic data. "
   ]
  },
  {
   "cell_type": "markdown",
   "metadata": {},
   "source": [
    "Looking at these economic (`per_cap_income`, `pov_perc_under18`, `pov_perc_18to64`, `pov_perc_65up`) and npl variables (`npl_count`, `duration`), it appears that these data do not necessarily support our initial hypothesis that there was a higher frequency and duration of NPL sites in areas with higher poverty, or that there may much of any relationship at all. Moreover, our findings for these variables may be constrained by the fact that the majority of observations have 1-2 NPL sites. "
   ]
  },
  {
   "cell_type": "markdown",
   "metadata": {},
   "source": [
    "### Income Below Poverty Level"
   ]
  },
  {
   "cell_type": "markdown",
   "metadata": {},
   "source": [
    "For this section, we'll grab all the columns for site name, county, duration,| total population and all columns where \"Income Below Poverty Level\" is included (columns 30-38). We'll also rename the columns and delete rows that have missing data in the income below poverty level column."
   ]
  },
  {
   "cell_type": "code",
   "execution_count": null,
   "metadata": {},
   "outputs": [],
   "source": [
    "below_pov_df = county_df[['site name',\n",
    "                          'county',\n",
    "                          'Total Population',\n",
    "                          'duration',\n",
    "                          '% White Alone Population for Whom Poverty Status Is  Determined: Income Below Poverty Level',\n",
    "                          '% Black or African American Alone Population for  Whom&nbsp; Poverty Status Is Determined: Income Below Poverty Level',\n",
    "                          '% American Indian and Alaska Native Alone  Population For&nbsp; Whom Poverty Status Is Determined: Income Below Poverty Level',\n",
    "                          '% Asian Alone Population for Whom Poverty Status Is  Determined: Income Below Poverty Level',\n",
    "                          '% Native Hawaiian and Other Pacific Islander Alone &nbsp; Population for Whom Poverty Status Is Determined: Income Below Poverty Level',\n",
    "                          '% Some Other Race Alone Population for Whom Poverty  Status Is Determined: Income Below Poverty Level',\n",
    "                          '% Two or More Races Population for Whom Poverty  Status Is Determined: Income Below Poverty Level',\n",
    "                          '% Hispanic or Latino Population for Whom Poverty  Status Is Determined: Income Below Poverty Level',\n",
    "                          '% White Alone, Not Hispanic or Latino Population  for Whom&nbsp; Poverty Status Is Determined: Income Below Poverty Level']]\n",
    "\n",
    "below_pov_df.columns = ['site name',\n",
    "                       'county',\n",
    "                       'total population',\n",
    "                        'duration',\n",
    "                       'perc_white_income_below_pov',\n",
    "                       'perc_black_income_below_pov',\n",
    "                       'perc_indigenous_income_below_pov',\n",
    "                       'perc_asian_income_below_pov',\n",
    "                       'perc_islander_income_below_pov',\n",
    "                       'perc_other_income_below_pov',\n",
    "                       'perc_two_income_below_pov',\n",
    "                       'perc_hispanic_income_below_pov',\n",
    "                       'perc_whitenonhisp_income_below_pov']\n",
    "below_pov_df"
   ]
  },
  {
   "cell_type": "markdown",
   "metadata": {},
   "source": [
    "Similar to the sections above, since we have thousands of rows of data which would be difficult to visualize, we'll compare two subsets made from this dataframe with the poverty levels of each race.\n",
    "1. Counties with the most NPL sites\n",
    "2. Counties with the least NPL sites"
   ]
  },
  {
   "cell_type": "markdown",
   "metadata": {},
   "source": [
    "First, we're going to clean up our data a little more by combining some of the columns together, specifically the columns of two or more races, other, and white non-Hispanic."
   ]
  },
  {
   "cell_type": "code",
   "execution_count": null,
   "metadata": {},
   "outputs": [],
   "source": [
    "print(below_pov_df.columns)"
   ]
  },
  {
   "cell_type": "markdown",
   "metadata": {},
   "source": [
    "To add columns together, we'll have to convert the percentages in the columns into floats. Right now, they're object types."
   ]
  },
  {
   "cell_type": "code",
   "execution_count": null,
   "metadata": {},
   "outputs": [],
   "source": [
    "below_pov_df.dtypes"
   ]
  },
  {
   "cell_type": "code",
   "execution_count": null,
   "metadata": {},
   "outputs": [],
   "source": [
    "below_pov_df['perc_white_income_below_pov'] = below_pov_df['perc_white_income_below_pov'].astype(float)\n",
    "below_pov_df['perc_black_income_below_pov'] = below_pov_df['perc_black_income_below_pov'].astype(float)\n",
    "below_pov_df['perc_indigenous_income_below_pov'] = below_pov_df['perc_indigenous_income_below_pov'].astype(float)\n",
    "below_pov_df['perc_asian_income_below_pov'] = below_pov_df['perc_asian_income_below_pov'].astype(float)\n",
    "below_pov_df['perc_islander_income_below_pov'] = below_pov_df['perc_islander_income_below_pov'].astype(float)\n",
    "below_pov_df['perc_other_income_below_pov'] = below_pov_df['perc_other_income_below_pov'].astype(float)\n",
    "below_pov_df['perc_two_income_below_pov'] = below_pov_df['perc_two_income_below_pov'].astype(float)\n",
    "below_pov_df['perc_hispanic_income_below_pov'] = below_pov_df['perc_hispanic_income_below_pov'].astype(float)\n",
    "below_pov_df['perc_whitenonhisp_income_below_pov'] = below_pov_df['perc_whitenonhisp_income_below_pov'].astype(float)\n",
    "\n",
    "below_pov_df.dtypes"
   ]
  },
  {
   "cell_type": "markdown",
   "metadata": {},
   "source": [
    "We'll add the three columns mentioned above together and add it into our subset."
   ]
  },
  {
   "cell_type": "code",
   "execution_count": null,
   "metadata": {},
   "outputs": [],
   "source": [
    "other_below = below_pov_df['perc_other_income_below_pov'] + below_pov_df['perc_two_income_below_pov'] + below_pov_df['perc_whitenonhisp_income_below_pov']\n",
    "below_pov_df['perc_other_races_income_below_pov'] = other_below\n",
    "\n",
    "below_pov_df"
   ]
  },
  {
   "cell_type": "markdown",
   "metadata": {},
   "source": [
    "And we'll drop the ones we combined from our subset."
   ]
  },
  {
   "cell_type": "code",
   "execution_count": null,
   "metadata": {},
   "outputs": [],
   "source": [
    "below_pov_df = below_pov_df.drop(['perc_other_income_below_pov', 'perc_two_income_below_pov', 'perc_whitenonhisp_income_below_pov'], axis=1)\n",
    "below_pov_df"
   ]
  },
  {
   "cell_type": "markdown",
   "metadata": {},
   "source": [
    "We'll go ahead and check the rows for any missing values in the income below poverty level columns. We will delete rows that have missing values as those values are essential."
   ]
  },
  {
   "cell_type": "code",
   "execution_count": null,
   "metadata": {},
   "outputs": [],
   "source": [
    "povnan = below_pov_df[below_pov_df.isnull().any(axis=1)]\n",
    "povnan"
   ]
  },
  {
   "cell_type": "code",
   "execution_count": null,
   "metadata": {},
   "outputs": [],
   "source": [
    "below_pov_df.isna().sum().sum()"
   ]
  },
  {
   "cell_type": "markdown",
   "metadata": {},
   "source": [
    "There are a total of 374 missing values spread out in 153 rows of the dataset. We'll delete these rows, and reset the index."
   ]
  },
  {
   "cell_type": "code",
   "execution_count": null,
   "metadata": {},
   "outputs": [],
   "source": [
    "below_pov_df = below_pov_df.dropna()\n",
    "below_pov_df.reset_index(drop=True, inplace=True)\n",
    "below_pov_df"
   ]
  },
  {
   "cell_type": "markdown",
   "metadata": {},
   "source": [
    "Let's check again to make sure we have no missing data."
   ]
  },
  {
   "cell_type": "code",
   "execution_count": null,
   "metadata": {},
   "outputs": [],
   "source": [
    "below_pov_df.isna().sum().sum()"
   ]
  },
  {
   "cell_type": "markdown",
   "metadata": {},
   "source": [
    "To find the top 10 and bottom 10 NPL sites in our subset, we'll use value_counts() and index.tolist() to sort."
   ]
  },
  {
   "cell_type": "code",
   "execution_count": null,
   "metadata": {},
   "outputs": [],
   "source": [
    "below_pov_df.value_counts(['county'])"
   ]
  },
  {
   "cell_type": "code",
   "execution_count": null,
   "metadata": {},
   "outputs": [],
   "source": [
    "below_df = below_pov_df['county'].value_counts().index.tolist()"
   ]
  },
  {
   "cell_type": "markdown",
   "metadata": {},
   "source": [
    "We'll slice for the first 10 and last 10 rows."
   ]
  },
  {
   "cell_type": "code",
   "execution_count": null,
   "metadata": {},
   "outputs": [],
   "source": [
    "below_top_10 = below_df[0:10]\n",
    "below_bottom_10 = below_df[515-10:]"
   ]
  },
  {
   "cell_type": "code",
   "execution_count": null,
   "metadata": {},
   "outputs": [],
   "source": [
    "below_top_10"
   ]
  },
  {
   "cell_type": "code",
   "execution_count": null,
   "metadata": {},
   "outputs": [],
   "source": [
    "below_bottom_10"
   ]
  },
  {
   "cell_type": "markdown",
   "metadata": {},
   "source": [
    "Below is the subset of the top 10 counties with the most NPL sites."
   ]
  },
  {
   "cell_type": "code",
   "execution_count": null,
   "metadata": {},
   "outputs": [],
   "source": [
    "below_pov_top_df = below_pov_df[below_pov_df['county'].isin(below_top_10)]\n",
    "below_pov_top_df"
   ]
  },
  {
   "cell_type": "markdown",
   "metadata": {},
   "source": [
    "And below is the subset of the top 10 counties with the least NPL sites."
   ]
  },
  {
   "cell_type": "code",
   "execution_count": null,
   "metadata": {},
   "outputs": [],
   "source": [
    "below_pov_bottom_df = below_pov_df[below_pov_df['county'].isin(below_bottom_10)]\n",
    "below_pov_bottom_df"
   ]
  },
  {
   "cell_type": "markdown",
   "metadata": {},
   "source": [
    "With this data, we can start forming our plots. We'll keep the x-axis the same across our plots to compare the graphs together equally."
   ]
  },
  {
   "cell_type": "code",
   "execution_count": null,
   "metadata": {},
   "outputs": [],
   "source": [
    "sns.set(style='darkgrid')\n",
    "\n",
    "fig, ax = plt.subplots(4, 2, figsize=(20, 25), sharey=True)\n",
    "fig.suptitle('% of Each Race w/ Income Below Poverty Level in Counties with Most NPL Sites', fontsize=25)\n",
    "fig.subplots_adjust(left=None, bottom=None, right=None, top=None, wspace=0.1, hspace=0.3)\n",
    "\n",
    "ax_white = sns.barplot(ax=ax[0,0], x='perc_white_income_below_pov', y='county', data=below_pov_top_df)\n",
    "ax_white.set(xlim=(0, 100), xlabel='Percentage', ylabel='County')\n",
    "ax[0,0].set_title('White Percentage',fontsize=20)\n",
    "\n",
    "ax_black = sns.barplot(ax=ax[0,1], x='perc_black_income_below_pov', y='county', data=below_pov_top_df)\n",
    "ax_black.set(xlim=(0, 100), xlabel='Percentage', ylabel='County')\n",
    "ax[0,1].set_title('Black Percentage',fontsize=20)\n",
    "\n",
    "ax_indigenous = sns.barplot(ax=ax[1,0], x='perc_indigenous_income_below_pov', y='county', data=below_pov_top_df)\n",
    "ax_indigenous.set(xlim=(0, 100), xlabel='Percentage', ylabel='County')\n",
    "ax[1,0].set_title('Indigenous Percentage',fontsize=20)\n",
    "\n",
    "ax_asian = sns.barplot(ax=ax[1,1], x='perc_asian_income_below_pov', y='county', data=below_pov_top_df)\n",
    "ax_asian.set(xlim=(0, 100), xlabel='Percentage', ylabel='County')\n",
    "ax[1,1].set_title('Asian Percentage',fontsize=20)\n",
    "\n",
    "ax_islander = sns.barplot(ax=ax[2,0], x='perc_islander_income_below_pov', y='county', data=below_pov_top_df)\n",
    "ax_islander.set(xlim=(0, 100), xlabel='Percentage', ylabel='County')\n",
    "ax[2,0].set_title('Islander Percentage',fontsize=20)\n",
    "\n",
    "ax_hispanic = sns.barplot(ax=ax[2,1], x='perc_hispanic_income_below_pov', y='county', data=below_pov_top_df)\n",
    "ax_hispanic.set(xlim=(0, 100), xlabel='Percentage', ylabel='County')\n",
    "ax[2,1].set_title('Hispanic Percentage',fontsize=20)\n",
    "\n",
    "ax_other = sns.barplot(ax=ax[3,0], x='perc_other_races_income_below_pov', y='county', data=below_pov_top_df)\n",
    "ax_other.set(xlim=(0, 100), xlabel='Percentage', ylabel='County')\n",
    "ax[3,0].set_title('Other Race Percentage',fontsize=20)"
   ]
  },
  {
   "cell_type": "code",
   "execution_count": null,
   "metadata": {},
   "outputs": [],
   "source": [
    "sns.set(style='darkgrid')\n",
    "\n",
    "fig, ax = plt.subplots(4, 2, figsize=(20, 25), sharey=True)\n",
    "fig.suptitle('% of Each Race w/ Income Below Poverty Level in Counties with Least NPL Sites', fontsize=25)\n",
    "fig.subplots_adjust(left=None, bottom=None, right=None, top=None, wspace=0.1, hspace=0.3)\n",
    "\n",
    "ax_white = sns.barplot(ax=ax[0,0], x='perc_white_income_below_pov', y='county', data=below_pov_bottom_df)\n",
    "ax_white.set(xlim=(0, 100), xlabel='Percentage', ylabel='County')\n",
    "ax[0,0].set_title('White Percentage',fontsize=20)\n",
    "\n",
    "ax_black = sns.barplot(ax=ax[0,1], x='perc_black_income_below_pov', y='county', data=below_pov_bottom_df)\n",
    "ax_black.set(xlim=(0, 100), xlabel='Percentage', ylabel='County')\n",
    "ax[0,1].set_title('Black Percentage',fontsize=20)\n",
    "\n",
    "ax_indigenous = sns.barplot(ax=ax[1,0], x='perc_indigenous_income_below_pov', y='county', data=below_pov_bottom_df)\n",
    "ax_indigenous.set(xlim=(0, 100), xlabel='Percentage', ylabel='County')\n",
    "ax[1,0].set_title('Indigenous Percentage',fontsize=20)\n",
    "\n",
    "ax_asian = sns.barplot(ax=ax[1,1], x='perc_asian_income_below_pov', y='county', data=below_pov_bottom_df)\n",
    "ax_asian.set(xlim=(0, 100), xlabel='Percentage', ylabel='County')\n",
    "ax[1,1].set_title('Asian Percentage',fontsize=20)\n",
    "\n",
    "ax_islander = sns.barplot(ax=ax[2,0], x='perc_islander_income_below_pov', y='county', data=below_pov_bottom_df)\n",
    "ax_islander.set(xlim=(0, 100), xlabel='Percentage', ylabel='County')\n",
    "ax[2,0].set_title('Islander Percentage',fontsize=20)\n",
    "\n",
    "ax_hispanic = sns.barplot(ax=ax[2,1], x='perc_hispanic_income_below_pov', y='county', data=below_pov_bottom_df)\n",
    "ax_hispanic.set(xlim=(0, 100), xlabel='Percentage', ylabel='County')\n",
    "ax[2,1].set_title('Hispanic Percentage',fontsize=20)\n",
    "\n",
    "ax_other = sns.barplot(ax=ax[3,0], x='perc_other_races_income_below_pov', y='county', data=below_pov_bottom_df)\n",
    "ax_other.set(xlim=(0, 100), xlabel='Percentage', ylabel='County')\n",
    "ax[3,0].set_title('Other Race Percentage',fontsize=20)\n"
   ]
  },
  {
   "cell_type": "markdown",
   "metadata": {},
   "source": [
    "From the graphs above, we can see that there are the least percentage of the White population who are living below poverty levels for both counties with the most NPL site and with the least NPL sites. With the other races, however, there seem to be a larger percentage of each race's population that live below the poverty level in counties that have the least NPL sites compared to the counties with the most NPL sites. "
   ]
  },
  {
   "cell_type": "markdown",
   "metadata": {},
   "source": [
    "We have to consider that there might be limits to our bottom data as there are many counties that have only 1 NPL site. For the Other Races plot, since we added 3 columns together, the percentage of poverty is much higher compared to the other races as well. "
   ]
  },
  {
   "cell_type": "markdown",
   "metadata": {},
   "source": [
    "# Ethics & Privacy"
   ]
  },
  {
   "cell_type": "markdown",
   "metadata": {},
   "source": [
    "Our datasets will be from the EPA and the Census. The EPA provides the National Priorities List (NPL), which includes site name, site score, date added, and links to a site description and current status. The Census provides information on a city or county’s demographic, including ethnicity, household income, and life expectancy. All data from the EPA and the Census are public information and completely anonymous. \n",
    "\t\n",
    "One potential bias with the data we proposed is that we will not be able to find data for all 40,000 superfund sites. The EPA provides data for only superfund sites on the NPL. Bias can come from how the EPA chooses a superfund site to be put on the NPL. Only sites discovered by the EPA and have gone through EPA’s evaluations and have passed the qualifications are listed on the NPL. Sites that do not qualify are not included in the Superfund list even if these sites are polluted. Furthermore, our data does not account for sites not designated as a Superfund Site. Sites are discovered through requests from US EPA, as well as state agencies, health departments and private citizens. Sites can therefore be unrecognized by Superfund if it is not reported. Therefore, bias can also come from how the EPA designates a superfund site, which is one of the topics we are exploring in this report. \n",
    "\t\n",
    "Because the Census is self-reported, there can be large potential biases. Household income, ethnicity, or race can be manipulated by the submitter of the Census, therefore invalidating the submission. This can cause the data to be biased based on people’s answers. Additionally, many people may not participate in the Census. Therefore, there would be missing data for people who did not participate. \n",
    "\t\n",
    "Another bias comes from the dates of when the Superfund sites were cleaned. We are analyzing whether there is a relationship between a county’s socioeconomic or demographic status and the Superfund cleanup date. Because the EPA is the one providing all the data on the Superfund sites, it’s possible that they could provide more favorable cleanup dates, which would skew our results. \n",
    "\t\n",
    "Although there are potential biases in our datasets, the EPA and the Census are federal organizations that provide reliable sources of data. The Superfund sites undergo thorough testing and evaluations to determine it’s status, which means they are reliable in determining actual affected areas. "
   ]
  },
  {
   "cell_type": "markdown",
   "metadata": {},
   "source": [
    "# Conclusion & Discussion"
   ]
  },
  {
   "cell_type": "markdown",
   "metadata": {},
   "source": [
    "Within our datasets for Superfund/National Priorities List (NPL) Sites and census data from the 2019 American Community Survey (ACS), we came across some limitations that will need to be considered while analyzing. Within our NPL dataset, the sites listed are of sites that are still currently active, and does not include sites that have been taken off the NPL. For the ACS dataset, there is a large disparity in the number of collected responses between races, especially within the Median Household Incomes. Another limitation of the ACS data is that this dataset only contains the mean values of demographic data within a 5 year period, from 2015 to 2019, and as a result, any outlying changes would not be evident."
   ]
  },
  {
   "cell_type": "markdown",
   "metadata": {},
   "source": [
    "# Team Contributions"
   ]
  },
  {
   "cell_type": "markdown",
   "metadata": {},
   "source": [
    "*Specify who in your group worked on which parts of the project.*"
   ]
  }
 ],
 "metadata": {
  "kernelspec": {
   "display_name": "Python 3",
   "language": "python",
   "name": "python3"
  },
  "language_info": {
   "codemirror_mode": {
    "name": "ipython",
    "version": 3
   },
   "file_extension": ".py",
   "mimetype": "text/x-python",
   "name": "python",
   "nbconvert_exporter": "python",
   "pygments_lexer": "ipython3",
   "version": "3.8.5"
  }
 },
 "nbformat": 4,
 "nbformat_minor": 2
}
