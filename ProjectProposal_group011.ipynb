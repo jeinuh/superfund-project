{
 "cells": [
  {
   "cell_type": "markdown",
   "metadata": {},
   "source": [
    "# COGS 108 - Final Project Proposal"
   ]
  },
  {
   "cell_type": "markdown",
   "metadata": {},
   "source": [
    "# Names\n",
    "\n",
    "- Victoria Thai\n",
    "- Hannah Yick\n",
    "- Jane Dinh\n",
    "- Natasha Supangkat\n",
    "- Gabriel Ramiro"
   ]
  },
  {
   "cell_type": "markdown",
   "metadata": {},
   "source": [
    "# Research Question"
   ]
  },
  {
   "cell_type": "markdown",
   "metadata": {},
   "source": [
    "What trends can be found between a county’s designation of a superfund site and its socioeconomic/demographic trends? Does the designation of a superfund site influence a county’s socioeconomic/demographic status, and/or vice versa? Does the demographic makeup of a county influence the amount of time between Superfund designation and the completion of the remediation process?"
   ]
  },
  {
   "cell_type": "markdown",
   "metadata": {},
   "source": [
    "## Background and Prior Work"
   ]
  },
  {
   "cell_type": "markdown",
   "metadata": {},
   "source": [
    "In response to nationwide outrage towards the improper management and disposal of toxic waste in local communities in the 1970s, Congress enacted CERCLA, or the Comprehensive Environmental Response, Compensation, and Liability Act. CERCLA, more commonly known as Superfund, gives the EPA authority to respond to hazardous waste threats in what are designated as Superfund sites. Love Canal was the first Superfund site on CERCLA's National Priorities List. It was a neighborhood in Niagara Falls, New York that was vulnerable to decades of dumping municipal solid waste, industrial waste, and hazardous waste which ultimately harmed hundreds of residents that lived near the site. To counteract this issue, CERCLA created a tax on chemical and petroleum industries and implemented a Federal authority that investigates and responds to the release of hazardous material onto the environment that may endanger public health. To this day, the problems that spurred the creation of Superfund continue to plague the country—under CERCLA's guidelines regarding the release of toxic substances into the environment from a facility, the recent situation in Flint, Michigan falls under their jurisdiction. Hundreds of residents of Flint, Michigan were susceptible to lead poisoning from lead seepage into their drinking water. The response to this situation is a long-term cleanup by the EPA under the RCRA Corrective Action Program. \n",
    "   \n",
    "The nature of Superfund and its application is virtually inextricable from environmental justice and environmental racism—marginalized communities have historically bore the brunt of pollution and other consequences of environmental degradation. In June 2020, the Shriver Center on Poverty Law found that 70% of Superfund sites are located within 1 mile of public housing. The Superfund Trust Fund receives money mainly from petroleum excise taxes, chemical feedstock excise taxes, and environmental income taxes. However, the EPA taxes the potentially responsible parties (PRPs) and compels them to clean up the contaminated site. Nonetheless, a bill in the 90s made a huge impact on funding and cleanup by mainly taxing American citizens. This could be seen as an attempt to sully the public opinion of Superfund and affect how corporations are held accountable.\n",
    "\n",
    "\n",
    "References (include links):\n",
    "- 1) https://www.epa.gov/superfund/superfund-cercla-overview\n",
    "- 2) https://www.povertylaw.org/wp-content/uploads/2020/06/environmental_justice_report_final-rev2.pdf\n",
    "- 3) https://www.washingtonpost.com/national/taxpayer-dollars-fund-most-oversight-and-cleanup-costs-at-superfund-sites/2017/09/20/aedcd426-8209-11e7-902a-2a9f2d808496_story.html"
   ]
  },
  {
   "cell_type": "markdown",
   "metadata": {},
   "source": [
    "# Hypothesis\n"
   ]
  },
  {
   "cell_type": "markdown",
   "metadata": {},
   "source": [
    "We hypothesize that there will be more Superfund sites in lower-income areas and areas with large populations of marginalized communities, likely because these groups have less political and financial power to retaliate or hold the perpetrators accountable. The inequity and prejudice that disproportionately affects these groups is directly linked to environmental justice. We also predict that Superfund sites in areas associated with lower socioeconomic status will see longer periods of time between designation date and the completion of the remediation process for similar reasons."
   ]
  },
  {
   "cell_type": "markdown",
   "metadata": {},
   "source": [
    "# Data"
   ]
  },
  {
   "cell_type": "markdown",
   "metadata": {},
   "source": [
    "**Variables (marked in bold):**\n",
    "* Name of each superfund site (~40,000 sites total) **[Site_Name]**\n",
    "* Which sites are deemed priority Superfund sites (a.ka. National Priorities List or NPL site) (1765 NLP sites including historical) **[NPL]**\n",
    "* Dates these sites were designated as a superfund site **[Designation_Date]**\n",
    "* The stage the site is in re: clean-up process **[Status]**: Planned (the clean-up process is still in its planning stages) , Active (clean-up infrastructure and process underway), Deleted (the clean-up process has been complete and the site is taken off the NLP list)\n",
    "* Whether the funding source **[Funding]** of the remedial response came from the polluter (Polluter) or from the tax-supported Superfund (Tax)\n",
    "* The Hazard Ranking System score from 0-100 for each site **[Site_Score]**\n",
    "* The region **[Region]**, state **[State]**, county **[County]**, zip **[Zip]**, city **[City]** of each site \n",
    "* The corresponding yearly **[Year]** demographic/economic breakdown of each site by city and county including: Population **[City_Population]**, **[County_Population]**, and of that population, the percentage Asian **[Asians]**, percentage African-Americans **[African_American]**, percentage Latino/Hispanic/Spanish-Speaking **[Latino]**, percentage White **[White]**, and percentage other **[Other]**. We would also document the economic data using the city's median income per capita **[Med_Income_Per_Cap]**, median income per household **[Med_Income_Per_Household]**, percentage of individuals living below the poverty line **[Poverty_Rate]**, and average **[Life_Expectancy]**\n",
    "\n",
    "\n",
    "Ideally, this information would be stored in CSV format:"
   ]
  },
  {
   "cell_type": "markdown",
   "metadata": {},
   "source": [
    "**List of Superfund Sites:**\n",
    "\n",
    "| Site_Name  | NPL | Site_Score | Status | Funding | Designation_Date | Region | City | County | State | Zip |\n",
    "|---|---|---|---|---|---|---|---|---|---|---|\n",
    "| ATLAS TACK CORP.  | Y | 42.60 | Active | Tax | 1990-02-01 | 01 | FAIRHAVEN | BRISTOL | MA | 02719 |"
   ]
  },
  {
   "cell_type": "markdown",
   "metadata": {},
   "source": [
    "**Racial Demographic Information of each Superfund Site by Year (City):**\n",
    "\n",
    "| City | State | Year | City_Population | Asian | African_American | Latino | Native_American | White | Other |\n",
    "|---|---|---|---|---|---|---|---|---|---|\n",
    "| FAIRHAVEN  | MA | 2008 | 16078 | 0.44 | 0.60 | 0.84 | 0.44 | 96.32 | 2.36 | "
   ]
  },
  {
   "cell_type": "markdown",
   "metadata": {},
   "source": [
    "**Racial Demographic Information of each Superfund Site by Year (County):**\n",
    "\n",
    "| County| State | Year | County_Population | Asian | African_American | Latino | Native_American | White | Other |\n",
    "|---|---|---|---|---|---|---|---|---|---|\n",
    "| BRISTOL  | MA | 2019 | 565217 | 2.5 | 6.1 | 8.6 | 0.1 | 81.8 | 2.4 | "
   ]
  },
  {
   "cell_type": "markdown",
   "metadata": {},
   "source": [
    "**Socioeconomic Demographic Information of each Superfund Site by Year (City):**\n",
    "\n",
    "| City | State | Year | Med_Income_Per_Cap | Med_Income_Per_Household | Poverty_Rate | Life_Expectancy | \n",
    "|---|---|---|---|---|---|---|\n",
    "| FAIRHAVEN  | MA | 2008 | 20986 | 41986 | 9.0 | 78.4 | "
   ]
  },
  {
   "cell_type": "markdown",
   "metadata": {},
   "source": [
    "**Socioeconomic Demographic Information of each Superfund Site by Year (County):**\n",
    "\n",
    "| City | State | Year | Med_Income_Per_Cap | Med_Income_Per_Household | Poverty_Rate | Life_Expectancy | \n",
    "|---|---|---|---|---|---|---|\n",
    "| BRISTOL  | MA | 2019 | 20986 | 41986 | 9.0 | 79.2 |"
   ]
  },
  {
   "cell_type": "markdown",
   "metadata": {},
   "source": [
    "Because we want to look at historical trends, we would have to gather historical demographic and census data from each Superfund site, the first of which was designated in 1980 after the Superfund law was enacted the same year. There are approximately 40,000 superfund sites, for which we would ideally be able to collect yearly information about demographic information for each year from at least 1970 to now. With the ideal dataset, we would be able to observe a relationship (or lack thereof) between the intervention, i.e. the designation of a superfund site, and demographic and economic trends of the site's surrounding location. We would also be able to observe whether there is a relationship between the demographics/economics of the site and how long it takes for a site to be cleaned up or still in the process of planning or cleaning up. "
   ]
  },
  {
   "cell_type": "markdown",
   "metadata": {},
   "source": [
    "# Ethics & Privacy"
   ]
  },
  {
   "cell_type": "markdown",
   "metadata": {},
   "source": [
    "Our datasets will be from the EPA and the Census. The EPA provides the National Priorities List (NPL), which includes site name, site score, date added, and links to a site description and current status. The Census provides information on a city or county’s demographic, including ethnicity, household income, and life expectancy. All data from the EPA and the Census are public information and completely anonymous. \n",
    "\t\n",
    "One potential bias with the data we proposed is that we will not be able to find data for all 40,000 superfund sites. The EPA provides data for only superfund sites on the NPL. Bias can come from how the EPA chooses a superfund site to be put on the NPL. Only when sites are discovered by the EPA, and have gone through the evaluation to check if a site is qualified to be listed on the NPL. Sites that do not qualify are not included in the Superfund list even if these sites are polluted. Furthermore, our data does not account for sites not designated as a Superfund Site. Sites are discovered through requests from US EPA, as well as state agencies, health departments and private citizens. Sites can therefore be unrecognized by Superfund if it is not reported. Therefore, bias can also come from how the EPA designates a superfund site, which is one of the topics we are exploring in this report. \n",
    "\t\n",
    "Because the Census is self-reported, there can be large potential biases. Household income, ethnicity, or race can be manipulated by the submitter of the Census, therefore invalidating the submission. This can cause the data to be biased based on people’s answers. Additionally, many people may not participate in the Census. Therefore, there would be missing data for people who did not participate. \n",
    "\t\n",
    "Another bias comes from the dates of when the Superfund sites were cleaned. We are analyzing whether there is a relationship between a county’s socioeconomic or demographic status and the Superfund cleanup date. Because the EPA is the one providing all the data on the Superfund sites, it’s possible that they could provide more favorable cleanup dates, which would skew our results. \n",
    "\t\n",
    "Although there are potential biases in our datasets, the EPA and the Census are federal organizations that provide reliable sources of data. The Superfund sites undergo thorough testing and evaluations to determine it’s status, which means they are reliable in determining actual affected areas. \n"
   ]
  },
  {
   "cell_type": "markdown",
   "metadata": {},
   "source": [
    "# Team Expectations "
   ]
  },
  {
   "cell_type": "markdown",
   "metadata": {},
   "source": [
    "* Asynchronous discussions or inquiries will happen on the Discord channel, for which each member should check daily.\n",
    "    * 12 hour window for replying on Discord, or any other communication channel\n",
    "* If members are unreachable by Discord, then they will be contacted via ucsd.edu email. If not reachable by email, then phone number.\n",
    "* Weekly meetings over zoom on Wednesday at 4pm\n",
    "    * If a person can't make it, we will hold it on Thursday at 5:30pm\n",
    "* Conflict resolution: will try to fix any problems that may arise within the group and between members, and contact teachings staff as a last resort"
   ]
  },
  {
   "cell_type": "markdown",
   "metadata": {},
   "source": [
    "# Project Timeline Proposal"
   ]
  },
  {
   "cell_type": "markdown",
   "metadata": {},
   "source": [
    "| Meeting Date  | Meeting Time| Completed Before Meeting  | Discuss at Meeting |\n",
    "|---|---|---|---|\n",
    "| 4/22  |  5:30 PM         | Individual notes & contributions for project proposal  | Feedback on project proposal notes, figure out rest of project timeline | \n",
    "| 4/23  |  Before 11:59 PM | Edit, finalize proposal | Submit proposal | \n",
    "| 4/28  | 10 AM            | Search for datasets  | Discuss datasets and proposal feedback; discuss and divvy up roles   |\n",
    "| 5/5   | 6 PM             | Data cleaning. Edit, finalize checkpoint #1 sections designated per member | Final edits. Submit Checkpoint #1 (Due 5/7)   |\n",
    "| 5/12  | 12 PM            | Wrangling/EDA; Begin Analysis | Discuss/edit Analysis; Complete project check-in |\n",
    "| 5/19  | 12 PM            | Complete analysis; Draft results/conclusion/discussion| Go over analysis and overview of results, give feedback |\n",
    "| 5/26  | 12 PM            | Work on & finalize Checkpoint #2| Submit Checkpoint #2 (Due 5/28) |\n",
    "| 6/2   | 12 PM            | Work on Final project| Discuss Final Project |\n",
    "| 6/9   | Before 11:59 PM  | Finalize and review whole project | Turn in Final Project & Group Project Surveys |"
   ]
  }
 ],
 "metadata": {
  "kernelspec": {
   "display_name": "Python 3",
   "language": "python",
   "name": "python3"
  },
  "language_info": {
   "codemirror_mode": {
    "name": "ipython",
    "version": 3
   },
   "file_extension": ".py",
   "mimetype": "text/x-python",
   "name": "python",
   "nbconvert_exporter": "python",
   "pygments_lexer": "ipython3",
   "version": "3.8.6"
  }
 },
 "nbformat": 4,
 "nbformat_minor": 2
}
