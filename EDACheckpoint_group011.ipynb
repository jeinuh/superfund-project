{
 "cells": [
  {
   "cell_type": "markdown",
   "metadata": {},
   "source": [
    "# COGS 108 - EDA Checkpoint"
   ]
  },
  {
   "cell_type": "markdown",
   "metadata": {},
   "source": [
    "# Names\n",
    "\n",
    "- Victoria Thai\n",
    "- Hannah Yick\n",
    "- Jane Dinh\n",
    "- Natasha Supangkat\n",
    "- Gabriel Ramiro"
   ]
  },
  {
   "cell_type": "markdown",
   "metadata": {},
   "source": [
    "<a id='research_question'></a>\n",
    "# Research Question"
   ]
  },
  {
   "cell_type": "markdown",
   "metadata": {},
   "source": [
    "What trends can be found between a county’s designation of a superfund site and its socioeconomic/demographic trends? Does the demographic makeup of a county influence the amount of time between Superfund designation and the completion of the remediation process?"
   ]
  },
  {
   "cell_type": "markdown",
   "metadata": {},
   "source": [
    "# Setup"
   ]
  },
  {
   "cell_type": "code",
   "execution_count": 65,
   "metadata": {},
   "outputs": [],
   "source": [
    "#Imports \n",
    "import pandas as pd\n",
    "import numpy as np\n",
    "\n",
    "#Graphing\n",
    "import seaborn as sns\n",
    "import matplotlib as mpl\n",
    "import matplotlib.pyplot as plt\n",
    "%matplotlib inline\n",
    "\n",
    "#Statistics\n",
    "import patsy\n",
    "import statsmodels.api as sm\n",
    "import scipy.stats as stats\n",
    "from scipy.stats import ttest_ind, chisquare, normaltest\n",
    "\n",
    "#Webscraping\n",
    "import requests \n",
    "import bs4\n",
    "from bs4 import BeautifulSoup\n",
    "\n",
    "import warnings\n",
    "warnings.filterwarnings('ignore')\n",
    "\n",
    "# Read in the data and store it within a data frame\n",
    "#npl_df = npl_df = pd.read_csv('https://raw.githubusercontent.com/COGS108/group011_sp21/main/All%20current%20Final%20NPL%20Sites%20(FOIA%204).csv?token=AI2VKGQIIMQPBWGAZGPKD5DASR4CO') \n",
    "gdrive_npl_id = '1oDIJ_v9s5i5THULln_C-N4o3Aiz0e7mu'\n",
    "npl_df = pd.read_csv(f'https://docs.google.com/uc?id={gdrive_npl_id}&export=download', encoding='ISO-8859-1')\n",
    "gdrive_acs_id = '1kNWY1Kc4RhQ9ttK7dTYtj0fhHE3BXOGh'\n",
    "acs_df = pd.read_csv(f'https://docs.google.com/uc?id={gdrive_acs_id}&export=download', encoding='ISO-8859-1')\n",
    "\n",
    "pd.options.display.max_rows = 5\n",
    "pd.options.display.max_columns = 8"
   ]
  },
  {
   "cell_type": "markdown",
   "metadata": {},
   "source": [
    "# Data Cleaning"
   ]
  },
  {
   "cell_type": "markdown",
   "metadata": {},
   "source": [
    "Data cleaning from Checkpoint 1."
   ]
  },
  {
   "cell_type": "code",
   "execution_count": 66,
   "metadata": {},
   "outputs": [],
   "source": [
    "npl_df = npl_df.drop([\"Region\", \"Site ID\", \"EPA ID\", \"Address\", \"Zip\", \"FF Ind\", \"Latitude\", \"Longitude\"], axis=1)"
   ]
  },
  {
   "cell_type": "code",
   "execution_count": 67,
   "metadata": {},
   "outputs": [],
   "source": [
    "acs_df = acs_df.drop([0], axis=0)\n",
    "acs_df.reset_index(drop=True, inplace=True)\n",
    "\n",
    "acs_df.dropna(axis = 0, how = 'all', inplace = True)\n",
    "acs_df.dropna(axis = 1, how = 'all', inplace = True)\n",
    "\n",
    "acs_df.drop(labels=['FIPS', 'Geographic Identifier', 'Summary Level', 'Geographic Component', \n",
    "                    'File identification', 'Logical Record Number', 'State (FIPS Code)', \n",
    "                    'County of current residence', 'Total Population.1', 'Population Density (Per Sq. Mile)', \n",
    "                    'Area (Land)', 'Total Population:', 'Total Population: White Alone', \n",
    "                    'Total Population: Black or African American Alone', \n",
    "                    'Total Population: American Indian and Alaska Native Alone', 'Total Population: Asian Alone', \n",
    "                    'Total Population: Native Hawaiian and Other Pacific Islander Alone', \n",
    "                    'Total Population: Some Other Race Alone', 'Total Population: Two or More Races'], axis=1, inplace = True)\n",
    "acs_df.drop(index=acs_df[acs_df['State Postal Abbreviation'] == 'pr'].index, inplace=True)\n",
    "acs_df.drop(list(acs_df.filter(regex = 'At or Above Poverty Level')), axis = 1, inplace = True)\n",
    "\n",
    "acs_df = acs_df.iloc[:, np.r_[0:11, 12:23, 34, 37, 40, 43, 46, 49, 52, 55, 58, 61, 64, 67]]"
   ]
  },
  {
   "cell_type": "markdown",
   "metadata": {},
   "source": [
    "We'll need to adjust our dataset now that we have a better understanding of our data and how we want to work with it. Here, we'll work towards merging our two datasets by county. Let's start by standardizing the county variable of both datasets with a format of 'COUNTY, PC' where PC is the postal code (i.e. CA for California). This will handle instances where there are counties of the same name in different states.\n",
    "\n",
    "First, let's take a look at our NPL dataset."
   ]
  },
  {
   "cell_type": "code",
   "execution_count": 68,
   "metadata": {},
   "outputs": [
    {
     "data": {
      "text/html": [
       "<div>\n",
       "<style scoped>\n",
       "    .dataframe tbody tr th:only-of-type {\n",
       "        vertical-align: middle;\n",
       "    }\n",
       "\n",
       "    .dataframe tbody tr th {\n",
       "        vertical-align: top;\n",
       "    }\n",
       "\n",
       "    .dataframe thead th {\n",
       "        text-align: right;\n",
       "    }\n",
       "</style>\n",
       "<table border=\"1\" class=\"dataframe\">\n",
       "  <thead>\n",
       "    <tr style=\"text-align: right;\">\n",
       "      <th></th>\n",
       "      <th>State</th>\n",
       "      <th>Site Name</th>\n",
       "      <th>City</th>\n",
       "      <th>County</th>\n",
       "      <th>NPL Status Date</th>\n",
       "    </tr>\n",
       "  </thead>\n",
       "  <tbody>\n",
       "    <tr>\n",
       "      <th>71</th>\n",
       "      <td>NH</td>\n",
       "      <td>SOUTH MUNICIPAL WATER SUPPLY WELL</td>\n",
       "      <td>PETERBOROUGH</td>\n",
       "      <td>HILLSBOROUGH</td>\n",
       "      <td>9/21/1984</td>\n",
       "    </tr>\n",
       "    <tr>\n",
       "      <th>1216</th>\n",
       "      <td>CA</td>\n",
       "      <td>OMEGA CHEMICAL CORPORATION</td>\n",
       "      <td>WHITTIER</td>\n",
       "      <td>LOS ANGELES</td>\n",
       "      <td>1/19/1999</td>\n",
       "    </tr>\n",
       "    <tr>\n",
       "      <th>...</th>\n",
       "      <td>...</td>\n",
       "      <td>...</td>\n",
       "      <td>...</td>\n",
       "      <td>...</td>\n",
       "      <td>...</td>\n",
       "    </tr>\n",
       "    <tr>\n",
       "      <th>193</th>\n",
       "      <td>NJ</td>\n",
       "      <td>SHERWIN-WILLIAMS/HILLIARDS CREEK</td>\n",
       "      <td>Gibbsboro</td>\n",
       "      <td>CAMDEN</td>\n",
       "      <td>3/19/2008</td>\n",
       "    </tr>\n",
       "    <tr>\n",
       "      <th>54</th>\n",
       "      <td>ME</td>\n",
       "      <td>WEST SITE/HOWS CORNERS</td>\n",
       "      <td>PLYMOUTH</td>\n",
       "      <td>PENOBSCOT</td>\n",
       "      <td>9/29/1995</td>\n",
       "    </tr>\n",
       "  </tbody>\n",
       "</table>\n",
       "<p>10 rows × 5 columns</p>\n",
       "</div>"
      ],
      "text/plain": [
       "     State                          Site Name          City        County  \\\n",
       "71      NH  SOUTH MUNICIPAL WATER SUPPLY WELL  PETERBOROUGH  HILLSBOROUGH   \n",
       "1216    CA         OMEGA CHEMICAL CORPORATION      WHITTIER   LOS ANGELES   \n",
       "...    ...                                ...           ...           ...   \n",
       "193     NJ   SHERWIN-WILLIAMS/HILLIARDS CREEK     Gibbsboro        CAMDEN   \n",
       "54      ME             WEST SITE/HOWS CORNERS      PLYMOUTH     PENOBSCOT   \n",
       "\n",
       "     NPL Status Date  \n",
       "71         9/21/1984  \n",
       "1216       1/19/1999  \n",
       "...              ...  \n",
       "193        3/19/2008  \n",
       "54         9/29/1995  \n",
       "\n",
       "[10 rows x 5 columns]"
      ]
     },
     "execution_count": 68,
     "metadata": {},
     "output_type": "execute_result"
    }
   ],
   "source": [
    "npl_df.sample(n=10)"
   ]
  },
  {
   "cell_type": "markdown",
   "metadata": {},
   "source": [
    "Let's examine the dataset and check for missingness."
   ]
  },
  {
   "cell_type": "code",
   "execution_count": 69,
   "metadata": {},
   "outputs": [
    {
     "data": {
      "text/plain": [
       "20"
      ]
     },
     "execution_count": 69,
     "metadata": {},
     "output_type": "execute_result"
    }
   ],
   "source": [
    "npl_df.isna().sum().sum()"
   ]
  },
  {
   "cell_type": "code",
   "execution_count": 70,
   "metadata": {},
   "outputs": [
    {
     "data": {
      "text/plain": [
       "State              False\n",
       "Site Name          False\n",
       "City               False\n",
       "County              True\n",
       "NPL Status Date    False\n",
       "dtype: bool"
      ]
     },
     "execution_count": 70,
     "metadata": {},
     "output_type": "execute_result"
    }
   ],
   "source": [
    "npl_df.isna().any()"
   ]
  },
  {
   "cell_type": "markdown",
   "metadata": {},
   "source": [
    "From this, we can see that all the missing data is in the County variable."
   ]
  },
  {
   "cell_type": "code",
   "execution_count": 71,
   "metadata": {},
   "outputs": [
    {
     "data": {
      "text/html": [
       "<div>\n",
       "<style scoped>\n",
       "    .dataframe tbody tr th:only-of-type {\n",
       "        vertical-align: middle;\n",
       "    }\n",
       "\n",
       "    .dataframe tbody tr th {\n",
       "        vertical-align: top;\n",
       "    }\n",
       "\n",
       "    .dataframe thead th {\n",
       "        text-align: right;\n",
       "    }\n",
       "</style>\n",
       "<table border=\"1\" class=\"dataframe\">\n",
       "  <thead>\n",
       "    <tr style=\"text-align: right;\">\n",
       "      <th></th>\n",
       "      <th>State</th>\n",
       "      <th>Site Name</th>\n",
       "      <th>City</th>\n",
       "      <th>County</th>\n",
       "      <th>NPL Status Date</th>\n",
       "    </tr>\n",
       "  </thead>\n",
       "  <tbody>\n",
       "    <tr>\n",
       "      <th>266</th>\n",
       "      <td>NY</td>\n",
       "      <td>NEWTOWN CREEK</td>\n",
       "      <td>BROOKLYN, QUEENS</td>\n",
       "      <td>NaN</td>\n",
       "      <td>9/29/2010</td>\n",
       "    </tr>\n",
       "    <tr>\n",
       "      <th>303</th>\n",
       "      <td>PR</td>\n",
       "      <td>FIBERS PUBLIC SUPPLY WELLS</td>\n",
       "      <td>JOBOS</td>\n",
       "      <td>NaN</td>\n",
       "      <td>9/21/1984</td>\n",
       "    </tr>\n",
       "    <tr>\n",
       "      <th>...</th>\n",
       "      <td>...</td>\n",
       "      <td>...</td>\n",
       "      <td>...</td>\n",
       "      <td>...</td>\n",
       "      <td>...</td>\n",
       "    </tr>\n",
       "    <tr>\n",
       "      <th>1263</th>\n",
       "      <td>ID</td>\n",
       "      <td>EASTERN MICHAUD FLATS CONTAMINATION</td>\n",
       "      <td>POCATELLO</td>\n",
       "      <td>NaN</td>\n",
       "      <td>8/30/1990</td>\n",
       "    </tr>\n",
       "    <tr>\n",
       "      <th>1264</th>\n",
       "      <td>ID</td>\n",
       "      <td>IDAHO NATIONAL ENGINEERING LABORATORY (USDOE)</td>\n",
       "      <td>IDAHO FALLS</td>\n",
       "      <td>NaN</td>\n",
       "      <td>11/21/1989</td>\n",
       "    </tr>\n",
       "  </tbody>\n",
       "</table>\n",
       "<p>20 rows × 5 columns</p>\n",
       "</div>"
      ],
      "text/plain": [
       "     State                                      Site Name              City  \\\n",
       "266     NY                                  NEWTOWN CREEK  BROOKLYN, QUEENS   \n",
       "303     PR                     FIBERS PUBLIC SUPPLY WELLS             JOBOS   \n",
       "...    ...                                            ...               ...   \n",
       "1263    ID            EASTERN MICHAUD FLATS CONTAMINATION         POCATELLO   \n",
       "1264    ID  IDAHO NATIONAL ENGINEERING LABORATORY (USDOE)       IDAHO FALLS   \n",
       "\n",
       "     County NPL Status Date  \n",
       "266     NaN       9/29/2010  \n",
       "303     NaN       9/21/1984  \n",
       "...     ...             ...  \n",
       "1263    NaN       8/30/1990  \n",
       "1264    NaN      11/21/1989  \n",
       "\n",
       "[20 rows x 5 columns]"
      ]
     },
     "execution_count": 71,
     "metadata": {},
     "output_type": "execute_result"
    }
   ],
   "source": [
    "#subset to just rows with missing data\n",
    "npl_df[npl_df.isnull().any(axis=1)]"
   ]
  },
  {
   "cell_type": "markdown",
   "metadata": {},
   "source": [
    "We can see from the subset of missing data that these NPL sites are in valid cities in the United States, so there's no reason to drop them; however, they do not have data for the county. We will have to manually input these county values so that we can merge successfully before we go any further."
   ]
  },
  {
   "cell_type": "code",
   "execution_count": 72,
   "metadata": {},
   "outputs": [],
   "source": [
    "# manually input county names here"
   ]
  },
  {
   "cell_type": "code",
   "execution_count": 73,
   "metadata": {},
   "outputs": [
    {
     "data": {
      "text/plain": [
       "20"
      ]
     },
     "execution_count": 73,
     "metadata": {},
     "output_type": "execute_result"
    }
   ],
   "source": [
    "# clarify that all missing data has been addressed\n",
    "npl_df.isna().sum().sum()"
   ]
  },
  {
   "cell_type": "markdown",
   "metadata": {},
   "source": [
    "Now that all the county information is included, we'll convert the column names into lowercase, and continue this use of lowercase column names as we progress with both datasets as a standardization measure."
   ]
  },
  {
   "cell_type": "code",
   "execution_count": 74,
   "metadata": {
    "scrolled": true
   },
   "outputs": [
    {
     "data": {
      "text/html": [
       "<div>\n",
       "<style scoped>\n",
       "    .dataframe tbody tr th:only-of-type {\n",
       "        vertical-align: middle;\n",
       "    }\n",
       "\n",
       "    .dataframe tbody tr th {\n",
       "        vertical-align: top;\n",
       "    }\n",
       "\n",
       "    .dataframe thead th {\n",
       "        text-align: right;\n",
       "    }\n",
       "</style>\n",
       "<table border=\"1\" class=\"dataframe\">\n",
       "  <thead>\n",
       "    <tr style=\"text-align: right;\">\n",
       "      <th></th>\n",
       "      <th>state</th>\n",
       "      <th>site name</th>\n",
       "      <th>city</th>\n",
       "      <th>county</th>\n",
       "      <th>npl status date</th>\n",
       "    </tr>\n",
       "  </thead>\n",
       "  <tbody>\n",
       "    <tr>\n",
       "      <th>0</th>\n",
       "      <td>CT</td>\n",
       "      <td>BARKHAMSTED-NEW HARTFORD LANDFILL</td>\n",
       "      <td>BARKHAMSTED</td>\n",
       "      <td>LITCHFIELD</td>\n",
       "      <td>10/4/1989</td>\n",
       "    </tr>\n",
       "    <tr>\n",
       "      <th>1</th>\n",
       "      <td>CT</td>\n",
       "      <td>BEACON HEIGHTS LANDFILL</td>\n",
       "      <td>BEACON FALLS</td>\n",
       "      <td>NEW HAVEN</td>\n",
       "      <td>9/8/1983</td>\n",
       "    </tr>\n",
       "    <tr>\n",
       "      <th>2</th>\n",
       "      <td>CT</td>\n",
       "      <td>DURHAM MEADOWS</td>\n",
       "      <td>DURHAM</td>\n",
       "      <td>MIDDLESEX</td>\n",
       "      <td>10/4/1989</td>\n",
       "    </tr>\n",
       "    <tr>\n",
       "      <th>3</th>\n",
       "      <td>CT</td>\n",
       "      <td>GALLUP'S QUARRY</td>\n",
       "      <td>PLAINFIELD</td>\n",
       "      <td>WINDHAM</td>\n",
       "      <td>10/4/1989</td>\n",
       "    </tr>\n",
       "    <tr>\n",
       "      <th>4</th>\n",
       "      <td>CT</td>\n",
       "      <td>KELLOGG-DEERING WELL FIELD</td>\n",
       "      <td>NORWALK</td>\n",
       "      <td>FAIRFIELD</td>\n",
       "      <td>9/21/1984</td>\n",
       "    </tr>\n",
       "  </tbody>\n",
       "</table>\n",
       "</div>"
      ],
      "text/plain": [
       "  state                          site name          city      county  \\\n",
       "0    CT  BARKHAMSTED-NEW HARTFORD LANDFILL   BARKHAMSTED  LITCHFIELD   \n",
       "1    CT            BEACON HEIGHTS LANDFILL  BEACON FALLS   NEW HAVEN   \n",
       "2    CT                     DURHAM MEADOWS        DURHAM   MIDDLESEX   \n",
       "3    CT                    GALLUP'S QUARRY    PLAINFIELD     WINDHAM   \n",
       "4    CT         KELLOGG-DEERING WELL FIELD       NORWALK   FAIRFIELD   \n",
       "\n",
       "  npl status date  \n",
       "0       10/4/1989  \n",
       "1        9/8/1983  \n",
       "2       10/4/1989  \n",
       "3       10/4/1989  \n",
       "4       9/21/1984  "
      ]
     },
     "execution_count": 74,
     "metadata": {},
     "output_type": "execute_result"
    }
   ],
   "source": [
    "npl_df.columns = ['state', 'site name', 'city', 'county', 'npl status date']\n",
    "npl_df.head()"
   ]
  },
  {
   "cell_type": "markdown",
   "metadata": {},
   "source": [
    "Next we'll get our county variable information into the correct format by concatenating the state postal code."
   ]
  },
  {
   "cell_type": "code",
   "execution_count": 75,
   "metadata": {},
   "outputs": [
    {
     "data": {
      "text/html": [
       "<div>\n",
       "<style scoped>\n",
       "    .dataframe tbody tr th:only-of-type {\n",
       "        vertical-align: middle;\n",
       "    }\n",
       "\n",
       "    .dataframe tbody tr th {\n",
       "        vertical-align: top;\n",
       "    }\n",
       "\n",
       "    .dataframe thead th {\n",
       "        text-align: right;\n",
       "    }\n",
       "</style>\n",
       "<table border=\"1\" class=\"dataframe\">\n",
       "  <thead>\n",
       "    <tr style=\"text-align: right;\">\n",
       "      <th></th>\n",
       "      <th>state</th>\n",
       "      <th>site name</th>\n",
       "      <th>city</th>\n",
       "      <th>county</th>\n",
       "      <th>npl status date</th>\n",
       "    </tr>\n",
       "  </thead>\n",
       "  <tbody>\n",
       "    <tr>\n",
       "      <th>0</th>\n",
       "      <td>CT</td>\n",
       "      <td>BARKHAMSTED-NEW HARTFORD LANDFILL</td>\n",
       "      <td>BARKHAMSTED</td>\n",
       "      <td>LITCHFIELD, CT</td>\n",
       "      <td>10/4/1989</td>\n",
       "    </tr>\n",
       "    <tr>\n",
       "      <th>1</th>\n",
       "      <td>CT</td>\n",
       "      <td>BEACON HEIGHTS LANDFILL</td>\n",
       "      <td>BEACON FALLS</td>\n",
       "      <td>NEW HAVEN, CT</td>\n",
       "      <td>9/8/1983</td>\n",
       "    </tr>\n",
       "    <tr>\n",
       "      <th>2</th>\n",
       "      <td>CT</td>\n",
       "      <td>DURHAM MEADOWS</td>\n",
       "      <td>DURHAM</td>\n",
       "      <td>MIDDLESEX, CT</td>\n",
       "      <td>10/4/1989</td>\n",
       "    </tr>\n",
       "    <tr>\n",
       "      <th>3</th>\n",
       "      <td>CT</td>\n",
       "      <td>GALLUP'S QUARRY</td>\n",
       "      <td>PLAINFIELD</td>\n",
       "      <td>WINDHAM, CT</td>\n",
       "      <td>10/4/1989</td>\n",
       "    </tr>\n",
       "    <tr>\n",
       "      <th>4</th>\n",
       "      <td>CT</td>\n",
       "      <td>KELLOGG-DEERING WELL FIELD</td>\n",
       "      <td>NORWALK</td>\n",
       "      <td>FAIRFIELD, CT</td>\n",
       "      <td>9/21/1984</td>\n",
       "    </tr>\n",
       "  </tbody>\n",
       "</table>\n",
       "</div>"
      ],
      "text/plain": [
       "  state                          site name          city          county  \\\n",
       "0    CT  BARKHAMSTED-NEW HARTFORD LANDFILL   BARKHAMSTED  LITCHFIELD, CT   \n",
       "1    CT            BEACON HEIGHTS LANDFILL  BEACON FALLS   NEW HAVEN, CT   \n",
       "2    CT                     DURHAM MEADOWS        DURHAM   MIDDLESEX, CT   \n",
       "3    CT                    GALLUP'S QUARRY    PLAINFIELD     WINDHAM, CT   \n",
       "4    CT         KELLOGG-DEERING WELL FIELD       NORWALK   FAIRFIELD, CT   \n",
       "\n",
       "  npl status date  \n",
       "0       10/4/1989  \n",
       "1        9/8/1983  \n",
       "2       10/4/1989  \n",
       "3       10/4/1989  \n",
       "4       9/21/1984  "
      ]
     },
     "execution_count": 75,
     "metadata": {},
     "output_type": "execute_result"
    }
   ],
   "source": [
    "npl_df['county'] = npl_df['county'].map(str) + ', ' + npl_df['state'].map(str)\n",
    "npl_df.head()"
   ]
  },
  {
   "cell_type": "markdown",
   "metadata": {},
   "source": [
    "In addition, we added a Duration column that will come into play as we plot our data. The values in this variable are the number of years since NPL status for the site was established (up to 2021)."
   ]
  },
  {
   "cell_type": "code",
   "execution_count": 76,
   "metadata": {},
   "outputs": [
    {
     "data": {
      "text/html": [
       "<div>\n",
       "<style scoped>\n",
       "    .dataframe tbody tr th:only-of-type {\n",
       "        vertical-align: middle;\n",
       "    }\n",
       "\n",
       "    .dataframe tbody tr th {\n",
       "        vertical-align: top;\n",
       "    }\n",
       "\n",
       "    .dataframe thead th {\n",
       "        text-align: right;\n",
       "    }\n",
       "</style>\n",
       "<table border=\"1\" class=\"dataframe\">\n",
       "  <thead>\n",
       "    <tr style=\"text-align: right;\">\n",
       "      <th></th>\n",
       "      <th>state</th>\n",
       "      <th>site name</th>\n",
       "      <th>city</th>\n",
       "      <th>county</th>\n",
       "      <th>npl status date</th>\n",
       "      <th>duration</th>\n",
       "    </tr>\n",
       "  </thead>\n",
       "  <tbody>\n",
       "    <tr>\n",
       "      <th>0</th>\n",
       "      <td>CT</td>\n",
       "      <td>BARKHAMSTED-NEW HARTFORD LANDFILL</td>\n",
       "      <td>BARKHAMSTED</td>\n",
       "      <td>LITCHFIELD, CT</td>\n",
       "      <td>10/4/1989</td>\n",
       "      <td>32</td>\n",
       "    </tr>\n",
       "    <tr>\n",
       "      <th>1</th>\n",
       "      <td>CT</td>\n",
       "      <td>BEACON HEIGHTS LANDFILL</td>\n",
       "      <td>BEACON FALLS</td>\n",
       "      <td>NEW HAVEN, CT</td>\n",
       "      <td>9/8/1983</td>\n",
       "      <td>38</td>\n",
       "    </tr>\n",
       "    <tr>\n",
       "      <th>...</th>\n",
       "      <td>...</td>\n",
       "      <td>...</td>\n",
       "      <td>...</td>\n",
       "      <td>...</td>\n",
       "      <td>...</td>\n",
       "      <td>...</td>\n",
       "    </tr>\n",
       "    <tr>\n",
       "      <th>1325</th>\n",
       "      <td>WA</td>\n",
       "      <td>WESTERN PROCESSING CO., INC.</td>\n",
       "      <td>KENT</td>\n",
       "      <td>KING, WA</td>\n",
       "      <td>9/8/1983</td>\n",
       "      <td>38</td>\n",
       "    </tr>\n",
       "    <tr>\n",
       "      <th>1326</th>\n",
       "      <td>WA</td>\n",
       "      <td>WYCKOFF CO./EAGLE HARBOR</td>\n",
       "      <td>BAINBRIDGE ISLAND</td>\n",
       "      <td>KITSAP, WA</td>\n",
       "      <td>7/22/1987</td>\n",
       "      <td>34</td>\n",
       "    </tr>\n",
       "  </tbody>\n",
       "</table>\n",
       "<p>1327 rows × 6 columns</p>\n",
       "</div>"
      ],
      "text/plain": [
       "     state                          site name               city  \\\n",
       "0       CT  BARKHAMSTED-NEW HARTFORD LANDFILL        BARKHAMSTED   \n",
       "1       CT            BEACON HEIGHTS LANDFILL       BEACON FALLS   \n",
       "...    ...                                ...                ...   \n",
       "1325    WA       WESTERN PROCESSING CO., INC.               KENT   \n",
       "1326    WA           WYCKOFF CO./EAGLE HARBOR  BAINBRIDGE ISLAND   \n",
       "\n",
       "              county npl status date  duration  \n",
       "0     LITCHFIELD, CT       10/4/1989        32  \n",
       "1      NEW HAVEN, CT        9/8/1983        38  \n",
       "...              ...             ...       ...  \n",
       "1325        KING, WA        9/8/1983        38  \n",
       "1326      KITSAP, WA       7/22/1987        34  \n",
       "\n",
       "[1327 rows x 6 columns]"
      ]
     },
     "execution_count": 76,
     "metadata": {},
     "output_type": "execute_result"
    }
   ],
   "source": [
    "npl_df['duration'] = npl_df['npl status date'].str[-4:]\n",
    "npl_df = npl_df.astype({\"duration\": int})\n",
    "npl_df['duration'] = 2021 - npl_df['duration']\n",
    "npl_df"
   ]
  },
  {
   "cell_type": "markdown",
   "metadata": {},
   "source": [
    "Now we can take a look at our ACS dataset."
   ]
  },
  {
   "cell_type": "code",
   "execution_count": 77,
   "metadata": {},
   "outputs": [
    {
     "data": {
      "text/html": [
       "<div>\n",
       "<style scoped>\n",
       "    .dataframe tbody tr th:only-of-type {\n",
       "        vertical-align: middle;\n",
       "    }\n",
       "\n",
       "    .dataframe tbody tr th {\n",
       "        vertical-align: top;\n",
       "    }\n",
       "\n",
       "    .dataframe thead th {\n",
       "        text-align: right;\n",
       "    }\n",
       "</style>\n",
       "<table border=\"1\" class=\"dataframe\">\n",
       "  <thead>\n",
       "    <tr style=\"text-align: right;\">\n",
       "      <th></th>\n",
       "      <th>Area Name</th>\n",
       "      <th>Qualifying Name</th>\n",
       "      <th>State Postal Abbreviation</th>\n",
       "      <th>Total Population</th>\n",
       "      <th>...</th>\n",
       "      <th>% Some Other Race Alone Population for Whom Poverty  Status Is Determined: Income Below Poverty Level</th>\n",
       "      <th>% Two or More Races Population for Whom Poverty  Status Is Determined: Income Below Poverty Level</th>\n",
       "      <th>% Hispanic or Latino Population for Whom Poverty  Status Is Determined: Income Below Poverty Level</th>\n",
       "      <th>% White Alone, Not Hispanic or Latino Population  for Whom&amp;nbsp; Poverty Status Is Determined: Income Below Poverty Level</th>\n",
       "    </tr>\n",
       "  </thead>\n",
       "  <tbody>\n",
       "    <tr>\n",
       "      <th>0</th>\n",
       "      <td>Autauga County</td>\n",
       "      <td>Autauga County, Alabama</td>\n",
       "      <td>al</td>\n",
       "      <td>55380</td>\n",
       "      <td>...</td>\n",
       "      <td>26.19</td>\n",
       "      <td>16.97</td>\n",
       "      <td>4.37</td>\n",
       "      <td>11.12</td>\n",
       "    </tr>\n",
       "    <tr>\n",
       "      <th>1</th>\n",
       "      <td>Baldwin County</td>\n",
       "      <td>Baldwin County, Alabama</td>\n",
       "      <td>al</td>\n",
       "      <td>212830</td>\n",
       "      <td>...</td>\n",
       "      <td>26.28</td>\n",
       "      <td>10.79</td>\n",
       "      <td>18.41</td>\n",
       "      <td>8.4</td>\n",
       "    </tr>\n",
       "    <tr>\n",
       "      <th>2</th>\n",
       "      <td>Barbour County</td>\n",
       "      <td>Barbour County, Alabama</td>\n",
       "      <td>al</td>\n",
       "      <td>25361</td>\n",
       "      <td>...</td>\n",
       "      <td>50.34</td>\n",
       "      <td>55.85</td>\n",
       "      <td>61.25</td>\n",
       "      <td>14.71</td>\n",
       "    </tr>\n",
       "    <tr>\n",
       "      <th>3</th>\n",
       "      <td>Bibb County</td>\n",
       "      <td>Bibb County, Alabama</td>\n",
       "      <td>al</td>\n",
       "      <td>22493</td>\n",
       "      <td>...</td>\n",
       "      <td>NaN</td>\n",
       "      <td>0</td>\n",
       "      <td>0</td>\n",
       "      <td>16.34</td>\n",
       "    </tr>\n",
       "    <tr>\n",
       "      <th>4</th>\n",
       "      <td>Blount County</td>\n",
       "      <td>Blount County, Alabama</td>\n",
       "      <td>al</td>\n",
       "      <td>57681</td>\n",
       "      <td>...</td>\n",
       "      <td>2.64</td>\n",
       "      <td>19.1</td>\n",
       "      <td>25.46</td>\n",
       "      <td>12.33</td>\n",
       "    </tr>\n",
       "  </tbody>\n",
       "</table>\n",
       "<p>5 rows × 34 columns</p>\n",
       "</div>"
      ],
      "text/plain": [
       "        Area Name          Qualifying Name State Postal Abbreviation  \\\n",
       "0  Autauga County  Autauga County, Alabama                        al   \n",
       "1  Baldwin County  Baldwin County, Alabama                        al   \n",
       "2  Barbour County  Barbour County, Alabama                        al   \n",
       "3     Bibb County     Bibb County, Alabama                        al   \n",
       "4   Blount County   Blount County, Alabama                        al   \n",
       "\n",
       "  Total Population  ...  \\\n",
       "0            55380  ...   \n",
       "1           212830  ...   \n",
       "2            25361  ...   \n",
       "3            22493  ...   \n",
       "4            57681  ...   \n",
       "\n",
       "  % Some Other Race Alone Population for Whom Poverty  Status Is Determined: Income Below Poverty Level  \\\n",
       "0                                              26.19                                                      \n",
       "1                                              26.28                                                      \n",
       "2                                              50.34                                                      \n",
       "3                                                NaN                                                      \n",
       "4                                               2.64                                                      \n",
       "\n",
       "  % Two or More Races Population for Whom Poverty  Status Is Determined: Income Below Poverty Level  \\\n",
       "0                                              16.97                                                  \n",
       "1                                              10.79                                                  \n",
       "2                                              55.85                                                  \n",
       "3                                                  0                                                  \n",
       "4                                               19.1                                                  \n",
       "\n",
       "  % Hispanic or Latino Population for Whom Poverty  Status Is Determined: Income Below Poverty Level  \\\n",
       "0                                               4.37                                                   \n",
       "1                                              18.41                                                   \n",
       "2                                              61.25                                                   \n",
       "3                                                  0                                                   \n",
       "4                                              25.46                                                   \n",
       "\n",
       "  % White Alone, Not Hispanic or Latino Population  for Whom&nbsp; Poverty Status Is Determined: Income Below Poverty Level  \n",
       "0                                              11.12                                                                         \n",
       "1                                                8.4                                                                         \n",
       "2                                              14.71                                                                         \n",
       "3                                              16.34                                                                         \n",
       "4                                              12.33                                                                         \n",
       "\n",
       "[5 rows x 34 columns]"
      ]
     },
     "execution_count": 77,
     "metadata": {},
     "output_type": "execute_result"
    }
   ],
   "source": [
    "acs_df.head()"
   ]
  },
  {
   "cell_type": "markdown",
   "metadata": {},
   "source": [
    "We'll need to standardize the formatting for the column describing the county of each observation to match that of our NPL datset, which is of the format 'COUNTY, PC' with PC being the postal code abbreviation. We can achieve this using the .upper(), .replace(), and .strip() methods."
   ]
  },
  {
   "cell_type": "code",
   "execution_count": 78,
   "metadata": {},
   "outputs": [
    {
     "data": {
      "text/html": [
       "<div>\n",
       "<style scoped>\n",
       "    .dataframe tbody tr th:only-of-type {\n",
       "        vertical-align: middle;\n",
       "    }\n",
       "\n",
       "    .dataframe tbody tr th {\n",
       "        vertical-align: top;\n",
       "    }\n",
       "\n",
       "    .dataframe thead th {\n",
       "        text-align: right;\n",
       "    }\n",
       "</style>\n",
       "<table border=\"1\" class=\"dataframe\">\n",
       "  <thead>\n",
       "    <tr style=\"text-align: right;\">\n",
       "      <th></th>\n",
       "      <th>county</th>\n",
       "      <th>Qualifying Name</th>\n",
       "      <th>State Postal Abbreviation</th>\n",
       "      <th>Total Population</th>\n",
       "      <th>...</th>\n",
       "      <th>% Some Other Race Alone Population for Whom Poverty  Status Is Determined: Income Below Poverty Level</th>\n",
       "      <th>% Two or More Races Population for Whom Poverty  Status Is Determined: Income Below Poverty Level</th>\n",
       "      <th>% Hispanic or Latino Population for Whom Poverty  Status Is Determined: Income Below Poverty Level</th>\n",
       "      <th>% White Alone, Not Hispanic or Latino Population  for Whom&amp;nbsp; Poverty Status Is Determined: Income Below Poverty Level</th>\n",
       "    </tr>\n",
       "  </thead>\n",
       "  <tbody>\n",
       "    <tr>\n",
       "      <th>0</th>\n",
       "      <td>AUTAUGA, AL</td>\n",
       "      <td>Autauga County, Alabama</td>\n",
       "      <td>AL</td>\n",
       "      <td>55380</td>\n",
       "      <td>...</td>\n",
       "      <td>26.19</td>\n",
       "      <td>16.97</td>\n",
       "      <td>4.37</td>\n",
       "      <td>11.12</td>\n",
       "    </tr>\n",
       "    <tr>\n",
       "      <th>1</th>\n",
       "      <td>BALDWIN, AL</td>\n",
       "      <td>Baldwin County, Alabama</td>\n",
       "      <td>AL</td>\n",
       "      <td>212830</td>\n",
       "      <td>...</td>\n",
       "      <td>26.28</td>\n",
       "      <td>10.79</td>\n",
       "      <td>18.41</td>\n",
       "      <td>8.4</td>\n",
       "    </tr>\n",
       "    <tr>\n",
       "      <th>2</th>\n",
       "      <td>BARBOUR, AL</td>\n",
       "      <td>Barbour County, Alabama</td>\n",
       "      <td>AL</td>\n",
       "      <td>25361</td>\n",
       "      <td>...</td>\n",
       "      <td>50.34</td>\n",
       "      <td>55.85</td>\n",
       "      <td>61.25</td>\n",
       "      <td>14.71</td>\n",
       "    </tr>\n",
       "    <tr>\n",
       "      <th>3</th>\n",
       "      <td>BIBB, AL</td>\n",
       "      <td>Bibb County, Alabama</td>\n",
       "      <td>AL</td>\n",
       "      <td>22493</td>\n",
       "      <td>...</td>\n",
       "      <td>NaN</td>\n",
       "      <td>0</td>\n",
       "      <td>0</td>\n",
       "      <td>16.34</td>\n",
       "    </tr>\n",
       "    <tr>\n",
       "      <th>4</th>\n",
       "      <td>BLOUNT, AL</td>\n",
       "      <td>Blount County, Alabama</td>\n",
       "      <td>AL</td>\n",
       "      <td>57681</td>\n",
       "      <td>...</td>\n",
       "      <td>2.64</td>\n",
       "      <td>19.1</td>\n",
       "      <td>25.46</td>\n",
       "      <td>12.33</td>\n",
       "    </tr>\n",
       "  </tbody>\n",
       "</table>\n",
       "<p>5 rows × 34 columns</p>\n",
       "</div>"
      ],
      "text/plain": [
       "        county          Qualifying Name State Postal Abbreviation  \\\n",
       "0  AUTAUGA, AL  Autauga County, Alabama                        AL   \n",
       "1  BALDWIN, AL  Baldwin County, Alabama                        AL   \n",
       "2  BARBOUR, AL  Barbour County, Alabama                        AL   \n",
       "3     BIBB, AL     Bibb County, Alabama                        AL   \n",
       "4   BLOUNT, AL   Blount County, Alabama                        AL   \n",
       "\n",
       "  Total Population  ...  \\\n",
       "0            55380  ...   \n",
       "1           212830  ...   \n",
       "2            25361  ...   \n",
       "3            22493  ...   \n",
       "4            57681  ...   \n",
       "\n",
       "  % Some Other Race Alone Population for Whom Poverty  Status Is Determined: Income Below Poverty Level  \\\n",
       "0                                              26.19                                                      \n",
       "1                                              26.28                                                      \n",
       "2                                              50.34                                                      \n",
       "3                                                NaN                                                      \n",
       "4                                               2.64                                                      \n",
       "\n",
       "  % Two or More Races Population for Whom Poverty  Status Is Determined: Income Below Poverty Level  \\\n",
       "0                                              16.97                                                  \n",
       "1                                              10.79                                                  \n",
       "2                                              55.85                                                  \n",
       "3                                                  0                                                  \n",
       "4                                               19.1                                                  \n",
       "\n",
       "  % Hispanic or Latino Population for Whom Poverty  Status Is Determined: Income Below Poverty Level  \\\n",
       "0                                               4.37                                                   \n",
       "1                                              18.41                                                   \n",
       "2                                              61.25                                                   \n",
       "3                                                  0                                                   \n",
       "4                                              25.46                                                   \n",
       "\n",
       "  % White Alone, Not Hispanic or Latino Population  for Whom&nbsp; Poverty Status Is Determined: Income Below Poverty Level  \n",
       "0                                              11.12                                                                         \n",
       "1                                                8.4                                                                         \n",
       "2                                              14.71                                                                         \n",
       "3                                              16.34                                                                         \n",
       "4                                              12.33                                                                         \n",
       "\n",
       "[5 rows x 34 columns]"
      ]
     },
     "execution_count": 78,
     "metadata": {},
     "output_type": "execute_result"
    }
   ],
   "source": [
    "acs_df.rename({'Area Name': 'county'}, axis=1, inplace=True)\n",
    "acs_df['State Postal Abbreviation'] = acs_df['State Postal Abbreviation'].str.upper()\n",
    "acs_df['county'] = acs_df['county'].str.upper()\n",
    "acs_df['county'] = acs_df['county'].str.replace('COUNTY', '')\n",
    "acs_df['county'] = acs_df['county'].str.strip()\n",
    "acs_df['county'] = acs_df['county'].map(str) + ', ' + acs_df['State Postal Abbreviation'].map(str)\n",
    "acs_df.head()"
   ]
  },
  {
   "cell_type": "markdown",
   "metadata": {},
   "source": [
    "Now that we have a common column, we can merge our datasets. We'll use a left merge with our NPL dataset as our left-dataset, since we only need the demographic data for the county of the NPL sites."
   ]
  },
  {
   "cell_type": "code",
   "execution_count": 79,
   "metadata": {},
   "outputs": [
    {
     "data": {
      "text/html": [
       "<div>\n",
       "<style scoped>\n",
       "    .dataframe tbody tr th:only-of-type {\n",
       "        vertical-align: middle;\n",
       "    }\n",
       "\n",
       "    .dataframe tbody tr th {\n",
       "        vertical-align: top;\n",
       "    }\n",
       "\n",
       "    .dataframe thead th {\n",
       "        text-align: right;\n",
       "    }\n",
       "</style>\n",
       "<table border=\"1\" class=\"dataframe\">\n",
       "  <thead>\n",
       "    <tr style=\"text-align: right;\">\n",
       "      <th></th>\n",
       "      <th>state</th>\n",
       "      <th>site name</th>\n",
       "      <th>city</th>\n",
       "      <th>county</th>\n",
       "      <th>...</th>\n",
       "      <th>% Some Other Race Alone Population for Whom Poverty  Status Is Determined: Income Below Poverty Level</th>\n",
       "      <th>% Two or More Races Population for Whom Poverty  Status Is Determined: Income Below Poverty Level</th>\n",
       "      <th>% Hispanic or Latino Population for Whom Poverty  Status Is Determined: Income Below Poverty Level</th>\n",
       "      <th>% White Alone, Not Hispanic or Latino Population  for Whom&amp;nbsp; Poverty Status Is Determined: Income Below Poverty Level</th>\n",
       "    </tr>\n",
       "  </thead>\n",
       "  <tbody>\n",
       "    <tr>\n",
       "      <th>83</th>\n",
       "      <td>RI</td>\n",
       "      <td>PICILLO FARM</td>\n",
       "      <td>COVENTRY</td>\n",
       "      <td>KENT, RI</td>\n",
       "      <td>...</td>\n",
       "      <td>20.12</td>\n",
       "      <td>9.17</td>\n",
       "      <td>9.8</td>\n",
       "      <td>7.41</td>\n",
       "    </tr>\n",
       "    <tr>\n",
       "      <th>566</th>\n",
       "      <td>KY</td>\n",
       "      <td>B.F. GOODRICH</td>\n",
       "      <td>CALVERT CITY</td>\n",
       "      <td>MARSHALL, KY</td>\n",
       "      <td>...</td>\n",
       "      <td>31.82</td>\n",
       "      <td>4.99</td>\n",
       "      <td>2.95</td>\n",
       "      <td>10.5</td>\n",
       "    </tr>\n",
       "    <tr>\n",
       "      <th>969</th>\n",
       "      <td>TX</td>\n",
       "      <td>CONROE CREOSOTING CO.</td>\n",
       "      <td>CONROE</td>\n",
       "      <td>MONTGOMERY, TX</td>\n",
       "      <td>...</td>\n",
       "      <td>15.15</td>\n",
       "      <td>11.78</td>\n",
       "      <td>17.5</td>\n",
       "      <td>6.19</td>\n",
       "    </tr>\n",
       "    <tr>\n",
       "      <th>500</th>\n",
       "      <td>FL</td>\n",
       "      <td>AMERICAN CREOSOTE WORKS, INC. (PENSACOLA PLANT)</td>\n",
       "      <td>PENSACOLA</td>\n",
       "      <td>ESCAMBIA, FL</td>\n",
       "      <td>...</td>\n",
       "      <td>29.32</td>\n",
       "      <td>22.52</td>\n",
       "      <td>21.05</td>\n",
       "      <td>9.98</td>\n",
       "    </tr>\n",
       "    <tr>\n",
       "      <th>143</th>\n",
       "      <td>NJ</td>\n",
       "      <td>HIGGINS DISPOSAL</td>\n",
       "      <td>KINGSTON</td>\n",
       "      <td>SOMERSET, NJ</td>\n",
       "      <td>...</td>\n",
       "      <td>18.65</td>\n",
       "      <td>9.61</td>\n",
       "      <td>9.68</td>\n",
       "      <td>3.26</td>\n",
       "    </tr>\n",
       "  </tbody>\n",
       "</table>\n",
       "<p>5 rows × 39 columns</p>\n",
       "</div>"
      ],
      "text/plain": [
       "    state                                        site name          city  \\\n",
       "83     RI                                     PICILLO FARM      COVENTRY   \n",
       "566    KY                                    B.F. GOODRICH  CALVERT CITY   \n",
       "969    TX                            CONROE CREOSOTING CO.        CONROE   \n",
       "500    FL  AMERICAN CREOSOTE WORKS, INC. (PENSACOLA PLANT)     PENSACOLA   \n",
       "143    NJ                                 HIGGINS DISPOSAL      KINGSTON   \n",
       "\n",
       "             county  ...  \\\n",
       "83         KENT, RI  ...   \n",
       "566    MARSHALL, KY  ...   \n",
       "969  MONTGOMERY, TX  ...   \n",
       "500    ESCAMBIA, FL  ...   \n",
       "143    SOMERSET, NJ  ...   \n",
       "\n",
       "    % Some Other Race Alone Population for Whom Poverty  Status Is Determined: Income Below Poverty Level  \\\n",
       "83                                               20.12                                                      \n",
       "566                                              31.82                                                      \n",
       "969                                              15.15                                                      \n",
       "500                                              29.32                                                      \n",
       "143                                              18.65                                                      \n",
       "\n",
       "     % Two or More Races Population for Whom Poverty  Status Is Determined: Income Below Poverty Level  \\\n",
       "83                                                9.17                                                   \n",
       "566                                               4.99                                                   \n",
       "969                                              11.78                                                   \n",
       "500                                              22.52                                                   \n",
       "143                                               9.61                                                   \n",
       "\n",
       "    % Hispanic or Latino Population for Whom Poverty  Status Is Determined: Income Below Poverty Level  \\\n",
       "83                                                 9.8                                                   \n",
       "566                                               2.95                                                   \n",
       "969                                               17.5                                                   \n",
       "500                                              21.05                                                   \n",
       "143                                               9.68                                                   \n",
       "\n",
       "    % White Alone, Not Hispanic or Latino Population  for Whom&nbsp; Poverty Status Is Determined: Income Below Poverty Level  \n",
       "83                                                7.41                                                                         \n",
       "566                                               10.5                                                                         \n",
       "969                                               6.19                                                                         \n",
       "500                                               9.98                                                                         \n",
       "143                                               3.26                                                                         \n",
       "\n",
       "[5 rows x 39 columns]"
      ]
     },
     "execution_count": 79,
     "metadata": {},
     "output_type": "execute_result"
    }
   ],
   "source": [
    "county_df = pd.merge(npl_df, acs_df, on='county', how='left')\n",
    "county_df = county_df.sort_values(by=['county'])\n",
    "county_df.sample(n=5)"
   ]
  },
  {
   "cell_type": "code",
   "execution_count": 80,
   "metadata": {},
   "outputs": [
    {
     "data": {
      "text/plain": [
       "3735"
      ]
     },
     "execution_count": 80,
     "metadata": {},
     "output_type": "execute_result"
    }
   ],
   "source": [
    "county_df.isna().sum().sum()"
   ]
  },
  {
   "cell_type": "markdown",
   "metadata": {},
   "source": [
    "# Data Analysis & Results (EDA)"
   ]
  },
  {
   "cell_type": "markdown",
   "metadata": {},
   "source": [
    "### Median Household Income"
   ]
  },
  {
   "cell_type": "markdown",
   "metadata": {},
   "source": [
    "Let's narrow down the scope of our dataset for this portion - we'll create a subset using just the relevant variables, including county, site name, and median household income. We'll also drop any rows in the subset with missing data for median household income, as this is essential to our current exploration."
   ]
  },
  {
   "cell_type": "code",
   "execution_count": 81,
   "metadata": {},
   "outputs": [
    {
     "data": {
      "text/html": [
       "<div>\n",
       "<style scoped>\n",
       "    .dataframe tbody tr th:only-of-type {\n",
       "        vertical-align: middle;\n",
       "    }\n",
       "\n",
       "    .dataframe tbody tr th {\n",
       "        vertical-align: top;\n",
       "    }\n",
       "\n",
       "    .dataframe thead th {\n",
       "        text-align: right;\n",
       "    }\n",
       "</style>\n",
       "<table border=\"1\" class=\"dataframe\">\n",
       "  <thead>\n",
       "    <tr style=\"text-align: right;\">\n",
       "      <th></th>\n",
       "      <th>site name</th>\n",
       "      <th>county</th>\n",
       "      <th>median household income</th>\n",
       "    </tr>\n",
       "  </thead>\n",
       "  <tbody>\n",
       "    <tr>\n",
       "      <th>1094</th>\n",
       "      <td>BRODERICK WOOD PRODUCTS</td>\n",
       "      <td>ADAMS, CO</td>\n",
       "      <td>71202</td>\n",
       "    </tr>\n",
       "    <tr>\n",
       "      <th>1107</th>\n",
       "      <td>ROCKY MOUNTAIN ARSENAL (USARMY)</td>\n",
       "      <td>ADAMS, CO</td>\n",
       "      <td>71202</td>\n",
       "    </tr>\n",
       "    <tr>\n",
       "      <th>...</th>\n",
       "      <td>...</td>\n",
       "      <td>...</td>\n",
       "      <td>...</td>\n",
       "    </tr>\n",
       "    <tr>\n",
       "      <th>461</th>\n",
       "      <td>LANGLEY AIR FORCE BASE/NASA LANGLEY RESEARCH C...</td>\n",
       "      <td>YORK, VA</td>\n",
       "      <td>92069</td>\n",
       "    </tr>\n",
       "    <tr>\n",
       "      <th>1152</th>\n",
       "      <td>YUMA MARINE CORPS AIR STATION</td>\n",
       "      <td>YUMA, AZ</td>\n",
       "      <td>45243</td>\n",
       "    </tr>\n",
       "  </tbody>\n",
       "</table>\n",
       "<p>1270 rows × 3 columns</p>\n",
       "</div>"
      ],
      "text/plain": [
       "                                              site name     county  \\\n",
       "1094                            BRODERICK WOOD PRODUCTS  ADAMS, CO   \n",
       "1107                    ROCKY MOUNTAIN ARSENAL (USARMY)  ADAMS, CO   \n",
       "...                                                 ...        ...   \n",
       "461   LANGLEY AIR FORCE BASE/NASA LANGLEY RESEARCH C...   YORK, VA   \n",
       "1152                      YUMA MARINE CORPS AIR STATION   YUMA, AZ   \n",
       "\n",
       "      median household income  \n",
       "1094                    71202  \n",
       "1107                    71202  \n",
       "...                       ...  \n",
       "461                     92069  \n",
       "1152                    45243  \n",
       "\n",
       "[1270 rows x 3 columns]"
      ]
     },
     "execution_count": 81,
     "metadata": {},
     "output_type": "execute_result"
    }
   ],
   "source": [
    "mhi_df = county_df[['site name', 'county', 'Median Household Income (In 2019 Inflation Adjusted Dollars):']]\n",
    "mhi_df.rename({'Median Household Income (In 2019 Inflation Adjusted Dollars):': 'median household income'}, axis=1, inplace=True)\n",
    "mhi_df = mhi_df.dropna(subset=['median household income'])\n",
    "mhi_df['median household income'] = mhi_df['median household income'].astype(int)\n",
    "mhi_df"
   ]
  },
  {
   "cell_type": "markdown",
   "metadata": {},
   "source": [
    "Visualizing the distribution of median household income for all of the relevant counties might be difficult - we have thousands of observations. We'll create two more subsets and compare their distributions:\n",
    "1. 10 counties with the most NPL sites\n",
    "2. 10 counties with the least NPL sites\n",
    "\n",
    "We can start by getting a list of counties in order of their frequency in the dataset; we'll use the .value_counts() and .index.tolist() methods."
   ]
  },
  {
   "cell_type": "code",
   "execution_count": 82,
   "metadata": {},
   "outputs": [
    {
     "data": {
      "text/plain": [
       "county         \n",
       "SANTA CLARA, CA    21\n",
       "MONTGOMERY, PA     17\n",
       "                   ..\n",
       "HIDALGO, TX         1\n",
       "YUMA, AZ            1\n",
       "Length: 615, dtype: int64"
      ]
     },
     "execution_count": 82,
     "metadata": {},
     "output_type": "execute_result"
    }
   ],
   "source": [
    "mhi_df.value_counts(['county'])"
   ]
  },
  {
   "cell_type": "code",
   "execution_count": 83,
   "metadata": {},
   "outputs": [],
   "source": [
    "counties = mhi_df['county'].value_counts().index.tolist()"
   ]
  },
  {
   "cell_type": "markdown",
   "metadata": {},
   "source": [
    "Now let's create the subsets by slicing the list into two lists of 10 counties."
   ]
  },
  {
   "cell_type": "code",
   "execution_count": 84,
   "metadata": {},
   "outputs": [],
   "source": [
    "top_10 = counties[0:10]\n",
    "bottom_10 = counties[506:516]"
   ]
  },
  {
   "cell_type": "code",
   "execution_count": 85,
   "metadata": {},
   "outputs": [
    {
     "data": {
      "text/plain": [
       "['SANTA CLARA, CA',\n",
       " 'LOS ANGELES, CA',\n",
       " 'MONTGOMERY, PA',\n",
       " 'NASSAU, NY',\n",
       " 'MIDDLESEX, MA',\n",
       " 'MIDDLESEX, NJ',\n",
       " 'HARRIS, TX',\n",
       " 'HILLSBOROUGH, FL',\n",
       " 'NEW CASTLE, DE',\n",
       " 'BURLINGTON, NJ']"
      ]
     },
     "execution_count": 85,
     "metadata": {},
     "output_type": "execute_result"
    }
   ],
   "source": [
    "top_10"
   ]
  },
  {
   "cell_type": "code",
   "execution_count": 86,
   "metadata": {},
   "outputs": [
    {
     "data": {
      "text/html": [
       "<div>\n",
       "<style scoped>\n",
       "    .dataframe tbody tr th:only-of-type {\n",
       "        vertical-align: middle;\n",
       "    }\n",
       "\n",
       "    .dataframe tbody tr th {\n",
       "        vertical-align: top;\n",
       "    }\n",
       "\n",
       "    .dataframe thead th {\n",
       "        text-align: right;\n",
       "    }\n",
       "</style>\n",
       "<table border=\"1\" class=\"dataframe\">\n",
       "  <thead>\n",
       "    <tr style=\"text-align: right;\">\n",
       "      <th></th>\n",
       "      <th>site name</th>\n",
       "      <th>county</th>\n",
       "      <th>median household income</th>\n",
       "    </tr>\n",
       "  </thead>\n",
       "  <tbody>\n",
       "    <tr>\n",
       "      <th>153</th>\n",
       "      <td>LANG PROPERTY</td>\n",
       "      <td>BURLINGTON, NJ</td>\n",
       "      <td>87416</td>\n",
       "    </tr>\n",
       "    <tr>\n",
       "      <th>189</th>\n",
       "      <td>ROEBLING STEEL CO.</td>\n",
       "      <td>BURLINGTON, NJ</td>\n",
       "      <td>87416</td>\n",
       "    </tr>\n",
       "    <tr>\n",
       "      <th>114</th>\n",
       "      <td>CINNAMINSON TOWNSHIP (BLOCK 702) GROUND WATER ...</td>\n",
       "      <td>BURLINGTON, NJ</td>\n",
       "      <td>87416</td>\n",
       "    </tr>\n",
       "    <tr>\n",
       "      <th>152</th>\n",
       "      <td>LANDFILL &amp; DEVELOPMENT CO.</td>\n",
       "      <td>BURLINGTON, NJ</td>\n",
       "      <td>87416</td>\n",
       "    </tr>\n",
       "    <tr>\n",
       "      <th>117</th>\n",
       "      <td>COSDEN CHEMICAL COATINGS CORP.</td>\n",
       "      <td>BURLINGTON, NJ</td>\n",
       "      <td>87416</td>\n",
       "    </tr>\n",
       "  </tbody>\n",
       "</table>\n",
       "</div>"
      ],
      "text/plain": [
       "                                             site name          county  \\\n",
       "153                                      LANG PROPERTY  BURLINGTON, NJ   \n",
       "189                                 ROEBLING STEEL CO.  BURLINGTON, NJ   \n",
       "114  CINNAMINSON TOWNSHIP (BLOCK 702) GROUND WATER ...  BURLINGTON, NJ   \n",
       "152                         LANDFILL & DEVELOPMENT CO.  BURLINGTON, NJ   \n",
       "117                     COSDEN CHEMICAL COATINGS CORP.  BURLINGTON, NJ   \n",
       "\n",
       "     median household income  \n",
       "153                    87416  \n",
       "189                    87416  \n",
       "114                    87416  \n",
       "152                    87416  \n",
       "117                    87416  "
      ]
     },
     "execution_count": 86,
     "metadata": {},
     "output_type": "execute_result"
    }
   ],
   "source": [
    "mhi_top_df = mhi_df[mhi_df['county'].isin(top_10)]\n",
    "#mhi_df[mhi_df['county'] == 'MONTGOMERY, PA']\n",
    "mhi_top_df.head()"
   ]
  },
  {
   "cell_type": "code",
   "execution_count": 93,
   "metadata": {},
   "outputs": [
    {
     "data": {
      "text/plain": [
       "Text(0, 0.5, 'County')"
      ]
     },
     "execution_count": 93,
     "metadata": {},
     "output_type": "execute_result"
    },
    {
     "data": {
      "image/png": "[encoded data removed]",
      "text/plain": [
       "<Figure size 432x288 with 1 Axes>"
      ]
     },
     "metadata": {
      "needs_background": "light"
     },
     "output_type": "display_data"
    }
   ],
   "source": [
    "ax = sns.barplot(x=\"median household income\", y=\"county\", data=mhi_top_df)\n",
    "\n",
    "# add title and axis labels (modify x-axis label)\n",
    "ax.set_title('Median Household Income in Counties with Most NPL Sites')\n",
    "ax.set_xlabel('Median Household Income (in USD)')\n",
    "ax.set_ylabel('County')"
   ]
  },
  {
   "cell_type": "code",
   "execution_count": 88,
   "metadata": {},
   "outputs": [
    {
     "data": {
      "text/plain": [
       "['LAKE, OR',\n",
       " 'HANCOCK, ME',\n",
       " 'PARKER, TX',\n",
       " 'CALHOUN, TX',\n",
       " 'ALLEGANY, MD',\n",
       " 'CLARK, IL',\n",
       " 'BELL, TX',\n",
       " 'SAN BENITO, CA',\n",
       " 'CUMBERLAND, PA',\n",
       " 'MIFFLIN, PA']"
      ]
     },
     "execution_count": 88,
     "metadata": {},
     "output_type": "execute_result"
    }
   ],
   "source": [
    "bottom_10"
   ]
  },
  {
   "cell_type": "code",
   "execution_count": 89,
   "metadata": {},
   "outputs": [],
   "source": [
    "mhi_bottom_df = mhi_df[mhi_df['county'].isin(bottom_10)]"
   ]
  },
  {
   "cell_type": "code",
   "execution_count": 92,
   "metadata": {},
   "outputs": [
    {
     "data": {
      "text/plain": [
       "Text(0, 0.5, 'County')"
      ]
     },
     "execution_count": 92,
     "metadata": {},
     "output_type": "execute_result"
    },
    {
     "data": {
      "image/png": "[encoded data removed]",
      "text/plain": [
       "<Figure size 432x288 with 1 Axes>"
      ]
     },
     "metadata": {
      "needs_background": "light"
     },
     "output_type": "display_data"
    }
   ],
   "source": [
    "ax = sns.barplot(x=\"median household income\", y=\"county\", data=mhi_bottom_df)\n",
    "\n",
    "# add title and axis labels (modify x-axis label)\n",
    "ax.set_title('Median Household Income in Counties with Fewest NPL Sites')\n",
    "ax.set_xlabel('Median Household Income (in USD)')\n",
    "ax.set_ylabel('County')"
   ]
  },
  {
   "cell_type": "code",
   "execution_count": 91,
   "metadata": {},
   "outputs": [
    {
     "data": {
      "image/png": "[encoded data removed]",
      "text/plain": [
       "<Figure size 1440x360 with 1 Axes>"
      ]
     },
     "metadata": {
      "needs_background": "light"
     },
     "output_type": "display_data"
    }
   ],
   "source": [
    "plt.figure(figsize=(20,5))\n",
    "ax = sns.countplot(x='state', data=npl_df);\n",
    "ax.set_xticklabels(ax.get_xticklabels())\n",
    "ax.set(xlabel='State', ylabel='Number of NPL Sites')\n",
    "plt.show()"
   ]
  }
 ],
 "metadata": {
  "kernelspec": {
   "display_name": "Python 3",
   "language": "python",
   "name": "python3"
  },
  "language_info": {
   "codemirror_mode": {
    "name": "ipython",
    "version": 3
   },
   "file_extension": ".py",
   "mimetype": "text/x-python",
   "name": "python",
   "nbconvert_exporter": "python",
   "pygments_lexer": "ipython3",
   "version": "3.8.6"
  }
 },
 "nbformat": 4,
 "nbformat_minor": 2
}
