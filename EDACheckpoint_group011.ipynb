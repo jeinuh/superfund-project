{
 "cells": [
  {
   "cell_type": "markdown",
   "metadata": {},
   "source": [
    "# COGS 108 - EDA Checkpoint"
   ]
  },
  {
   "cell_type": "markdown",
   "metadata": {},
   "source": [
    "# Names\n",
    "\n",
    "- Victoria Thai\n",
    "- Hannah Yick\n",
    "- Jane Dinh\n",
    "- Natasha Supangkat\n",
    "- Gabriel Ramiro"
   ]
  },
  {
   "cell_type": "markdown",
   "metadata": {},
   "source": [
    "<a id='research_question'></a>\n",
    "# Research Question"
   ]
  },
  {
   "cell_type": "markdown",
   "metadata": {},
   "source": [
    "What trends can be found between a county’s designation of a superfund site and its socioeconomic/demographic trends? Does the demographic makeup of a county influence the amount of time between Superfund designation and the completion of the remediation process?"
   ]
  },
  {
   "cell_type": "markdown",
   "metadata": {},
   "source": [
    "# Setup"
   ]
  },
  {
   "cell_type": "code",
   "execution_count": 1,
   "metadata": {},
   "outputs": [],
   "source": [
    "#Imports \n",
    "import pandas as pd\n",
    "import numpy as np\n",
    "\n",
    "#Graphing\n",
    "import seaborn as sns\n",
    "import matplotlib as mpl\n",
    "import matplotlib.pyplot as plt\n",
    "%matplotlib inline\n",
    "\n",
    "#Statistics\n",
    "import patsy\n",
    "import statsmodels.api as sm\n",
    "import scipy.stats as stats\n",
    "from scipy.stats import ttest_ind, chisquare, normaltest\n",
    "\n",
    "#Webscraping\n",
    "import requests \n",
    "import bs4\n",
    "from bs4 import BeautifulSoup\n",
    "\n",
    "import warnings\n",
    "warnings.filterwarnings('ignore')\n",
    "\n",
    "# Read in the data and store it within a data frame\n",
    "#npl_df = npl_df = pd.read_csv('https://raw.githubusercontent.com/COGS108/group011_sp21/main/All%20current%20Final%20NPL%20Sites%20(FOIA%204).csv?token=AI2VKGQIIMQPBWGAZGPKD5DASR4CO') \n",
    "gdrive_npl_id = '1oDIJ_v9s5i5THULln_C-N4o3Aiz0e7mu'\n",
    "npl_df = pd.read_csv(f'https://docs.google.com/uc?id={gdrive_npl_id}&export=download', encoding='ISO-8859-1')\n",
    "gdrive_acs_id = '1kNWY1Kc4RhQ9ttK7dTYtj0fhHE3BXOGh'\n",
    "acs_df = pd.read_csv(f'https://docs.google.com/uc?id={gdrive_acs_id}&export=download', encoding='ISO-8859-1')\n",
    "\n",
    "pd.options.display.max_rows = 5\n",
    "pd.options.display.max_columns = 8"
   ]
  },
  {
   "cell_type": "markdown",
   "metadata": {},
   "source": [
    "# Data Cleaning"
   ]
  },
  {
   "cell_type": "markdown",
   "metadata": {},
   "source": [
    "Data cleaning from Checkpoint 1."
   ]
  },
  {
   "cell_type": "code",
   "execution_count": 2,
   "metadata": {},
   "outputs": [],
   "source": [
    "npl_df = npl_df.drop([\"Region\", \"Site ID\", \"EPA ID\", \"Address\", \"Zip\", \"FF Ind\", \"Latitude\", \"Longitude\"], axis=1)"
   ]
  },
  {
   "cell_type": "code",
   "execution_count": 3,
   "metadata": {},
   "outputs": [],
   "source": [
    "acs_df = acs_df.drop([0], axis=0)\n",
    "acs_df.reset_index(drop=True, inplace=True)\n",
    "\n",
    "acs_df.dropna(axis = 0, how = 'all', inplace = True)\n",
    "acs_df.dropna(axis = 1, how = 'all', inplace = True)\n",
    "\n",
    "acs_df.drop(labels=['FIPS', 'Geographic Identifier', 'Summary Level', 'Geographic Component', \n",
    "                    'File identification', 'Logical Record Number', 'State (FIPS Code)', \n",
    "                    'County of current residence', 'Total Population.1', 'Population Density (Per Sq. Mile)', \n",
    "                    'Area (Land)', 'Total Population:', 'Total Population: White Alone', \n",
    "                    'Total Population: Black or African American Alone', \n",
    "                    'Total Population: American Indian and Alaska Native Alone', 'Total Population: Asian Alone', \n",
    "                    'Total Population: Native Hawaiian and Other Pacific Islander Alone', \n",
    "                    'Total Population: Some Other Race Alone', 'Total Population: Two or More Races'], axis=1, inplace = True)\n",
    "acs_df.drop(index=acs_df[acs_df['State Postal Abbreviation'] == 'pr'].index, inplace=True)\n",
    "acs_df.drop(list(acs_df.filter(regex = 'At or Above Poverty Level')), axis = 1, inplace = True)\n",
    "\n",
    "acs_df = acs_df.iloc[:, np.r_[0:11, 12:23, 34, 37, 40, 43, 46, 49, 52, 55, 58, 61, 64, 67]]"
   ]
  },
  {
   "cell_type": "markdown",
   "metadata": {},
   "source": [
    "We'll need to adjust our dataset now that we have a better understanding of our data and how we want to work with it. Here, we'll work towards merging our two datasets. Let's start by standardizing the datasets - first, let's take a look at our NPL dataset."
   ]
  },
  {
   "cell_type": "code",
   "execution_count": 4,
   "metadata": {
    "scrolled": true
   },
   "outputs": [
    {
     "data": {
      "text/html": [
       "<div>\n",
       "<style scoped>\n",
       "    .dataframe tbody tr th:only-of-type {\n",
       "        vertical-align: middle;\n",
       "    }\n",
       "\n",
       "    .dataframe tbody tr th {\n",
       "        vertical-align: top;\n",
       "    }\n",
       "\n",
       "    .dataframe thead th {\n",
       "        text-align: right;\n",
       "    }\n",
       "</style>\n",
       "<table border=\"1\" class=\"dataframe\">\n",
       "  <thead>\n",
       "    <tr style=\"text-align: right;\">\n",
       "      <th></th>\n",
       "      <th>State</th>\n",
       "      <th>Site Name</th>\n",
       "      <th>City</th>\n",
       "      <th>County</th>\n",
       "      <th>NPL Status Date</th>\n",
       "    </tr>\n",
       "  </thead>\n",
       "  <tbody>\n",
       "    <tr>\n",
       "      <th>0</th>\n",
       "      <td>CT</td>\n",
       "      <td>BARKHAMSTED-NEW HARTFORD LANDFILL</td>\n",
       "      <td>BARKHAMSTED</td>\n",
       "      <td>LITCHFIELD</td>\n",
       "      <td>10/4/1989</td>\n",
       "    </tr>\n",
       "    <tr>\n",
       "      <th>1</th>\n",
       "      <td>CT</td>\n",
       "      <td>BEACON HEIGHTS LANDFILL</td>\n",
       "      <td>BEACON FALLS</td>\n",
       "      <td>NEW HAVEN</td>\n",
       "      <td>9/8/1983</td>\n",
       "    </tr>\n",
       "    <tr>\n",
       "      <th>2</th>\n",
       "      <td>CT</td>\n",
       "      <td>DURHAM MEADOWS</td>\n",
       "      <td>DURHAM</td>\n",
       "      <td>MIDDLESEX</td>\n",
       "      <td>10/4/1989</td>\n",
       "    </tr>\n",
       "    <tr>\n",
       "      <th>3</th>\n",
       "      <td>CT</td>\n",
       "      <td>GALLUP'S QUARRY</td>\n",
       "      <td>PLAINFIELD</td>\n",
       "      <td>WINDHAM</td>\n",
       "      <td>10/4/1989</td>\n",
       "    </tr>\n",
       "    <tr>\n",
       "      <th>4</th>\n",
       "      <td>CT</td>\n",
       "      <td>KELLOGG-DEERING WELL FIELD</td>\n",
       "      <td>NORWALK</td>\n",
       "      <td>FAIRFIELD</td>\n",
       "      <td>9/21/1984</td>\n",
       "    </tr>\n",
       "  </tbody>\n",
       "</table>\n",
       "</div>"
      ],
      "text/plain": [
       "  State                          Site Name          City      County  \\\n",
       "0    CT  BARKHAMSTED-NEW HARTFORD LANDFILL   BARKHAMSTED  LITCHFIELD   \n",
       "1    CT            BEACON HEIGHTS LANDFILL  BEACON FALLS   NEW HAVEN   \n",
       "2    CT                     DURHAM MEADOWS        DURHAM   MIDDLESEX   \n",
       "3    CT                    GALLUP'S QUARRY    PLAINFIELD     WINDHAM   \n",
       "4    CT         KELLOGG-DEERING WELL FIELD       NORWALK   FAIRFIELD   \n",
       "\n",
       "  NPL Status Date  \n",
       "0       10/4/1989  \n",
       "1        9/8/1983  \n",
       "2       10/4/1989  \n",
       "3       10/4/1989  \n",
       "4       9/21/1984  "
      ]
     },
     "execution_count": 4,
     "metadata": {},
     "output_type": "execute_result"
    }
   ],
   "source": [
    "npl_df.head()"
   ]
  },
  {
   "cell_type": "markdown",
   "metadata": {},
   "source": [
    "We'll convert the column names into lowercase, and continue this use of lowercase column names as we progress with both datasets as a standardization measure."
   ]
  },
  {
   "cell_type": "code",
   "execution_count": 5,
   "metadata": {
    "scrolled": true
   },
   "outputs": [
    {
     "data": {
      "text/html": [
       "<div>\n",
       "<style scoped>\n",
       "    .dataframe tbody tr th:only-of-type {\n",
       "        vertical-align: middle;\n",
       "    }\n",
       "\n",
       "    .dataframe tbody tr th {\n",
       "        vertical-align: top;\n",
       "    }\n",
       "\n",
       "    .dataframe thead th {\n",
       "        text-align: right;\n",
       "    }\n",
       "</style>\n",
       "<table border=\"1\" class=\"dataframe\">\n",
       "  <thead>\n",
       "    <tr style=\"text-align: right;\">\n",
       "      <th></th>\n",
       "      <th>state</th>\n",
       "      <th>site name</th>\n",
       "      <th>city</th>\n",
       "      <th>county</th>\n",
       "      <th>npl status date</th>\n",
       "    </tr>\n",
       "  </thead>\n",
       "  <tbody>\n",
       "    <tr>\n",
       "      <th>0</th>\n",
       "      <td>CT</td>\n",
       "      <td>BARKHAMSTED-NEW HARTFORD LANDFILL</td>\n",
       "      <td>BARKHAMSTED</td>\n",
       "      <td>LITCHFIELD</td>\n",
       "      <td>10/4/1989</td>\n",
       "    </tr>\n",
       "    <tr>\n",
       "      <th>1</th>\n",
       "      <td>CT</td>\n",
       "      <td>BEACON HEIGHTS LANDFILL</td>\n",
       "      <td>BEACON FALLS</td>\n",
       "      <td>NEW HAVEN</td>\n",
       "      <td>9/8/1983</td>\n",
       "    </tr>\n",
       "    <tr>\n",
       "      <th>2</th>\n",
       "      <td>CT</td>\n",
       "      <td>DURHAM MEADOWS</td>\n",
       "      <td>DURHAM</td>\n",
       "      <td>MIDDLESEX</td>\n",
       "      <td>10/4/1989</td>\n",
       "    </tr>\n",
       "    <tr>\n",
       "      <th>3</th>\n",
       "      <td>CT</td>\n",
       "      <td>GALLUP'S QUARRY</td>\n",
       "      <td>PLAINFIELD</td>\n",
       "      <td>WINDHAM</td>\n",
       "      <td>10/4/1989</td>\n",
       "    </tr>\n",
       "    <tr>\n",
       "      <th>4</th>\n",
       "      <td>CT</td>\n",
       "      <td>KELLOGG-DEERING WELL FIELD</td>\n",
       "      <td>NORWALK</td>\n",
       "      <td>FAIRFIELD</td>\n",
       "      <td>9/21/1984</td>\n",
       "    </tr>\n",
       "  </tbody>\n",
       "</table>\n",
       "</div>"
      ],
      "text/plain": [
       "  state                          site name          city      county  \\\n",
       "0    CT  BARKHAMSTED-NEW HARTFORD LANDFILL   BARKHAMSTED  LITCHFIELD   \n",
       "1    CT            BEACON HEIGHTS LANDFILL  BEACON FALLS   NEW HAVEN   \n",
       "2    CT                     DURHAM MEADOWS        DURHAM   MIDDLESEX   \n",
       "3    CT                    GALLUP'S QUARRY    PLAINFIELD     WINDHAM   \n",
       "4    CT         KELLOGG-DEERING WELL FIELD       NORWALK   FAIRFIELD   \n",
       "\n",
       "  npl status date  \n",
       "0       10/4/1989  \n",
       "1        9/8/1983  \n",
       "2       10/4/1989  \n",
       "3       10/4/1989  \n",
       "4       9/21/1984  "
      ]
     },
     "execution_count": 5,
     "metadata": {},
     "output_type": "execute_result"
    }
   ],
   "source": [
    "npl_df.columns = ['state', 'site name', 'city', 'county', 'npl status date']\n",
    "npl_df.head()"
   ]
  },
  {
   "cell_type": "markdown",
   "metadata": {},
   "source": [
    "Let's examine the dataset and check for missingness."
   ]
  },
  {
   "cell_type": "code",
   "execution_count": 6,
   "metadata": {},
   "outputs": [
    {
     "data": {
      "text/plain": [
       "20"
      ]
     },
     "execution_count": 6,
     "metadata": {},
     "output_type": "execute_result"
    }
   ],
   "source": [
    "npl_df.isna().sum().sum()"
   ]
  },
  {
   "cell_type": "code",
   "execution_count": 7,
   "metadata": {},
   "outputs": [
    {
     "data": {
      "text/plain": [
       "state              False\n",
       "site name          False\n",
       "city               False\n",
       "county              True\n",
       "npl status date    False\n",
       "dtype: bool"
      ]
     },
     "execution_count": 7,
     "metadata": {},
     "output_type": "execute_result"
    }
   ],
   "source": [
    "npl_df.isna().any()"
   ]
  },
  {
   "cell_type": "markdown",
   "metadata": {},
   "source": [
    "From this, we can see that all the missing data is in the County variable."
   ]
  },
  {
   "cell_type": "code",
   "execution_count": 8,
   "metadata": {},
   "outputs": [
    {
     "data": {
      "text/html": [
       "<div>\n",
       "<style scoped>\n",
       "    .dataframe tbody tr th:only-of-type {\n",
       "        vertical-align: middle;\n",
       "    }\n",
       "\n",
       "    .dataframe tbody tr th {\n",
       "        vertical-align: top;\n",
       "    }\n",
       "\n",
       "    .dataframe thead th {\n",
       "        text-align: right;\n",
       "    }\n",
       "</style>\n",
       "<table border=\"1\" class=\"dataframe\">\n",
       "  <thead>\n",
       "    <tr style=\"text-align: right;\">\n",
       "      <th></th>\n",
       "      <th>state</th>\n",
       "      <th>site name</th>\n",
       "      <th>city</th>\n",
       "      <th>county</th>\n",
       "      <th>npl status date</th>\n",
       "    </tr>\n",
       "  </thead>\n",
       "  <tbody>\n",
       "    <tr>\n",
       "      <th>266</th>\n",
       "      <td>NY</td>\n",
       "      <td>NEWTOWN CREEK</td>\n",
       "      <td>BROOKLYN, QUEENS</td>\n",
       "      <td>NaN</td>\n",
       "      <td>9/29/2010</td>\n",
       "    </tr>\n",
       "    <tr>\n",
       "      <th>303</th>\n",
       "      <td>PR</td>\n",
       "      <td>FIBERS PUBLIC SUPPLY WELLS</td>\n",
       "      <td>JOBOS</td>\n",
       "      <td>NaN</td>\n",
       "      <td>9/21/1984</td>\n",
       "    </tr>\n",
       "    <tr>\n",
       "      <th>...</th>\n",
       "      <td>...</td>\n",
       "      <td>...</td>\n",
       "      <td>...</td>\n",
       "      <td>...</td>\n",
       "      <td>...</td>\n",
       "    </tr>\n",
       "    <tr>\n",
       "      <th>1263</th>\n",
       "      <td>ID</td>\n",
       "      <td>EASTERN MICHAUD FLATS CONTAMINATION</td>\n",
       "      <td>POCATELLO</td>\n",
       "      <td>NaN</td>\n",
       "      <td>8/30/1990</td>\n",
       "    </tr>\n",
       "    <tr>\n",
       "      <th>1264</th>\n",
       "      <td>ID</td>\n",
       "      <td>IDAHO NATIONAL ENGINEERING LABORATORY (USDOE)</td>\n",
       "      <td>IDAHO FALLS</td>\n",
       "      <td>NaN</td>\n",
       "      <td>11/21/1989</td>\n",
       "    </tr>\n",
       "  </tbody>\n",
       "</table>\n",
       "<p>20 rows × 5 columns</p>\n",
       "</div>"
      ],
      "text/plain": [
       "     state                                      site name              city  \\\n",
       "266     NY                                  NEWTOWN CREEK  BROOKLYN, QUEENS   \n",
       "303     PR                     FIBERS PUBLIC SUPPLY WELLS             JOBOS   \n",
       "...    ...                                            ...               ...   \n",
       "1263    ID            EASTERN MICHAUD FLATS CONTAMINATION         POCATELLO   \n",
       "1264    ID  IDAHO NATIONAL ENGINEERING LABORATORY (USDOE)       IDAHO FALLS   \n",
       "\n",
       "     county npl status date  \n",
       "266     NaN       9/29/2010  \n",
       "303     NaN       9/21/1984  \n",
       "...     ...             ...  \n",
       "1263    NaN       8/30/1990  \n",
       "1264    NaN      11/21/1989  \n",
       "\n",
       "[20 rows x 5 columns]"
      ]
     },
     "execution_count": 8,
     "metadata": {},
     "output_type": "execute_result"
    }
   ],
   "source": [
    "#subset to just rows with missing data\n",
    "npl_df[npl_df.isnull().any(axis=1)]"
   ]
  },
  {
   "cell_type": "markdown",
   "metadata": {},
   "source": [
    "In addition, we added a Duration column that will come into play as we plot our data."
   ]
  },
  {
   "cell_type": "code",
   "execution_count": 9,
   "metadata": {},
   "outputs": [
    {
     "data": {
      "text/html": [
       "<div>\n",
       "<style scoped>\n",
       "    .dataframe tbody tr th:only-of-type {\n",
       "        vertical-align: middle;\n",
       "    }\n",
       "\n",
       "    .dataframe tbody tr th {\n",
       "        vertical-align: top;\n",
       "    }\n",
       "\n",
       "    .dataframe thead th {\n",
       "        text-align: right;\n",
       "    }\n",
       "</style>\n",
       "<table border=\"1\" class=\"dataframe\">\n",
       "  <thead>\n",
       "    <tr style=\"text-align: right;\">\n",
       "      <th></th>\n",
       "      <th>state</th>\n",
       "      <th>site name</th>\n",
       "      <th>city</th>\n",
       "      <th>county</th>\n",
       "      <th>npl status date</th>\n",
       "      <th>duration</th>\n",
       "    </tr>\n",
       "  </thead>\n",
       "  <tbody>\n",
       "    <tr>\n",
       "      <th>0</th>\n",
       "      <td>CT</td>\n",
       "      <td>BARKHAMSTED-NEW HARTFORD LANDFILL</td>\n",
       "      <td>BARKHAMSTED</td>\n",
       "      <td>LITCHFIELD</td>\n",
       "      <td>10/4/1989</td>\n",
       "      <td>32</td>\n",
       "    </tr>\n",
       "    <tr>\n",
       "      <th>1</th>\n",
       "      <td>CT</td>\n",
       "      <td>BEACON HEIGHTS LANDFILL</td>\n",
       "      <td>BEACON FALLS</td>\n",
       "      <td>NEW HAVEN</td>\n",
       "      <td>9/8/1983</td>\n",
       "      <td>38</td>\n",
       "    </tr>\n",
       "    <tr>\n",
       "      <th>...</th>\n",
       "      <td>...</td>\n",
       "      <td>...</td>\n",
       "      <td>...</td>\n",
       "      <td>...</td>\n",
       "      <td>...</td>\n",
       "      <td>...</td>\n",
       "    </tr>\n",
       "    <tr>\n",
       "      <th>1325</th>\n",
       "      <td>WA</td>\n",
       "      <td>WESTERN PROCESSING CO., INC.</td>\n",
       "      <td>KENT</td>\n",
       "      <td>KING</td>\n",
       "      <td>9/8/1983</td>\n",
       "      <td>38</td>\n",
       "    </tr>\n",
       "    <tr>\n",
       "      <th>1326</th>\n",
       "      <td>WA</td>\n",
       "      <td>WYCKOFF CO./EAGLE HARBOR</td>\n",
       "      <td>BAINBRIDGE ISLAND</td>\n",
       "      <td>KITSAP</td>\n",
       "      <td>7/22/1987</td>\n",
       "      <td>34</td>\n",
       "    </tr>\n",
       "  </tbody>\n",
       "</table>\n",
       "<p>1327 rows × 6 columns</p>\n",
       "</div>"
      ],
      "text/plain": [
       "     state                          site name               city      county  \\\n",
       "0       CT  BARKHAMSTED-NEW HARTFORD LANDFILL        BARKHAMSTED  LITCHFIELD   \n",
       "1       CT            BEACON HEIGHTS LANDFILL       BEACON FALLS   NEW HAVEN   \n",
       "...    ...                                ...                ...         ...   \n",
       "1325    WA       WESTERN PROCESSING CO., INC.               KENT        KING   \n",
       "1326    WA           WYCKOFF CO./EAGLE HARBOR  BAINBRIDGE ISLAND      KITSAP   \n",
       "\n",
       "     npl status date  duration  \n",
       "0          10/4/1989        32  \n",
       "1           9/8/1983        38  \n",
       "...              ...       ...  \n",
       "1325        9/8/1983        38  \n",
       "1326       7/22/1987        34  \n",
       "\n",
       "[1327 rows x 6 columns]"
      ]
     },
     "execution_count": 9,
     "metadata": {},
     "output_type": "execute_result"
    }
   ],
   "source": [
    "npl_df['duration'] = npl_df['npl status date'].str[-4:]\n",
    "npl_df = npl_df.astype({\"duration\": int})\n",
    "npl_df['duration'] = 2021 - npl_df['duration']\n",
    "npl_df"
   ]
  },
  {
   "cell_type": "markdown",
   "metadata": {},
   "source": [
    "Next, let's take a look at our ACS dataset."
   ]
  },
  {
   "cell_type": "code",
   "execution_count": 10,
   "metadata": {},
   "outputs": [
    {
     "data": {
      "text/html": [
       "<div>\n",
       "<style scoped>\n",
       "    .dataframe tbody tr th:only-of-type {\n",
       "        vertical-align: middle;\n",
       "    }\n",
       "\n",
       "    .dataframe tbody tr th {\n",
       "        vertical-align: top;\n",
       "    }\n",
       "\n",
       "    .dataframe thead th {\n",
       "        text-align: right;\n",
       "    }\n",
       "</style>\n",
       "<table border=\"1\" class=\"dataframe\">\n",
       "  <thead>\n",
       "    <tr style=\"text-align: right;\">\n",
       "      <th></th>\n",
       "      <th>Area Name</th>\n",
       "      <th>Qualifying Name</th>\n",
       "      <th>State Postal Abbreviation</th>\n",
       "      <th>Total Population</th>\n",
       "      <th>...</th>\n",
       "      <th>% Some Other Race Alone Population for Whom Poverty  Status Is Determined: Income Below Poverty Level</th>\n",
       "      <th>% Two or More Races Population for Whom Poverty  Status Is Determined: Income Below Poverty Level</th>\n",
       "      <th>% Hispanic or Latino Population for Whom Poverty  Status Is Determined: Income Below Poverty Level</th>\n",
       "      <th>% White Alone, Not Hispanic or Latino Population  for Whom&amp;nbsp; Poverty Status Is Determined: Income Below Poverty Level</th>\n",
       "    </tr>\n",
       "  </thead>\n",
       "  <tbody>\n",
       "    <tr>\n",
       "      <th>0</th>\n",
       "      <td>Autauga County</td>\n",
       "      <td>Autauga County, Alabama</td>\n",
       "      <td>al</td>\n",
       "      <td>55380</td>\n",
       "      <td>...</td>\n",
       "      <td>26.19</td>\n",
       "      <td>16.97</td>\n",
       "      <td>4.37</td>\n",
       "      <td>11.12</td>\n",
       "    </tr>\n",
       "    <tr>\n",
       "      <th>1</th>\n",
       "      <td>Baldwin County</td>\n",
       "      <td>Baldwin County, Alabama</td>\n",
       "      <td>al</td>\n",
       "      <td>212830</td>\n",
       "      <td>...</td>\n",
       "      <td>26.28</td>\n",
       "      <td>10.79</td>\n",
       "      <td>18.41</td>\n",
       "      <td>8.4</td>\n",
       "    </tr>\n",
       "    <tr>\n",
       "      <th>2</th>\n",
       "      <td>Barbour County</td>\n",
       "      <td>Barbour County, Alabama</td>\n",
       "      <td>al</td>\n",
       "      <td>25361</td>\n",
       "      <td>...</td>\n",
       "      <td>50.34</td>\n",
       "      <td>55.85</td>\n",
       "      <td>61.25</td>\n",
       "      <td>14.71</td>\n",
       "    </tr>\n",
       "    <tr>\n",
       "      <th>3</th>\n",
       "      <td>Bibb County</td>\n",
       "      <td>Bibb County, Alabama</td>\n",
       "      <td>al</td>\n",
       "      <td>22493</td>\n",
       "      <td>...</td>\n",
       "      <td>NaN</td>\n",
       "      <td>0</td>\n",
       "      <td>0</td>\n",
       "      <td>16.34</td>\n",
       "    </tr>\n",
       "    <tr>\n",
       "      <th>4</th>\n",
       "      <td>Blount County</td>\n",
       "      <td>Blount County, Alabama</td>\n",
       "      <td>al</td>\n",
       "      <td>57681</td>\n",
       "      <td>...</td>\n",
       "      <td>2.64</td>\n",
       "      <td>19.1</td>\n",
       "      <td>25.46</td>\n",
       "      <td>12.33</td>\n",
       "    </tr>\n",
       "  </tbody>\n",
       "</table>\n",
       "<p>5 rows × 34 columns</p>\n",
       "</div>"
      ],
      "text/plain": [
       "        Area Name          Qualifying Name State Postal Abbreviation  \\\n",
       "0  Autauga County  Autauga County, Alabama                        al   \n",
       "1  Baldwin County  Baldwin County, Alabama                        al   \n",
       "2  Barbour County  Barbour County, Alabama                        al   \n",
       "3     Bibb County     Bibb County, Alabama                        al   \n",
       "4   Blount County   Blount County, Alabama                        al   \n",
       "\n",
       "  Total Population  ...  \\\n",
       "0            55380  ...   \n",
       "1           212830  ...   \n",
       "2            25361  ...   \n",
       "3            22493  ...   \n",
       "4            57681  ...   \n",
       "\n",
       "  % Some Other Race Alone Population for Whom Poverty  Status Is Determined: Income Below Poverty Level  \\\n",
       "0                                              26.19                                                      \n",
       "1                                              26.28                                                      \n",
       "2                                              50.34                                                      \n",
       "3                                                NaN                                                      \n",
       "4                                               2.64                                                      \n",
       "\n",
       "  % Two or More Races Population for Whom Poverty  Status Is Determined: Income Below Poverty Level  \\\n",
       "0                                              16.97                                                  \n",
       "1                                              10.79                                                  \n",
       "2                                              55.85                                                  \n",
       "3                                                  0                                                  \n",
       "4                                               19.1                                                  \n",
       "\n",
       "  % Hispanic or Latino Population for Whom Poverty  Status Is Determined: Income Below Poverty Level  \\\n",
       "0                                               4.37                                                   \n",
       "1                                              18.41                                                   \n",
       "2                                              61.25                                                   \n",
       "3                                                  0                                                   \n",
       "4                                              25.46                                                   \n",
       "\n",
       "  % White Alone, Not Hispanic or Latino Population  for Whom&nbsp; Poverty Status Is Determined: Income Below Poverty Level  \n",
       "0                                              11.12                                                                         \n",
       "1                                                8.4                                                                         \n",
       "2                                              14.71                                                                         \n",
       "3                                              16.34                                                                         \n",
       "4                                              12.33                                                                         \n",
       "\n",
       "[5 rows x 34 columns]"
      ]
     },
     "execution_count": 10,
     "metadata": {},
     "output_type": "execute_result"
    }
   ],
   "source": [
    "acs_df.head()"
   ]
  },
  {
   "cell_type": "markdown",
   "metadata": {},
   "source": [
    "We'll need to standardize the formatting for the column describing the county of each observation to match that of our NPL datset, which contains just the county name, all uppercase, with no added \"COUNTY\" after the name. We can achieve this using the .upper(), .replace(), and .strip() methods."
   ]
  },
  {
   "cell_type": "code",
   "execution_count": 11,
   "metadata": {},
   "outputs": [
    {
     "data": {
      "text/html": [
       "<div>\n",
       "<style scoped>\n",
       "    .dataframe tbody tr th:only-of-type {\n",
       "        vertical-align: middle;\n",
       "    }\n",
       "\n",
       "    .dataframe tbody tr th {\n",
       "        vertical-align: top;\n",
       "    }\n",
       "\n",
       "    .dataframe thead th {\n",
       "        text-align: right;\n",
       "    }\n",
       "</style>\n",
       "<table border=\"1\" class=\"dataframe\">\n",
       "  <thead>\n",
       "    <tr style=\"text-align: right;\">\n",
       "      <th></th>\n",
       "      <th>county</th>\n",
       "      <th>Qualifying Name</th>\n",
       "      <th>State Postal Abbreviation</th>\n",
       "      <th>Total Population</th>\n",
       "      <th>...</th>\n",
       "      <th>% Some Other Race Alone Population for Whom Poverty  Status Is Determined: Income Below Poverty Level</th>\n",
       "      <th>% Two or More Races Population for Whom Poverty  Status Is Determined: Income Below Poverty Level</th>\n",
       "      <th>% Hispanic or Latino Population for Whom Poverty  Status Is Determined: Income Below Poverty Level</th>\n",
       "      <th>% White Alone, Not Hispanic or Latino Population  for Whom&amp;nbsp; Poverty Status Is Determined: Income Below Poverty Level</th>\n",
       "    </tr>\n",
       "  </thead>\n",
       "  <tbody>\n",
       "    <tr>\n",
       "      <th>0</th>\n",
       "      <td>AUTAUGA</td>\n",
       "      <td>Autauga County, Alabama</td>\n",
       "      <td>al</td>\n",
       "      <td>55380</td>\n",
       "      <td>...</td>\n",
       "      <td>26.19</td>\n",
       "      <td>16.97</td>\n",
       "      <td>4.37</td>\n",
       "      <td>11.12</td>\n",
       "    </tr>\n",
       "    <tr>\n",
       "      <th>1</th>\n",
       "      <td>BALDWIN</td>\n",
       "      <td>Baldwin County, Alabama</td>\n",
       "      <td>al</td>\n",
       "      <td>212830</td>\n",
       "      <td>...</td>\n",
       "      <td>26.28</td>\n",
       "      <td>10.79</td>\n",
       "      <td>18.41</td>\n",
       "      <td>8.4</td>\n",
       "    </tr>\n",
       "    <tr>\n",
       "      <th>2</th>\n",
       "      <td>BARBOUR</td>\n",
       "      <td>Barbour County, Alabama</td>\n",
       "      <td>al</td>\n",
       "      <td>25361</td>\n",
       "      <td>...</td>\n",
       "      <td>50.34</td>\n",
       "      <td>55.85</td>\n",
       "      <td>61.25</td>\n",
       "      <td>14.71</td>\n",
       "    </tr>\n",
       "    <tr>\n",
       "      <th>3</th>\n",
       "      <td>BIBB</td>\n",
       "      <td>Bibb County, Alabama</td>\n",
       "      <td>al</td>\n",
       "      <td>22493</td>\n",
       "      <td>...</td>\n",
       "      <td>NaN</td>\n",
       "      <td>0</td>\n",
       "      <td>0</td>\n",
       "      <td>16.34</td>\n",
       "    </tr>\n",
       "    <tr>\n",
       "      <th>4</th>\n",
       "      <td>BLOUNT</td>\n",
       "      <td>Blount County, Alabama</td>\n",
       "      <td>al</td>\n",
       "      <td>57681</td>\n",
       "      <td>...</td>\n",
       "      <td>2.64</td>\n",
       "      <td>19.1</td>\n",
       "      <td>25.46</td>\n",
       "      <td>12.33</td>\n",
       "    </tr>\n",
       "  </tbody>\n",
       "</table>\n",
       "<p>5 rows × 34 columns</p>\n",
       "</div>"
      ],
      "text/plain": [
       "    county          Qualifying Name State Postal Abbreviation  \\\n",
       "0  AUTAUGA  Autauga County, Alabama                        al   \n",
       "1  BALDWIN  Baldwin County, Alabama                        al   \n",
       "2  BARBOUR  Barbour County, Alabama                        al   \n",
       "3     BIBB     Bibb County, Alabama                        al   \n",
       "4   BLOUNT   Blount County, Alabama                        al   \n",
       "\n",
       "  Total Population  ...  \\\n",
       "0            55380  ...   \n",
       "1           212830  ...   \n",
       "2            25361  ...   \n",
       "3            22493  ...   \n",
       "4            57681  ...   \n",
       "\n",
       "  % Some Other Race Alone Population for Whom Poverty  Status Is Determined: Income Below Poverty Level  \\\n",
       "0                                              26.19                                                      \n",
       "1                                              26.28                                                      \n",
       "2                                              50.34                                                      \n",
       "3                                                NaN                                                      \n",
       "4                                               2.64                                                      \n",
       "\n",
       "  % Two or More Races Population for Whom Poverty  Status Is Determined: Income Below Poverty Level  \\\n",
       "0                                              16.97                                                  \n",
       "1                                              10.79                                                  \n",
       "2                                              55.85                                                  \n",
       "3                                                  0                                                  \n",
       "4                                               19.1                                                  \n",
       "\n",
       "  % Hispanic or Latino Population for Whom Poverty  Status Is Determined: Income Below Poverty Level  \\\n",
       "0                                               4.37                                                   \n",
       "1                                              18.41                                                   \n",
       "2                                              61.25                                                   \n",
       "3                                                  0                                                   \n",
       "4                                              25.46                                                   \n",
       "\n",
       "  % White Alone, Not Hispanic or Latino Population  for Whom&nbsp; Poverty Status Is Determined: Income Below Poverty Level  \n",
       "0                                              11.12                                                                         \n",
       "1                                                8.4                                                                         \n",
       "2                                              14.71                                                                         \n",
       "3                                              16.34                                                                         \n",
       "4                                              12.33                                                                         \n",
       "\n",
       "[5 rows x 34 columns]"
      ]
     },
     "execution_count": 11,
     "metadata": {},
     "output_type": "execute_result"
    }
   ],
   "source": [
    "acs_df.rename({'Area Name': 'county'}, axis=1, inplace=True)\n",
    "acs_df['county'] = acs_df['county'].str.upper()\n",
    "acs_df['county'] = acs_df['county'].str.replace('COUNTY', '')\n",
    "acs_df['county'] = acs_df['county'].str.strip()\n",
    "acs_df.head()"
   ]
  },
  {
   "cell_type": "markdown",
   "metadata": {},
   "source": [
    "Now that we have a common column, we can merge our datasets. We'll use a left merge with our NPL dataset as our left-dataset, since we only need the demographic data for the county of the NPL sites."
   ]
  },
  {
   "cell_type": "code",
   "execution_count": 12,
   "metadata": {},
   "outputs": [
    {
     "data": {
      "text/html": [
       "<div>\n",
       "<style scoped>\n",
       "    .dataframe tbody tr th:only-of-type {\n",
       "        vertical-align: middle;\n",
       "    }\n",
       "\n",
       "    .dataframe tbody tr th {\n",
       "        vertical-align: top;\n",
       "    }\n",
       "\n",
       "    .dataframe thead th {\n",
       "        text-align: right;\n",
       "    }\n",
       "</style>\n",
       "<table border=\"1\" class=\"dataframe\">\n",
       "  <thead>\n",
       "    <tr style=\"text-align: right;\">\n",
       "      <th></th>\n",
       "      <th>state</th>\n",
       "      <th>site name</th>\n",
       "      <th>city</th>\n",
       "      <th>county</th>\n",
       "      <th>...</th>\n",
       "      <th>% Some Other Race Alone Population for Whom Poverty  Status Is Determined: Income Below Poverty Level</th>\n",
       "      <th>% Two or More Races Population for Whom Poverty  Status Is Determined: Income Below Poverty Level</th>\n",
       "      <th>% Hispanic or Latino Population for Whom Poverty  Status Is Determined: Income Below Poverty Level</th>\n",
       "      <th>% White Alone, Not Hispanic or Latino Population  for Whom&amp;nbsp; Poverty Status Is Determined: Income Below Poverty Level</th>\n",
       "    </tr>\n",
       "  </thead>\n",
       "  <tbody>\n",
       "    <tr>\n",
       "      <th>0</th>\n",
       "      <td>CT</td>\n",
       "      <td>BARKHAMSTED-NEW HARTFORD LANDFILL</td>\n",
       "      <td>BARKHAMSTED</td>\n",
       "      <td>LITCHFIELD</td>\n",
       "      <td>...</td>\n",
       "      <td>15.94</td>\n",
       "      <td>13.52</td>\n",
       "      <td>18.48</td>\n",
       "      <td>5.65</td>\n",
       "    </tr>\n",
       "    <tr>\n",
       "      <th>1</th>\n",
       "      <td>CT</td>\n",
       "      <td>BEACON HEIGHTS LANDFILL</td>\n",
       "      <td>BEACON FALLS</td>\n",
       "      <td>NEW HAVEN</td>\n",
       "      <td>...</td>\n",
       "      <td>24.18</td>\n",
       "      <td>18.23</td>\n",
       "      <td>22.18</td>\n",
       "      <td>6.9</td>\n",
       "    </tr>\n",
       "    <tr>\n",
       "      <th>...</th>\n",
       "      <td>...</td>\n",
       "      <td>...</td>\n",
       "      <td>...</td>\n",
       "      <td>...</td>\n",
       "      <td>...</td>\n",
       "      <td>...</td>\n",
       "      <td>...</td>\n",
       "      <td>...</td>\n",
       "      <td>...</td>\n",
       "    </tr>\n",
       "    <tr>\n",
       "      <th>5739</th>\n",
       "      <td>WA</td>\n",
       "      <td>WESTERN PROCESSING CO., INC.</td>\n",
       "      <td>KENT</td>\n",
       "      <td>KING</td>\n",
       "      <td>...</td>\n",
       "      <td>16.16</td>\n",
       "      <td>10.74</td>\n",
       "      <td>14.38</td>\n",
       "      <td>6.27</td>\n",
       "    </tr>\n",
       "    <tr>\n",
       "      <th>5740</th>\n",
       "      <td>WA</td>\n",
       "      <td>WYCKOFF CO./EAGLE HARBOR</td>\n",
       "      <td>BAINBRIDGE ISLAND</td>\n",
       "      <td>KITSAP</td>\n",
       "      <td>...</td>\n",
       "      <td>17.52</td>\n",
       "      <td>12.07</td>\n",
       "      <td>10.36</td>\n",
       "      <td>7.89</td>\n",
       "    </tr>\n",
       "  </tbody>\n",
       "</table>\n",
       "<p>5741 rows × 39 columns</p>\n",
       "</div>"
      ],
      "text/plain": [
       "     state                          site name               city      county  \\\n",
       "0       CT  BARKHAMSTED-NEW HARTFORD LANDFILL        BARKHAMSTED  LITCHFIELD   \n",
       "1       CT            BEACON HEIGHTS LANDFILL       BEACON FALLS   NEW HAVEN   \n",
       "...    ...                                ...                ...         ...   \n",
       "5739    WA       WESTERN PROCESSING CO., INC.               KENT        KING   \n",
       "5740    WA           WYCKOFF CO./EAGLE HARBOR  BAINBRIDGE ISLAND      KITSAP   \n",
       "\n",
       "      ...  \\\n",
       "0     ...   \n",
       "1     ...   \n",
       "...   ...   \n",
       "5739  ...   \n",
       "5740  ...   \n",
       "\n",
       "     % Some Other Race Alone Population for Whom Poverty  Status Is Determined: Income Below Poverty Level  \\\n",
       "0                                                 15.94                                                      \n",
       "1                                                 24.18                                                      \n",
       "...                                                 ...                                                      \n",
       "5739                                              16.16                                                      \n",
       "5740                                              17.52                                                      \n",
       "\n",
       "      % Two or More Races Population for Whom Poverty  Status Is Determined: Income Below Poverty Level  \\\n",
       "0                                                 13.52                                                   \n",
       "1                                                 18.23                                                   \n",
       "...                                                 ...                                                   \n",
       "5739                                              10.74                                                   \n",
       "5740                                              12.07                                                   \n",
       "\n",
       "     % Hispanic or Latino Population for Whom Poverty  Status Is Determined: Income Below Poverty Level  \\\n",
       "0                                                 18.48                                                   \n",
       "1                                                 22.18                                                   \n",
       "...                                                 ...                                                   \n",
       "5739                                              14.38                                                   \n",
       "5740                                              10.36                                                   \n",
       "\n",
       "     % White Alone, Not Hispanic or Latino Population  for Whom&nbsp; Poverty Status Is Determined: Income Below Poverty Level  \n",
       "0                                                  5.65                                                                         \n",
       "1                                                   6.9                                                                         \n",
       "...                                                 ...                                                                         \n",
       "5739                                               6.27                                                                         \n",
       "5740                                               7.89                                                                         \n",
       "\n",
       "[5741 rows x 39 columns]"
      ]
     },
     "execution_count": 12,
     "metadata": {},
     "output_type": "execute_result"
    }
   ],
   "source": [
    "county_df = pd.merge(npl_df, acs_df, on='county', how='left')\n",
    "county_df"
   ]
  },
  {
   "cell_type": "code",
   "execution_count": 13,
   "metadata": {},
   "outputs": [
    {
     "data": {
      "text/html": [
       "<div>\n",
       "<style scoped>\n",
       "    .dataframe tbody tr th:only-of-type {\n",
       "        vertical-align: middle;\n",
       "    }\n",
       "\n",
       "    .dataframe tbody tr th {\n",
       "        vertical-align: top;\n",
       "    }\n",
       "\n",
       "    .dataframe thead th {\n",
       "        text-align: right;\n",
       "    }\n",
       "</style>\n",
       "<table border=\"1\" class=\"dataframe\">\n",
       "  <thead>\n",
       "    <tr style=\"text-align: right;\">\n",
       "      <th></th>\n",
       "      <th>state</th>\n",
       "      <th>site name</th>\n",
       "      <th>city</th>\n",
       "      <th>county</th>\n",
       "      <th>...</th>\n",
       "      <th>% Some Other Race Alone Population for Whom Poverty  Status Is Determined: Income Below Poverty Level</th>\n",
       "      <th>% Two or More Races Population for Whom Poverty  Status Is Determined: Income Below Poverty Level</th>\n",
       "      <th>% Hispanic or Latino Population for Whom Poverty  Status Is Determined: Income Below Poverty Level</th>\n",
       "      <th>% White Alone, Not Hispanic or Latino Population  for Whom&amp;nbsp; Poverty Status Is Determined: Income Below Poverty Level</th>\n",
       "    </tr>\n",
       "  </thead>\n",
       "  <tbody>\n",
       "    <tr>\n",
       "      <th>1294</th>\n",
       "      <td>PA</td>\n",
       "      <td>HUNTERSTOWN ROAD</td>\n",
       "      <td>STRABAN TOWNSHIP</td>\n",
       "      <td>ADAMS</td>\n",
       "      <td>...</td>\n",
       "      <td>13.1</td>\n",
       "      <td>13.15</td>\n",
       "      <td>15.15</td>\n",
       "      <td>6.69</td>\n",
       "    </tr>\n",
       "    <tr>\n",
       "      <th>1295</th>\n",
       "      <td>PA</td>\n",
       "      <td>HUNTERSTOWN ROAD</td>\n",
       "      <td>STRABAN TOWNSHIP</td>\n",
       "      <td>ADAMS</td>\n",
       "      <td>...</td>\n",
       "      <td>0</td>\n",
       "      <td>25</td>\n",
       "      <td>0</td>\n",
       "      <td>12.39</td>\n",
       "    </tr>\n",
       "    <tr>\n",
       "      <th>...</th>\n",
       "      <td>...</td>\n",
       "      <td>...</td>\n",
       "      <td>...</td>\n",
       "      <td>...</td>\n",
       "      <td>...</td>\n",
       "      <td>...</td>\n",
       "      <td>...</td>\n",
       "      <td>...</td>\n",
       "      <td>...</td>\n",
       "    </tr>\n",
       "    <tr>\n",
       "      <th>5233</th>\n",
       "      <td>CO</td>\n",
       "      <td>ROCKY MOUNTAIN ARSENAL (USARMY)</td>\n",
       "      <td>ADAMS COUNTY</td>\n",
       "      <td>ADAMS</td>\n",
       "      <td>...</td>\n",
       "      <td>33.8</td>\n",
       "      <td>33.25</td>\n",
       "      <td>32.68</td>\n",
       "      <td>12.26</td>\n",
       "    </tr>\n",
       "    <tr>\n",
       "      <th>5234</th>\n",
       "      <td>CO</td>\n",
       "      <td>ROCKY MOUNTAIN ARSENAL (USARMY)</td>\n",
       "      <td>ADAMS COUNTY</td>\n",
       "      <td>ADAMS</td>\n",
       "      <td>...</td>\n",
       "      <td>0</td>\n",
       "      <td>32.27</td>\n",
       "      <td>15.65</td>\n",
       "      <td>12.34</td>\n",
       "    </tr>\n",
       "  </tbody>\n",
       "</table>\n",
       "<p>120 rows × 39 columns</p>\n",
       "</div>"
      ],
      "text/plain": [
       "     state                        site name              city county  ...  \\\n",
       "1294    PA                 HUNTERSTOWN ROAD  STRABAN TOWNSHIP  ADAMS  ...   \n",
       "1295    PA                 HUNTERSTOWN ROAD  STRABAN TOWNSHIP  ADAMS  ...   \n",
       "...    ...                              ...               ...    ...  ...   \n",
       "5233    CO  ROCKY MOUNTAIN ARSENAL (USARMY)      ADAMS COUNTY  ADAMS  ...   \n",
       "5234    CO  ROCKY MOUNTAIN ARSENAL (USARMY)      ADAMS COUNTY  ADAMS  ...   \n",
       "\n",
       "     % Some Other Race Alone Population for Whom Poverty  Status Is Determined: Income Below Poverty Level  \\\n",
       "1294                                               13.1                                                      \n",
       "1295                                                  0                                                      \n",
       "...                                                 ...                                                      \n",
       "5233                                               33.8                                                      \n",
       "5234                                                  0                                                      \n",
       "\n",
       "      % Two or More Races Population for Whom Poverty  Status Is Determined: Income Below Poverty Level  \\\n",
       "1294                                              13.15                                                   \n",
       "1295                                                 25                                                   \n",
       "...                                                 ...                                                   \n",
       "5233                                              33.25                                                   \n",
       "5234                                              32.27                                                   \n",
       "\n",
       "     % Hispanic or Latino Population for Whom Poverty  Status Is Determined: Income Below Poverty Level  \\\n",
       "1294                                              15.15                                                   \n",
       "1295                                                  0                                                   \n",
       "...                                                 ...                                                   \n",
       "5233                                              32.68                                                   \n",
       "5234                                              15.65                                                   \n",
       "\n",
       "     % White Alone, Not Hispanic or Latino Population  for Whom&nbsp; Poverty Status Is Determined: Income Below Poverty Level  \n",
       "1294                                               6.69                                                                         \n",
       "1295                                              12.39                                                                         \n",
       "...                                                 ...                                                                         \n",
       "5233                                              12.26                                                                         \n",
       "5234                                              12.34                                                                         \n",
       "\n",
       "[120 rows x 39 columns]"
      ]
     },
     "execution_count": 13,
     "metadata": {},
     "output_type": "execute_result"
    }
   ],
   "source": [
    "county_df[county_df['county'] == 'ADAMS']"
   ]
  },
  {
   "cell_type": "code",
   "execution_count": 14,
   "metadata": {},
   "outputs": [],
   "source": [
    "county_df.loc[county_df['county'] != np.NaN, 'county'] = county_df.county.map(str) + \", \" + county_df.state"
   ]
  },
  {
   "cell_type": "code",
   "execution_count": 15,
   "metadata": {},
   "outputs": [
    {
     "data": {
      "text/html": [
       "<div>\n",
       "<style scoped>\n",
       "    .dataframe tbody tr th:only-of-type {\n",
       "        vertical-align: middle;\n",
       "    }\n",
       "\n",
       "    .dataframe tbody tr th {\n",
       "        vertical-align: top;\n",
       "    }\n",
       "\n",
       "    .dataframe thead th {\n",
       "        text-align: right;\n",
       "    }\n",
       "</style>\n",
       "<table border=\"1\" class=\"dataframe\">\n",
       "  <thead>\n",
       "    <tr style=\"text-align: right;\">\n",
       "      <th></th>\n",
       "      <th>state</th>\n",
       "      <th>site name</th>\n",
       "      <th>city</th>\n",
       "      <th>county</th>\n",
       "      <th>...</th>\n",
       "      <th>% Some Other Race Alone Population for Whom Poverty  Status Is Determined: Income Below Poverty Level</th>\n",
       "      <th>% Two or More Races Population for Whom Poverty  Status Is Determined: Income Below Poverty Level</th>\n",
       "      <th>% Hispanic or Latino Population for Whom Poverty  Status Is Determined: Income Below Poverty Level</th>\n",
       "      <th>% White Alone, Not Hispanic or Latino Population  for Whom&amp;nbsp; Poverty Status Is Determined: Income Below Poverty Level</th>\n",
       "    </tr>\n",
       "  </thead>\n",
       "  <tbody>\n",
       "    <tr>\n",
       "      <th>5595</th>\n",
       "      <td>WA</td>\n",
       "      <td>CENTRALIA MUNICIPAL LANDFILL</td>\n",
       "      <td>CENTRALIA</td>\n",
       "      <td>LEWIS, WA</td>\n",
       "      <td>...</td>\n",
       "      <td>0</td>\n",
       "      <td>30.39</td>\n",
       "      <td>12.94</td>\n",
       "      <td>13.91</td>\n",
       "    </tr>\n",
       "    <tr>\n",
       "      <th>3585</th>\n",
       "      <td>MN</td>\n",
       "      <td>BAYTOWN TOWNSHIP GROUND WATER PLUME</td>\n",
       "      <td>BAYTOWN TOWNSHIP</td>\n",
       "      <td>WASHINGTON, MN</td>\n",
       "      <td>...</td>\n",
       "      <td>21.76</td>\n",
       "      <td>16.49</td>\n",
       "      <td>19.43</td>\n",
       "      <td>10</td>\n",
       "    </tr>\n",
       "    <tr>\n",
       "      <th>5159</th>\n",
       "      <td>CO</td>\n",
       "      <td>BRODERICK WOOD PRODUCTS</td>\n",
       "      <td>DENVER</td>\n",
       "      <td>ADAMS, CO</td>\n",
       "      <td>...</td>\n",
       "      <td>0</td>\n",
       "      <td>25</td>\n",
       "      <td>0</td>\n",
       "      <td>12.39</td>\n",
       "    </tr>\n",
       "    <tr>\n",
       "      <th>2608</th>\n",
       "      <td>SC</td>\n",
       "      <td>TOWNSEND SAW CHAIN CO.</td>\n",
       "      <td>PONTIAC</td>\n",
       "      <td>RICHLAND, SC</td>\n",
       "      <td>...</td>\n",
       "      <td>0</td>\n",
       "      <td>0</td>\n",
       "      <td>11.35</td>\n",
       "      <td>5.76</td>\n",
       "    </tr>\n",
       "    <tr>\n",
       "      <th>5141</th>\n",
       "      <td>CO</td>\n",
       "      <td>AIR FORCE PLANT PJKS</td>\n",
       "      <td>LITTLETON</td>\n",
       "      <td>JEFFERSON, CO</td>\n",
       "      <td>...</td>\n",
       "      <td>37.85</td>\n",
       "      <td>13.02</td>\n",
       "      <td>14.42</td>\n",
       "      <td>9.37</td>\n",
       "    </tr>\n",
       "  </tbody>\n",
       "</table>\n",
       "<p>5 rows × 39 columns</p>\n",
       "</div>"
      ],
      "text/plain": [
       "     state                            site name              city  \\\n",
       "5595    WA         CENTRALIA MUNICIPAL LANDFILL         CENTRALIA   \n",
       "3585    MN  BAYTOWN TOWNSHIP GROUND WATER PLUME  BAYTOWN TOWNSHIP   \n",
       "5159    CO              BRODERICK WOOD PRODUCTS            DENVER   \n",
       "2608    SC               TOWNSEND SAW CHAIN CO.           PONTIAC   \n",
       "5141    CO                 AIR FORCE PLANT PJKS         LITTLETON   \n",
       "\n",
       "              county  ...  \\\n",
       "5595       LEWIS, WA  ...   \n",
       "3585  WASHINGTON, MN  ...   \n",
       "5159       ADAMS, CO  ...   \n",
       "2608    RICHLAND, SC  ...   \n",
       "5141   JEFFERSON, CO  ...   \n",
       "\n",
       "     % Some Other Race Alone Population for Whom Poverty  Status Is Determined: Income Below Poverty Level  \\\n",
       "5595                                                  0                                                      \n",
       "3585                                              21.76                                                      \n",
       "5159                                                  0                                                      \n",
       "2608                                                  0                                                      \n",
       "5141                                              37.85                                                      \n",
       "\n",
       "      % Two or More Races Population for Whom Poverty  Status Is Determined: Income Below Poverty Level  \\\n",
       "5595                                              30.39                                                   \n",
       "3585                                              16.49                                                   \n",
       "5159                                                 25                                                   \n",
       "2608                                                  0                                                   \n",
       "5141                                              13.02                                                   \n",
       "\n",
       "     % Hispanic or Latino Population for Whom Poverty  Status Is Determined: Income Below Poverty Level  \\\n",
       "5595                                              12.94                                                   \n",
       "3585                                              19.43                                                   \n",
       "5159                                                  0                                                   \n",
       "2608                                              11.35                                                   \n",
       "5141                                              14.42                                                   \n",
       "\n",
       "     % White Alone, Not Hispanic or Latino Population  for Whom&nbsp; Poverty Status Is Determined: Income Below Poverty Level  \n",
       "5595                                              13.91                                                                         \n",
       "3585                                                 10                                                                         \n",
       "5159                                              12.39                                                                         \n",
       "2608                                               5.76                                                                         \n",
       "5141                                               9.37                                                                         \n",
       "\n",
       "[5 rows x 39 columns]"
      ]
     },
     "execution_count": 15,
     "metadata": {},
     "output_type": "execute_result"
    }
   ],
   "source": [
    "county_df.sample(n=5)"
   ]
  },
  {
   "cell_type": "code",
   "execution_count": 16,
   "metadata": {},
   "outputs": [
    {
     "data": {
      "text/plain": [
       "20764"
      ]
     },
     "execution_count": 16,
     "metadata": {},
     "output_type": "execute_result"
    }
   ],
   "source": [
    "county_df.isna().sum().sum()"
   ]
  },
  {
   "cell_type": "code",
   "execution_count": 17,
   "metadata": {},
   "outputs": [],
   "source": [
    "county_df = county_df.sort_values(by=['county'])"
   ]
  },
  {
   "cell_type": "markdown",
   "metadata": {},
   "source": [
    "# Data Analysis & Results (EDA)"
   ]
  },
  {
   "cell_type": "markdown",
   "metadata": {},
   "source": [
    "### Median Household Income"
   ]
  },
  {
   "cell_type": "markdown",
   "metadata": {},
   "source": [
    "Let's narrow down the scope of our dataset for this portion - we'll create a subset using just the relevant variables, including county, site name, and median household income. We'll also drop any rows in the subset with missing data for median household income, as this is essential to our current exploration."
   ]
  },
  {
   "cell_type": "code",
   "execution_count": 18,
   "metadata": {},
   "outputs": [
    {
     "data": {
      "text/html": [
       "<div>\n",
       "<style scoped>\n",
       "    .dataframe tbody tr th:only-of-type {\n",
       "        vertical-align: middle;\n",
       "    }\n",
       "\n",
       "    .dataframe tbody tr th {\n",
       "        vertical-align: top;\n",
       "    }\n",
       "\n",
       "    .dataframe thead th {\n",
       "        text-align: right;\n",
       "    }\n",
       "</style>\n",
       "<table border=\"1\" class=\"dataframe\">\n",
       "  <thead>\n",
       "    <tr style=\"text-align: right;\">\n",
       "      <th></th>\n",
       "      <th>site name</th>\n",
       "      <th>county</th>\n",
       "      <th>median household income</th>\n",
       "    </tr>\n",
       "  </thead>\n",
       "  <tbody>\n",
       "    <tr>\n",
       "      <th>5229</th>\n",
       "      <td>ROCKY MOUNTAIN ARSENAL (USARMY)</td>\n",
       "      <td>ADAMS, CO</td>\n",
       "      <td>53023</td>\n",
       "    </tr>\n",
       "    <tr>\n",
       "      <th>5167</th>\n",
       "      <td>BRODERICK WOOD PRODUCTS</td>\n",
       "      <td>ADAMS, CO</td>\n",
       "      <td>67253</td>\n",
       "    </tr>\n",
       "    <tr>\n",
       "      <th>...</th>\n",
       "      <td>...</td>\n",
       "      <td>...</td>\n",
       "      <td>...</td>\n",
       "    </tr>\n",
       "    <tr>\n",
       "      <th>5367</th>\n",
       "      <td>YUMA MARINE CORPS AIR STATION</td>\n",
       "      <td>YUMA, AZ</td>\n",
       "      <td>45243</td>\n",
       "    </tr>\n",
       "    <tr>\n",
       "      <th>5368</th>\n",
       "      <td>YUMA MARINE CORPS AIR STATION</td>\n",
       "      <td>YUMA, AZ</td>\n",
       "      <td>52022</td>\n",
       "    </tr>\n",
       "  </tbody>\n",
       "</table>\n",
       "<p>5693 rows × 3 columns</p>\n",
       "</div>"
      ],
      "text/plain": [
       "                            site name     county  median household income\n",
       "5229  ROCKY MOUNTAIN ARSENAL (USARMY)  ADAMS, CO                    53023\n",
       "5167          BRODERICK WOOD PRODUCTS  ADAMS, CO                    67253\n",
       "...                               ...        ...                      ...\n",
       "5367    YUMA MARINE CORPS AIR STATION   YUMA, AZ                    45243\n",
       "5368    YUMA MARINE CORPS AIR STATION   YUMA, AZ                    52022\n",
       "\n",
       "[5693 rows x 3 columns]"
      ]
     },
     "execution_count": 18,
     "metadata": {},
     "output_type": "execute_result"
    }
   ],
   "source": [
    "mhi_df = county_df[['site name', 'county', 'Median Household Income (In 2019 Inflation Adjusted Dollars):']]\n",
    "mhi_df.rename({'Median Household Income (In 2019 Inflation Adjusted Dollars):': 'median household income'}, axis=1, inplace=True)\n",
    "mhi_df = mhi_df.dropna(subset=['median household income'])\n",
    "mhi_df['median household income'] = mhi_df['median household income'].astype(int)\n",
    "mhi_df"
   ]
  },
  {
   "cell_type": "markdown",
   "metadata": {},
   "source": [
    "Visualizing the distribution of median household income for all of the relevant counties might be difficult - we have thousands of observations. We'll create two more subsets and compare their distributions:\n",
    "1. 10 counties with the most NPL sites\n",
    "2. 10 counties with the least NPL sites\n",
    "\n",
    "We can start by getting a list of counties in order of their frequency in the dataset; we'll use the .value_counts() and .index.tolist() methods."
   ]
  },
  {
   "cell_type": "code",
   "execution_count": 19,
   "metadata": {},
   "outputs": [
    {
     "data": {
      "text/plain": [
       "county        \n",
       "MONTGOMERY, PA    306\n",
       "WASHINGTON, MO    120\n",
       "                 ... \n",
       "ROCKLAND, NY        1\n",
       "BRANCH, MI          1\n",
       "Length: 622, dtype: int64"
      ]
     },
     "execution_count": 19,
     "metadata": {},
     "output_type": "execute_result"
    }
   ],
   "source": [
    "mhi_df.value_counts(['county'])"
   ]
  },
  {
   "cell_type": "code",
   "execution_count": 20,
   "metadata": {},
   "outputs": [],
   "source": [
    "counties = mhi_df['county'].value_counts().index.tolist()"
   ]
  },
  {
   "cell_type": "markdown",
   "metadata": {},
   "source": [
    "Now let's create the subsets by slicing the list into two lists of 10 counties."
   ]
  },
  {
   "cell_type": "code",
   "execution_count": 21,
   "metadata": {},
   "outputs": [],
   "source": [
    "top_10 = counties[0:10]\n",
    "bottom_10 = counties[506:516]"
   ]
  },
  {
   "cell_type": "code",
   "execution_count": 22,
   "metadata": {},
   "outputs": [
    {
     "data": {
      "text/plain": [
       "['MONTGOMERY, PA',\n",
       " 'WASHINGTON, MO',\n",
       " 'MONTGOMERY, OH',\n",
       " 'WASHINGTON, RI',\n",
       " 'LAKE, IN',\n",
       " 'FRANKLIN, MO',\n",
       " 'WASHINGTON, MN',\n",
       " 'WASHINGTON, AL',\n",
       " 'LAKE, IL',\n",
       " 'MADISON, IL']"
      ]
     },
     "execution_count": 22,
     "metadata": {},
     "output_type": "execute_result"
    }
   ],
   "source": [
    "top_10"
   ]
  },
  {
   "cell_type": "code",
   "execution_count": 23,
   "metadata": {},
   "outputs": [
    {
     "data": {
      "text/html": [
       "<div>\n",
       "<style scoped>\n",
       "    .dataframe tbody tr th:only-of-type {\n",
       "        vertical-align: middle;\n",
       "    }\n",
       "\n",
       "    .dataframe tbody tr th {\n",
       "        vertical-align: top;\n",
       "    }\n",
       "\n",
       "    .dataframe thead th {\n",
       "        text-align: right;\n",
       "    }\n",
       "</style>\n",
       "<table border=\"1\" class=\"dataframe\">\n",
       "  <thead>\n",
       "    <tr style=\"text-align: right;\">\n",
       "      <th></th>\n",
       "      <th>site name</th>\n",
       "      <th>county</th>\n",
       "      <th>median household income</th>\n",
       "    </tr>\n",
       "  </thead>\n",
       "  <tbody>\n",
       "    <tr>\n",
       "      <th>4853</th>\n",
       "      <td>SPORLAN VALVE PLANT #1</td>\n",
       "      <td>FRANKLIN, MO</td>\n",
       "      <td>65485</td>\n",
       "    </tr>\n",
       "    <tr>\n",
       "      <th>4832</th>\n",
       "      <td>SPORLAN VALVE PLANT #1</td>\n",
       "      <td>FRANKLIN, MO</td>\n",
       "      <td>43514</td>\n",
       "    </tr>\n",
       "    <tr>\n",
       "      <th>4792</th>\n",
       "      <td>RIVERFRONT</td>\n",
       "      <td>FRANKLIN, MO</td>\n",
       "      <td>63584</td>\n",
       "    </tr>\n",
       "    <tr>\n",
       "      <th>4727</th>\n",
       "      <td>OAK GROVE VILLAGE WELL</td>\n",
       "      <td>FRANKLIN, MO</td>\n",
       "      <td>56419</td>\n",
       "    </tr>\n",
       "    <tr>\n",
       "      <th>4833</th>\n",
       "      <td>SPORLAN VALVE PLANT #1</td>\n",
       "      <td>FRANKLIN, MO</td>\n",
       "      <td>38923</td>\n",
       "    </tr>\n",
       "  </tbody>\n",
       "</table>\n",
       "</div>"
      ],
      "text/plain": [
       "                   site name        county  median household income\n",
       "4853  SPORLAN VALVE PLANT #1  FRANKLIN, MO                    65485\n",
       "4832  SPORLAN VALVE PLANT #1  FRANKLIN, MO                    43514\n",
       "4792              RIVERFRONT  FRANKLIN, MO                    63584\n",
       "4727  OAK GROVE VILLAGE WELL  FRANKLIN, MO                    56419\n",
       "4833  SPORLAN VALVE PLANT #1  FRANKLIN, MO                    38923"
      ]
     },
     "execution_count": 23,
     "metadata": {},
     "output_type": "execute_result"
    }
   ],
   "source": [
    "mhi_top_df = mhi_df[mhi_df['county'].isin(top_10)]\n",
    "#mhi_df[mhi_df['county'] == 'MONTGOMERY, PA']\n",
    "mhi_top_df.head()"
   ]
  },
  {
   "cell_type": "code",
   "execution_count": 24,
   "metadata": {},
   "outputs": [
    {
     "data": {
      "text/plain": [
       "Text(0, 0.5, 'County')"
      ]
     },
     "execution_count": 24,
     "metadata": {},
     "output_type": "execute_result"
    },
    {
     "data": {
      "image/png": "[encoded data removed]",
      "text/plain": [
       "<Figure size 432x288 with 1 Axes>"
      ]
     },
     "metadata": {
      "needs_background": "light"
     },
     "output_type": "display_data"
    }
   ],
   "source": [
    "ax = sns.barplot(x=\"median household income\", y=\"county\", data=mhi_top_df)\n",
    "\n",
    "# add title and axis labels (modify x-axis label)\n",
    "ax.set_title('Median Household Income in Counties with Most NPL Sites')\n",
    "ax.set_xlabel('Median Household Income (in USD)')\n",
    "ax.set_ylabel('County')"
   ]
  },
  {
   "cell_type": "code",
   "execution_count": 25,
   "metadata": {},
   "outputs": [
    {
     "data": {
      "text/plain": [
       "['CROW WING, MN',\n",
       " 'CENTRE, PA',\n",
       " 'SANTA ROSA, FL',\n",
       " 'RACINE, WI',\n",
       " 'MAHONING, OH',\n",
       " 'VOLUSIA, FL',\n",
       " 'WHATCOM, WA',\n",
       " 'CREEK, OK',\n",
       " 'GUERNSEY, OH',\n",
       " 'TUSCARAWAS, OH']"
      ]
     },
     "execution_count": 25,
     "metadata": {},
     "output_type": "execute_result"
    }
   ],
   "source": [
    "bottom_10"
   ]
  },
  {
   "cell_type": "code",
   "execution_count": 26,
   "metadata": {},
   "outputs": [],
   "source": [
    "mhi_bottom_df = mhi_df[mhi_df['county'].isin(bottom_10)]"
   ]
  },
  {
   "cell_type": "code",
   "execution_count": 27,
   "metadata": {},
   "outputs": [
    {
     "data": {
      "text/plain": [
       "Text(0, 0.5, 'County')"
      ]
     },
     "execution_count": 27,
     "metadata": {},
     "output_type": "execute_result"
    },
    {
     "data": {
      "image/png": "[encoded data removed]",
      "text/plain": [
       "<Figure size 432x288 with 1 Axes>"
      ]
     },
     "metadata": {
      "needs_background": "light"
     },
     "output_type": "display_data"
    }
   ],
   "source": [
    "ax = sns.barplot(x=\"median household income\", y=\"county\", data=mhi_bottom_df)\n",
    "\n",
    "# add title and axis labels (modify x-axis label)\n",
    "ax.set_title('Median Household Income in Counties with Most NPL Sites')\n",
    "ax.set_xlabel('Median Household Income (in USD)')\n",
    "ax.set_ylabel('County')"
   ]
  },
  {
   "cell_type": "code",
   "execution_count": 28,
   "metadata": {},
   "outputs": [
    {
     "data": {
      "image/png": "[encoded data removed]",
      "text/plain": [
       "<Figure size 1440x360 with 1 Axes>"
      ]
     },
     "metadata": {
      "needs_background": "light"
     },
     "output_type": "display_data"
    }
   ],
   "source": [
    "plt.figure(figsize=(20,5))\n",
    "ax = sns.countplot(x='state', data=npl_df);\n",
    "ax.set_xticklabels(ax.get_xticklabels())\n",
    "ax.set(xlabel='State', ylabel='Number of NPL Sites')\n",
    "plt.show()"
   ]
  }
 ],
 "metadata": {
  "kernelspec": {
   "display_name": "Python 3",
   "language": "python",
   "name": "python3"
  },
  "language_info": {
   "codemirror_mode": {
    "name": "ipython",
    "version": 3
   },
   "file_extension": ".py",
   "mimetype": "text/x-python",
   "name": "python",
   "nbconvert_exporter": "python",
   "pygments_lexer": "ipython3",
   "version": "3.8.6"
  }
 },
 "nbformat": 4,
 "nbformat_minor": 2
}
