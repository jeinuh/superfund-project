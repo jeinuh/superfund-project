{
 "cells": [
  {
   "cell_type": "markdown",
   "metadata": {},
   "source": [
    "# COGS 108 - EDA Checkpoint"
   ]
  },
  {
   "cell_type": "markdown",
   "metadata": {},
   "source": [
    "# Names\n",
    "\n",
    "- Victoria Thai\n",
    "- Hannah Yick\n",
    "- Jane Dinh\n",
    "- Natasha Supangkat\n",
    "- Gabriel Ramiro"
   ]
  },
  {
   "cell_type": "markdown",
   "metadata": {},
   "source": [
    "<a id='research_question'></a>\n",
    "# Research Question"
   ]
  },
  {
   "cell_type": "markdown",
   "metadata": {},
   "source": [
    "What trends can be found between a county’s designation of a superfund site and its socioeconomic/demographic trends? Does the demographic makeup of a county influence the amount of time between Superfund designation and the completion of the remediation process?"
   ]
  },
  {
   "cell_type": "markdown",
   "metadata": {},
   "source": [
    "# Setup"
   ]
  },
  {
   "cell_type": "code",
   "execution_count": 1,
   "metadata": {},
   "outputs": [],
   "source": [
    "#Imports \n",
    "import pandas as pd\n",
    "import numpy as np\n",
    "\n",
    "#Graphing\n",
    "import seaborn as sns\n",
    "import matplotlib as mpl\n",
    "import matplotlib.pyplot as plt\n",
    "%matplotlib inline\n",
    "\n",
    "#Statistics\n",
    "import patsy\n",
    "import statsmodels.api as sm\n",
    "import scipy.stats as stats\n",
    "from scipy.stats import ttest_ind, chisquare, normaltest\n",
    "\n",
    "#Webscraping\n",
    "import requests \n",
    "import bs4\n",
    "from bs4 import BeautifulSoup\n",
    "\n",
    "import warnings\n",
    "warnings.filterwarnings('ignore')\n",
    "\n",
    "# Read in the data and store it within a data frame\n",
    "#npl_df = npl_df = pd.read_csv('https://raw.githubusercontent.com/COGS108/group011_sp21/main/All%20current%20Final%20NPL%20Sites%20(FOIA%204).csv?token=AI2VKGQIIMQPBWGAZGPKD5DASR4CO') \n",
    "gdrive_npl_id = '1oDIJ_v9s5i5THULln_C-N4o3Aiz0e7mu'\n",
    "npl_df = pd.read_csv(f'https://docs.google.com/uc?id={gdrive_npl_id}&export=download', encoding='ISO-8859-1')\n",
    "gdrive_acs_id = '1kNWY1Kc4RhQ9ttK7dTYtj0fhHE3BXOGh'\n",
    "acs_df = pd.read_csv(f'https://docs.google.com/uc?id={gdrive_acs_id}&export=download', encoding='ISO-8859-1')\n",
    "\n",
    "pd.options.display.max_rows = 5\n",
    "pd.options.display.max_columns = 8"
   ]
  },
  {
   "cell_type": "markdown",
   "metadata": {},
   "source": [
    "# Data Cleaning"
   ]
  },
  {
   "cell_type": "markdown",
   "metadata": {},
   "source": [
    "Data cleaning from Checkpoint 1."
   ]
  },
  {
   "cell_type": "code",
   "execution_count": 2,
   "metadata": {},
   "outputs": [],
   "source": [
    "npl_df = npl_df.drop([\"Region\", \"Site ID\", \"EPA ID\", \"Address\", \"Zip\", \"FF Ind\", \"Latitude\", \"Longitude\"], axis=1)"
   ]
  },
  {
   "cell_type": "code",
   "execution_count": 3,
   "metadata": {},
   "outputs": [],
   "source": [
    "acs_df = acs_df.drop([0], axis=0)\n",
    "acs_df.reset_index(drop=True, inplace=True)\n",
    "\n",
    "acs_df.dropna(axis = 0, how = 'all', inplace = True)\n",
    "acs_df.dropna(axis = 1, how = 'all', inplace = True)\n",
    "\n",
    "acs_df.drop(labels=['FIPS', 'Geographic Identifier', 'Summary Level', 'Geographic Component', \n",
    "                    'File identification', 'Logical Record Number', 'State (FIPS Code)', \n",
    "                    'County of current residence', 'Total Population.1', 'Population Density (Per Sq. Mile)', \n",
    "                    'Area (Land)', 'Total Population:', 'Total Population: White Alone', \n",
    "                    'Total Population: Black or African American Alone', \n",
    "                    'Total Population: American Indian and Alaska Native Alone', 'Total Population: Asian Alone', \n",
    "                    'Total Population: Native Hawaiian and Other Pacific Islander Alone', \n",
    "                    'Total Population: Some Other Race Alone', 'Total Population: Two or More Races'], axis=1, inplace = True)\n",
    "acs_df.drop(index=acs_df[acs_df['State Postal Abbreviation'] == 'pr'].index, inplace=True)\n",
    "acs_df.drop(list(acs_df.filter(regex = 'At or Above Poverty Level')), axis = 1, inplace = True)\n",
    "\n",
    "acs_df = acs_df.iloc[:, np.r_[0:11, 12:23, 34, 37, 40, 43, 46, 49, 52, 55, 58, 61, 64, 67]]"
   ]
  },
  {
   "cell_type": "markdown",
   "metadata": {},
   "source": [
    "We'll need to adjust our dataset now that we have a better understanding of our data and how we want to work with it. Here, we'll work towards merging our two datasets by county. Let's start by standardizing the county variable of both datasets with a format of 'COUNTY, PC' where PC is the postal code (i.e. CA for California). This will handle instances where there are counties of the same name in different states.\n",
    "\n",
    "First, let's take a look at our NPL dataset."
   ]
  },
  {
   "cell_type": "code",
   "execution_count": 4,
   "metadata": {},
   "outputs": [
    {
     "data": {
      "text/html": [
       "<div>\n",
       "<style scoped>\n",
       "    .dataframe tbody tr th:only-of-type {\n",
       "        vertical-align: middle;\n",
       "    }\n",
       "\n",
       "    .dataframe tbody tr th {\n",
       "        vertical-align: top;\n",
       "    }\n",
       "\n",
       "    .dataframe thead th {\n",
       "        text-align: right;\n",
       "    }\n",
       "</style>\n",
       "<table border=\"1\" class=\"dataframe\">\n",
       "  <thead>\n",
       "    <tr style=\"text-align: right;\">\n",
       "      <th></th>\n",
       "      <th>State</th>\n",
       "      <th>Site Name</th>\n",
       "      <th>City</th>\n",
       "      <th>County</th>\n",
       "      <th>NPL Status Date</th>\n",
       "    </tr>\n",
       "  </thead>\n",
       "  <tbody>\n",
       "    <tr>\n",
       "      <th>1177</th>\n",
       "      <td>CA</td>\n",
       "      <td>EL TORO MARINE CORPS AIR STATION</td>\n",
       "      <td>EL TORO</td>\n",
       "      <td>ORANGE</td>\n",
       "      <td>2/21/1990</td>\n",
       "    </tr>\n",
       "    <tr>\n",
       "      <th>651</th>\n",
       "      <td>TN</td>\n",
       "      <td>ALAMO CONTAMINATED GROUND WATER</td>\n",
       "      <td>ALAMO</td>\n",
       "      <td>CROCKETT</td>\n",
       "      <td>9/16/2011</td>\n",
       "    </tr>\n",
       "    <tr>\n",
       "      <th>...</th>\n",
       "      <td>...</td>\n",
       "      <td>...</td>\n",
       "      <td>...</td>\n",
       "      <td>...</td>\n",
       "      <td>...</td>\n",
       "    </tr>\n",
       "    <tr>\n",
       "      <th>824</th>\n",
       "      <td>MN</td>\n",
       "      <td>FREEWAY SANITARY LANDFILL</td>\n",
       "      <td>BURNSVILLE</td>\n",
       "      <td>DAKOTA</td>\n",
       "      <td>6/10/1986</td>\n",
       "    </tr>\n",
       "    <tr>\n",
       "      <th>292</th>\n",
       "      <td>NY</td>\n",
       "      <td>TRI-CITIES BARREL CO., INC.</td>\n",
       "      <td>PORT CRANE</td>\n",
       "      <td>BROOME</td>\n",
       "      <td>10/4/1989</td>\n",
       "    </tr>\n",
       "  </tbody>\n",
       "</table>\n",
       "<p>10 rows × 5 columns</p>\n",
       "</div>"
      ],
      "text/plain": [
       "     State                         Site Name        City    County  \\\n",
       "1177    CA  EL TORO MARINE CORPS AIR STATION     EL TORO    ORANGE   \n",
       "651     TN   ALAMO CONTAMINATED GROUND WATER       ALAMO  CROCKETT   \n",
       "...    ...                               ...         ...       ...   \n",
       "824     MN         FREEWAY SANITARY LANDFILL  BURNSVILLE    DAKOTA   \n",
       "292     NY       TRI-CITIES BARREL CO., INC.  PORT CRANE    BROOME   \n",
       "\n",
       "     NPL Status Date  \n",
       "1177       2/21/1990  \n",
       "651        9/16/2011  \n",
       "...              ...  \n",
       "824        6/10/1986  \n",
       "292        10/4/1989  \n",
       "\n",
       "[10 rows x 5 columns]"
      ]
     },
     "execution_count": 4,
     "metadata": {},
     "output_type": "execute_result"
    }
   ],
   "source": [
    "npl_df.sample(n=10)"
   ]
  },
  {
   "cell_type": "markdown",
   "metadata": {},
   "source": [
    "Let's examine the dataset and check for missingness."
   ]
  },
  {
   "cell_type": "code",
   "execution_count": 5,
   "metadata": {},
   "outputs": [
    {
     "data": {
      "text/plain": [
       "20"
      ]
     },
     "execution_count": 5,
     "metadata": {},
     "output_type": "execute_result"
    }
   ],
   "source": [
    "npl_df.isna().sum().sum()"
   ]
  },
  {
   "cell_type": "code",
   "execution_count": 6,
   "metadata": {},
   "outputs": [
    {
     "data": {
      "text/plain": [
       "State              False\n",
       "Site Name          False\n",
       "City               False\n",
       "County              True\n",
       "NPL Status Date    False\n",
       "dtype: bool"
      ]
     },
     "execution_count": 6,
     "metadata": {},
     "output_type": "execute_result"
    }
   ],
   "source": [
    "npl_df.isna().any()"
   ]
  },
  {
   "cell_type": "markdown",
   "metadata": {},
   "source": [
    "From this, we can see that all the missing data is in the County variable."
   ]
  },
  {
   "cell_type": "code",
   "execution_count": 7,
   "metadata": {},
   "outputs": [
    {
     "data": {
      "text/html": [
       "<div>\n",
       "<style scoped>\n",
       "    .dataframe tbody tr th:only-of-type {\n",
       "        vertical-align: middle;\n",
       "    }\n",
       "\n",
       "    .dataframe tbody tr th {\n",
       "        vertical-align: top;\n",
       "    }\n",
       "\n",
       "    .dataframe thead th {\n",
       "        text-align: right;\n",
       "    }\n",
       "</style>\n",
       "<table border=\"1\" class=\"dataframe\">\n",
       "  <thead>\n",
       "    <tr style=\"text-align: right;\">\n",
       "      <th></th>\n",
       "      <th>State</th>\n",
       "      <th>Site Name</th>\n",
       "      <th>City</th>\n",
       "      <th>County</th>\n",
       "      <th>NPL Status Date</th>\n",
       "    </tr>\n",
       "  </thead>\n",
       "  <tbody>\n",
       "    <tr>\n",
       "      <th>266</th>\n",
       "      <td>NY</td>\n",
       "      <td>NEWTOWN CREEK</td>\n",
       "      <td>BROOKLYN, QUEENS</td>\n",
       "      <td>NaN</td>\n",
       "      <td>9/29/2010</td>\n",
       "    </tr>\n",
       "    <tr>\n",
       "      <th>303</th>\n",
       "      <td>PR</td>\n",
       "      <td>FIBERS PUBLIC SUPPLY WELLS</td>\n",
       "      <td>JOBOS</td>\n",
       "      <td>NaN</td>\n",
       "      <td>9/21/1984</td>\n",
       "    </tr>\n",
       "    <tr>\n",
       "      <th>...</th>\n",
       "      <td>...</td>\n",
       "      <td>...</td>\n",
       "      <td>...</td>\n",
       "      <td>...</td>\n",
       "      <td>...</td>\n",
       "    </tr>\n",
       "    <tr>\n",
       "      <th>1263</th>\n",
       "      <td>ID</td>\n",
       "      <td>EASTERN MICHAUD FLATS CONTAMINATION</td>\n",
       "      <td>POCATELLO</td>\n",
       "      <td>NaN</td>\n",
       "      <td>8/30/1990</td>\n",
       "    </tr>\n",
       "    <tr>\n",
       "      <th>1264</th>\n",
       "      <td>ID</td>\n",
       "      <td>IDAHO NATIONAL ENGINEERING LABORATORY (USDOE)</td>\n",
       "      <td>IDAHO FALLS</td>\n",
       "      <td>NaN</td>\n",
       "      <td>11/21/1989</td>\n",
       "    </tr>\n",
       "  </tbody>\n",
       "</table>\n",
       "<p>20 rows × 5 columns</p>\n",
       "</div>"
      ],
      "text/plain": [
       "     State                                      Site Name              City  \\\n",
       "266     NY                                  NEWTOWN CREEK  BROOKLYN, QUEENS   \n",
       "303     PR                     FIBERS PUBLIC SUPPLY WELLS             JOBOS   \n",
       "...    ...                                            ...               ...   \n",
       "1263    ID            EASTERN MICHAUD FLATS CONTAMINATION         POCATELLO   \n",
       "1264    ID  IDAHO NATIONAL ENGINEERING LABORATORY (USDOE)       IDAHO FALLS   \n",
       "\n",
       "     County NPL Status Date  \n",
       "266     NaN       9/29/2010  \n",
       "303     NaN       9/21/1984  \n",
       "...     ...             ...  \n",
       "1263    NaN       8/30/1990  \n",
       "1264    NaN      11/21/1989  \n",
       "\n",
       "[20 rows x 5 columns]"
      ]
     },
     "execution_count": 7,
     "metadata": {},
     "output_type": "execute_result"
    }
   ],
   "source": [
    "#subset to just rows with missing data\n",
    "npl_df[npl_df.isnull().any(axis=1)]"
   ]
  },
  {
   "cell_type": "markdown",
   "metadata": {},
   "source": [
    "We can see from the subset of missing data that these NPL sites are in valid cities in the United States, so there's no reason to drop them; however, they do not have data for the county. We will have to manually input these county values so that we can merge successfully before we go any further."
   ]
  },
  {
   "cell_type": "code",
   "execution_count": 8,
   "metadata": {},
   "outputs": [],
   "source": [
    "# manually input county names here"
   ]
  },
  {
   "cell_type": "code",
   "execution_count": 9,
   "metadata": {},
   "outputs": [
    {
     "data": {
      "text/plain": [
       "20"
      ]
     },
     "execution_count": 9,
     "metadata": {},
     "output_type": "execute_result"
    }
   ],
   "source": [
    "# clarify that all missing data has been addressed\n",
    "npl_df.isna().sum().sum()"
   ]
  },
  {
   "cell_type": "markdown",
   "metadata": {},
   "source": [
    "Now that all the county information is included, we'll convert the column names into lowercase, and continue this use of lowercase column names as we progress with both datasets as a standardization measure."
   ]
  },
  {
   "cell_type": "code",
   "execution_count": 10,
   "metadata": {
    "scrolled": true
   },
   "outputs": [
    {
     "data": {
      "text/html": [
       "<div>\n",
       "<style scoped>\n",
       "    .dataframe tbody tr th:only-of-type {\n",
       "        vertical-align: middle;\n",
       "    }\n",
       "\n",
       "    .dataframe tbody tr th {\n",
       "        vertical-align: top;\n",
       "    }\n",
       "\n",
       "    .dataframe thead th {\n",
       "        text-align: right;\n",
       "    }\n",
       "</style>\n",
       "<table border=\"1\" class=\"dataframe\">\n",
       "  <thead>\n",
       "    <tr style=\"text-align: right;\">\n",
       "      <th></th>\n",
       "      <th>state</th>\n",
       "      <th>site name</th>\n",
       "      <th>city</th>\n",
       "      <th>county</th>\n",
       "      <th>npl status date</th>\n",
       "    </tr>\n",
       "  </thead>\n",
       "  <tbody>\n",
       "    <tr>\n",
       "      <th>0</th>\n",
       "      <td>CT</td>\n",
       "      <td>BARKHAMSTED-NEW HARTFORD LANDFILL</td>\n",
       "      <td>BARKHAMSTED</td>\n",
       "      <td>LITCHFIELD</td>\n",
       "      <td>10/4/1989</td>\n",
       "    </tr>\n",
       "    <tr>\n",
       "      <th>1</th>\n",
       "      <td>CT</td>\n",
       "      <td>BEACON HEIGHTS LANDFILL</td>\n",
       "      <td>BEACON FALLS</td>\n",
       "      <td>NEW HAVEN</td>\n",
       "      <td>9/8/1983</td>\n",
       "    </tr>\n",
       "    <tr>\n",
       "      <th>2</th>\n",
       "      <td>CT</td>\n",
       "      <td>DURHAM MEADOWS</td>\n",
       "      <td>DURHAM</td>\n",
       "      <td>MIDDLESEX</td>\n",
       "      <td>10/4/1989</td>\n",
       "    </tr>\n",
       "    <tr>\n",
       "      <th>3</th>\n",
       "      <td>CT</td>\n",
       "      <td>GALLUP'S QUARRY</td>\n",
       "      <td>PLAINFIELD</td>\n",
       "      <td>WINDHAM</td>\n",
       "      <td>10/4/1989</td>\n",
       "    </tr>\n",
       "    <tr>\n",
       "      <th>4</th>\n",
       "      <td>CT</td>\n",
       "      <td>KELLOGG-DEERING WELL FIELD</td>\n",
       "      <td>NORWALK</td>\n",
       "      <td>FAIRFIELD</td>\n",
       "      <td>9/21/1984</td>\n",
       "    </tr>\n",
       "  </tbody>\n",
       "</table>\n",
       "</div>"
      ],
      "text/plain": [
       "  state                          site name          city      county  \\\n",
       "0    CT  BARKHAMSTED-NEW HARTFORD LANDFILL   BARKHAMSTED  LITCHFIELD   \n",
       "1    CT            BEACON HEIGHTS LANDFILL  BEACON FALLS   NEW HAVEN   \n",
       "2    CT                     DURHAM MEADOWS        DURHAM   MIDDLESEX   \n",
       "3    CT                    GALLUP'S QUARRY    PLAINFIELD     WINDHAM   \n",
       "4    CT         KELLOGG-DEERING WELL FIELD       NORWALK   FAIRFIELD   \n",
       "\n",
       "  npl status date  \n",
       "0       10/4/1989  \n",
       "1        9/8/1983  \n",
       "2       10/4/1989  \n",
       "3       10/4/1989  \n",
       "4       9/21/1984  "
      ]
     },
     "execution_count": 10,
     "metadata": {},
     "output_type": "execute_result"
    }
   ],
   "source": [
    "npl_df.columns = ['state', 'site name', 'city', 'county', 'npl status date']\n",
    "npl_df.head()"
   ]
  },
  {
   "cell_type": "markdown",
   "metadata": {},
   "source": [
    "Next we'll get our county variable information into the correct format by concatenating the state postal code."
   ]
  },
  {
   "cell_type": "code",
   "execution_count": 11,
   "metadata": {},
   "outputs": [
    {
     "data": {
      "text/html": [
       "<div>\n",
       "<style scoped>\n",
       "    .dataframe tbody tr th:only-of-type {\n",
       "        vertical-align: middle;\n",
       "    }\n",
       "\n",
       "    .dataframe tbody tr th {\n",
       "        vertical-align: top;\n",
       "    }\n",
       "\n",
       "    .dataframe thead th {\n",
       "        text-align: right;\n",
       "    }\n",
       "</style>\n",
       "<table border=\"1\" class=\"dataframe\">\n",
       "  <thead>\n",
       "    <tr style=\"text-align: right;\">\n",
       "      <th></th>\n",
       "      <th>state</th>\n",
       "      <th>site name</th>\n",
       "      <th>city</th>\n",
       "      <th>county</th>\n",
       "      <th>npl status date</th>\n",
       "    </tr>\n",
       "  </thead>\n",
       "  <tbody>\n",
       "    <tr>\n",
       "      <th>0</th>\n",
       "      <td>CT</td>\n",
       "      <td>BARKHAMSTED-NEW HARTFORD LANDFILL</td>\n",
       "      <td>BARKHAMSTED</td>\n",
       "      <td>LITCHFIELD, CT</td>\n",
       "      <td>10/4/1989</td>\n",
       "    </tr>\n",
       "    <tr>\n",
       "      <th>1</th>\n",
       "      <td>CT</td>\n",
       "      <td>BEACON HEIGHTS LANDFILL</td>\n",
       "      <td>BEACON FALLS</td>\n",
       "      <td>NEW HAVEN, CT</td>\n",
       "      <td>9/8/1983</td>\n",
       "    </tr>\n",
       "    <tr>\n",
       "      <th>2</th>\n",
       "      <td>CT</td>\n",
       "      <td>DURHAM MEADOWS</td>\n",
       "      <td>DURHAM</td>\n",
       "      <td>MIDDLESEX, CT</td>\n",
       "      <td>10/4/1989</td>\n",
       "    </tr>\n",
       "    <tr>\n",
       "      <th>3</th>\n",
       "      <td>CT</td>\n",
       "      <td>GALLUP'S QUARRY</td>\n",
       "      <td>PLAINFIELD</td>\n",
       "      <td>WINDHAM, CT</td>\n",
       "      <td>10/4/1989</td>\n",
       "    </tr>\n",
       "    <tr>\n",
       "      <th>4</th>\n",
       "      <td>CT</td>\n",
       "      <td>KELLOGG-DEERING WELL FIELD</td>\n",
       "      <td>NORWALK</td>\n",
       "      <td>FAIRFIELD, CT</td>\n",
       "      <td>9/21/1984</td>\n",
       "    </tr>\n",
       "  </tbody>\n",
       "</table>\n",
       "</div>"
      ],
      "text/plain": [
       "  state                          site name          city          county  \\\n",
       "0    CT  BARKHAMSTED-NEW HARTFORD LANDFILL   BARKHAMSTED  LITCHFIELD, CT   \n",
       "1    CT            BEACON HEIGHTS LANDFILL  BEACON FALLS   NEW HAVEN, CT   \n",
       "2    CT                     DURHAM MEADOWS        DURHAM   MIDDLESEX, CT   \n",
       "3    CT                    GALLUP'S QUARRY    PLAINFIELD     WINDHAM, CT   \n",
       "4    CT         KELLOGG-DEERING WELL FIELD       NORWALK   FAIRFIELD, CT   \n",
       "\n",
       "  npl status date  \n",
       "0       10/4/1989  \n",
       "1        9/8/1983  \n",
       "2       10/4/1989  \n",
       "3       10/4/1989  \n",
       "4       9/21/1984  "
      ]
     },
     "execution_count": 11,
     "metadata": {},
     "output_type": "execute_result"
    }
   ],
   "source": [
    "npl_df['county'] = npl_df['county'].map(str) + ', ' + npl_df['state'].map(str)\n",
    "npl_df.head()"
   ]
  },
  {
   "cell_type": "markdown",
   "metadata": {},
   "source": [
    "In addition, we added a Duration column that will come into play as we plot our data. The values in this variable are the number of years since NPL status for the site was established (up to 2021)."
   ]
  },
  {
   "cell_type": "code",
   "execution_count": 12,
   "metadata": {},
   "outputs": [
    {
     "data": {
      "text/html": [
       "<div>\n",
       "<style scoped>\n",
       "    .dataframe tbody tr th:only-of-type {\n",
       "        vertical-align: middle;\n",
       "    }\n",
       "\n",
       "    .dataframe tbody tr th {\n",
       "        vertical-align: top;\n",
       "    }\n",
       "\n",
       "    .dataframe thead th {\n",
       "        text-align: right;\n",
       "    }\n",
       "</style>\n",
       "<table border=\"1\" class=\"dataframe\">\n",
       "  <thead>\n",
       "    <tr style=\"text-align: right;\">\n",
       "      <th></th>\n",
       "      <th>state</th>\n",
       "      <th>site name</th>\n",
       "      <th>city</th>\n",
       "      <th>county</th>\n",
       "      <th>npl status date</th>\n",
       "      <th>duration</th>\n",
       "    </tr>\n",
       "  </thead>\n",
       "  <tbody>\n",
       "    <tr>\n",
       "      <th>0</th>\n",
       "      <td>CT</td>\n",
       "      <td>BARKHAMSTED-NEW HARTFORD LANDFILL</td>\n",
       "      <td>BARKHAMSTED</td>\n",
       "      <td>LITCHFIELD, CT</td>\n",
       "      <td>10/4/1989</td>\n",
       "      <td>32</td>\n",
       "    </tr>\n",
       "    <tr>\n",
       "      <th>1</th>\n",
       "      <td>CT</td>\n",
       "      <td>BEACON HEIGHTS LANDFILL</td>\n",
       "      <td>BEACON FALLS</td>\n",
       "      <td>NEW HAVEN, CT</td>\n",
       "      <td>9/8/1983</td>\n",
       "      <td>38</td>\n",
       "    </tr>\n",
       "    <tr>\n",
       "      <th>...</th>\n",
       "      <td>...</td>\n",
       "      <td>...</td>\n",
       "      <td>...</td>\n",
       "      <td>...</td>\n",
       "      <td>...</td>\n",
       "      <td>...</td>\n",
       "    </tr>\n",
       "    <tr>\n",
       "      <th>1325</th>\n",
       "      <td>WA</td>\n",
       "      <td>WESTERN PROCESSING CO., INC.</td>\n",
       "      <td>KENT</td>\n",
       "      <td>KING, WA</td>\n",
       "      <td>9/8/1983</td>\n",
       "      <td>38</td>\n",
       "    </tr>\n",
       "    <tr>\n",
       "      <th>1326</th>\n",
       "      <td>WA</td>\n",
       "      <td>WYCKOFF CO./EAGLE HARBOR</td>\n",
       "      <td>BAINBRIDGE ISLAND</td>\n",
       "      <td>KITSAP, WA</td>\n",
       "      <td>7/22/1987</td>\n",
       "      <td>34</td>\n",
       "    </tr>\n",
       "  </tbody>\n",
       "</table>\n",
       "<p>1327 rows × 6 columns</p>\n",
       "</div>"
      ],
      "text/plain": [
       "     state                          site name               city  \\\n",
       "0       CT  BARKHAMSTED-NEW HARTFORD LANDFILL        BARKHAMSTED   \n",
       "1       CT            BEACON HEIGHTS LANDFILL       BEACON FALLS   \n",
       "...    ...                                ...                ...   \n",
       "1325    WA       WESTERN PROCESSING CO., INC.               KENT   \n",
       "1326    WA           WYCKOFF CO./EAGLE HARBOR  BAINBRIDGE ISLAND   \n",
       "\n",
       "              county npl status date  duration  \n",
       "0     LITCHFIELD, CT       10/4/1989        32  \n",
       "1      NEW HAVEN, CT        9/8/1983        38  \n",
       "...              ...             ...       ...  \n",
       "1325        KING, WA        9/8/1983        38  \n",
       "1326      KITSAP, WA       7/22/1987        34  \n",
       "\n",
       "[1327 rows x 6 columns]"
      ]
     },
     "execution_count": 12,
     "metadata": {},
     "output_type": "execute_result"
    }
   ],
   "source": [
    "npl_df['duration'] = npl_df['npl status date'].str[-4:]\n",
    "npl_df = npl_df.astype({\"duration\": int})\n",
    "npl_df['duration'] = 2021 - npl_df['duration']\n",
    "npl_df"
   ]
  },
  {
   "cell_type": "markdown",
   "metadata": {},
   "source": [
    "Now we can take a look at our ACS dataset."
   ]
  },
  {
   "cell_type": "code",
   "execution_count": 13,
   "metadata": {},
   "outputs": [
    {
     "data": {
      "text/html": [
       "<div>\n",
       "<style scoped>\n",
       "    .dataframe tbody tr th:only-of-type {\n",
       "        vertical-align: middle;\n",
       "    }\n",
       "\n",
       "    .dataframe tbody tr th {\n",
       "        vertical-align: top;\n",
       "    }\n",
       "\n",
       "    .dataframe thead th {\n",
       "        text-align: right;\n",
       "    }\n",
       "</style>\n",
       "<table border=\"1\" class=\"dataframe\">\n",
       "  <thead>\n",
       "    <tr style=\"text-align: right;\">\n",
       "      <th></th>\n",
       "      <th>Area Name</th>\n",
       "      <th>Qualifying Name</th>\n",
       "      <th>State Postal Abbreviation</th>\n",
       "      <th>Total Population</th>\n",
       "      <th>...</th>\n",
       "      <th>% Some Other Race Alone Population for Whom Poverty  Status Is Determined: Income Below Poverty Level</th>\n",
       "      <th>% Two or More Races Population for Whom Poverty  Status Is Determined: Income Below Poverty Level</th>\n",
       "      <th>% Hispanic or Latino Population for Whom Poverty  Status Is Determined: Income Below Poverty Level</th>\n",
       "      <th>% White Alone, Not Hispanic or Latino Population  for Whom&amp;nbsp; Poverty Status Is Determined: Income Below Poverty Level</th>\n",
       "    </tr>\n",
       "  </thead>\n",
       "  <tbody>\n",
       "    <tr>\n",
       "      <th>0</th>\n",
       "      <td>Autauga County</td>\n",
       "      <td>Autauga County, Alabama</td>\n",
       "      <td>al</td>\n",
       "      <td>55380</td>\n",
       "      <td>...</td>\n",
       "      <td>26.19</td>\n",
       "      <td>16.97</td>\n",
       "      <td>4.37</td>\n",
       "      <td>11.12</td>\n",
       "    </tr>\n",
       "    <tr>\n",
       "      <th>1</th>\n",
       "      <td>Baldwin County</td>\n",
       "      <td>Baldwin County, Alabama</td>\n",
       "      <td>al</td>\n",
       "      <td>212830</td>\n",
       "      <td>...</td>\n",
       "      <td>26.28</td>\n",
       "      <td>10.79</td>\n",
       "      <td>18.41</td>\n",
       "      <td>8.4</td>\n",
       "    </tr>\n",
       "    <tr>\n",
       "      <th>2</th>\n",
       "      <td>Barbour County</td>\n",
       "      <td>Barbour County, Alabama</td>\n",
       "      <td>al</td>\n",
       "      <td>25361</td>\n",
       "      <td>...</td>\n",
       "      <td>50.34</td>\n",
       "      <td>55.85</td>\n",
       "      <td>61.25</td>\n",
       "      <td>14.71</td>\n",
       "    </tr>\n",
       "    <tr>\n",
       "      <th>3</th>\n",
       "      <td>Bibb County</td>\n",
       "      <td>Bibb County, Alabama</td>\n",
       "      <td>al</td>\n",
       "      <td>22493</td>\n",
       "      <td>...</td>\n",
       "      <td>NaN</td>\n",
       "      <td>0</td>\n",
       "      <td>0</td>\n",
       "      <td>16.34</td>\n",
       "    </tr>\n",
       "    <tr>\n",
       "      <th>4</th>\n",
       "      <td>Blount County</td>\n",
       "      <td>Blount County, Alabama</td>\n",
       "      <td>al</td>\n",
       "      <td>57681</td>\n",
       "      <td>...</td>\n",
       "      <td>2.64</td>\n",
       "      <td>19.1</td>\n",
       "      <td>25.46</td>\n",
       "      <td>12.33</td>\n",
       "    </tr>\n",
       "  </tbody>\n",
       "</table>\n",
       "<p>5 rows × 34 columns</p>\n",
       "</div>"
      ],
      "text/plain": [
       "        Area Name          Qualifying Name State Postal Abbreviation  \\\n",
       "0  Autauga County  Autauga County, Alabama                        al   \n",
       "1  Baldwin County  Baldwin County, Alabama                        al   \n",
       "2  Barbour County  Barbour County, Alabama                        al   \n",
       "3     Bibb County     Bibb County, Alabama                        al   \n",
       "4   Blount County   Blount County, Alabama                        al   \n",
       "\n",
       "  Total Population  ...  \\\n",
       "0            55380  ...   \n",
       "1           212830  ...   \n",
       "2            25361  ...   \n",
       "3            22493  ...   \n",
       "4            57681  ...   \n",
       "\n",
       "  % Some Other Race Alone Population for Whom Poverty  Status Is Determined: Income Below Poverty Level  \\\n",
       "0                                              26.19                                                      \n",
       "1                                              26.28                                                      \n",
       "2                                              50.34                                                      \n",
       "3                                                NaN                                                      \n",
       "4                                               2.64                                                      \n",
       "\n",
       "  % Two or More Races Population for Whom Poverty  Status Is Determined: Income Below Poverty Level  \\\n",
       "0                                              16.97                                                  \n",
       "1                                              10.79                                                  \n",
       "2                                              55.85                                                  \n",
       "3                                                  0                                                  \n",
       "4                                               19.1                                                  \n",
       "\n",
       "  % Hispanic or Latino Population for Whom Poverty  Status Is Determined: Income Below Poverty Level  \\\n",
       "0                                               4.37                                                   \n",
       "1                                              18.41                                                   \n",
       "2                                              61.25                                                   \n",
       "3                                                  0                                                   \n",
       "4                                              25.46                                                   \n",
       "\n",
       "  % White Alone, Not Hispanic or Latino Population  for Whom&nbsp; Poverty Status Is Determined: Income Below Poverty Level  \n",
       "0                                              11.12                                                                         \n",
       "1                                                8.4                                                                         \n",
       "2                                              14.71                                                                         \n",
       "3                                              16.34                                                                         \n",
       "4                                              12.33                                                                         \n",
       "\n",
       "[5 rows x 34 columns]"
      ]
     },
     "execution_count": 13,
     "metadata": {},
     "output_type": "execute_result"
    }
   ],
   "source": [
    "acs_df.head()"
   ]
  },
  {
   "cell_type": "markdown",
   "metadata": {},
   "source": [
    "We'll need to standardize the formatting for the column describing the county of each observation to match that of our NPL datset, which is of the format 'COUNTY, PC' with PC being the postal code abbreviation. We can achieve this using the .upper(), .replace(), and .strip() methods."
   ]
  },
  {
   "cell_type": "code",
   "execution_count": 14,
   "metadata": {},
   "outputs": [
    {
     "data": {
      "text/html": [
       "<div>\n",
       "<style scoped>\n",
       "    .dataframe tbody tr th:only-of-type {\n",
       "        vertical-align: middle;\n",
       "    }\n",
       "\n",
       "    .dataframe tbody tr th {\n",
       "        vertical-align: top;\n",
       "    }\n",
       "\n",
       "    .dataframe thead th {\n",
       "        text-align: right;\n",
       "    }\n",
       "</style>\n",
       "<table border=\"1\" class=\"dataframe\">\n",
       "  <thead>\n",
       "    <tr style=\"text-align: right;\">\n",
       "      <th></th>\n",
       "      <th>county</th>\n",
       "      <th>Qualifying Name</th>\n",
       "      <th>State Postal Abbreviation</th>\n",
       "      <th>Total Population</th>\n",
       "      <th>...</th>\n",
       "      <th>% Some Other Race Alone Population for Whom Poverty  Status Is Determined: Income Below Poverty Level</th>\n",
       "      <th>% Two or More Races Population for Whom Poverty  Status Is Determined: Income Below Poverty Level</th>\n",
       "      <th>% Hispanic or Latino Population for Whom Poverty  Status Is Determined: Income Below Poverty Level</th>\n",
       "      <th>% White Alone, Not Hispanic or Latino Population  for Whom&amp;nbsp; Poverty Status Is Determined: Income Below Poverty Level</th>\n",
       "    </tr>\n",
       "  </thead>\n",
       "  <tbody>\n",
       "    <tr>\n",
       "      <th>0</th>\n",
       "      <td>AUTAUGA, AL</td>\n",
       "      <td>Autauga County, Alabama</td>\n",
       "      <td>AL</td>\n",
       "      <td>55380</td>\n",
       "      <td>...</td>\n",
       "      <td>26.19</td>\n",
       "      <td>16.97</td>\n",
       "      <td>4.37</td>\n",
       "      <td>11.12</td>\n",
       "    </tr>\n",
       "    <tr>\n",
       "      <th>1</th>\n",
       "      <td>BALDWIN, AL</td>\n",
       "      <td>Baldwin County, Alabama</td>\n",
       "      <td>AL</td>\n",
       "      <td>212830</td>\n",
       "      <td>...</td>\n",
       "      <td>26.28</td>\n",
       "      <td>10.79</td>\n",
       "      <td>18.41</td>\n",
       "      <td>8.4</td>\n",
       "    </tr>\n",
       "    <tr>\n",
       "      <th>2</th>\n",
       "      <td>BARBOUR, AL</td>\n",
       "      <td>Barbour County, Alabama</td>\n",
       "      <td>AL</td>\n",
       "      <td>25361</td>\n",
       "      <td>...</td>\n",
       "      <td>50.34</td>\n",
       "      <td>55.85</td>\n",
       "      <td>61.25</td>\n",
       "      <td>14.71</td>\n",
       "    </tr>\n",
       "    <tr>\n",
       "      <th>3</th>\n",
       "      <td>BIBB, AL</td>\n",
       "      <td>Bibb County, Alabama</td>\n",
       "      <td>AL</td>\n",
       "      <td>22493</td>\n",
       "      <td>...</td>\n",
       "      <td>NaN</td>\n",
       "      <td>0</td>\n",
       "      <td>0</td>\n",
       "      <td>16.34</td>\n",
       "    </tr>\n",
       "    <tr>\n",
       "      <th>4</th>\n",
       "      <td>BLOUNT, AL</td>\n",
       "      <td>Blount County, Alabama</td>\n",
       "      <td>AL</td>\n",
       "      <td>57681</td>\n",
       "      <td>...</td>\n",
       "      <td>2.64</td>\n",
       "      <td>19.1</td>\n",
       "      <td>25.46</td>\n",
       "      <td>12.33</td>\n",
       "    </tr>\n",
       "  </tbody>\n",
       "</table>\n",
       "<p>5 rows × 34 columns</p>\n",
       "</div>"
      ],
      "text/plain": [
       "        county          Qualifying Name State Postal Abbreviation  \\\n",
       "0  AUTAUGA, AL  Autauga County, Alabama                        AL   \n",
       "1  BALDWIN, AL  Baldwin County, Alabama                        AL   \n",
       "2  BARBOUR, AL  Barbour County, Alabama                        AL   \n",
       "3     BIBB, AL     Bibb County, Alabama                        AL   \n",
       "4   BLOUNT, AL   Blount County, Alabama                        AL   \n",
       "\n",
       "  Total Population  ...  \\\n",
       "0            55380  ...   \n",
       "1           212830  ...   \n",
       "2            25361  ...   \n",
       "3            22493  ...   \n",
       "4            57681  ...   \n",
       "\n",
       "  % Some Other Race Alone Population for Whom Poverty  Status Is Determined: Income Below Poverty Level  \\\n",
       "0                                              26.19                                                      \n",
       "1                                              26.28                                                      \n",
       "2                                              50.34                                                      \n",
       "3                                                NaN                                                      \n",
       "4                                               2.64                                                      \n",
       "\n",
       "  % Two or More Races Population for Whom Poverty  Status Is Determined: Income Below Poverty Level  \\\n",
       "0                                              16.97                                                  \n",
       "1                                              10.79                                                  \n",
       "2                                              55.85                                                  \n",
       "3                                                  0                                                  \n",
       "4                                               19.1                                                  \n",
       "\n",
       "  % Hispanic or Latino Population for Whom Poverty  Status Is Determined: Income Below Poverty Level  \\\n",
       "0                                               4.37                                                   \n",
       "1                                              18.41                                                   \n",
       "2                                              61.25                                                   \n",
       "3                                                  0                                                   \n",
       "4                                              25.46                                                   \n",
       "\n",
       "  % White Alone, Not Hispanic or Latino Population  for Whom&nbsp; Poverty Status Is Determined: Income Below Poverty Level  \n",
       "0                                              11.12                                                                         \n",
       "1                                                8.4                                                                         \n",
       "2                                              14.71                                                                         \n",
       "3                                              16.34                                                                         \n",
       "4                                              12.33                                                                         \n",
       "\n",
       "[5 rows x 34 columns]"
      ]
     },
     "execution_count": 14,
     "metadata": {},
     "output_type": "execute_result"
    }
   ],
   "source": [
    "acs_df.rename({'Area Name': 'county'}, axis=1, inplace=True)\n",
    "acs_df['State Postal Abbreviation'] = acs_df['State Postal Abbreviation'].str.upper()\n",
    "acs_df['county'] = acs_df['county'].str.upper()\n",
    "acs_df['county'] = acs_df['county'].str.replace('COUNTY', '')\n",
    "acs_df['county'] = acs_df['county'].str.strip()\n",
    "acs_df['county'] = acs_df['county'].map(str) + ', ' + acs_df['State Postal Abbreviation'].map(str)\n",
    "acs_df.head()"
   ]
  },
  {
   "cell_type": "markdown",
   "metadata": {},
   "source": [
    "Now that we have a common column, we can merge our datasets. We'll use a left merge with our NPL dataset as our left-dataset, since we only need the demographic data for the county of the NPL sites."
   ]
  },
  {
   "cell_type": "code",
   "execution_count": 15,
   "metadata": {},
   "outputs": [
    {
     "data": {
      "text/html": [
       "<div>\n",
       "<style scoped>\n",
       "    .dataframe tbody tr th:only-of-type {\n",
       "        vertical-align: middle;\n",
       "    }\n",
       "\n",
       "    .dataframe tbody tr th {\n",
       "        vertical-align: top;\n",
       "    }\n",
       "\n",
       "    .dataframe thead th {\n",
       "        text-align: right;\n",
       "    }\n",
       "</style>\n",
       "<table border=\"1\" class=\"dataframe\">\n",
       "  <thead>\n",
       "    <tr style=\"text-align: right;\">\n",
       "      <th></th>\n",
       "      <th>state</th>\n",
       "      <th>site name</th>\n",
       "      <th>city</th>\n",
       "      <th>county</th>\n",
       "      <th>...</th>\n",
       "      <th>% Some Other Race Alone Population for Whom Poverty  Status Is Determined: Income Below Poverty Level</th>\n",
       "      <th>% Two or More Races Population for Whom Poverty  Status Is Determined: Income Below Poverty Level</th>\n",
       "      <th>% Hispanic or Latino Population for Whom Poverty  Status Is Determined: Income Below Poverty Level</th>\n",
       "      <th>% White Alone, Not Hispanic or Latino Population  for Whom&amp;nbsp; Poverty Status Is Determined: Income Below Poverty Level</th>\n",
       "    </tr>\n",
       "  </thead>\n",
       "  <tbody>\n",
       "    <tr>\n",
       "      <th>1144</th>\n",
       "      <td>AZ</td>\n",
       "      <td>APACHE POWDER CO.</td>\n",
       "      <td>SAINT DAVID</td>\n",
       "      <td>COCHISE, AZ</td>\n",
       "      <td>...</td>\n",
       "      <td>24.85</td>\n",
       "      <td>22.28</td>\n",
       "      <td>23.39</td>\n",
       "      <td>12.42</td>\n",
       "    </tr>\n",
       "    <tr>\n",
       "      <th>177</th>\n",
       "      <td>NJ</td>\n",
       "      <td>POHATCONG VALLEY GROUND WATER CONTAMINATION</td>\n",
       "      <td>WARREN COUNTY</td>\n",
       "      <td>WARREN, NJ</td>\n",
       "      <td>...</td>\n",
       "      <td>27.14</td>\n",
       "      <td>18.69</td>\n",
       "      <td>16.07</td>\n",
       "      <td>5.87</td>\n",
       "    </tr>\n",
       "    <tr>\n",
       "      <th>103</th>\n",
       "      <td>NJ</td>\n",
       "      <td>BOG CREEK FARM</td>\n",
       "      <td>HOWELL TOWNSHIP</td>\n",
       "      <td>MONMOUTH, NJ</td>\n",
       "      <td>...</td>\n",
       "      <td>21.55</td>\n",
       "      <td>12.19</td>\n",
       "      <td>15.96</td>\n",
       "      <td>4.94</td>\n",
       "    </tr>\n",
       "    <tr>\n",
       "      <th>588</th>\n",
       "      <td>NC</td>\n",
       "      <td>ABERDEEN PESTICIDE DUMPS</td>\n",
       "      <td>ABERDEEN</td>\n",
       "      <td>MOORE, NC</td>\n",
       "      <td>...</td>\n",
       "      <td>11.54</td>\n",
       "      <td>7.81</td>\n",
       "      <td>20.35</td>\n",
       "      <td>8.32</td>\n",
       "    </tr>\n",
       "    <tr>\n",
       "      <th>990</th>\n",
       "      <td>TX</td>\n",
       "      <td>MALONE SERVICE CO - SWAN LAKE PLANT</td>\n",
       "      <td>TEXAS CITY</td>\n",
       "      <td>GALVESTON, TX</td>\n",
       "      <td>...</td>\n",
       "      <td>15.88</td>\n",
       "      <td>11.25</td>\n",
       "      <td>18.97</td>\n",
       "      <td>8.26</td>\n",
       "    </tr>\n",
       "  </tbody>\n",
       "</table>\n",
       "<p>5 rows × 39 columns</p>\n",
       "</div>"
      ],
      "text/plain": [
       "     state                                    site name             city  \\\n",
       "1144    AZ                            APACHE POWDER CO.      SAINT DAVID   \n",
       "177     NJ  POHATCONG VALLEY GROUND WATER CONTAMINATION    WARREN COUNTY   \n",
       "103     NJ                               BOG CREEK FARM  HOWELL TOWNSHIP   \n",
       "588     NC                     ABERDEEN PESTICIDE DUMPS         ABERDEEN   \n",
       "990     TX          MALONE SERVICE CO - SWAN LAKE PLANT       TEXAS CITY   \n",
       "\n",
       "             county  ...  \\\n",
       "1144    COCHISE, AZ  ...   \n",
       "177      WARREN, NJ  ...   \n",
       "103    MONMOUTH, NJ  ...   \n",
       "588       MOORE, NC  ...   \n",
       "990   GALVESTON, TX  ...   \n",
       "\n",
       "     % Some Other Race Alone Population for Whom Poverty  Status Is Determined: Income Below Poverty Level  \\\n",
       "1144                                              24.85                                                      \n",
       "177                                               27.14                                                      \n",
       "103                                               21.55                                                      \n",
       "588                                               11.54                                                      \n",
       "990                                               15.88                                                      \n",
       "\n",
       "      % Two or More Races Population for Whom Poverty  Status Is Determined: Income Below Poverty Level  \\\n",
       "1144                                              22.28                                                   \n",
       "177                                               18.69                                                   \n",
       "103                                               12.19                                                   \n",
       "588                                                7.81                                                   \n",
       "990                                               11.25                                                   \n",
       "\n",
       "     % Hispanic or Latino Population for Whom Poverty  Status Is Determined: Income Below Poverty Level  \\\n",
       "1144                                              23.39                                                   \n",
       "177                                               16.07                                                   \n",
       "103                                               15.96                                                   \n",
       "588                                               20.35                                                   \n",
       "990                                               18.97                                                   \n",
       "\n",
       "     % White Alone, Not Hispanic or Latino Population  for Whom&nbsp; Poverty Status Is Determined: Income Below Poverty Level  \n",
       "1144                                              12.42                                                                         \n",
       "177                                                5.87                                                                         \n",
       "103                                                4.94                                                                         \n",
       "588                                                8.32                                                                         \n",
       "990                                                8.26                                                                         \n",
       "\n",
       "[5 rows x 39 columns]"
      ]
     },
     "execution_count": 15,
     "metadata": {},
     "output_type": "execute_result"
    }
   ],
   "source": [
    "county_df = pd.merge(npl_df, acs_df, on='county', how='left')\n",
    "county_df = county_df.sort_values(by=['county'])\n",
    "county_df.sample(n=5)"
   ]
  },
  {
   "cell_type": "markdown",
   "metadata": {},
   "source": [
    "# Data Analysis & Results (EDA)"
   ]
  },
  {
   "cell_type": "markdown",
   "metadata": {},
   "source": [
    "### Median Household Income"
   ]
  },
  {
   "cell_type": "markdown",
   "metadata": {},
   "source": [
    "Let's narrow down the scope of our dataset for this portion - we'll create a subset using just the relevant variables, including county, site name, and median household income. We'll also drop any rows in the subset with missing data for median household income, as this is essential to our current exploration."
   ]
  },
  {
   "cell_type": "code",
   "execution_count": 16,
   "metadata": {},
   "outputs": [
    {
     "data": {
      "text/html": [
       "<div>\n",
       "<style scoped>\n",
       "    .dataframe tbody tr th:only-of-type {\n",
       "        vertical-align: middle;\n",
       "    }\n",
       "\n",
       "    .dataframe tbody tr th {\n",
       "        vertical-align: top;\n",
       "    }\n",
       "\n",
       "    .dataframe thead th {\n",
       "        text-align: right;\n",
       "    }\n",
       "</style>\n",
       "<table border=\"1\" class=\"dataframe\">\n",
       "  <thead>\n",
       "    <tr style=\"text-align: right;\">\n",
       "      <th></th>\n",
       "      <th>site name</th>\n",
       "      <th>county</th>\n",
       "      <th>median household income</th>\n",
       "    </tr>\n",
       "  </thead>\n",
       "  <tbody>\n",
       "    <tr>\n",
       "      <th>1094</th>\n",
       "      <td>BRODERICK WOOD PRODUCTS</td>\n",
       "      <td>ADAMS, CO</td>\n",
       "      <td>71202</td>\n",
       "    </tr>\n",
       "    <tr>\n",
       "      <th>1107</th>\n",
       "      <td>ROCKY MOUNTAIN ARSENAL (USARMY)</td>\n",
       "      <td>ADAMS, CO</td>\n",
       "      <td>71202</td>\n",
       "    </tr>\n",
       "    <tr>\n",
       "      <th>...</th>\n",
       "      <td>...</td>\n",
       "      <td>...</td>\n",
       "      <td>...</td>\n",
       "    </tr>\n",
       "    <tr>\n",
       "      <th>461</th>\n",
       "      <td>LANGLEY AIR FORCE BASE/NASA LANGLEY RESEARCH C...</td>\n",
       "      <td>YORK, VA</td>\n",
       "      <td>92069</td>\n",
       "    </tr>\n",
       "    <tr>\n",
       "      <th>1152</th>\n",
       "      <td>YUMA MARINE CORPS AIR STATION</td>\n",
       "      <td>YUMA, AZ</td>\n",
       "      <td>45243</td>\n",
       "    </tr>\n",
       "  </tbody>\n",
       "</table>\n",
       "<p>1270 rows × 3 columns</p>\n",
       "</div>"
      ],
      "text/plain": [
       "                                              site name     county  \\\n",
       "1094                            BRODERICK WOOD PRODUCTS  ADAMS, CO   \n",
       "1107                    ROCKY MOUNTAIN ARSENAL (USARMY)  ADAMS, CO   \n",
       "...                                                 ...        ...   \n",
       "461   LANGLEY AIR FORCE BASE/NASA LANGLEY RESEARCH C...   YORK, VA   \n",
       "1152                      YUMA MARINE CORPS AIR STATION   YUMA, AZ   \n",
       "\n",
       "      median household income  \n",
       "1094                    71202  \n",
       "1107                    71202  \n",
       "...                       ...  \n",
       "461                     92069  \n",
       "1152                    45243  \n",
       "\n",
       "[1270 rows x 3 columns]"
      ]
     },
     "execution_count": 16,
     "metadata": {},
     "output_type": "execute_result"
    }
   ],
   "source": [
    "mhi_df = county_df[['site name', 'county', 'Median Household Income (In 2019 Inflation Adjusted Dollars):']]\n",
    "mhi_df.rename({'Median Household Income (In 2019 Inflation Adjusted Dollars):': 'median household income'}, axis=1, inplace=True)\n",
    "mhi_df = mhi_df.dropna(subset=['median household income'])\n",
    "mhi_df['median household income'] = mhi_df['median household income'].astype(int)\n",
    "mhi_df"
   ]
  },
  {
   "cell_type": "markdown",
   "metadata": {},
   "source": [
    "Visualizing the distribution of median household income for all of the relevant counties might be difficult - we have thousands of observations. We'll create two more subsets and compare their distributions:\n",
    "1. 10 counties with the most NPL sites\n",
    "2. 10 counties with the least NPL sites\n",
    "\n",
    "We can start by getting a list of counties in order of their frequency in the dataset; we'll use the .value_counts() and .index.tolist() methods."
   ]
  },
  {
   "cell_type": "code",
   "execution_count": 17,
   "metadata": {},
   "outputs": [
    {
     "data": {
      "text/plain": [
       "county         \n",
       "SANTA CLARA, CA    21\n",
       "MONTGOMERY, PA     17\n",
       "                   ..\n",
       "HIDALGO, TX         1\n",
       "YUMA, AZ            1\n",
       "Length: 615, dtype: int64"
      ]
     },
     "execution_count": 17,
     "metadata": {},
     "output_type": "execute_result"
    }
   ],
   "source": [
    "mhi_df.value_counts(['county'])"
   ]
  },
  {
   "cell_type": "code",
   "execution_count": 18,
   "metadata": {},
   "outputs": [],
   "source": [
    "counties = mhi_df['county'].value_counts().index.tolist()"
   ]
  },
  {
   "cell_type": "markdown",
   "metadata": {},
   "source": [
    "Now let's create the subsets by slicing the list into two lists of 10 counties."
   ]
  },
  {
   "cell_type": "code",
   "execution_count": 19,
   "metadata": {},
   "outputs": [],
   "source": [
    "top_10 = counties[0:10]\n",
    "bottom_10 = counties[506:516]"
   ]
  },
  {
   "cell_type": "code",
   "execution_count": 20,
   "metadata": {},
   "outputs": [
    {
     "data": {
      "text/plain": [
       "['SANTA CLARA, CA',\n",
       " 'LOS ANGELES, CA',\n",
       " 'MONTGOMERY, PA',\n",
       " 'MIDDLESEX, MA',\n",
       " 'NASSAU, NY',\n",
       " 'MIDDLESEX, NJ',\n",
       " 'HARRIS, TX',\n",
       " 'HILLSBOROUGH, FL',\n",
       " 'NEW CASTLE, DE',\n",
       " 'BURLINGTON, NJ']"
      ]
     },
     "execution_count": 20,
     "metadata": {},
     "output_type": "execute_result"
    }
   ],
   "source": [
    "top_10"
   ]
  },
  {
   "cell_type": "code",
   "execution_count": 21,
   "metadata": {},
   "outputs": [
    {
     "data": {
      "text/html": [
       "<div>\n",
       "<style scoped>\n",
       "    .dataframe tbody tr th:only-of-type {\n",
       "        vertical-align: middle;\n",
       "    }\n",
       "\n",
       "    .dataframe tbody tr th {\n",
       "        vertical-align: top;\n",
       "    }\n",
       "\n",
       "    .dataframe thead th {\n",
       "        text-align: right;\n",
       "    }\n",
       "</style>\n",
       "<table border=\"1\" class=\"dataframe\">\n",
       "  <thead>\n",
       "    <tr style=\"text-align: right;\">\n",
       "      <th></th>\n",
       "      <th>site name</th>\n",
       "      <th>county</th>\n",
       "      <th>median household income</th>\n",
       "    </tr>\n",
       "  </thead>\n",
       "  <tbody>\n",
       "    <tr>\n",
       "      <th>153</th>\n",
       "      <td>LANG PROPERTY</td>\n",
       "      <td>BURLINGTON, NJ</td>\n",
       "      <td>87416</td>\n",
       "    </tr>\n",
       "    <tr>\n",
       "      <th>189</th>\n",
       "      <td>ROEBLING STEEL CO.</td>\n",
       "      <td>BURLINGTON, NJ</td>\n",
       "      <td>87416</td>\n",
       "    </tr>\n",
       "    <tr>\n",
       "      <th>114</th>\n",
       "      <td>CINNAMINSON TOWNSHIP (BLOCK 702) GROUND WATER ...</td>\n",
       "      <td>BURLINGTON, NJ</td>\n",
       "      <td>87416</td>\n",
       "    </tr>\n",
       "    <tr>\n",
       "      <th>152</th>\n",
       "      <td>LANDFILL &amp; DEVELOPMENT CO.</td>\n",
       "      <td>BURLINGTON, NJ</td>\n",
       "      <td>87416</td>\n",
       "    </tr>\n",
       "    <tr>\n",
       "      <th>117</th>\n",
       "      <td>COSDEN CHEMICAL COATINGS CORP.</td>\n",
       "      <td>BURLINGTON, NJ</td>\n",
       "      <td>87416</td>\n",
       "    </tr>\n",
       "  </tbody>\n",
       "</table>\n",
       "</div>"
      ],
      "text/plain": [
       "                                             site name          county  \\\n",
       "153                                      LANG PROPERTY  BURLINGTON, NJ   \n",
       "189                                 ROEBLING STEEL CO.  BURLINGTON, NJ   \n",
       "114  CINNAMINSON TOWNSHIP (BLOCK 702) GROUND WATER ...  BURLINGTON, NJ   \n",
       "152                         LANDFILL & DEVELOPMENT CO.  BURLINGTON, NJ   \n",
       "117                     COSDEN CHEMICAL COATINGS CORP.  BURLINGTON, NJ   \n",
       "\n",
       "     median household income  \n",
       "153                    87416  \n",
       "189                    87416  \n",
       "114                    87416  \n",
       "152                    87416  \n",
       "117                    87416  "
      ]
     },
     "execution_count": 21,
     "metadata": {},
     "output_type": "execute_result"
    }
   ],
   "source": [
    "mhi_top_df = mhi_df[mhi_df['county'].isin(top_10)]\n",
    "mhi_top_df.head()"
   ]
  },
  {
   "cell_type": "code",
   "execution_count": 22,
   "metadata": {},
   "outputs": [
    {
     "data": {
      "text/plain": [
       "['OUACHITA, AR',\n",
       " 'SAN PATRICIO, TX',\n",
       " 'WINKLER, TX',\n",
       " 'CHESTER, SC',\n",
       " 'BARTON, KS',\n",
       " 'CASS, IN',\n",
       " 'CHESHIRE, NH',\n",
       " 'MCCRACKEN, KY',\n",
       " 'CHEROKEE, KS',\n",
       " 'BURNETT, WI']"
      ]
     },
     "execution_count": 22,
     "metadata": {},
     "output_type": "execute_result"
    }
   ],
   "source": [
    "bottom_10"
   ]
  },
  {
   "cell_type": "code",
   "execution_count": 23,
   "metadata": {},
   "outputs": [
    {
     "data": {
      "text/html": [
       "<div>\n",
       "<style scoped>\n",
       "    .dataframe tbody tr th:only-of-type {\n",
       "        vertical-align: middle;\n",
       "    }\n",
       "\n",
       "    .dataframe tbody tr th {\n",
       "        vertical-align: top;\n",
       "    }\n",
       "\n",
       "    .dataframe thead th {\n",
       "        text-align: right;\n",
       "    }\n",
       "</style>\n",
       "<table border=\"1\" class=\"dataframe\">\n",
       "  <thead>\n",
       "    <tr style=\"text-align: right;\">\n",
       "      <th></th>\n",
       "      <th>site name</th>\n",
       "      <th>county</th>\n",
       "      <th>median household income</th>\n",
       "    </tr>\n",
       "  </thead>\n",
       "  <tbody>\n",
       "    <tr>\n",
       "      <th>1039</th>\n",
       "      <td>PLATING, INC.</td>\n",
       "      <td>BARTON, KS</td>\n",
       "      <td>49723</td>\n",
       "    </tr>\n",
       "    <tr>\n",
       "      <th>907</th>\n",
       "      <td>PENTA WOOD PRODUCTS</td>\n",
       "      <td>BURNETT, WI</td>\n",
       "      <td>52672</td>\n",
       "    </tr>\n",
       "    <tr>\n",
       "      <th>719</th>\n",
       "      <td>CLIFF DRIVE GROUNDWATER CONTAMINATION</td>\n",
       "      <td>CASS, IN</td>\n",
       "      <td>49415</td>\n",
       "    </tr>\n",
       "    <tr>\n",
       "      <th>1033</th>\n",
       "      <td>CHEROKEE COUNTY</td>\n",
       "      <td>CHEROKEE, KS</td>\n",
       "      <td>43175</td>\n",
       "    </tr>\n",
       "    <tr>\n",
       "      <th>75</th>\n",
       "      <td>TROY MILLS LANDFILL</td>\n",
       "      <td>CHESHIRE, NH</td>\n",
       "      <td>64751</td>\n",
       "    </tr>\n",
       "  </tbody>\n",
       "</table>\n",
       "</div>"
      ],
      "text/plain": [
       "                                  site name        county  \\\n",
       "1039                          PLATING, INC.    BARTON, KS   \n",
       "907                     PENTA WOOD PRODUCTS   BURNETT, WI   \n",
       "719   CLIFF DRIVE GROUNDWATER CONTAMINATION      CASS, IN   \n",
       "1033                        CHEROKEE COUNTY  CHEROKEE, KS   \n",
       "75                      TROY MILLS LANDFILL  CHESHIRE, NH   \n",
       "\n",
       "      median household income  \n",
       "1039                    49723  \n",
       "907                     52672  \n",
       "719                     49415  \n",
       "1033                    43175  \n",
       "75                      64751  "
      ]
     },
     "execution_count": 23,
     "metadata": {},
     "output_type": "execute_result"
    }
   ],
   "source": [
    "mhi_bottom_df = mhi_df[mhi_df['county'].isin(bottom_10)]\n",
    "mhi_bottom_df.head()"
   ]
  },
  {
   "cell_type": "code",
   "execution_count": 24,
   "metadata": {},
   "outputs": [
    {
     "data": {
      "text/plain": [
       "Text(0, 0.5, 'County')"
      ]
     },
     "execution_count": 24,
     "metadata": {},
     "output_type": "execute_result"
    },
    {
     "data": {
      "image/png": "[encoded data removed]",
      "text/plain": [
       "<Figure size 432x288 with 2 Axes>"
      ]
     },
     "metadata": {
      "needs_background": "light"
     },
     "output_type": "display_data"
    }
   ],
   "source": [
    "fig, ax =plt.subplots(1,2)\n",
    "plt.subplots_adjust(left=None, bottom=None, right=2, top=None, wspace=0.5, hspace=None)\n",
    "\n",
    "ax1 = sns.barplot(x=\"median household income\", y=\"county\", data=mhi_top_df, ax=ax[0])\n",
    "\n",
    "ax1.set_title('Median Household Income in Counties with Most NPL Sites')\n",
    "ax1.set_xlabel('Median Household Income (in USD)')\n",
    "ax1.set_ylabel('County')\n",
    "\n",
    "ax2 = sns.barplot(x=\"median household income\", y=\"county\", data=mhi_bottom_df, ax=ax[1])\n",
    "\n",
    "ax2.set_title('Median Household Income in Counties with Fewest NPL Sites')\n",
    "ax2.set_xlabel('Median Household Income (in USD)')\n",
    "ax2.set_ylabel('County')"
   ]
  },
  {
   "cell_type": "markdown",
   "metadata": {},
   "source": [
    "The results are interesting - it seems as if the subset of counties with just 1 NPL site has higher median household income measures than the subset of counties with the most. This is revealing the limitation of the mhi_bottom_df subset in that there are many counties with just 1 NPL site, so the 10 in our sample might not be generalizable to the rest. As we move forward, we have several options: we can randomize the 10 counties in our sample (not just those at the bottom of the list), increase our sample size, or look at different ways of representing the data.\n",
    "\n",
    "These bar plots also might hint that there could be a confounding variable here - if we look at the figure for counties with the most NPL sites, Santa Clara is a notable county in that it has a relatively high median household income of $120,000. Santa Clara is also in Silicon Valley, and upon further examination, most of these Superfund sites are located in past or current high-tech manufacturing sites (see https://qz.com/1017181/).\n",
    "\n",
    "The Geospatial Analysis lecture from today (5/19) and continuing into Friday gave our group the idea to look into choropleth maps as an better method of data visualization, especially given the geographic nature of our data. For median household income in particular, it could be more insightful to plot one choropleth map of NPL sites by county amd another map of median household income by county, and compare the two maps. We will look into this once we learn more about geospatial analysis from lecture and other assignments!"
   ]
  },
  {
   "cell_type": "code",
   "execution_count": 25,
   "metadata": {},
   "outputs": [
    {
     "data": {
      "image/png": "[encoded data removed]",
      "text/plain": [
       "<Figure size 1440x360 with 1 Axes>"
      ]
     },
     "metadata": {
      "needs_background": "light"
     },
     "output_type": "display_data"
    }
   ],
   "source": [
    "plt.figure(figsize=(20,5))\n",
    "ax = sns.countplot(x='state', data=npl_df);\n",
    "ax.set_xticklabels(ax.get_xticklabels())\n",
    "ax.set(xlabel='State', ylabel='Number of NPL Sites')\n",
    "plt.show()"
   ]
  },
  {
   "cell_type": "code",
   "execution_count": 26,
   "metadata": {},
   "outputs": [],
   "source": [
    "site_duration = county_df[['site name','duration', 'county', 'npl status date']]\n",
    "site_duration.rename({'npl status date': 'year'}, axis=1, inplace=True)\n",
    "site_duration['year'] = site_duration['year'].str[-4:]\n",
    "site_duration = site_duration.astype({\"year\": int})\n",
    "counties = site_duration['county'].value_counts().index.tolist()\n",
    "top_10 = counties[0:10]\n",
    "bottom_10 = counties[506:516]\n",
    "site_duration_top = site_duration[site_duration['county'].isin(top_10)]\n",
    "site_duration_bottom = site_duration[site_duration['county'].isin(bottom_10)]"
   ]
  },
  {
   "cell_type": "code",
   "execution_count": 28,
   "metadata": {},
   "outputs": [
    {
     "data": {
      "text/plain": [
       "Text(0, 0.5, 'County')"
      ]
     },
     "execution_count": 28,
     "metadata": {},
     "output_type": "execute_result"
    },
    {
     "data": {
      "image/png": "[encoded data removed]",
      "text/plain": [
       "<Figure size 432x288 with 2 Axes>"
      ]
     },
     "metadata": {
      "needs_background": "light"
     },
     "output_type": "display_data"
    }
   ],
   "source": [
    "fig, ax =plt.subplots(1,2)\n",
    "plt.subplots_adjust(left=None, bottom=None, right=2, top=None, wspace=0.5, hspace=None)\n",
    "\n",
    "ax1 = sns.barplot(x=\"duration\", y=\"county\", data=site_duration_top, ax=ax[0])\n",
    "ax1.set_title('Duration of NPL Sites in Counties with Most NPL Sites')\n",
    "ax1.set_xlabel('Duration (years)')\n",
    "ax1.set_ylabel('County')\n",
    "\n",
    "ax2 = sns.barplot(x=\"duration\", y=\"county\", data=site_duration_bottom, ax=ax[1])\n",
    "ax2.set_title('Duration of NPL Sites in Counties with Fewest NPL Sites')\n",
    "ax2.set_xlabel('Duration (years)')\n",
    "ax2.set_ylabel('County')"
   ]
  }
 ],
 "metadata": {
  "kernelspec": {
   "display_name": "Python 3",
   "language": "python",
   "name": "python3"
  },
  "language_info": {
   "codemirror_mode": {
    "name": "ipython",
    "version": 3
   },
   "file_extension": ".py",
   "mimetype": "text/x-python",
   "name": "python",
   "nbconvert_exporter": "python",
   "pygments_lexer": "ipython3",
   "version": "3.8.6"
  }
 },
 "nbformat": 4,
 "nbformat_minor": 2
}
