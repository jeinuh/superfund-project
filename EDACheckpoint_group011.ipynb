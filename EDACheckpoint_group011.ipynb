{
 "cells": [
  {
   "cell_type": "markdown",
   "metadata": {},
   "source": [
    "# COGS 108 - EDA Checkpoint"
   ]
  },
  {
   "cell_type": "markdown",
   "metadata": {},
   "source": [
    "# Names\n",
    "\n",
    "- Victoria Thai\n",
    "- Hannah Yick\n",
    "- Jane Dinh\n",
    "- Natasha Supangkat\n",
    "- Gabriel Ramiro"
   ]
  },
  {
   "cell_type": "markdown",
   "metadata": {},
   "source": [
    "<a id='research_question'></a>\n",
    "# Research Question"
   ]
  },
  {
   "cell_type": "markdown",
   "metadata": {},
   "source": [
    "What trends can be found between a county’s designation of a superfund site and its socioeconomic/demographic trends? Does the demographic makeup of a county influence the amount of time between Superfund designation and the completion of the remediation process?"
   ]
  },
  {
   "cell_type": "markdown",
   "metadata": {},
   "source": [
    "# Setup"
   ]
  },
  {
   "cell_type": "code",
   "execution_count": 1,
   "metadata": {},
   "outputs": [],
   "source": [
    "#Imports \n",
    "import pandas as pd\n",
    "import numpy as np\n",
    "\n",
    "#Graphing\n",
    "import seaborn as sns\n",
    "import matplotlib as mpl\n",
    "import matplotlib.pyplot as plt\n",
    "%matplotlib inline\n",
    "\n",
    "#Statistics\n",
    "import patsy\n",
    "import statsmodels.api as sm\n",
    "import scipy.stats as stats\n",
    "from scipy.stats import ttest_ind, chisquare, normaltest\n",
    "\n",
    "#Webscraping\n",
    "import requests \n",
    "import bs4\n",
    "from bs4 import BeautifulSoup\n",
    "\n",
    "import warnings\n",
    "warnings.filterwarnings('ignore')\n",
    "\n",
    "# Read in the data and store it within a data frame\n",
    "#npl_df = npl_df = pd.read_csv('https://raw.githubusercontent.com/COGS108/group011_sp21/main/All%20current%20Final%20NPL%20Sites%20(FOIA%204).csv?token=AI2VKGQIIMQPBWGAZGPKD5DASR4CO') \n",
    "gdrive_npl_id = '1oDIJ_v9s5i5THULln_C-N4o3Aiz0e7mu'\n",
    "npl_df = pd.read_csv(f'https://docs.google.com/uc?id={gdrive_npl_id}&export=download', encoding='ISO-8859-1')\n",
    "gdrive_acs_id = '1kNWY1Kc4RhQ9ttK7dTYtj0fhHE3BXOGh'\n",
    "acs_df = pd.read_csv(f'https://docs.google.com/uc?id={gdrive_acs_id}&export=download', encoding='ISO-8859-1')\n",
    "\n",
    "pd.options.display.max_rows = 5\n",
    "pd.options.display.max_columns = 8"
   ]
  },
  {
   "cell_type": "markdown",
   "metadata": {},
   "source": [
    "# Data Cleaning"
   ]
  },
  {
   "cell_type": "markdown",
   "metadata": {},
   "source": [
    "Data cleaning from Checkpoint 1."
   ]
  },
  {
   "cell_type": "code",
   "execution_count": 2,
   "metadata": {},
   "outputs": [],
   "source": [
    "npl_df = npl_df.drop([\"Region\", \"Site ID\", \"EPA ID\", \"Address\", \"Zip\", \"FF Ind\", \"Latitude\", \"Longitude\"], axis=1)"
   ]
  },
  {
   "cell_type": "code",
   "execution_count": 3,
   "metadata": {},
   "outputs": [],
   "source": [
    "acs_df = acs_df.drop([0], axis=0)\n",
    "acs_df.reset_index(drop=True, inplace=True)\n",
    "\n",
    "acs_df.dropna(axis = 0, how = 'all', inplace = True)\n",
    "acs_df.dropna(axis = 1, how = 'all', inplace = True)\n",
    "\n",
    "acs_df.drop(labels=['FIPS', 'Geographic Identifier', 'Summary Level', 'Geographic Component', \n",
    "                    'File identification', 'Logical Record Number', 'State (FIPS Code)', \n",
    "                    'County of current residence', 'Total Population.1', 'Population Density (Per Sq. Mile)', \n",
    "                    'Area (Land)', 'Total Population:', 'Total Population: White Alone', \n",
    "                    'Total Population: Black or African American Alone', \n",
    "                    'Total Population: American Indian and Alaska Native Alone', 'Total Population: Asian Alone', \n",
    "                    'Total Population: Native Hawaiian and Other Pacific Islander Alone', \n",
    "                    'Total Population: Some Other Race Alone', 'Total Population: Two or More Races'], axis=1, inplace = True)\n",
    "acs_df.drop(index=acs_df[acs_df['State Postal Abbreviation'] == 'pr'].index, inplace=True)\n",
    "acs_df.drop(list(acs_df.filter(regex = 'At or Above Poverty Level')), axis = 1, inplace = True)\n",
    "\n",
    "acs_df = acs_df.iloc[:, np.r_[0:11, 12:23, 34, 37, 40, 43, 46, 49, 52, 55, 58, 61, 64, 67]]"
   ]
  },
  {
   "cell_type": "markdown",
   "metadata": {},
   "source": [
    "We'll need to adjust our dataset now that we have a better understanding of our data and how we want to work with it. Here, we'll work towards merging our two datasets by county. Let's start by standardizing the county variable of both datasets with a format of 'COUNTY, PC' where PC is the postal code (i.e. CA for California). This will handle instances where there are counties of the same name in different states.\n",
    "\n",
    "First, let's take a look at our NPL dataset."
   ]
  },
  {
   "cell_type": "code",
   "execution_count": 4,
   "metadata": {},
   "outputs": [
    {
     "data": {
      "text/html": [
       "<div>\n",
       "<style scoped>\n",
       "    .dataframe tbody tr th:only-of-type {\n",
       "        vertical-align: middle;\n",
       "    }\n",
       "\n",
       "    .dataframe tbody tr th {\n",
       "        vertical-align: top;\n",
       "    }\n",
       "\n",
       "    .dataframe thead th {\n",
       "        text-align: right;\n",
       "    }\n",
       "</style>\n",
       "<table border=\"1\" class=\"dataframe\">\n",
       "  <thead>\n",
       "    <tr style=\"text-align: right;\">\n",
       "      <th></th>\n",
       "      <th>State</th>\n",
       "      <th>Site Name</th>\n",
       "      <th>City</th>\n",
       "      <th>County</th>\n",
       "      <th>NPL Status Date</th>\n",
       "    </tr>\n",
       "  </thead>\n",
       "  <tbody>\n",
       "    <tr>\n",
       "      <th>302</th>\n",
       "      <td>PR</td>\n",
       "      <td>DORADO GROUND WATER CONTAMINATION</td>\n",
       "      <td>DORADO</td>\n",
       "      <td>DORADO</td>\n",
       "      <td>9/9/2016</td>\n",
       "    </tr>\n",
       "    <tr>\n",
       "      <th>1090</th>\n",
       "      <td>NE</td>\n",
       "      <td>SHERWOOD MEDICAL CO.</td>\n",
       "      <td>NORFOLK</td>\n",
       "      <td>MADISON</td>\n",
       "      <td>10/14/1992</td>\n",
       "    </tr>\n",
       "    <tr>\n",
       "      <th>...</th>\n",
       "      <td>...</td>\n",
       "      <td>...</td>\n",
       "      <td>...</td>\n",
       "      <td>...</td>\n",
       "      <td>...</td>\n",
       "    </tr>\n",
       "    <tr>\n",
       "      <th>957</th>\n",
       "      <td>OK</td>\n",
       "      <td>HENRYETTA IRON AND METAL</td>\n",
       "      <td>HENRYETTA</td>\n",
       "      <td>OKMULGEE</td>\n",
       "      <td>9/3/2020</td>\n",
       "    </tr>\n",
       "    <tr>\n",
       "      <th>1060</th>\n",
       "      <td>MO</td>\n",
       "      <td>RIVERFRONT</td>\n",
       "      <td>NEW HAVEN</td>\n",
       "      <td>FRANKLIN</td>\n",
       "      <td>12/1/2000</td>\n",
       "    </tr>\n",
       "  </tbody>\n",
       "</table>\n",
       "<p>10 rows × 5 columns</p>\n",
       "</div>"
      ],
      "text/plain": [
       "     State                          Site Name       City    County  \\\n",
       "302     PR  DORADO GROUND WATER CONTAMINATION     DORADO    DORADO   \n",
       "1090    NE               SHERWOOD MEDICAL CO.    NORFOLK   MADISON   \n",
       "...    ...                                ...        ...       ...   \n",
       "957     OK           HENRYETTA IRON AND METAL  HENRYETTA  OKMULGEE   \n",
       "1060    MO                         RIVERFRONT  NEW HAVEN  FRANKLIN   \n",
       "\n",
       "     NPL Status Date  \n",
       "302         9/9/2016  \n",
       "1090      10/14/1992  \n",
       "...              ...  \n",
       "957         9/3/2020  \n",
       "1060       12/1/2000  \n",
       "\n",
       "[10 rows x 5 columns]"
      ]
     },
     "execution_count": 4,
     "metadata": {},
     "output_type": "execute_result"
    }
   ],
   "source": [
    "npl_df.sample(n=10)"
   ]
  },
  {
   "cell_type": "markdown",
   "metadata": {},
   "source": [
    "Let's examine the dataset and check for missingness."
   ]
  },
  {
   "cell_type": "code",
   "execution_count": 5,
   "metadata": {},
   "outputs": [
    {
     "data": {
      "text/plain": [
       "20"
      ]
     },
     "execution_count": 5,
     "metadata": {},
     "output_type": "execute_result"
    }
   ],
   "source": [
    "npl_df.isna().sum().sum()"
   ]
  },
  {
   "cell_type": "code",
   "execution_count": 6,
   "metadata": {},
   "outputs": [
    {
     "data": {
      "text/plain": [
       "State              False\n",
       "Site Name          False\n",
       "City               False\n",
       "County              True\n",
       "NPL Status Date    False\n",
       "dtype: bool"
      ]
     },
     "execution_count": 6,
     "metadata": {},
     "output_type": "execute_result"
    }
   ],
   "source": [
    "npl_df.isna().any()"
   ]
  },
  {
   "cell_type": "markdown",
   "metadata": {},
   "source": [
    "From this, we can see that all the missing data is in the County variable."
   ]
  },
  {
   "cell_type": "code",
   "execution_count": 7,
   "metadata": {},
   "outputs": [
    {
     "data": {
      "text/html": [
       "<div>\n",
       "<style scoped>\n",
       "    .dataframe tbody tr th:only-of-type {\n",
       "        vertical-align: middle;\n",
       "    }\n",
       "\n",
       "    .dataframe tbody tr th {\n",
       "        vertical-align: top;\n",
       "    }\n",
       "\n",
       "    .dataframe thead th {\n",
       "        text-align: right;\n",
       "    }\n",
       "</style>\n",
       "<table border=\"1\" class=\"dataframe\">\n",
       "  <thead>\n",
       "    <tr style=\"text-align: right;\">\n",
       "      <th></th>\n",
       "      <th>State</th>\n",
       "      <th>Site Name</th>\n",
       "      <th>City</th>\n",
       "      <th>County</th>\n",
       "      <th>NPL Status Date</th>\n",
       "    </tr>\n",
       "  </thead>\n",
       "  <tbody>\n",
       "    <tr>\n",
       "      <th>266</th>\n",
       "      <td>NY</td>\n",
       "      <td>NEWTOWN CREEK</td>\n",
       "      <td>BROOKLYN, QUEENS</td>\n",
       "      <td>NaN</td>\n",
       "      <td>9/29/2010</td>\n",
       "    </tr>\n",
       "    <tr>\n",
       "      <th>303</th>\n",
       "      <td>PR</td>\n",
       "      <td>FIBERS PUBLIC SUPPLY WELLS</td>\n",
       "      <td>JOBOS</td>\n",
       "      <td>NaN</td>\n",
       "      <td>9/21/1984</td>\n",
       "    </tr>\n",
       "    <tr>\n",
       "      <th>...</th>\n",
       "      <td>...</td>\n",
       "      <td>...</td>\n",
       "      <td>...</td>\n",
       "      <td>...</td>\n",
       "      <td>...</td>\n",
       "    </tr>\n",
       "    <tr>\n",
       "      <th>1263</th>\n",
       "      <td>ID</td>\n",
       "      <td>EASTERN MICHAUD FLATS CONTAMINATION</td>\n",
       "      <td>POCATELLO</td>\n",
       "      <td>NaN</td>\n",
       "      <td>8/30/1990</td>\n",
       "    </tr>\n",
       "    <tr>\n",
       "      <th>1264</th>\n",
       "      <td>ID</td>\n",
       "      <td>IDAHO NATIONAL ENGINEERING LABORATORY (USDOE)</td>\n",
       "      <td>IDAHO FALLS</td>\n",
       "      <td>NaN</td>\n",
       "      <td>11/21/1989</td>\n",
       "    </tr>\n",
       "  </tbody>\n",
       "</table>\n",
       "<p>20 rows × 5 columns</p>\n",
       "</div>"
      ],
      "text/plain": [
       "     State                                      Site Name              City  \\\n",
       "266     NY                                  NEWTOWN CREEK  BROOKLYN, QUEENS   \n",
       "303     PR                     FIBERS PUBLIC SUPPLY WELLS             JOBOS   \n",
       "...    ...                                            ...               ...   \n",
       "1263    ID            EASTERN MICHAUD FLATS CONTAMINATION         POCATELLO   \n",
       "1264    ID  IDAHO NATIONAL ENGINEERING LABORATORY (USDOE)       IDAHO FALLS   \n",
       "\n",
       "     County NPL Status Date  \n",
       "266     NaN       9/29/2010  \n",
       "303     NaN       9/21/1984  \n",
       "...     ...             ...  \n",
       "1263    NaN       8/30/1990  \n",
       "1264    NaN      11/21/1989  \n",
       "\n",
       "[20 rows x 5 columns]"
      ]
     },
     "execution_count": 7,
     "metadata": {},
     "output_type": "execute_result"
    }
   ],
   "source": [
    "#subset to just rows with missing data\n",
    "npl_df[npl_df.isnull().any(axis=1)]"
   ]
  },
  {
   "cell_type": "markdown",
   "metadata": {},
   "source": [
    "We can see from the subset of missing data that these NPL sites are in valid cities in the United States, so there's no reason to drop them; however, they do not have data for the county. We will have to manually input these county values so that we can merge successfully before we go any further."
   ]
  },
  {
   "cell_type": "code",
   "execution_count": 8,
   "metadata": {},
   "outputs": [],
   "source": [
    "# manually input county names here\n",
    "npl_df['County'][266] = 'KINGS-QUEENS'\n",
    "npl_df['County'][303] = 'GUYAMA'\n",
    "npl_df['County'][306] = 'UTUADO'\n",
    "npl_df['County'][311] = 'TOA BAJA'\n",
    "npl_df['County'][314] = 'VEGA ALTA'\n",
    "npl_df['County'][495] = 'MORGAN-MADISON-LIMESTONE'\n",
    "npl_df['County'][644] = 'AIKEN-ALLENDALE-BARNWELL'\n",
    "npl_df['County'][661] = 'ANDERSON'\n",
    "npl_df['County'][853] = 'HAMILTON'\n",
    "npl_df['County'][881] = 'GREENE '\n",
    "npl_df['County'][1127] = 'BUTTE-SILVER BOW'\n",
    "npl_df['County'][1129] = 'MEADE'\n",
    "npl_df['County'][1134] = 'DAVIS'\n",
    "npl_df['County'][1256] = 'ALEUTIANS WEST CENSUS AREA'\n",
    "npl_df['County'][1258] = 'ANCHORAGE'\n",
    "npl_df['County'][1259] = 'ANCHORAGE'\n",
    "npl_df['County'][1260] = 'FAIRBANKS NORTH STAR'\n",
    "npl_df['County'][1261] = 'PRINCE OF WALES-HYDER CENSUS AREA'\n",
    "npl_df['County'][1263] = 'BANNOCK'\n",
    "npl_df['County'][1264] = 'BUTTE'"
   ]
  },
  {
   "cell_type": "code",
   "execution_count": 9,
   "metadata": {},
   "outputs": [
    {
     "data": {
      "text/plain": [
       "0"
      ]
     },
     "execution_count": 9,
     "metadata": {},
     "output_type": "execute_result"
    }
   ],
   "source": [
    "# clarify that all missing data has been addressed\n",
    "npl_df.isna().sum().sum()"
   ]
  },
  {
   "cell_type": "markdown",
   "metadata": {},
   "source": [
    "Now that all the county information is included, we'll convert the column names into lowercase, and continue this use of lowercase column names as we progress with both datasets as a standardization measure."
   ]
  },
  {
   "cell_type": "code",
   "execution_count": 10,
   "metadata": {
    "scrolled": true
   },
   "outputs": [
    {
     "data": {
      "text/html": [
       "<div>\n",
       "<style scoped>\n",
       "    .dataframe tbody tr th:only-of-type {\n",
       "        vertical-align: middle;\n",
       "    }\n",
       "\n",
       "    .dataframe tbody tr th {\n",
       "        vertical-align: top;\n",
       "    }\n",
       "\n",
       "    .dataframe thead th {\n",
       "        text-align: right;\n",
       "    }\n",
       "</style>\n",
       "<table border=\"1\" class=\"dataframe\">\n",
       "  <thead>\n",
       "    <tr style=\"text-align: right;\">\n",
       "      <th></th>\n",
       "      <th>state</th>\n",
       "      <th>site name</th>\n",
       "      <th>city</th>\n",
       "      <th>county</th>\n",
       "      <th>npl status date</th>\n",
       "    </tr>\n",
       "  </thead>\n",
       "  <tbody>\n",
       "    <tr>\n",
       "      <th>0</th>\n",
       "      <td>CT</td>\n",
       "      <td>BARKHAMSTED-NEW HARTFORD LANDFILL</td>\n",
       "      <td>BARKHAMSTED</td>\n",
       "      <td>LITCHFIELD</td>\n",
       "      <td>10/4/1989</td>\n",
       "    </tr>\n",
       "    <tr>\n",
       "      <th>1</th>\n",
       "      <td>CT</td>\n",
       "      <td>BEACON HEIGHTS LANDFILL</td>\n",
       "      <td>BEACON FALLS</td>\n",
       "      <td>NEW HAVEN</td>\n",
       "      <td>9/8/1983</td>\n",
       "    </tr>\n",
       "    <tr>\n",
       "      <th>2</th>\n",
       "      <td>CT</td>\n",
       "      <td>DURHAM MEADOWS</td>\n",
       "      <td>DURHAM</td>\n",
       "      <td>MIDDLESEX</td>\n",
       "      <td>10/4/1989</td>\n",
       "    </tr>\n",
       "    <tr>\n",
       "      <th>3</th>\n",
       "      <td>CT</td>\n",
       "      <td>GALLUP'S QUARRY</td>\n",
       "      <td>PLAINFIELD</td>\n",
       "      <td>WINDHAM</td>\n",
       "      <td>10/4/1989</td>\n",
       "    </tr>\n",
       "    <tr>\n",
       "      <th>4</th>\n",
       "      <td>CT</td>\n",
       "      <td>KELLOGG-DEERING WELL FIELD</td>\n",
       "      <td>NORWALK</td>\n",
       "      <td>FAIRFIELD</td>\n",
       "      <td>9/21/1984</td>\n",
       "    </tr>\n",
       "  </tbody>\n",
       "</table>\n",
       "</div>"
      ],
      "text/plain": [
       "  state                          site name          city      county  \\\n",
       "0    CT  BARKHAMSTED-NEW HARTFORD LANDFILL   BARKHAMSTED  LITCHFIELD   \n",
       "1    CT            BEACON HEIGHTS LANDFILL  BEACON FALLS   NEW HAVEN   \n",
       "2    CT                     DURHAM MEADOWS        DURHAM   MIDDLESEX   \n",
       "3    CT                    GALLUP'S QUARRY    PLAINFIELD     WINDHAM   \n",
       "4    CT         KELLOGG-DEERING WELL FIELD       NORWALK   FAIRFIELD   \n",
       "\n",
       "  npl status date  \n",
       "0       10/4/1989  \n",
       "1        9/8/1983  \n",
       "2       10/4/1989  \n",
       "3       10/4/1989  \n",
       "4       9/21/1984  "
      ]
     },
     "execution_count": 10,
     "metadata": {},
     "output_type": "execute_result"
    }
   ],
   "source": [
    "npl_df.columns = ['state', 'site name', 'city', 'county', 'npl status date']\n",
    "npl_df.head()"
   ]
  },
  {
   "cell_type": "markdown",
   "metadata": {},
   "source": [
    "Next we'll get our county variable information into the correct format by concatenating the state postal code."
   ]
  },
  {
   "cell_type": "code",
   "execution_count": 11,
   "metadata": {},
   "outputs": [
    {
     "data": {
      "text/html": [
       "<div>\n",
       "<style scoped>\n",
       "    .dataframe tbody tr th:only-of-type {\n",
       "        vertical-align: middle;\n",
       "    }\n",
       "\n",
       "    .dataframe tbody tr th {\n",
       "        vertical-align: top;\n",
       "    }\n",
       "\n",
       "    .dataframe thead th {\n",
       "        text-align: right;\n",
       "    }\n",
       "</style>\n",
       "<table border=\"1\" class=\"dataframe\">\n",
       "  <thead>\n",
       "    <tr style=\"text-align: right;\">\n",
       "      <th></th>\n",
       "      <th>state</th>\n",
       "      <th>site name</th>\n",
       "      <th>city</th>\n",
       "      <th>county</th>\n",
       "      <th>npl status date</th>\n",
       "    </tr>\n",
       "  </thead>\n",
       "  <tbody>\n",
       "    <tr>\n",
       "      <th>0</th>\n",
       "      <td>CT</td>\n",
       "      <td>BARKHAMSTED-NEW HARTFORD LANDFILL</td>\n",
       "      <td>BARKHAMSTED</td>\n",
       "      <td>LITCHFIELD, CT</td>\n",
       "      <td>10/4/1989</td>\n",
       "    </tr>\n",
       "    <tr>\n",
       "      <th>1</th>\n",
       "      <td>CT</td>\n",
       "      <td>BEACON HEIGHTS LANDFILL</td>\n",
       "      <td>BEACON FALLS</td>\n",
       "      <td>NEW HAVEN, CT</td>\n",
       "      <td>9/8/1983</td>\n",
       "    </tr>\n",
       "    <tr>\n",
       "      <th>2</th>\n",
       "      <td>CT</td>\n",
       "      <td>DURHAM MEADOWS</td>\n",
       "      <td>DURHAM</td>\n",
       "      <td>MIDDLESEX, CT</td>\n",
       "      <td>10/4/1989</td>\n",
       "    </tr>\n",
       "    <tr>\n",
       "      <th>3</th>\n",
       "      <td>CT</td>\n",
       "      <td>GALLUP'S QUARRY</td>\n",
       "      <td>PLAINFIELD</td>\n",
       "      <td>WINDHAM, CT</td>\n",
       "      <td>10/4/1989</td>\n",
       "    </tr>\n",
       "    <tr>\n",
       "      <th>4</th>\n",
       "      <td>CT</td>\n",
       "      <td>KELLOGG-DEERING WELL FIELD</td>\n",
       "      <td>NORWALK</td>\n",
       "      <td>FAIRFIELD, CT</td>\n",
       "      <td>9/21/1984</td>\n",
       "    </tr>\n",
       "  </tbody>\n",
       "</table>\n",
       "</div>"
      ],
      "text/plain": [
       "  state                          site name          city          county  \\\n",
       "0    CT  BARKHAMSTED-NEW HARTFORD LANDFILL   BARKHAMSTED  LITCHFIELD, CT   \n",
       "1    CT            BEACON HEIGHTS LANDFILL  BEACON FALLS   NEW HAVEN, CT   \n",
       "2    CT                     DURHAM MEADOWS        DURHAM   MIDDLESEX, CT   \n",
       "3    CT                    GALLUP'S QUARRY    PLAINFIELD     WINDHAM, CT   \n",
       "4    CT         KELLOGG-DEERING WELL FIELD       NORWALK   FAIRFIELD, CT   \n",
       "\n",
       "  npl status date  \n",
       "0       10/4/1989  \n",
       "1        9/8/1983  \n",
       "2       10/4/1989  \n",
       "3       10/4/1989  \n",
       "4       9/21/1984  "
      ]
     },
     "execution_count": 11,
     "metadata": {},
     "output_type": "execute_result"
    }
   ],
   "source": [
    "npl_df['county'] = npl_df['county'].map(str) + ', ' + npl_df['state'].map(str)\n",
    "npl_df.head()"
   ]
  },
  {
   "cell_type": "markdown",
   "metadata": {},
   "source": [
    "In addition, we added a Duration column that will come into play as we plot our data. The values in this variable are the number of years since NPL status for the site was established (up to 2021)."
   ]
  },
  {
   "cell_type": "code",
   "execution_count": 12,
   "metadata": {},
   "outputs": [
    {
     "data": {
      "text/html": [
       "<div>\n",
       "<style scoped>\n",
       "    .dataframe tbody tr th:only-of-type {\n",
       "        vertical-align: middle;\n",
       "    }\n",
       "\n",
       "    .dataframe tbody tr th {\n",
       "        vertical-align: top;\n",
       "    }\n",
       "\n",
       "    .dataframe thead th {\n",
       "        text-align: right;\n",
       "    }\n",
       "</style>\n",
       "<table border=\"1\" class=\"dataframe\">\n",
       "  <thead>\n",
       "    <tr style=\"text-align: right;\">\n",
       "      <th></th>\n",
       "      <th>state</th>\n",
       "      <th>site name</th>\n",
       "      <th>city</th>\n",
       "      <th>county</th>\n",
       "      <th>npl status date</th>\n",
       "      <th>duration</th>\n",
       "    </tr>\n",
       "  </thead>\n",
       "  <tbody>\n",
       "    <tr>\n",
       "      <th>0</th>\n",
       "      <td>CT</td>\n",
       "      <td>BARKHAMSTED-NEW HARTFORD LANDFILL</td>\n",
       "      <td>BARKHAMSTED</td>\n",
       "      <td>LITCHFIELD, CT</td>\n",
       "      <td>10/4/1989</td>\n",
       "      <td>32</td>\n",
       "    </tr>\n",
       "    <tr>\n",
       "      <th>1</th>\n",
       "      <td>CT</td>\n",
       "      <td>BEACON HEIGHTS LANDFILL</td>\n",
       "      <td>BEACON FALLS</td>\n",
       "      <td>NEW HAVEN, CT</td>\n",
       "      <td>9/8/1983</td>\n",
       "      <td>38</td>\n",
       "    </tr>\n",
       "    <tr>\n",
       "      <th>...</th>\n",
       "      <td>...</td>\n",
       "      <td>...</td>\n",
       "      <td>...</td>\n",
       "      <td>...</td>\n",
       "      <td>...</td>\n",
       "      <td>...</td>\n",
       "    </tr>\n",
       "    <tr>\n",
       "      <th>1325</th>\n",
       "      <td>WA</td>\n",
       "      <td>WESTERN PROCESSING CO., INC.</td>\n",
       "      <td>KENT</td>\n",
       "      <td>KING, WA</td>\n",
       "      <td>9/8/1983</td>\n",
       "      <td>38</td>\n",
       "    </tr>\n",
       "    <tr>\n",
       "      <th>1326</th>\n",
       "      <td>WA</td>\n",
       "      <td>WYCKOFF CO./EAGLE HARBOR</td>\n",
       "      <td>BAINBRIDGE ISLAND</td>\n",
       "      <td>KITSAP, WA</td>\n",
       "      <td>7/22/1987</td>\n",
       "      <td>34</td>\n",
       "    </tr>\n",
       "  </tbody>\n",
       "</table>\n",
       "<p>1327 rows × 6 columns</p>\n",
       "</div>"
      ],
      "text/plain": [
       "     state                          site name               city  \\\n",
       "0       CT  BARKHAMSTED-NEW HARTFORD LANDFILL        BARKHAMSTED   \n",
       "1       CT            BEACON HEIGHTS LANDFILL       BEACON FALLS   \n",
       "...    ...                                ...                ...   \n",
       "1325    WA       WESTERN PROCESSING CO., INC.               KENT   \n",
       "1326    WA           WYCKOFF CO./EAGLE HARBOR  BAINBRIDGE ISLAND   \n",
       "\n",
       "              county npl status date  duration  \n",
       "0     LITCHFIELD, CT       10/4/1989        32  \n",
       "1      NEW HAVEN, CT        9/8/1983        38  \n",
       "...              ...             ...       ...  \n",
       "1325        KING, WA        9/8/1983        38  \n",
       "1326      KITSAP, WA       7/22/1987        34  \n",
       "\n",
       "[1327 rows x 6 columns]"
      ]
     },
     "execution_count": 12,
     "metadata": {},
     "output_type": "execute_result"
    }
   ],
   "source": [
    "npl_df['duration'] = npl_df['npl status date'].str[-4:]\n",
    "npl_df = npl_df.astype({\"duration\": int})\n",
    "npl_df['duration'] = 2021 - npl_df['duration']\n",
    "npl_df"
   ]
  },
  {
   "cell_type": "markdown",
   "metadata": {},
   "source": [
    "Now we can take a look at our ACS dataset."
   ]
  },
  {
   "cell_type": "code",
   "execution_count": 13,
   "metadata": {},
   "outputs": [
    {
     "data": {
      "text/html": [
       "<div>\n",
       "<style scoped>\n",
       "    .dataframe tbody tr th:only-of-type {\n",
       "        vertical-align: middle;\n",
       "    }\n",
       "\n",
       "    .dataframe tbody tr th {\n",
       "        vertical-align: top;\n",
       "    }\n",
       "\n",
       "    .dataframe thead th {\n",
       "        text-align: right;\n",
       "    }\n",
       "</style>\n",
       "<table border=\"1\" class=\"dataframe\">\n",
       "  <thead>\n",
       "    <tr style=\"text-align: right;\">\n",
       "      <th></th>\n",
       "      <th>Area Name</th>\n",
       "      <th>Qualifying Name</th>\n",
       "      <th>State Postal Abbreviation</th>\n",
       "      <th>Total Population</th>\n",
       "      <th>...</th>\n",
       "      <th>% Some Other Race Alone Population for Whom Poverty  Status Is Determined: Income Below Poverty Level</th>\n",
       "      <th>% Two or More Races Population for Whom Poverty  Status Is Determined: Income Below Poverty Level</th>\n",
       "      <th>% Hispanic or Latino Population for Whom Poverty  Status Is Determined: Income Below Poverty Level</th>\n",
       "      <th>% White Alone, Not Hispanic or Latino Population  for Whom&amp;nbsp; Poverty Status Is Determined: Income Below Poverty Level</th>\n",
       "    </tr>\n",
       "  </thead>\n",
       "  <tbody>\n",
       "    <tr>\n",
       "      <th>0</th>\n",
       "      <td>Autauga County</td>\n",
       "      <td>Autauga County, Alabama</td>\n",
       "      <td>al</td>\n",
       "      <td>55380</td>\n",
       "      <td>...</td>\n",
       "      <td>26.19</td>\n",
       "      <td>16.97</td>\n",
       "      <td>4.37</td>\n",
       "      <td>11.12</td>\n",
       "    </tr>\n",
       "    <tr>\n",
       "      <th>1</th>\n",
       "      <td>Baldwin County</td>\n",
       "      <td>Baldwin County, Alabama</td>\n",
       "      <td>al</td>\n",
       "      <td>212830</td>\n",
       "      <td>...</td>\n",
       "      <td>26.28</td>\n",
       "      <td>10.79</td>\n",
       "      <td>18.41</td>\n",
       "      <td>8.4</td>\n",
       "    </tr>\n",
       "    <tr>\n",
       "      <th>2</th>\n",
       "      <td>Barbour County</td>\n",
       "      <td>Barbour County, Alabama</td>\n",
       "      <td>al</td>\n",
       "      <td>25361</td>\n",
       "      <td>...</td>\n",
       "      <td>50.34</td>\n",
       "      <td>55.85</td>\n",
       "      <td>61.25</td>\n",
       "      <td>14.71</td>\n",
       "    </tr>\n",
       "    <tr>\n",
       "      <th>3</th>\n",
       "      <td>Bibb County</td>\n",
       "      <td>Bibb County, Alabama</td>\n",
       "      <td>al</td>\n",
       "      <td>22493</td>\n",
       "      <td>...</td>\n",
       "      <td>NaN</td>\n",
       "      <td>0</td>\n",
       "      <td>0</td>\n",
       "      <td>16.34</td>\n",
       "    </tr>\n",
       "    <tr>\n",
       "      <th>4</th>\n",
       "      <td>Blount County</td>\n",
       "      <td>Blount County, Alabama</td>\n",
       "      <td>al</td>\n",
       "      <td>57681</td>\n",
       "      <td>...</td>\n",
       "      <td>2.64</td>\n",
       "      <td>19.1</td>\n",
       "      <td>25.46</td>\n",
       "      <td>12.33</td>\n",
       "    </tr>\n",
       "  </tbody>\n",
       "</table>\n",
       "<p>5 rows × 34 columns</p>\n",
       "</div>"
      ],
      "text/plain": [
       "        Area Name          Qualifying Name State Postal Abbreviation  \\\n",
       "0  Autauga County  Autauga County, Alabama                        al   \n",
       "1  Baldwin County  Baldwin County, Alabama                        al   \n",
       "2  Barbour County  Barbour County, Alabama                        al   \n",
       "3     Bibb County     Bibb County, Alabama                        al   \n",
       "4   Blount County   Blount County, Alabama                        al   \n",
       "\n",
       "  Total Population  ...  \\\n",
       "0            55380  ...   \n",
       "1           212830  ...   \n",
       "2            25361  ...   \n",
       "3            22493  ...   \n",
       "4            57681  ...   \n",
       "\n",
       "  % Some Other Race Alone Population for Whom Poverty  Status Is Determined: Income Below Poverty Level  \\\n",
       "0                                              26.19                                                      \n",
       "1                                              26.28                                                      \n",
       "2                                              50.34                                                      \n",
       "3                                                NaN                                                      \n",
       "4                                               2.64                                                      \n",
       "\n",
       "  % Two or More Races Population for Whom Poverty  Status Is Determined: Income Below Poverty Level  \\\n",
       "0                                              16.97                                                  \n",
       "1                                              10.79                                                  \n",
       "2                                              55.85                                                  \n",
       "3                                                  0                                                  \n",
       "4                                               19.1                                                  \n",
       "\n",
       "  % Hispanic or Latino Population for Whom Poverty  Status Is Determined: Income Below Poverty Level  \\\n",
       "0                                               4.37                                                   \n",
       "1                                              18.41                                                   \n",
       "2                                              61.25                                                   \n",
       "3                                                  0                                                   \n",
       "4                                              25.46                                                   \n",
       "\n",
       "  % White Alone, Not Hispanic or Latino Population  for Whom&nbsp; Poverty Status Is Determined: Income Below Poverty Level  \n",
       "0                                              11.12                                                                         \n",
       "1                                                8.4                                                                         \n",
       "2                                              14.71                                                                         \n",
       "3                                              16.34                                                                         \n",
       "4                                              12.33                                                                         \n",
       "\n",
       "[5 rows x 34 columns]"
      ]
     },
     "execution_count": 13,
     "metadata": {},
     "output_type": "execute_result"
    }
   ],
   "source": [
    "acs_df.head()"
   ]
  },
  {
   "cell_type": "markdown",
   "metadata": {},
   "source": [
    "We'll need to standardize the formatting for the column describing the county of each observation to match that of our NPL datset, which is of the format 'COUNTY, PC' with PC being the postal code abbreviation. We can achieve this using the .upper(), .replace(), and .strip() methods."
   ]
  },
  {
   "cell_type": "code",
   "execution_count": 14,
   "metadata": {},
   "outputs": [
    {
     "data": {
      "text/html": [
       "<div>\n",
       "<style scoped>\n",
       "    .dataframe tbody tr th:only-of-type {\n",
       "        vertical-align: middle;\n",
       "    }\n",
       "\n",
       "    .dataframe tbody tr th {\n",
       "        vertical-align: top;\n",
       "    }\n",
       "\n",
       "    .dataframe thead th {\n",
       "        text-align: right;\n",
       "    }\n",
       "</style>\n",
       "<table border=\"1\" class=\"dataframe\">\n",
       "  <thead>\n",
       "    <tr style=\"text-align: right;\">\n",
       "      <th></th>\n",
       "      <th>county</th>\n",
       "      <th>Qualifying Name</th>\n",
       "      <th>State Postal Abbreviation</th>\n",
       "      <th>Total Population</th>\n",
       "      <th>...</th>\n",
       "      <th>% Some Other Race Alone Population for Whom Poverty  Status Is Determined: Income Below Poverty Level</th>\n",
       "      <th>% Two or More Races Population for Whom Poverty  Status Is Determined: Income Below Poverty Level</th>\n",
       "      <th>% Hispanic or Latino Population for Whom Poverty  Status Is Determined: Income Below Poverty Level</th>\n",
       "      <th>% White Alone, Not Hispanic or Latino Population  for Whom&amp;nbsp; Poverty Status Is Determined: Income Below Poverty Level</th>\n",
       "    </tr>\n",
       "  </thead>\n",
       "  <tbody>\n",
       "    <tr>\n",
       "      <th>0</th>\n",
       "      <td>AUTAUGA, AL</td>\n",
       "      <td>Autauga County, Alabama</td>\n",
       "      <td>AL</td>\n",
       "      <td>55380</td>\n",
       "      <td>...</td>\n",
       "      <td>26.19</td>\n",
       "      <td>16.97</td>\n",
       "      <td>4.37</td>\n",
       "      <td>11.12</td>\n",
       "    </tr>\n",
       "    <tr>\n",
       "      <th>1</th>\n",
       "      <td>BALDWIN, AL</td>\n",
       "      <td>Baldwin County, Alabama</td>\n",
       "      <td>AL</td>\n",
       "      <td>212830</td>\n",
       "      <td>...</td>\n",
       "      <td>26.28</td>\n",
       "      <td>10.79</td>\n",
       "      <td>18.41</td>\n",
       "      <td>8.4</td>\n",
       "    </tr>\n",
       "    <tr>\n",
       "      <th>2</th>\n",
       "      <td>BARBOUR, AL</td>\n",
       "      <td>Barbour County, Alabama</td>\n",
       "      <td>AL</td>\n",
       "      <td>25361</td>\n",
       "      <td>...</td>\n",
       "      <td>50.34</td>\n",
       "      <td>55.85</td>\n",
       "      <td>61.25</td>\n",
       "      <td>14.71</td>\n",
       "    </tr>\n",
       "    <tr>\n",
       "      <th>3</th>\n",
       "      <td>BIBB, AL</td>\n",
       "      <td>Bibb County, Alabama</td>\n",
       "      <td>AL</td>\n",
       "      <td>22493</td>\n",
       "      <td>...</td>\n",
       "      <td>NaN</td>\n",
       "      <td>0</td>\n",
       "      <td>0</td>\n",
       "      <td>16.34</td>\n",
       "    </tr>\n",
       "    <tr>\n",
       "      <th>4</th>\n",
       "      <td>BLOUNT, AL</td>\n",
       "      <td>Blount County, Alabama</td>\n",
       "      <td>AL</td>\n",
       "      <td>57681</td>\n",
       "      <td>...</td>\n",
       "      <td>2.64</td>\n",
       "      <td>19.1</td>\n",
       "      <td>25.46</td>\n",
       "      <td>12.33</td>\n",
       "    </tr>\n",
       "  </tbody>\n",
       "</table>\n",
       "<p>5 rows × 34 columns</p>\n",
       "</div>"
      ],
      "text/plain": [
       "        county          Qualifying Name State Postal Abbreviation  \\\n",
       "0  AUTAUGA, AL  Autauga County, Alabama                        AL   \n",
       "1  BALDWIN, AL  Baldwin County, Alabama                        AL   \n",
       "2  BARBOUR, AL  Barbour County, Alabama                        AL   \n",
       "3     BIBB, AL     Bibb County, Alabama                        AL   \n",
       "4   BLOUNT, AL   Blount County, Alabama                        AL   \n",
       "\n",
       "  Total Population  ...  \\\n",
       "0            55380  ...   \n",
       "1           212830  ...   \n",
       "2            25361  ...   \n",
       "3            22493  ...   \n",
       "4            57681  ...   \n",
       "\n",
       "  % Some Other Race Alone Population for Whom Poverty  Status Is Determined: Income Below Poverty Level  \\\n",
       "0                                              26.19                                                      \n",
       "1                                              26.28                                                      \n",
       "2                                              50.34                                                      \n",
       "3                                                NaN                                                      \n",
       "4                                               2.64                                                      \n",
       "\n",
       "  % Two or More Races Population for Whom Poverty  Status Is Determined: Income Below Poverty Level  \\\n",
       "0                                              16.97                                                  \n",
       "1                                              10.79                                                  \n",
       "2                                              55.85                                                  \n",
       "3                                                  0                                                  \n",
       "4                                               19.1                                                  \n",
       "\n",
       "  % Hispanic or Latino Population for Whom Poverty  Status Is Determined: Income Below Poverty Level  \\\n",
       "0                                               4.37                                                   \n",
       "1                                              18.41                                                   \n",
       "2                                              61.25                                                   \n",
       "3                                                  0                                                   \n",
       "4                                              25.46                                                   \n",
       "\n",
       "  % White Alone, Not Hispanic or Latino Population  for Whom&nbsp; Poverty Status Is Determined: Income Below Poverty Level  \n",
       "0                                              11.12                                                                         \n",
       "1                                                8.4                                                                         \n",
       "2                                              14.71                                                                         \n",
       "3                                              16.34                                                                         \n",
       "4                                              12.33                                                                         \n",
       "\n",
       "[5 rows x 34 columns]"
      ]
     },
     "execution_count": 14,
     "metadata": {},
     "output_type": "execute_result"
    }
   ],
   "source": [
    "acs_df.rename({'Area Name': 'county'}, axis=1, inplace=True)\n",
    "acs_df['State Postal Abbreviation'] = acs_df['State Postal Abbreviation'].str.upper()\n",
    "acs_df['county'] = acs_df['county'].str.upper()\n",
    "acs_df['county'] = acs_df['county'].str.replace('COUNTY', '')\n",
    "acs_df['county'] = acs_df['county'].str.strip()\n",
    "acs_df['county'] = acs_df['county'].map(str) + ', ' + acs_df['State Postal Abbreviation'].map(str)\n",
    "acs_df.head()"
   ]
  },
  {
   "cell_type": "markdown",
   "metadata": {},
   "source": [
    "Now that we have a common column, we can merge our datasets. We'll use a left merge with our NPL dataset as our left-dataset, since we only need the demographic data for the county of the NPL sites."
   ]
  },
  {
   "cell_type": "code",
   "execution_count": 15,
   "metadata": {},
   "outputs": [
    {
     "data": {
      "text/html": [
       "<div>\n",
       "<style scoped>\n",
       "    .dataframe tbody tr th:only-of-type {\n",
       "        vertical-align: middle;\n",
       "    }\n",
       "\n",
       "    .dataframe tbody tr th {\n",
       "        vertical-align: top;\n",
       "    }\n",
       "\n",
       "    .dataframe thead th {\n",
       "        text-align: right;\n",
       "    }\n",
       "</style>\n",
       "<table border=\"1\" class=\"dataframe\">\n",
       "  <thead>\n",
       "    <tr style=\"text-align: right;\">\n",
       "      <th></th>\n",
       "      <th>state</th>\n",
       "      <th>site name</th>\n",
       "      <th>city</th>\n",
       "      <th>county</th>\n",
       "      <th>...</th>\n",
       "      <th>% Some Other Race Alone Population for Whom Poverty  Status Is Determined: Income Below Poverty Level</th>\n",
       "      <th>% Two or More Races Population for Whom Poverty  Status Is Determined: Income Below Poverty Level</th>\n",
       "      <th>% Hispanic or Latino Population for Whom Poverty  Status Is Determined: Income Below Poverty Level</th>\n",
       "      <th>% White Alone, Not Hispanic or Latino Population  for Whom&amp;nbsp; Poverty Status Is Determined: Income Below Poverty Level</th>\n",
       "    </tr>\n",
       "  </thead>\n",
       "  <tbody>\n",
       "    <tr>\n",
       "      <th>498</th>\n",
       "      <td>FL</td>\n",
       "      <td>AIRCO PLATING CO.</td>\n",
       "      <td>MIAMI</td>\n",
       "      <td>MIAMI-DADE, FL</td>\n",
       "      <td>...</td>\n",
       "      <td>16.52</td>\n",
       "      <td>14.79</td>\n",
       "      <td>16.84</td>\n",
       "      <td>9.55</td>\n",
       "    </tr>\n",
       "    <tr>\n",
       "      <th>800</th>\n",
       "      <td>MI</td>\n",
       "      <td>ROSE TOWNSHIP DUMP</td>\n",
       "      <td>ROSE TOWNSHIP</td>\n",
       "      <td>OAKLAND, MI</td>\n",
       "      <td>...</td>\n",
       "      <td>18.96</td>\n",
       "      <td>15.36</td>\n",
       "      <td>15.73</td>\n",
       "      <td>6.51</td>\n",
       "    </tr>\n",
       "    <tr>\n",
       "      <th>636</th>\n",
       "      <td>SC</td>\n",
       "      <td>LEXINGTON COUNTY LANDFILL AREA</td>\n",
       "      <td>CAYCE</td>\n",
       "      <td>LEXINGTON, SC</td>\n",
       "      <td>...</td>\n",
       "      <td>35.53</td>\n",
       "      <td>18.97</td>\n",
       "      <td>28.48</td>\n",
       "      <td>9.61</td>\n",
       "    </tr>\n",
       "    <tr>\n",
       "      <th>470</th>\n",
       "      <td>VA</td>\n",
       "      <td>RENTOKIL, INC. (VIRGINIA WOOD PRESERVING DIVIS...</td>\n",
       "      <td>RICHMOND</td>\n",
       "      <td>HENRICO, VA</td>\n",
       "      <td>...</td>\n",
       "      <td>24.88</td>\n",
       "      <td>12.59</td>\n",
       "      <td>20.1</td>\n",
       "      <td>6.47</td>\n",
       "    </tr>\n",
       "    <tr>\n",
       "      <th>743</th>\n",
       "      <td>IN</td>\n",
       "      <td>MIDCO II</td>\n",
       "      <td>GARY</td>\n",
       "      <td>LAKE, IN</td>\n",
       "      <td>...</td>\n",
       "      <td>22.8</td>\n",
       "      <td>23.56</td>\n",
       "      <td>18.86</td>\n",
       "      <td>8.72</td>\n",
       "    </tr>\n",
       "  </tbody>\n",
       "</table>\n",
       "<p>5 rows × 39 columns</p>\n",
       "</div>"
      ],
      "text/plain": [
       "    state                                          site name           city  \\\n",
       "498    FL                                  AIRCO PLATING CO.          MIAMI   \n",
       "800    MI                                 ROSE TOWNSHIP DUMP  ROSE TOWNSHIP   \n",
       "636    SC                     LEXINGTON COUNTY LANDFILL AREA          CAYCE   \n",
       "470    VA  RENTOKIL, INC. (VIRGINIA WOOD PRESERVING DIVIS...       RICHMOND   \n",
       "743    IN                                           MIDCO II           GARY   \n",
       "\n",
       "             county  ...  \\\n",
       "498  MIAMI-DADE, FL  ...   \n",
       "800     OAKLAND, MI  ...   \n",
       "636   LEXINGTON, SC  ...   \n",
       "470     HENRICO, VA  ...   \n",
       "743        LAKE, IN  ...   \n",
       "\n",
       "    % Some Other Race Alone Population for Whom Poverty  Status Is Determined: Income Below Poverty Level  \\\n",
       "498                                              16.52                                                      \n",
       "800                                              18.96                                                      \n",
       "636                                              35.53                                                      \n",
       "470                                              24.88                                                      \n",
       "743                                               22.8                                                      \n",
       "\n",
       "     % Two or More Races Population for Whom Poverty  Status Is Determined: Income Below Poverty Level  \\\n",
       "498                                              14.79                                                   \n",
       "800                                              15.36                                                   \n",
       "636                                              18.97                                                   \n",
       "470                                              12.59                                                   \n",
       "743                                              23.56                                                   \n",
       "\n",
       "    % Hispanic or Latino Population for Whom Poverty  Status Is Determined: Income Below Poverty Level  \\\n",
       "498                                              16.84                                                   \n",
       "800                                              15.73                                                   \n",
       "636                                              28.48                                                   \n",
       "470                                               20.1                                                   \n",
       "743                                              18.86                                                   \n",
       "\n",
       "    % White Alone, Not Hispanic or Latino Population  for Whom&nbsp; Poverty Status Is Determined: Income Below Poverty Level  \n",
       "498                                               9.55                                                                         \n",
       "800                                               6.51                                                                         \n",
       "636                                               9.61                                                                         \n",
       "470                                               6.47                                                                         \n",
       "743                                               8.72                                                                         \n",
       "\n",
       "[5 rows x 39 columns]"
      ]
     },
     "execution_count": 15,
     "metadata": {},
     "output_type": "execute_result"
    }
   ],
   "source": [
    "county_df = pd.merge(npl_df, acs_df, on='county', how='left')\n",
    "county_df = county_df.sort_values(by=['county'])\n",
    "county_df.sample(n=5)"
   ]
  },
  {
   "cell_type": "markdown",
   "metadata": {},
   "source": [
    "# Data Analysis & Results (EDA)"
   ]
  },
  {
   "cell_type": "markdown",
   "metadata": {},
   "source": [
    "### Median Household Income"
   ]
  },
  {
   "cell_type": "markdown",
   "metadata": {},
   "source": [
    "Let's narrow down the scope of our dataset for this portion - we'll create a subset using just the relevant variables, including county, site name, and median household income. We'll also drop any rows in the subset with missing data for median household income, as this is essential to our current exploration."
   ]
  },
  {
   "cell_type": "code",
   "execution_count": 16,
   "metadata": {},
   "outputs": [
    {
     "data": {
      "text/html": [
       "<div>\n",
       "<style scoped>\n",
       "    .dataframe tbody tr th:only-of-type {\n",
       "        vertical-align: middle;\n",
       "    }\n",
       "\n",
       "    .dataframe tbody tr th {\n",
       "        vertical-align: top;\n",
       "    }\n",
       "\n",
       "    .dataframe thead th {\n",
       "        text-align: right;\n",
       "    }\n",
       "</style>\n",
       "<table border=\"1\" class=\"dataframe\">\n",
       "  <thead>\n",
       "    <tr style=\"text-align: right;\">\n",
       "      <th></th>\n",
       "      <th>site name</th>\n",
       "      <th>county</th>\n",
       "      <th>median household income</th>\n",
       "    </tr>\n",
       "  </thead>\n",
       "  <tbody>\n",
       "    <tr>\n",
       "      <th>1094</th>\n",
       "      <td>BRODERICK WOOD PRODUCTS</td>\n",
       "      <td>ADAMS, CO</td>\n",
       "      <td>71202</td>\n",
       "    </tr>\n",
       "    <tr>\n",
       "      <th>1107</th>\n",
       "      <td>ROCKY MOUNTAIN ARSENAL (USARMY)</td>\n",
       "      <td>ADAMS, CO</td>\n",
       "      <td>71202</td>\n",
       "    </tr>\n",
       "    <tr>\n",
       "      <th>...</th>\n",
       "      <td>...</td>\n",
       "      <td>...</td>\n",
       "      <td>...</td>\n",
       "    </tr>\n",
       "    <tr>\n",
       "      <th>461</th>\n",
       "      <td>LANGLEY AIR FORCE BASE/NASA LANGLEY RESEARCH C...</td>\n",
       "      <td>YORK, VA</td>\n",
       "      <td>92069</td>\n",
       "    </tr>\n",
       "    <tr>\n",
       "      <th>1152</th>\n",
       "      <td>YUMA MARINE CORPS AIR STATION</td>\n",
       "      <td>YUMA, AZ</td>\n",
       "      <td>45243</td>\n",
       "    </tr>\n",
       "  </tbody>\n",
       "</table>\n",
       "<p>1278 rows × 3 columns</p>\n",
       "</div>"
      ],
      "text/plain": [
       "                                              site name     county  \\\n",
       "1094                            BRODERICK WOOD PRODUCTS  ADAMS, CO   \n",
       "1107                    ROCKY MOUNTAIN ARSENAL (USARMY)  ADAMS, CO   \n",
       "...                                                 ...        ...   \n",
       "461   LANGLEY AIR FORCE BASE/NASA LANGLEY RESEARCH C...   YORK, VA   \n",
       "1152                      YUMA MARINE CORPS AIR STATION   YUMA, AZ   \n",
       "\n",
       "      median household income  \n",
       "1094                    71202  \n",
       "1107                    71202  \n",
       "...                       ...  \n",
       "461                     92069  \n",
       "1152                    45243  \n",
       "\n",
       "[1278 rows x 3 columns]"
      ]
     },
     "execution_count": 16,
     "metadata": {},
     "output_type": "execute_result"
    }
   ],
   "source": [
    "mhi_df = county_df[['site name', 'county', 'Median Household Income (In 2019 Inflation Adjusted Dollars):']]\n",
    "mhi_df.rename({'Median Household Income (In 2019 Inflation Adjusted Dollars):': 'median household income'}, axis=1, inplace=True)\n",
    "mhi_df = mhi_df.dropna(subset=['median household income'])\n",
    "mhi_df['median household income'] = mhi_df['median household income'].astype(int)\n",
    "mhi_df"
   ]
  },
  {
   "cell_type": "markdown",
   "metadata": {},
   "source": [
    "Visualizing the distribution of median household income for all of the relevant counties might be difficult - we have thousands of observations. We'll create two more subsets and compare their distributions:\n",
    "1. 10 counties with the most NPL sites\n",
    "2. 10 counties with the least NPL sites\n",
    "\n",
    "We can start by getting a list of counties in order of their frequency in the dataset; we'll use the .value_counts() and .index.tolist() methods."
   ]
  },
  {
   "cell_type": "code",
   "execution_count": 17,
   "metadata": {},
   "outputs": [
    {
     "data": {
      "text/plain": [
       "county         \n",
       "SANTA CLARA, CA    21\n",
       "MONTGOMERY, PA     17\n",
       "                   ..\n",
       "HENRY, AL           1\n",
       "YUMA, AZ            1\n",
       "Length: 621, dtype: int64"
      ]
     },
     "execution_count": 17,
     "metadata": {},
     "output_type": "execute_result"
    }
   ],
   "source": [
    "mhi_df.value_counts(['county'])"
   ]
  },
  {
   "cell_type": "code",
   "execution_count": 18,
   "metadata": {},
   "outputs": [],
   "source": [
    "counties = mhi_df['county'].value_counts().index.tolist()"
   ]
  },
  {
   "cell_type": "markdown",
   "metadata": {},
   "source": [
    "Now let's create the subsets by slicing the list into two lists of 10 counties."
   ]
  },
  {
   "cell_type": "code",
   "execution_count": 19,
   "metadata": {},
   "outputs": [],
   "source": [
    "top_10 = counties[0:10]\n",
    "bottom_10 = counties[506:516]"
   ]
  },
  {
   "cell_type": "code",
   "execution_count": 20,
   "metadata": {},
   "outputs": [
    {
     "data": {
      "text/plain": [
       "['SANTA CLARA, CA',\n",
       " 'LOS ANGELES, CA',\n",
       " 'MONTGOMERY, PA',\n",
       " 'NASSAU, NY',\n",
       " 'MIDDLESEX, NJ',\n",
       " 'MIDDLESEX, MA',\n",
       " 'HARRIS, TX',\n",
       " 'HILLSBOROUGH, FL',\n",
       " 'NEW CASTLE, DE',\n",
       " 'BURLINGTON, NJ']"
      ]
     },
     "execution_count": 20,
     "metadata": {},
     "output_type": "execute_result"
    }
   ],
   "source": [
    "top_10"
   ]
  },
  {
   "cell_type": "code",
   "execution_count": 21,
   "metadata": {},
   "outputs": [
    {
     "data": {
      "text/html": [
       "<div>\n",
       "<style scoped>\n",
       "    .dataframe tbody tr th:only-of-type {\n",
       "        vertical-align: middle;\n",
       "    }\n",
       "\n",
       "    .dataframe tbody tr th {\n",
       "        vertical-align: top;\n",
       "    }\n",
       "\n",
       "    .dataframe thead th {\n",
       "        text-align: right;\n",
       "    }\n",
       "</style>\n",
       "<table border=\"1\" class=\"dataframe\">\n",
       "  <thead>\n",
       "    <tr style=\"text-align: right;\">\n",
       "      <th></th>\n",
       "      <th>site name</th>\n",
       "      <th>county</th>\n",
       "      <th>median household income</th>\n",
       "    </tr>\n",
       "  </thead>\n",
       "  <tbody>\n",
       "    <tr>\n",
       "      <th>153</th>\n",
       "      <td>LANG PROPERTY</td>\n",
       "      <td>BURLINGTON, NJ</td>\n",
       "      <td>87416</td>\n",
       "    </tr>\n",
       "    <tr>\n",
       "      <th>152</th>\n",
       "      <td>LANDFILL &amp; DEVELOPMENT CO.</td>\n",
       "      <td>BURLINGTON, NJ</td>\n",
       "      <td>87416</td>\n",
       "    </tr>\n",
       "    <tr>\n",
       "      <th>189</th>\n",
       "      <td>ROEBLING STEEL CO.</td>\n",
       "      <td>BURLINGTON, NJ</td>\n",
       "      <td>87416</td>\n",
       "    </tr>\n",
       "    <tr>\n",
       "      <th>149</th>\n",
       "      <td>KAUFFMAN &amp; MINTEER, INC.</td>\n",
       "      <td>BURLINGTON, NJ</td>\n",
       "      <td>87416</td>\n",
       "    </tr>\n",
       "    <tr>\n",
       "      <th>163</th>\n",
       "      <td>MCGUIRE AIR FORCE BASE #1</td>\n",
       "      <td>BURLINGTON, NJ</td>\n",
       "      <td>87416</td>\n",
       "    </tr>\n",
       "  </tbody>\n",
       "</table>\n",
       "</div>"
      ],
      "text/plain": [
       "                      site name          county  median household income\n",
       "153               LANG PROPERTY  BURLINGTON, NJ                    87416\n",
       "152  LANDFILL & DEVELOPMENT CO.  BURLINGTON, NJ                    87416\n",
       "189          ROEBLING STEEL CO.  BURLINGTON, NJ                    87416\n",
       "149    KAUFFMAN & MINTEER, INC.  BURLINGTON, NJ                    87416\n",
       "163   MCGUIRE AIR FORCE BASE #1  BURLINGTON, NJ                    87416"
      ]
     },
     "execution_count": 21,
     "metadata": {},
     "output_type": "execute_result"
    }
   ],
   "source": [
    "mhi_top_df = mhi_df[mhi_df['county'].isin(top_10)]\n",
    "mhi_top_df.head()"
   ]
  },
  {
   "cell_type": "code",
   "execution_count": 22,
   "metadata": {},
   "outputs": [
    {
     "data": {
      "text/plain": [
       "['NEW LONDON, CT',\n",
       " 'ASHLAND, WI',\n",
       " 'HENRICO, VA',\n",
       " 'LANE, OR',\n",
       " 'BERKSHIRE, MA',\n",
       " 'CLEAR CREEK, CO',\n",
       " 'PASSAIC, NJ',\n",
       " 'BUTLER, NE',\n",
       " 'MONTGOMERY, AL',\n",
       " 'MADISON, MO']"
      ]
     },
     "execution_count": 22,
     "metadata": {},
     "output_type": "execute_result"
    }
   ],
   "source": [
    "bottom_10"
   ]
  },
  {
   "cell_type": "code",
   "execution_count": 23,
   "metadata": {},
   "outputs": [
    {
     "data": {
      "text/html": [
       "<div>\n",
       "<style scoped>\n",
       "    .dataframe tbody tr th:only-of-type {\n",
       "        vertical-align: middle;\n",
       "    }\n",
       "\n",
       "    .dataframe tbody tr th {\n",
       "        vertical-align: top;\n",
       "    }\n",
       "\n",
       "    .dataframe thead th {\n",
       "        text-align: right;\n",
       "    }\n",
       "</style>\n",
       "<table border=\"1\" class=\"dataframe\">\n",
       "  <thead>\n",
       "    <tr style=\"text-align: right;\">\n",
       "      <th></th>\n",
       "      <th>site name</th>\n",
       "      <th>county</th>\n",
       "      <th>median household income</th>\n",
       "    </tr>\n",
       "  </thead>\n",
       "  <tbody>\n",
       "    <tr>\n",
       "      <th>885</th>\n",
       "      <td>ASHLAND/NORTHERN STATES POWER LAKEFRONT</td>\n",
       "      <td>ASHLAND, WI</td>\n",
       "      <td>42510</td>\n",
       "    </tr>\n",
       "    <tr>\n",
       "      <th>36</th>\n",
       "      <td>ROSE DISPOSAL PIT</td>\n",
       "      <td>BERKSHIRE, MA</td>\n",
       "      <td>59230</td>\n",
       "    </tr>\n",
       "    <tr>\n",
       "      <th>1076</th>\n",
       "      <td>BRUNO CO-OP ASSOCIATION/ASSOCIATED PROPERTIES</td>\n",
       "      <td>BUTLER, NE</td>\n",
       "      <td>58979</td>\n",
       "    </tr>\n",
       "    <tr>\n",
       "      <th>1097</th>\n",
       "      <td>CENTRAL CITY, CLEAR CREEK</td>\n",
       "      <td>CLEAR CREEK, CO</td>\n",
       "      <td>67060</td>\n",
       "    </tr>\n",
       "    <tr>\n",
       "      <th>470</th>\n",
       "      <td>RENTOKIL, INC. (VIRGINIA WOOD PRESERVING DIVIS...</td>\n",
       "      <td>HENRICO, VA</td>\n",
       "      <td>70307</td>\n",
       "    </tr>\n",
       "  </tbody>\n",
       "</table>\n",
       "</div>"
      ],
      "text/plain": [
       "                                              site name           county  \\\n",
       "885             ASHLAND/NORTHERN STATES POWER LAKEFRONT      ASHLAND, WI   \n",
       "36                                    ROSE DISPOSAL PIT    BERKSHIRE, MA   \n",
       "1076      BRUNO CO-OP ASSOCIATION/ASSOCIATED PROPERTIES       BUTLER, NE   \n",
       "1097                          CENTRAL CITY, CLEAR CREEK  CLEAR CREEK, CO   \n",
       "470   RENTOKIL, INC. (VIRGINIA WOOD PRESERVING DIVIS...      HENRICO, VA   \n",
       "\n",
       "      median household income  \n",
       "885                     42510  \n",
       "36                      59230  \n",
       "1076                    58979  \n",
       "1097                    67060  \n",
       "470                     70307  "
      ]
     },
     "execution_count": 23,
     "metadata": {},
     "output_type": "execute_result"
    }
   ],
   "source": [
    "mhi_bottom_df = mhi_df[mhi_df['county'].isin(bottom_10)]\n",
    "mhi_bottom_df.head()"
   ]
  },
  {
   "cell_type": "code",
   "execution_count": 24,
   "metadata": {},
   "outputs": [
    {
     "data": {
      "text/plain": [
       "Text(0, 0.5, 'County')"
      ]
     },
     "execution_count": 24,
     "metadata": {},
     "output_type": "execute_result"
    },
    {
     "data": {
      "image/png": "[encoded data removed]",
      "text/plain": [
       "<Figure size 432x288 with 2 Axes>"
      ]
     },
     "metadata": {
      "needs_background": "light"
     },
     "output_type": "display_data"
    }
   ],
   "source": [
    "fig, ax =plt.subplots(1,2)\n",
    "plt.subplots_adjust(left=None, bottom=None, right=2, top=None, wspace=0.5, hspace=None)\n",
    "\n",
    "ax1 = sns.barplot(x=\"median household income\", y=\"county\", data=mhi_top_df, ax=ax[0])\n",
    "\n",
    "ax1.set_title('Median Household Income in Counties with Most NPL Sites')\n",
    "ax1.set_xlabel('Median Household Income (in USD)')\n",
    "ax1.set_ylabel('County')\n",
    "\n",
    "ax2 = sns.barplot(x=\"median household income\", y=\"county\", data=mhi_bottom_df, ax=ax[1])\n",
    "\n",
    "ax2.set_title('Median Household Income in Counties with Fewest NPL Sites')\n",
    "ax2.set_xlabel('Median Household Income (in USD)')\n",
    "ax2.set_ylabel('County')"
   ]
  },
  {
   "cell_type": "markdown",
   "metadata": {},
   "source": [
    "The results are interesting - it seems as if the subset of counties with just 1 NPL site has higher median household income measures than the subset of counties with the most. This is revealing the limitation of the mhi_bottom_df subset in that there are many counties with just 1 NPL site, so the 10 in our sample might not be generalizable to the rest. As we move forward, we have several options: we can randomize the 10 counties in our sample (not just those at the bottom of the list), increase our sample size, or look at different ways of representing the data.\n",
    "\n",
    "These bar plots also might hint that there could be a confounding variable here - if we look at the figure for counties with the most NPL sites, Santa Clara is a notable county in that it has a relatively high median household income of $120,000. Santa Clara is also in Silicon Valley, and upon further examination, most of these Superfund sites are located in past or current high-tech manufacturing sites (see https://qz.com/1017181/).\n",
    "\n",
    "The Geospatial Analysis lecture from today (5/19) and continuing into Friday gave our group the idea to look into choropleth maps as an better method of data visualization, especially given the geographic nature of our data. For median household income in particular, it could be more insightful to plot one choropleth map of NPL sites by county amd another map of median household income by county, and compare the two maps. We will look into this once we learn more about geospatial analysis from lecture and other assignments!"
   ]
  },
  {
   "cell_type": "markdown",
   "metadata": {},
   "source": [
    "### Duration of NPL Sites"
   ]
  },
  {
   "cell_type": "markdown",
   "metadata": {},
   "source": [
    "In the same manner as how we analyzed the two subsets of the median household income, we will follow similar procedures to evaluate the significance of Superfund designation and coinciding factors. "
   ]
  },
  {
   "cell_type": "code",
   "execution_count": 25,
   "metadata": {},
   "outputs": [
    {
     "data": {
      "text/html": [
       "<div>\n",
       "<style scoped>\n",
       "    .dataframe tbody tr th:only-of-type {\n",
       "        vertical-align: middle;\n",
       "    }\n",
       "\n",
       "    .dataframe tbody tr th {\n",
       "        vertical-align: top;\n",
       "    }\n",
       "\n",
       "    .dataframe thead th {\n",
       "        text-align: right;\n",
       "    }\n",
       "</style>\n",
       "<table border=\"1\" class=\"dataframe\">\n",
       "  <thead>\n",
       "    <tr style=\"text-align: right;\">\n",
       "      <th></th>\n",
       "      <th>site name</th>\n",
       "      <th>county</th>\n",
       "      <th>duration</th>\n",
       "      <th>year</th>\n",
       "    </tr>\n",
       "  </thead>\n",
       "  <tbody>\n",
       "    <tr>\n",
       "      <th>934</th>\n",
       "      <td>EVR-WOOD TREATING/EVANGELINE REFINING COMPANY</td>\n",
       "      <td>ACADIA, LA</td>\n",
       "      <td>9</td>\n",
       "      <td>2012</td>\n",
       "    </tr>\n",
       "    <tr>\n",
       "      <th>1094</th>\n",
       "      <td>BRODERICK WOOD PRODUCTS</td>\n",
       "      <td>ADAMS, CO</td>\n",
       "      <td>37</td>\n",
       "      <td>1984</td>\n",
       "    </tr>\n",
       "    <tr>\n",
       "      <th>...</th>\n",
       "      <td>...</td>\n",
       "      <td>...</td>\n",
       "      <td>...</td>\n",
       "      <td>...</td>\n",
       "    </tr>\n",
       "    <tr>\n",
       "      <th>461</th>\n",
       "      <td>LANGLEY AIR FORCE BASE/NASA LANGLEY RESEARCH C...</td>\n",
       "      <td>YORK, VA</td>\n",
       "      <td>27</td>\n",
       "      <td>1994</td>\n",
       "    </tr>\n",
       "    <tr>\n",
       "      <th>1152</th>\n",
       "      <td>YUMA MARINE CORPS AIR STATION</td>\n",
       "      <td>YUMA, AZ</td>\n",
       "      <td>31</td>\n",
       "      <td>1990</td>\n",
       "    </tr>\n",
       "  </tbody>\n",
       "</table>\n",
       "<p>1327 rows × 4 columns</p>\n",
       "</div>"
      ],
      "text/plain": [
       "                                              site name      county  duration  \\\n",
       "934       EVR-WOOD TREATING/EVANGELINE REFINING COMPANY  ACADIA, LA         9   \n",
       "1094                            BRODERICK WOOD PRODUCTS   ADAMS, CO        37   \n",
       "...                                                 ...         ...       ...   \n",
       "461   LANGLEY AIR FORCE BASE/NASA LANGLEY RESEARCH C...    YORK, VA        27   \n",
       "1152                      YUMA MARINE CORPS AIR STATION    YUMA, AZ        31   \n",
       "\n",
       "      year  \n",
       "934   2012  \n",
       "1094  1984  \n",
       "...    ...  \n",
       "461   1994  \n",
       "1152  1990  \n",
       "\n",
       "[1327 rows x 4 columns]"
      ]
     },
     "execution_count": 25,
     "metadata": {},
     "output_type": "execute_result"
    }
   ],
   "source": [
    "site_duration = county_df[['site name','county','duration','npl status date']]\n",
    "site_duration.rename({'npl status date': 'year'}, axis=1, inplace=True)\n",
    "site_duration['year'] = site_duration['year'].str[-4:]\n",
    "site_duration = site_duration.astype({\"year\": int})\n",
    "site_duration"
   ]
  },
  {
   "cell_type": "code",
   "execution_count": 33,
   "metadata": {},
   "outputs": [],
   "source": [
    "site_duration_top_df = site_duration[site_duration['county'].isin(top_10)]\n",
    "site_duration_bottom_df = site_duration[site_duration['county'].isin(bottom_10)]"
   ]
  },
  {
   "cell_type": "code",
   "execution_count": 31,
   "metadata": {},
   "outputs": [
    {
     "data": {
      "text/plain": [
       "Text(0, 0.5, 'County')"
      ]
     },
     "execution_count": 31,
     "metadata": {},
     "output_type": "execute_result"
    },
    {
     "data": {
      "image/png": "[encoded data removed]",
      "text/plain": [
       "<Figure size 432x288 with 2 Axes>"
      ]
     },
     "metadata": {
      "needs_background": "light"
     },
     "output_type": "display_data"
    }
   ],
   "source": [
    "fig, ax =plt.subplots(1,2)\n",
    "plt.subplots_adjust(left=None, bottom=None, right=2, top=None, wspace=0.5, hspace=None)\n",
    "\n",
    "ax1 = sns.barplot(x=\"duration\", y=\"county\", data=site_duration_top_df, ax=ax[0], ci=None)\n",
    "ax1.set_title('Duration of NPL Sites in Counties with Most NPL Sites')\n",
    "ax1.set_xlabel('Duration (years)')\n",
    "ax1.set_ylabel('County')\n",
    "\n",
    "ax2 = sns.barplot(x=\"duration\", y=\"county\", data=site_duration_bottom_df, ax=ax[1], ci=None)\n",
    "ax2.set_title('Duration of NPL Sites in Counties with Fewest NPL Sites')\n",
    "ax2.set_xlabel('Duration (years)')\n",
    "ax2.set_ylabel('County')"
   ]
  },
  {
   "cell_type": "code",
   "execution_count": 29,
   "metadata": {},
   "outputs": [
    {
     "data": {
      "text/html": [
       "<div>\n",
       "<style scoped>\n",
       "    .dataframe tbody tr th:only-of-type {\n",
       "        vertical-align: middle;\n",
       "    }\n",
       "\n",
       "    .dataframe tbody tr th {\n",
       "        vertical-align: top;\n",
       "    }\n",
       "\n",
       "    .dataframe thead th {\n",
       "        text-align: right;\n",
       "    }\n",
       "</style>\n",
       "<table border=\"1\" class=\"dataframe\">\n",
       "  <thead>\n",
       "    <tr style=\"text-align: right;\">\n",
       "      <th></th>\n",
       "      <th>duration</th>\n",
       "      <th>year</th>\n",
       "      <th>duration2</th>\n",
       "      <th>year2</th>\n",
       "    </tr>\n",
       "  </thead>\n",
       "  <tbody>\n",
       "    <tr>\n",
       "      <th>count</th>\n",
       "      <td>144.000000</td>\n",
       "      <td>144.000000</td>\n",
       "      <td>10.00</td>\n",
       "      <td>10.0</td>\n",
       "    </tr>\n",
       "    <tr>\n",
       "      <th>mean</th>\n",
       "      <td>29.777778</td>\n",
       "      <td>1991.222222</td>\n",
       "      <td>27.80</td>\n",
       "      <td>1993.2</td>\n",
       "    </tr>\n",
       "    <tr>\n",
       "      <th>...</th>\n",
       "      <td>...</td>\n",
       "      <td>...</td>\n",
       "      <td>...</td>\n",
       "      <td>...</td>\n",
       "    </tr>\n",
       "    <tr>\n",
       "      <th>75%</th>\n",
       "      <td>37.000000</td>\n",
       "      <td>1996.000000</td>\n",
       "      <td>34.25</td>\n",
       "      <td>2000.5</td>\n",
       "    </tr>\n",
       "    <tr>\n",
       "      <th>max</th>\n",
       "      <td>38.000000</td>\n",
       "      <td>2018.000000</td>\n",
       "      <td>38.00</td>\n",
       "      <td>2010.0</td>\n",
       "    </tr>\n",
       "  </tbody>\n",
       "</table>\n",
       "<p>8 rows × 4 columns</p>\n",
       "</div>"
      ],
      "text/plain": [
       "         duration         year  duration2   year2\n",
       "count  144.000000   144.000000      10.00    10.0\n",
       "mean    29.777778  1991.222222      27.80  1993.2\n",
       "...           ...          ...        ...     ...\n",
       "75%     37.000000  1996.000000      34.25  2000.5\n",
       "max     38.000000  2018.000000      38.00  2010.0\n",
       "\n",
       "[8 rows x 4 columns]"
      ]
     },
     "execution_count": 29,
     "metadata": {},
     "output_type": "execute_result"
    }
   ],
   "source": [
    "pd.merge(site_duration_top_df.describe(), site_duration_bottom_df.describe(), \n",
    "         left_index=True, right_index=True, suffixes=('', '2'))"
   ]
  },
  {
   "cell_type": "markdown",
   "metadata": {},
   "source": [
    "As seen in the models above, the results show that on average, the designation of NPL sites in counties with the most NPL sites tends to be longer compared to NPL sites in counties with the fewest NPL sites. However, again, since the bottom 10 counties might not be generalizable to the rest, this may be giving us misrepresented results. "
   ]
  },
  {
   "cell_type": "markdown",
   "metadata": {},
   "source": [
    "The results further insinuate that regions with high NPL sites with long-duration lengths may be affecting the surrounding regions' median household income. The top 10 NPL Sites have progressing remediation processes continuing just over 25 years. As we advance our research, we can expectantly seek to find other factors that may be involved. "
   ]
  }
 ],
 "metadata": {
  "kernelspec": {
   "display_name": "Python 3",
   "language": "python",
   "name": "python3"
  },
  "language_info": {
   "codemirror_mode": {
    "name": "ipython",
    "version": 3
   },
   "file_extension": ".py",
   "mimetype": "text/x-python",
   "name": "python",
   "nbconvert_exporter": "python",
   "pygments_lexer": "ipython3",
   "version": "3.8.6"
  }
 },
 "nbformat": 4,
 "nbformat_minor": 2
}
